{
  "nbformat": 4,
  "nbformat_minor": 0,
  "metadata": {
    "colab": {
      "name": "Python Basic Questions.ipynb",
      "provenance": [],
      "collapsed_sections": [],
      "authorship_tag": "ABX9TyM7yu6IcUpUl3yCd8iehOo6",
      "include_colab_link": true
    },
    "kernelspec": {
      "name": "python3",
      "display_name": "Python 3"
    },
    "language_info": {
      "name": "python"
    }
  },
  "cells": [
    {
      "cell_type": "markdown",
      "metadata": {
        "id": "view-in-github",
        "colab_type": "text"
      },
      "source": [
        "<a href=\"https://colab.research.google.com/github/AnkitKumar2698/Data-Science-February/blob/main/Python_Basic_Questions.ipynb\" target=\"_parent\"><img src=\"https://colab.research.google.com/assets/colab-badge.svg\" alt=\"Open In Colab\"/></a>"
      ]
    },
    {
      "cell_type": "markdown",
      "source": [
        "Q1). Write a program to reverse an integer in Python"
      ],
      "metadata": {
        "id": "oA2r6jT8avJi"
      }
    },
    {
      "cell_type": "code",
      "source": [
        "n=int(input())\n",
        "print(\"Before  reverse : \",n)\n",
        "reverse=0\n",
        "while n!=0 :\n",
        "  reverse=reverse*10 +n%10  \n",
        "  n=(n//10)\n",
        "print(reverse)      "
      ],
      "metadata": {
        "id": "u1wxg3oGaxhA",
        "colab": {
          "base_uri": "https://localhost:8080/"
        },
        "outputId": "c54140a4-00f5-4793-cc51-3cafeba4852e"
      },
      "execution_count": null,
      "outputs": [
        {
          "output_type": "stream",
          "name": "stdout",
          "text": [
            "83473\n",
            "Before  reverse :  83473\n",
            "37438\n"
          ]
        }
      ]
    },
    {
      "cell_type": "code",
      "source": [
        "n=input()\n",
        "print(str(n)[::-1])\n"
      ],
      "metadata": {
        "colab": {
          "base_uri": "https://localhost:8080/"
        },
        "id": "BiZeZud0dsX6",
        "outputId": "915593e4-786c-45c6-b58c-162b29e098e6"
      },
      "execution_count": null,
      "outputs": [
        {
          "output_type": "stream",
          "name": "stdout",
          "text": [
            "423424\n",
            "424324\n"
          ]
        }
      ]
    },
    {
      "cell_type": "code",
      "source": [
        "num = input(\"Enter a number\")\n",
        "num = num[: :-1]\n",
        "  \n",
        "print(num)\n"
      ],
      "metadata": {
        "colab": {
          "base_uri": "https://localhost:8080/"
        },
        "id": "7skNVCt5dsUX",
        "outputId": "b14ff43c-ec71-4f2d-a3c2-8dd51139d05b"
      },
      "execution_count": null,
      "outputs": [
        {
          "output_type": "stream",
          "name": "stdout",
          "text": [
            "Enter a number45435435\n",
            "53453454\n"
          ]
        }
      ]
    },
    {
      "cell_type": "code",
      "source": [
        ""
      ],
      "metadata": {
        "id": "NYY4m-hXdsP0"
      },
      "execution_count": null,
      "outputs": []
    },
    {
      "cell_type": "code",
      "source": [
        ""
      ],
      "metadata": {
        "id": "njB-8DUAdsNi"
      },
      "execution_count": null,
      "outputs": []
    },
    {
      "cell_type": "code",
      "source": [
        ""
      ],
      "metadata": {
        "id": "QSDzRm-PdsKl"
      },
      "execution_count": null,
      "outputs": []
    },
    {
      "cell_type": "code",
      "source": [
        ""
      ],
      "metadata": {
        "id": "0tukrxbmdsGC"
      },
      "execution_count": null,
      "outputs": []
    },
    {
      "cell_type": "code",
      "source": [
        ""
      ],
      "metadata": {
        "id": "VkOobSWhdsCz"
      },
      "execution_count": null,
      "outputs": []
    },
    {
      "cell_type": "code",
      "source": [
        ""
      ],
      "metadata": {
        "id": "UnFob0MWdsAP"
      },
      "execution_count": null,
      "outputs": []
    },
    {
      "cell_type": "code",
      "source": [
        ""
      ],
      "metadata": {
        "id": "G-_elILsdr7r"
      },
      "execution_count": null,
      "outputs": []
    },
    {
      "cell_type": "code",
      "source": [
        ""
      ],
      "metadata": {
        "id": "oG3ShoL4dr4g"
      },
      "execution_count": null,
      "outputs": []
    },
    {
      "cell_type": "code",
      "source": [
        ""
      ],
      "metadata": {
        "id": "EBiYA5Uddrsx"
      },
      "execution_count": null,
      "outputs": []
    },
    {
      "cell_type": "markdown",
      "source": [
        "Q2). Write a program in Python to print the Fibonacci series using iterative method."
      ],
      "metadata": {
        "id": "ZXM8s-HpazBH"
      }
    },
    {
      "cell_type": "code",
      "source": [
        "n=int(input(\"Enter the number\"))\n",
        "first=0\n",
        "second=1\n",
        "print(\"fibonacci  :\")\n",
        "for i in range(0,n):\n",
        "  if i<=1:\n",
        "    result=int\n",
        "  else :\n",
        "    result= first+second \n",
        "    first=second\n",
        "    second=result\n",
        "  print(result)"
      ],
      "metadata": {
        "id": "qqCKOMqxazxK",
        "colab": {
          "base_uri": "https://localhost:8080/"
        },
        "outputId": "727c60f7-7044-48a7-8324-7027839ec593"
      },
      "execution_count": null,
      "outputs": [
        {
          "output_type": "stream",
          "name": "stdout",
          "text": [
            "Enter the number10\n",
            "fibonacci  :\n",
            "0\n",
            "1\n",
            "1\n",
            "2\n",
            "3\n",
            "5\n",
            "8\n",
            "13\n",
            "21\n",
            "34\n"
          ]
        }
      ]
    },
    {
      "cell_type": "code",
      "source": [
        ""
      ],
      "metadata": {
        "id": "sG2uH4qojYSn"
      },
      "execution_count": null,
      "outputs": []
    },
    {
      "cell_type": "markdown",
      "source": [
        "Q3). Write a program in Python to swap two numbers without using third variable?\n"
      ],
      "metadata": {
        "id": "99oQKwbWa0Nu"
      }
    },
    {
      "cell_type": "code",
      "source": [
        "x= int(input())\n",
        "y=int(input())\n",
        "print(\"before reversinng x and y\",x,y)\n",
        "x,y=y,x\n",
        "print(\"after reversinng x and y\",x,y)"
      ],
      "metadata": {
        "id": "fjuSCzz6a0to",
        "colab": {
          "base_uri": "https://localhost:8080/"
        },
        "outputId": "40b68b32-a706-4eea-cf4a-7ce5b8c48da3"
      },
      "execution_count": null,
      "outputs": [
        {
          "output_type": "stream",
          "name": "stdout",
          "text": [
            "4\n",
            "10\n",
            "before reversinng x and y 4 10\n",
            "after reversinng x and y 10 4\n"
          ]
        }
      ]
    },
    {
      "cell_type": "code",
      "source": [
        "a = int(input(\"please give first number a: \"))\n",
        "b = int(input(\"please give second number b: \"))\n",
        "a=a-b\n",
        "b=a+b\n",
        "a=b-a\n",
        "print(\"After swapping\")\n",
        "print(\"value of a is : \", a);\n",
        "print(\"value of b is : \", b)"
      ],
      "metadata": {
        "colab": {
          "base_uri": "https://localhost:8080/"
        },
        "id": "pW-nXLRgpTfa",
        "outputId": "586a55b6-1bf6-4818-c662-c78cd7123b25"
      },
      "execution_count": null,
      "outputs": [
        {
          "output_type": "stream",
          "name": "stdout",
          "text": [
            "please give first number a: 30\n",
            "please give second number b: 40\n",
            "After swapping\n",
            "value of a is :  40\n",
            "value of b is :  30\n"
          ]
        }
      ]
    },
    {
      "cell_type": "code",
      "source": [
        ""
      ],
      "metadata": {
        "id": "fLeDHUBopTch"
      },
      "execution_count": null,
      "outputs": []
    },
    {
      "cell_type": "code",
      "source": [
        ""
      ],
      "metadata": {
        "id": "CRU9WVnopTZM"
      },
      "execution_count": null,
      "outputs": []
    },
    {
      "cell_type": "code",
      "source": [
        ""
      ],
      "metadata": {
        "id": "ShY4ECVwpTPI"
      },
      "execution_count": null,
      "outputs": []
    },
    {
      "cell_type": "code",
      "source": [
        ""
      ],
      "metadata": {
        "id": "LDsmAcpBpTLt"
      },
      "execution_count": null,
      "outputs": []
    },
    {
      "cell_type": "markdown",
      "source": [
        "Q4). Python program to calculate LCM of given two numbers."
      ],
      "metadata": {
        "id": "evFOQ8ARa1Vy"
      }
    },
    {
      "cell_type": "code",
      "source": [
        "num1= int(input(\"first number\"))\n",
        "num2= int(input(\"second number\"))\n",
        "if(num1>num2):\n",
        "  big= num1\n",
        "else :\n",
        "  big=num2;\n",
        "while 1 :\n",
        "  if(big % num1==0)  and (big % num2==0) :\n",
        "    lcm= big\n",
        "    break\n",
        "  big+=1\n",
        "\n",
        "print(\"LCM : \",lcm)\n",
        "#hcf\n",
        "hcf = num1*num2\n",
        "hcf =hcf//lcm\n",
        "print(\"HCF : \"hcf)"
      ],
      "metadata": {
        "colab": {
          "base_uri": "https://localhost:8080/"
        },
        "id": "snXXAlThq09V",
        "outputId": "a74b4f6e-b4ca-4866-a1db-16b9c38ae48a"
      },
      "execution_count": null,
      "outputs": [
        {
          "output_type": "stream",
          "name": "stdout",
          "text": [
            "first number12\n",
            "second number3\n",
            "3\n"
          ]
        }
      ]
    },
    {
      "cell_type": "code",
      "source": [
        "a=20\n",
        "b=50\n",
        "if(a>b):\n",
        "  m = a\n",
        "else:\n",
        "  m = b\n",
        "while(True):\n",
        "  if(m%a==0 and m%b==0):\n",
        "    print(m)\n",
        "    break\n",
        "  m += 1"
      ],
      "metadata": {
        "colab": {
          "base_uri": "https://localhost:8080/"
        },
        "id": "LEZXjBjQq0zp",
        "outputId": "77bc75e4-e379-45b8-ff0e-c326af7fd46b"
      },
      "execution_count": null,
      "outputs": [
        {
          "output_type": "stream",
          "name": "stdout",
          "text": [
            "100\n"
          ]
        }
      ]
    },
    {
      "cell_type": "code",
      "source": [
        ""
      ],
      "metadata": {
        "id": "0x09IdRAq0wN"
      },
      "execution_count": null,
      "outputs": []
    },
    {
      "cell_type": "code",
      "source": [
        ""
      ],
      "metadata": {
        "id": "_v7GYlxPq0jR"
      },
      "execution_count": null,
      "outputs": []
    },
    {
      "cell_type": "code",
      "source": [
        ""
      ],
      "metadata": {
        "id": "XSLYRxPZq0fl"
      },
      "execution_count": null,
      "outputs": []
    },
    {
      "cell_type": "code",
      "source": [
        ""
      ],
      "metadata": {
        "id": "42_QC5iGq0cv"
      },
      "execution_count": null,
      "outputs": []
    },
    {
      "cell_type": "code",
      "source": [
        ""
      ],
      "metadata": {
        "id": "0Qa6-bhia1_j"
      },
      "execution_count": null,
      "outputs": []
    },
    {
      "cell_type": "markdown",
      "source": [
        "Q5). Python Program to find GCD or HCF of two numbers."
      ],
      "metadata": {
        "id": "RSB8Io1Ka2yC"
      }
    },
    {
      "cell_type": "code",
      "source": [
        ""
      ],
      "metadata": {
        "id": "Rl_h-ci5xPzo"
      },
      "execution_count": null,
      "outputs": []
    },
    {
      "cell_type": "code",
      "source": [
        ""
      ],
      "metadata": {
        "id": "bzAS08jIxQNO"
      },
      "execution_count": null,
      "outputs": []
    },
    {
      "cell_type": "code",
      "source": [
        ""
      ],
      "metadata": {
        "id": "Bdsx6rEkxQ1d"
      },
      "execution_count": null,
      "outputs": []
    },
    {
      "cell_type": "code",
      "source": [
        ""
      ],
      "metadata": {
        "id": "8-y5SjuexSJE"
      },
      "execution_count": null,
      "outputs": []
    },
    {
      "cell_type": "code",
      "source": [
        ""
      ],
      "metadata": {
        "id": "ssrxRyfka3fu"
      },
      "execution_count": null,
      "outputs": []
    },
    {
      "cell_type": "markdown",
      "source": [
        "Q6). Python program to concatenate two strings using join() method."
      ],
      "metadata": {
        "id": "B20-Y0sNa3_R"
      }
    },
    {
      "cell_type": "code",
      "source": [
        "\n",
        "\n",
        "s1 =input()\n",
        "s2= input()\n",
        "print(\"\".join([s1,s2]))"
      ],
      "metadata": {
        "id": "ppv2_xdLa4ZT",
        "colab": {
          "base_uri": "https://localhost:8080/"
        },
        "outputId": "37ce66a1-9128-49b3-882a-fefc84be0fbc"
      },
      "execution_count": 3,
      "outputs": [
        {
          "output_type": "stream",
          "name": "stdout",
          "text": [
            "Pep\n",
            "Coding\n",
            "PepCoding\n"
          ]
        }
      ]
    },
    {
      "cell_type": "code",
      "source": [
        ""
      ],
      "metadata": {
        "id": "F29YEqzqytJw"
      },
      "execution_count": null,
      "outputs": []
    },
    {
      "cell_type": "code",
      "source": [
        ""
      ],
      "metadata": {
        "id": "TaBIT4p-BZmL"
      },
      "execution_count": null,
      "outputs": []
    },
    {
      "cell_type": "code",
      "source": [
        ""
      ],
      "metadata": {
        "id": "oGbvNL5Vysm9"
      },
      "execution_count": null,
      "outputs": []
    },
    {
      "cell_type": "markdown",
      "source": [
        "Q7). Python Program to Convert Decimal Number into Binary.\n"
      ],
      "metadata": {
        "id": "m6TiMMw7a58L"
      }
    },
    {
      "cell_type": "code",
      "source": [
        "num=int(input())\n",
        "print(bin(num).replace(\"0b\",\"\"))"
      ],
      "metadata": {
        "colab": {
          "base_uri": "https://localhost:8080/"
        },
        "id": "9JAx918C4RN5",
        "outputId": "7ef3e046-d324-4ab1-ab85-ae99bf588060"
      },
      "execution_count": null,
      "outputs": [
        {
          "output_type": "stream",
          "name": "stdout",
          "text": [
            "10\n",
            "1010\n"
          ]
        }
      ]
    },
    {
      "cell_type": "code",
      "source": [
        "def bin(n):\n",
        "  str1=\"\"\n",
        "  while(n>0):\n",
        "    rem=n%2\n",
        "    str1+=str(rem)\n",
        "    n=n//2\n",
        "  return(str1)\n",
        "num=int(input())\n",
        "\n",
        "print(bin(num)[::-1])"
      ],
      "metadata": {
        "colab": {
          "base_uri": "https://localhost:8080/"
        },
        "id": "VcLMCU_24Sdw",
        "outputId": "6662368b-0c7e-4276-fb38-31e30cafad6d"
      },
      "execution_count": null,
      "outputs": [
        {
          "output_type": "stream",
          "name": "stdout",
          "text": [
            "10\n",
            "1010\n"
          ]
        }
      ]
    },
    {
      "cell_type": "code",
      "source": [
        ""
      ],
      "metadata": {
        "id": "nRmalEEC4SMy"
      },
      "execution_count": null,
      "outputs": []
    },
    {
      "cell_type": "code",
      "source": [
        ""
      ],
      "metadata": {
        "id": "Z54gCOyC4Rz4"
      },
      "execution_count": null,
      "outputs": []
    },
    {
      "cell_type": "code",
      "source": [
        ""
      ],
      "metadata": {
        "id": "CN9iFiHIa6iL"
      },
      "execution_count": null,
      "outputs": []
    },
    {
      "cell_type": "markdown",
      "source": [
        "Q8.)Write a lambda function to find power of a number ."
      ],
      "metadata": {
        "id": "GGvTCH_La7JJ"
      }
    },
    {
      "cell_type": "code",
      "source": [
        "\n",
        "x= lambda a,b : a**b\n",
        "\n",
        "num = int(input())\n",
        "p= int(input())\n",
        "x(num,p)"
      ],
      "metadata": {
        "colab": {
          "base_uri": "https://localhost:8080/"
        },
        "id": "SscfxyeC8WMr",
        "outputId": "dd7ca66e-afe7-4962-fc10-4d20ed6834dd"
      },
      "execution_count": null,
      "outputs": [
        {
          "name": "stdout",
          "output_type": "stream",
          "text": [
            "2\n",
            "4\n"
          ]
        },
        {
          "output_type": "execute_result",
          "data": {
            "text/plain": [
              "16"
            ]
          },
          "metadata": {},
          "execution_count": 28
        }
      ]
    },
    {
      "cell_type": "code",
      "source": [
        ""
      ],
      "metadata": {
        "id": "fT4zf1Y98WyW"
      },
      "execution_count": null,
      "outputs": []
    },
    {
      "cell_type": "code",
      "source": [
        ""
      ],
      "metadata": {
        "id": "EW-5b6ws8XJ2"
      },
      "execution_count": null,
      "outputs": []
    },
    {
      "cell_type": "code",
      "source": [
        ""
      ],
      "metadata": {
        "id": "LQkckw3A8XhZ"
      },
      "execution_count": null,
      "outputs": []
    },
    {
      "cell_type": "code",
      "source": [
        ""
      ],
      "metadata": {
        "id": "A8gQnCNDa7o1"
      },
      "execution_count": null,
      "outputs": []
    },
    {
      "cell_type": "markdown",
      "source": [
        "Find Duplicate Characters in a string."
      ],
      "metadata": {
        "id": "dd7vEGhP8fCp"
      }
    },
    {
      "cell_type": "code",
      "source": [
        "st = input()\n",
        "dup = {}\n",
        "\n",
        "for char in st:\n",
        "  if char in dup:\n",
        "    print(char)\n",
        "    # dup[char]+=1\n",
        "  else :\n",
        "    dup[char]=1"
      ],
      "metadata": {
        "id": "CJaSxNsQ7oWH",
        "colab": {
          "base_uri": "https://localhost:8080/"
        },
        "outputId": "865266bf-be3d-4616-ac69-6e550d5e03d7"
      },
      "execution_count": null,
      "outputs": [
        {
          "output_type": "stream",
          "name": "stdout",
          "text": [
            "pepcoding\n",
            "p\n"
          ]
        }
      ]
    },
    {
      "cell_type": "code",
      "source": [
        "    "
      ],
      "metadata": {
        "id": "EEsTWWc59ZiA"
      },
      "execution_count": null,
      "outputs": []
    }
  ]
}