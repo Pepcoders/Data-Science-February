{
  "nbformat": 4,
  "nbformat_minor": 0,
  "metadata": {
    "colab": {
      "name": "Pytorch_Intro_Feb.ipynb",
      "provenance": [],
      "authorship_tag": "ABX9TyPsFjW1v4m4ro06iltAIjZA",
      "include_colab_link": true
    },
    "kernelspec": {
      "name": "python3",
      "display_name": "Python 3"
    },
    "language_info": {
      "name": "python"
    },
    "accelerator": "GPU",
    "gpuClass": "standard"
  },
  "cells": [
    {
      "cell_type": "markdown",
      "metadata": {
        "id": "view-in-github",
        "colab_type": "text"
      },
      "source": [
        "<a href=\"https://colab.research.google.com/github/Pepcoders/Data-Science-February/blob/main/Pytorch/Pytorch_Intro_Feb.ipynb\" target=\"_parent\"><img src=\"https://colab.research.google.com/assets/colab-badge.svg\" alt=\"Open In Colab\"/></a>"
      ]
    },
    {
      "cell_type": "code",
      "execution_count": 1,
      "metadata": {
        "id": "a7ea_QkKZpdt"
      },
      "outputs": [],
      "source": [
        "import torch"
      ]
    },
    {
      "cell_type": "code",
      "source": [
        "print(torch.__version__)"
      ],
      "metadata": {
        "colab": {
          "base_uri": "https://localhost:8080/"
        },
        "id": "zlaBB_febEI2",
        "outputId": "215a88b3-f6df-4f06-8f7d-9c48fccdbe0c"
      },
      "execution_count": 2,
      "outputs": [
        {
          "output_type": "stream",
          "name": "stdout",
          "text": [
            "1.11.0+cu113\n"
          ]
        }
      ]
    },
    {
      "cell_type": "code",
      "source": [
        "a = torch.empty(6,3)\n",
        "print(a)"
      ],
      "metadata": {
        "colab": {
          "base_uri": "https://localhost:8080/"
        },
        "id": "lFznp7WSbG1F",
        "outputId": "53ab7136-3306-4608-8dc2-826b6c8777a0"
      },
      "execution_count": 3,
      "outputs": [
        {
          "output_type": "stream",
          "name": "stdout",
          "text": [
            "tensor([[1.5997e-35, 0.0000e+00, 7.0065e-44],\n",
            "        [7.0065e-44, 6.3058e-44, 6.7262e-44],\n",
            "        [7.7071e-44, 6.3058e-44, 6.7262e-44],\n",
            "        [7.7071e-44, 1.1771e-43, 6.8664e-44],\n",
            "        [7.5670e-44, 8.1275e-44, 6.7262e-44],\n",
            "        [7.9874e-44, 8.1275e-44, 7.4269e-44]])\n"
          ]
        }
      ]
    },
    {
      "cell_type": "code",
      "source": [
        "a = torch.rand(4,3)\n",
        "print(a)"
      ],
      "metadata": {
        "colab": {
          "base_uri": "https://localhost:8080/"
        },
        "id": "4ApfQaAqbMWN",
        "outputId": "81028ea8-6503-4557-d7e8-15245673b0cf"
      },
      "execution_count": 4,
      "outputs": [
        {
          "output_type": "stream",
          "name": "stdout",
          "text": [
            "tensor([[0.5062, 0.9293, 0.7298],\n",
            "        [0.0846, 0.9877, 0.9808],\n",
            "        [0.6048, 0.0657, 0.0279],\n",
            "        [0.1556, 0.3904, 0.5784]])\n"
          ]
        }
      ]
    },
    {
      "cell_type": "code",
      "source": [
        "a = torch.zeros(4,3, dtype=torch.long)\n",
        "print(a)"
      ],
      "metadata": {
        "colab": {
          "base_uri": "https://localhost:8080/"
        },
        "id": "tATGrcXibPjc",
        "outputId": "23d59a93-ea49-4c48-f2bf-182c6622446b"
      },
      "execution_count": 5,
      "outputs": [
        {
          "output_type": "stream",
          "name": "stdout",
          "text": [
            "tensor([[0, 0, 0],\n",
            "        [0, 0, 0],\n",
            "        [0, 0, 0],\n",
            "        [0, 0, 0]])\n"
          ]
        }
      ]
    },
    {
      "cell_type": "code",
      "source": [
        "a = torch.tensor([7.8, 5])\n",
        "type(a)"
      ],
      "metadata": {
        "colab": {
          "base_uri": "https://localhost:8080/"
        },
        "id": "QZHJMXgbbmAr",
        "outputId": "a2efe6aa-0568-4abb-cee8-5fa402eab6ad"
      },
      "execution_count": 6,
      "outputs": [
        {
          "output_type": "execute_result",
          "data": {
            "text/plain": [
              "torch.Tensor"
            ]
          },
          "metadata": {},
          "execution_count": 6
        }
      ]
    },
    {
      "cell_type": "code",
      "source": [
        "a = a.new_ones(6,5, dtype=torch.double)    # new methods take in sizes\n",
        "print(a)"
      ],
      "metadata": {
        "colab": {
          "base_uri": "https://localhost:8080/"
        },
        "id": "5zZbX0a7bn_O",
        "outputId": "c42f8a1f-b8a9-49fb-b274-c8e2f6be8c53"
      },
      "execution_count": 7,
      "outputs": [
        {
          "output_type": "stream",
          "name": "stdout",
          "text": [
            "tensor([[1., 1., 1., 1., 1.],\n",
            "        [1., 1., 1., 1., 1.],\n",
            "        [1., 1., 1., 1., 1.],\n",
            "        [1., 1., 1., 1., 1.],\n",
            "        [1., 1., 1., 1., 1.],\n",
            "        [1., 1., 1., 1., 1.]], dtype=torch.float64)\n"
          ]
        }
      ]
    },
    {
      "cell_type": "code",
      "source": [
        "print(a.size())"
      ],
      "metadata": {
        "colab": {
          "base_uri": "https://localhost:8080/"
        },
        "id": "weCE9KZibsOT",
        "outputId": "27cb45a1-96bb-4343-d518-a16bf4c6b99b"
      },
      "execution_count": 8,
      "outputs": [
        {
          "output_type": "stream",
          "name": "stdout",
          "text": [
            "torch.Size([6, 5])\n"
          ]
        }
      ]
    },
    {
      "cell_type": "code",
      "source": [
        "b = torch.rand(6,5)\n",
        "print(a + b)"
      ],
      "metadata": {
        "colab": {
          "base_uri": "https://localhost:8080/"
        },
        "id": "RTglIvPUb2JZ",
        "outputId": "fc510bc9-e296-4536-afec-793b1c4f1583"
      },
      "execution_count": 11,
      "outputs": [
        {
          "output_type": "stream",
          "name": "stdout",
          "text": [
            "tensor([[1.2846, 1.0933, 1.6736, 1.2029, 1.2331],\n",
            "        [1.0124, 1.5622, 1.1152, 1.8555, 1.9584],\n",
            "        [1.3845, 1.8683, 1.5206, 1.3508, 1.6470],\n",
            "        [1.1222, 1.3658, 1.6795, 1.9185, 1.7592],\n",
            "        [1.3282, 1.4650, 1.8696, 1.7739, 1.1535],\n",
            "        [1.6209, 1.8669, 1.8465, 1.8653, 1.0341]], dtype=torch.float64)\n"
          ]
        }
      ]
    },
    {
      "cell_type": "code",
      "source": [
        "print(torch.add(a,b))"
      ],
      "metadata": {
        "colab": {
          "base_uri": "https://localhost:8080/"
        },
        "id": "pkAflcaub39k",
        "outputId": "6cbd6cfc-1cd0-4790-b076-38d5ca8c69b0"
      },
      "execution_count": 12,
      "outputs": [
        {
          "output_type": "stream",
          "name": "stdout",
          "text": [
            "tensor([[1.2846, 1.0933, 1.6736, 1.2029, 1.2331],\n",
            "        [1.0124, 1.5622, 1.1152, 1.8555, 1.9584],\n",
            "        [1.3845, 1.8683, 1.5206, 1.3508, 1.6470],\n",
            "        [1.1222, 1.3658, 1.6795, 1.9185, 1.7592],\n",
            "        [1.3282, 1.4650, 1.8696, 1.7739, 1.1535],\n",
            "        [1.6209, 1.8669, 1.8465, 1.8653, 1.0341]], dtype=torch.float64)\n"
          ]
        }
      ]
    },
    {
      "cell_type": "code",
      "source": [
        "x = torch.ones(4)\n",
        "print(x)"
      ],
      "metadata": {
        "colab": {
          "base_uri": "https://localhost:8080/"
        },
        "id": "jJopIUVQb-2A",
        "outputId": "7de859f7-36c0-476b-c6eb-f8bd8a8dbfaa"
      },
      "execution_count": 13,
      "outputs": [
        {
          "output_type": "stream",
          "name": "stdout",
          "text": [
            "tensor([1., 1., 1., 1.])\n"
          ]
        }
      ]
    },
    {
      "cell_type": "code",
      "source": [
        "y = x.numpy()\n",
        "print(y)"
      ],
      "metadata": {
        "colab": {
          "base_uri": "https://localhost:8080/"
        },
        "id": "c-n2OzvscBAe",
        "outputId": "2cff325b-a610-4ae6-f53d-22c213087167"
      },
      "execution_count": 14,
      "outputs": [
        {
          "output_type": "stream",
          "name": "stdout",
          "text": [
            "[1. 1. 1. 1.]\n"
          ]
        }
      ]
    },
    {
      "cell_type": "code",
      "source": [
        "import numpy as np\n",
        "f = np.ones(4)\n",
        "g = torch.from_numpy(f)\n",
        "np.add(f, 4-7, out=f)\n",
        "print(f)\n",
        "print(g)"
      ],
      "metadata": {
        "colab": {
          "base_uri": "https://localhost:8080/"
        },
        "id": "iyWQ0Lb4cGCO",
        "outputId": "4f291320-d100-49f8-e853-434f4cb413ad"
      },
      "execution_count": 17,
      "outputs": [
        {
          "output_type": "stream",
          "name": "stdout",
          "text": [
            "[-2. -2. -2. -2.]\n",
            "tensor([-2., -2., -2., -2.], dtype=torch.float64)\n"
          ]
        }
      ]
    },
    {
      "cell_type": "code",
      "source": [
        "if torch.cuda.is_available():\n",
        "    device = torch.device(\"cuda\")          # a CUDA device object\n",
        "    y = torch.ones_like(x, device=device)  # directly create a tensor on GPU\n",
        "    x = x.to(\"cuda\")                       # or just use strings ``.to(\"cuda\")``\n",
        "    z = x + y\n",
        "    print(z)\n",
        "    print(z.to(\"cpu\", torch.double))"
      ],
      "metadata": {
        "colab": {
          "base_uri": "https://localhost:8080/"
        },
        "id": "Uw6Uo-7ncMow",
        "outputId": "2b3648cb-48c6-4bfb-9bfa-ddc27599d150"
      },
      "execution_count": 26,
      "outputs": [
        {
          "output_type": "stream",
          "name": "stdout",
          "text": [
            "tensor([2., 2., 2., 2.], device='cuda:0')\n",
            "tensor([2., 2., 2., 2.], dtype=torch.float64)\n"
          ]
        }
      ]
    },
    {
      "cell_type": "code",
      "source": [
        "torch.cuda.is_available()"
      ],
      "metadata": {
        "colab": {
          "base_uri": "https://localhost:8080/"
        },
        "id": "u-ulS6W7ci0f",
        "outputId": "086f15b0-120e-4cdd-b1c7-c34ec5df4bb4"
      },
      "execution_count": 18,
      "outputs": [
        {
          "output_type": "execute_result",
          "data": {
            "text/plain": [
              "True"
            ]
          },
          "metadata": {},
          "execution_count": 18
        }
      ]
    },
    {
      "cell_type": "markdown",
      "source": [
        "The key step is between the last convolution and the first Linear block. Conv2d outputs a tensor of shape [batch_size, n_features_conv, height, width] whereas Linear expects [batch_size, n_features_lin]. To make the two align you need to \"stack\" the 3 dimensions [n_features_conv, height, width] into one [n_features_lin]. As follows, it must be that n_features_lin == n_features_conv height width. In the original code this \"stacking\" is achieved by\n",
        "\n",
        "x = x.view(-1, self.num_flat_features(x))\n",
        "and if you inspect num_flat_features it just computes this n_features_conv height width product. In other words, your first conv must have num_flat_features(x) input features, where x is the tensor retrieved from the preceding convolution. But we need to calculate this value ahead of time, so that we can initialize the network in the first place...\n",
        "\n",
        "The calculation follows from inspecting the operations one by one.\n",
        "\n",
        "input is 32x32 we do a 5x5 convolution without padding, so we lose 2 pixels at each side, we drop down to 28x28 we do maxpooling with receptive field of 2x2, we cut each dimension by half, down to 14x14 we do another 5x5 convolution without padding, we drop down to 10x10 we do another maxpooling, we drop down to 5x5 and this 5x5 is why in the tutorial you see self.fc1 = nn.Linear(16 5 5, 120). It's n_features_conv height width, when starting from a 32x32 image. If you want to have a different input size, you have to redo the above calculation and adjust your first Linear layer accordingly.\n",
        "\n",
        "For the further operations, it's just a chain of matrix multiplications (that's what Linear does). So the only rule is that the n_features_out of previous Linear matches n_features_in of the next one. Values 120 and 84 are entirely arbitrary, though they were probably chosen by the author such that the resulting network performs well."
      ],
      "metadata": {
        "id": "qgrLAWmpeDP9"
      }
    },
    {
      "cell_type": "code",
      "source": [
        "#Lenet-5\n",
        "\n",
        "import torch\n",
        "import torch.nn as nn\n",
        "import torch.nn.functional as F\n",
        "\n",
        "\n",
        "class network(nn.Module):\n",
        "\n",
        "    def __init__(self):\n",
        "        super(network, self).__init__()\n",
        "        # 1 input image channel, 6 output channels, 3x3 square convolution\n",
        "        # kernel\n",
        "        self.conv1 = nn.Conv2d(1, 6, 3)\n",
        "        self.conv2 = nn.Conv2d(6, 16, 3)\n",
        "        # an affine operation: y = mx + b\n",
        "        self.fc1 = nn.Linear(16 * 6 * 6, 120)  # 6*6 from image dimension\n",
        "        self.fc2 = nn.Linear(120, 84)\n",
        "        self.fc3 = nn.Linear(84, 10)\n",
        "\n",
        "    def forward(self, x):\n",
        "        # Max pooling over a (2, 2) window\n",
        "        x = F.max_pool2d(F.relu(self.conv1(x)), (2, 2))\n",
        "        # If the size is a square you can only specify a single number\n",
        "        x = F.max_pool2d(F.relu(self.conv2(x)), 2)\n",
        "        x = x.view(-1, self.num_flat_features(x))\n",
        "        x = F.relu(self.fc1(x))\n",
        "        x = F.relu(self.fc2(x))\n",
        "        x = self.fc3(x)\n",
        "        return x\n",
        "\n",
        "    def num_flat_features(self, x):\n",
        "        size = x.size()[1:]  # all dimensions except the batch dimension\n",
        "        num_features = 1\n",
        "        for s in size:\n",
        "            num_features *= s\n",
        "        return num_features\n",
        "\n",
        "\n",
        "net = network()\n",
        "print(net)"
      ],
      "metadata": {
        "colab": {
          "base_uri": "https://localhost:8080/"
        },
        "id": "93eOMyIAdE-P",
        "outputId": "b622aabd-69ee-4183-818d-f4eff4b4739a"
      },
      "execution_count": 27,
      "outputs": [
        {
          "output_type": "stream",
          "name": "stdout",
          "text": [
            "network(\n",
            "  (conv1): Conv2d(1, 6, kernel_size=(3, 3), stride=(1, 1))\n",
            "  (conv2): Conv2d(6, 16, kernel_size=(3, 3), stride=(1, 1))\n",
            "  (fc1): Linear(in_features=576, out_features=120, bias=True)\n",
            "  (fc2): Linear(in_features=120, out_features=84, bias=True)\n",
            "  (fc3): Linear(in_features=84, out_features=10, bias=True)\n",
            ")\n"
          ]
        }
      ]
    },
    {
      "cell_type": "code",
      "source": [
        "list(net.parameters())[0]"
      ],
      "metadata": {
        "id": "bbI3u0MxfM8W"
      },
      "execution_count": null,
      "outputs": []
    },
    {
      "cell_type": "code",
      "source": [
        "params = list(net.parameters())\n",
        "print(len(params))\n",
        "print(params[0].size())  # conv1's .weight"
      ],
      "metadata": {
        "colab": {
          "base_uri": "https://localhost:8080/"
        },
        "id": "ZHBlPmURfCrB",
        "outputId": "e0b02d22-5df8-42fb-f9d5-f1928ab265f6"
      },
      "execution_count": 31,
      "outputs": [
        {
          "output_type": "stream",
          "name": "stdout",
          "text": [
            "10\n",
            "torch.Size([6, 1, 3, 3])\n"
          ]
        }
      ]
    },
    {
      "cell_type": "code",
      "source": [
        "inp = torch.randn(1, 1, 32, 32)\n",
        "out = net(inp)\n",
        "print(out)"
      ],
      "metadata": {
        "colab": {
          "base_uri": "https://localhost:8080/"
        },
        "id": "K5GipkhIfVF3",
        "outputId": "799bd2e7-416d-461c-b23e-d801a1b2c5e3"
      },
      "execution_count": 32,
      "outputs": [
        {
          "output_type": "stream",
          "name": "stdout",
          "text": [
            "tensor([[-0.0571, -0.0353,  0.0850,  0.0342, -0.0136,  0.0847,  0.0872, -0.0356,\n",
            "          0.0298, -0.0276]], grad_fn=<AddmmBackward0>)\n"
          ]
        }
      ]
    },
    {
      "cell_type": "code",
      "source": [
        "output = net(inp)\n",
        "target = torch.randn(10)  # a dummy target, for example\n",
        "target = target.view(1, -1)  # make it the same shape as output\n",
        "criterion = nn.MSELoss()\n",
        "\n",
        "loss = criterion(output, target)\n",
        "print(loss)"
      ],
      "metadata": {
        "colab": {
          "base_uri": "https://localhost:8080/"
        },
        "id": "sAAFPnXtfa-a",
        "outputId": "6991935e-5dd4-41eb-b5eb-009a65fa6216"
      },
      "execution_count": 33,
      "outputs": [
        {
          "output_type": "stream",
          "name": "stdout",
          "text": [
            "tensor(0.6927, grad_fn=<MseLossBackward0>)\n"
          ]
        }
      ]
    },
    {
      "cell_type": "code",
      "source": [
        "torch.randn(1, 1, 32, 32)"
      ],
      "metadata": {
        "colab": {
          "base_uri": "https://localhost:8080/"
        },
        "id": "6J2Zd-GQfp3D",
        "outputId": "536fc758-1187-4d6f-adda-28e94da0b3dd"
      },
      "execution_count": 35,
      "outputs": [
        {
          "output_type": "execute_result",
          "data": {
            "text/plain": [
              "tensor([[[[-0.6999, -0.3002, -0.7185,  ..., -2.1788,  0.0079, -0.4762],\n",
              "          [-0.3074, -1.2085,  1.6936,  ...,  1.0781, -0.9154, -1.8044],\n",
              "          [-1.0755,  0.3874,  1.6203,  ..., -1.0567,  0.0028,  0.9898],\n",
              "          ...,\n",
              "          [ 0.5869, -2.0913,  0.3703,  ..., -0.8713,  1.6704, -1.5693],\n",
              "          [-0.5363,  1.1995,  0.2379,  ..., -0.3479,  0.2229, -1.0608],\n",
              "          [ 0.3098,  0.0090,  0.3040,  ...,  1.1471,  1.6158, -0.4676]]]])"
            ]
          },
          "metadata": {},
          "execution_count": 35
        }
      ]
    },
    {
      "cell_type": "code",
      "source": [
        ""
      ],
      "metadata": {
        "id": "MyYy1z-gfvta"
      },
      "execution_count": 39,
      "outputs": []
    },
    {
      "cell_type": "code",
      "source": [
        ""
      ],
      "metadata": {
        "id": "C2oj__5pgIp9"
      },
      "execution_count": 40,
      "outputs": []
    },
    {
      "cell_type": "code",
      "source": [
        ""
      ],
      "metadata": {
        "id": "41oVy1plgTkT"
      },
      "execution_count": null,
      "outputs": []
    }
  ]
}