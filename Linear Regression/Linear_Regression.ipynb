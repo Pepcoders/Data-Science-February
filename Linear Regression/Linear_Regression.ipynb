{
  "nbformat": 4,
  "nbformat_minor": 0,
  "metadata": {
    "colab": {
      "name": "Linear Regression.ipynb",
      "provenance": [],
      "authorship_tag": "ABX9TyMCHmtFlwmxukLbthTUTXfg",
      "include_colab_link": true
    },
    "kernelspec": {
      "name": "python3",
      "display_name": "Python 3"
    },
    "language_info": {
      "name": "python"
    }
  },
  "cells": [
    {
      "cell_type": "markdown",
      "metadata": {
        "id": "view-in-github",
        "colab_type": "text"
      },
      "source": [
        "<a href=\"https://colab.research.google.com/github/Pepcoders/Data-Science-February/blob/main/Linear%20Regression/Linear_Regression.ipynb\" target=\"_parent\"><img src=\"https://colab.research.google.com/assets/colab-badge.svg\" alt=\"Open In Colab\"/></a>"
      ]
    },
    {
      "cell_type": "code",
      "execution_count": 1,
      "metadata": {
        "id": "3bcbo4xFafq6"
      },
      "outputs": [],
      "source": [
        "import pandas as pd"
      ]
    },
    {
      "cell_type": "code",
      "source": [
        "df = pd.read_csv(\"https://raw.githubusercontent.com/purna135/ML-Datasets/main/weight-height.csv\")"
      ],
      "metadata": {
        "id": "J-Ww3nI2e7R5"
      },
      "execution_count": 2,
      "outputs": []
    },
    {
      "cell_type": "code",
      "source": [
        "df.head()"
      ],
      "metadata": {
        "colab": {
          "base_uri": "https://localhost:8080/",
          "height": 206
        },
        "id": "YP3n_TQ5e9dS",
        "outputId": "19be2977-159c-4493-a00f-d262e2acee9e"
      },
      "execution_count": 3,
      "outputs": [
        {
          "output_type": "execute_result",
          "data": {
            "text/plain": [
              "  Gender     Height      Weight\n",
              "0   Male  73.847017  241.893563\n",
              "1   Male  68.781904  162.310473\n",
              "2   Male  74.110105  212.740856\n",
              "3   Male  71.730978  220.042470\n",
              "4   Male  69.881796  206.349801"
            ],
            "text/html": [
              "\n",
              "  <div id=\"df-26b509f5-8f8e-4f2e-b7c0-84905e30fb76\">\n",
              "    <div class=\"colab-df-container\">\n",
              "      <div>\n",
              "<style scoped>\n",
              "    .dataframe tbody tr th:only-of-type {\n",
              "        vertical-align: middle;\n",
              "    }\n",
              "\n",
              "    .dataframe tbody tr th {\n",
              "        vertical-align: top;\n",
              "    }\n",
              "\n",
              "    .dataframe thead th {\n",
              "        text-align: right;\n",
              "    }\n",
              "</style>\n",
              "<table border=\"1\" class=\"dataframe\">\n",
              "  <thead>\n",
              "    <tr style=\"text-align: right;\">\n",
              "      <th></th>\n",
              "      <th>Gender</th>\n",
              "      <th>Height</th>\n",
              "      <th>Weight</th>\n",
              "    </tr>\n",
              "  </thead>\n",
              "  <tbody>\n",
              "    <tr>\n",
              "      <th>0</th>\n",
              "      <td>Male</td>\n",
              "      <td>73.847017</td>\n",
              "      <td>241.893563</td>\n",
              "    </tr>\n",
              "    <tr>\n",
              "      <th>1</th>\n",
              "      <td>Male</td>\n",
              "      <td>68.781904</td>\n",
              "      <td>162.310473</td>\n",
              "    </tr>\n",
              "    <tr>\n",
              "      <th>2</th>\n",
              "      <td>Male</td>\n",
              "      <td>74.110105</td>\n",
              "      <td>212.740856</td>\n",
              "    </tr>\n",
              "    <tr>\n",
              "      <th>3</th>\n",
              "      <td>Male</td>\n",
              "      <td>71.730978</td>\n",
              "      <td>220.042470</td>\n",
              "    </tr>\n",
              "    <tr>\n",
              "      <th>4</th>\n",
              "      <td>Male</td>\n",
              "      <td>69.881796</td>\n",
              "      <td>206.349801</td>\n",
              "    </tr>\n",
              "  </tbody>\n",
              "</table>\n",
              "</div>\n",
              "      <button class=\"colab-df-convert\" onclick=\"convertToInteractive('df-26b509f5-8f8e-4f2e-b7c0-84905e30fb76')\"\n",
              "              title=\"Convert this dataframe to an interactive table.\"\n",
              "              style=\"display:none;\">\n",
              "        \n",
              "  <svg xmlns=\"http://www.w3.org/2000/svg\" height=\"24px\"viewBox=\"0 0 24 24\"\n",
              "       width=\"24px\">\n",
              "    <path d=\"M0 0h24v24H0V0z\" fill=\"none\"/>\n",
              "    <path d=\"M18.56 5.44l.94 2.06.94-2.06 2.06-.94-2.06-.94-.94-2.06-.94 2.06-2.06.94zm-11 1L8.5 8.5l.94-2.06 2.06-.94-2.06-.94L8.5 2.5l-.94 2.06-2.06.94zm10 10l.94 2.06.94-2.06 2.06-.94-2.06-.94-.94-2.06-.94 2.06-2.06.94z\"/><path d=\"M17.41 7.96l-1.37-1.37c-.4-.4-.92-.59-1.43-.59-.52 0-1.04.2-1.43.59L10.3 9.45l-7.72 7.72c-.78.78-.78 2.05 0 2.83L4 21.41c.39.39.9.59 1.41.59.51 0 1.02-.2 1.41-.59l7.78-7.78 2.81-2.81c.8-.78.8-2.07 0-2.86zM5.41 20L4 18.59l7.72-7.72 1.47 1.35L5.41 20z\"/>\n",
              "  </svg>\n",
              "      </button>\n",
              "      \n",
              "  <style>\n",
              "    .colab-df-container {\n",
              "      display:flex;\n",
              "      flex-wrap:wrap;\n",
              "      gap: 12px;\n",
              "    }\n",
              "\n",
              "    .colab-df-convert {\n",
              "      background-color: #E8F0FE;\n",
              "      border: none;\n",
              "      border-radius: 50%;\n",
              "      cursor: pointer;\n",
              "      display: none;\n",
              "      fill: #1967D2;\n",
              "      height: 32px;\n",
              "      padding: 0 0 0 0;\n",
              "      width: 32px;\n",
              "    }\n",
              "\n",
              "    .colab-df-convert:hover {\n",
              "      background-color: #E2EBFA;\n",
              "      box-shadow: 0px 1px 2px rgba(60, 64, 67, 0.3), 0px 1px 3px 1px rgba(60, 64, 67, 0.15);\n",
              "      fill: #174EA6;\n",
              "    }\n",
              "\n",
              "    [theme=dark] .colab-df-convert {\n",
              "      background-color: #3B4455;\n",
              "      fill: #D2E3FC;\n",
              "    }\n",
              "\n",
              "    [theme=dark] .colab-df-convert:hover {\n",
              "      background-color: #434B5C;\n",
              "      box-shadow: 0px 1px 3px 1px rgba(0, 0, 0, 0.15);\n",
              "      filter: drop-shadow(0px 1px 2px rgba(0, 0, 0, 0.3));\n",
              "      fill: #FFFFFF;\n",
              "    }\n",
              "  </style>\n",
              "\n",
              "      <script>\n",
              "        const buttonEl =\n",
              "          document.querySelector('#df-26b509f5-8f8e-4f2e-b7c0-84905e30fb76 button.colab-df-convert');\n",
              "        buttonEl.style.display =\n",
              "          google.colab.kernel.accessAllowed ? 'block' : 'none';\n",
              "\n",
              "        async function convertToInteractive(key) {\n",
              "          const element = document.querySelector('#df-26b509f5-8f8e-4f2e-b7c0-84905e30fb76');\n",
              "          const dataTable =\n",
              "            await google.colab.kernel.invokeFunction('convertToInteractive',\n",
              "                                                     [key], {});\n",
              "          if (!dataTable) return;\n",
              "\n",
              "          const docLinkHtml = 'Like what you see? Visit the ' +\n",
              "            '<a target=\"_blank\" href=https://colab.research.google.com/notebooks/data_table.ipynb>data table notebook</a>'\n",
              "            + ' to learn more about interactive tables.';\n",
              "          element.innerHTML = '';\n",
              "          dataTable['output_type'] = 'display_data';\n",
              "          await google.colab.output.renderOutput(dataTable, element);\n",
              "          const docLink = document.createElement('div');\n",
              "          docLink.innerHTML = docLinkHtml;\n",
              "          element.appendChild(docLink);\n",
              "        }\n",
              "      </script>\n",
              "    </div>\n",
              "  </div>\n",
              "  "
            ]
          },
          "metadata": {},
          "execution_count": 3
        }
      ]
    },
    {
      "cell_type": "code",
      "source": [
        "df.drop([\"Gender\"], inplace = True, axis = 1)"
      ],
      "metadata": {
        "id": "ymOGx5NDe-uo"
      },
      "execution_count": 4,
      "outputs": []
    },
    {
      "cell_type": "code",
      "source": [
        "df.head()"
      ],
      "metadata": {
        "colab": {
          "base_uri": "https://localhost:8080/",
          "height": 206
        },
        "id": "aA30z3x7fN0q",
        "outputId": "af886f1f-1c5f-4ad6-c006-6ac3290a9ef6"
      },
      "execution_count": 5,
      "outputs": [
        {
          "output_type": "execute_result",
          "data": {
            "text/plain": [
              "      Height      Weight\n",
              "0  73.847017  241.893563\n",
              "1  68.781904  162.310473\n",
              "2  74.110105  212.740856\n",
              "3  71.730978  220.042470\n",
              "4  69.881796  206.349801"
            ],
            "text/html": [
              "\n",
              "  <div id=\"df-cfd2b187-72fb-4724-8406-faf523b37a46\">\n",
              "    <div class=\"colab-df-container\">\n",
              "      <div>\n",
              "<style scoped>\n",
              "    .dataframe tbody tr th:only-of-type {\n",
              "        vertical-align: middle;\n",
              "    }\n",
              "\n",
              "    .dataframe tbody tr th {\n",
              "        vertical-align: top;\n",
              "    }\n",
              "\n",
              "    .dataframe thead th {\n",
              "        text-align: right;\n",
              "    }\n",
              "</style>\n",
              "<table border=\"1\" class=\"dataframe\">\n",
              "  <thead>\n",
              "    <tr style=\"text-align: right;\">\n",
              "      <th></th>\n",
              "      <th>Height</th>\n",
              "      <th>Weight</th>\n",
              "    </tr>\n",
              "  </thead>\n",
              "  <tbody>\n",
              "    <tr>\n",
              "      <th>0</th>\n",
              "      <td>73.847017</td>\n",
              "      <td>241.893563</td>\n",
              "    </tr>\n",
              "    <tr>\n",
              "      <th>1</th>\n",
              "      <td>68.781904</td>\n",
              "      <td>162.310473</td>\n",
              "    </tr>\n",
              "    <tr>\n",
              "      <th>2</th>\n",
              "      <td>74.110105</td>\n",
              "      <td>212.740856</td>\n",
              "    </tr>\n",
              "    <tr>\n",
              "      <th>3</th>\n",
              "      <td>71.730978</td>\n",
              "      <td>220.042470</td>\n",
              "    </tr>\n",
              "    <tr>\n",
              "      <th>4</th>\n",
              "      <td>69.881796</td>\n",
              "      <td>206.349801</td>\n",
              "    </tr>\n",
              "  </tbody>\n",
              "</table>\n",
              "</div>\n",
              "      <button class=\"colab-df-convert\" onclick=\"convertToInteractive('df-cfd2b187-72fb-4724-8406-faf523b37a46')\"\n",
              "              title=\"Convert this dataframe to an interactive table.\"\n",
              "              style=\"display:none;\">\n",
              "        \n",
              "  <svg xmlns=\"http://www.w3.org/2000/svg\" height=\"24px\"viewBox=\"0 0 24 24\"\n",
              "       width=\"24px\">\n",
              "    <path d=\"M0 0h24v24H0V0z\" fill=\"none\"/>\n",
              "    <path d=\"M18.56 5.44l.94 2.06.94-2.06 2.06-.94-2.06-.94-.94-2.06-.94 2.06-2.06.94zm-11 1L8.5 8.5l.94-2.06 2.06-.94-2.06-.94L8.5 2.5l-.94 2.06-2.06.94zm10 10l.94 2.06.94-2.06 2.06-.94-2.06-.94-.94-2.06-.94 2.06-2.06.94z\"/><path d=\"M17.41 7.96l-1.37-1.37c-.4-.4-.92-.59-1.43-.59-.52 0-1.04.2-1.43.59L10.3 9.45l-7.72 7.72c-.78.78-.78 2.05 0 2.83L4 21.41c.39.39.9.59 1.41.59.51 0 1.02-.2 1.41-.59l7.78-7.78 2.81-2.81c.8-.78.8-2.07 0-2.86zM5.41 20L4 18.59l7.72-7.72 1.47 1.35L5.41 20z\"/>\n",
              "  </svg>\n",
              "      </button>\n",
              "      \n",
              "  <style>\n",
              "    .colab-df-container {\n",
              "      display:flex;\n",
              "      flex-wrap:wrap;\n",
              "      gap: 12px;\n",
              "    }\n",
              "\n",
              "    .colab-df-convert {\n",
              "      background-color: #E8F0FE;\n",
              "      border: none;\n",
              "      border-radius: 50%;\n",
              "      cursor: pointer;\n",
              "      display: none;\n",
              "      fill: #1967D2;\n",
              "      height: 32px;\n",
              "      padding: 0 0 0 0;\n",
              "      width: 32px;\n",
              "    }\n",
              "\n",
              "    .colab-df-convert:hover {\n",
              "      background-color: #E2EBFA;\n",
              "      box-shadow: 0px 1px 2px rgba(60, 64, 67, 0.3), 0px 1px 3px 1px rgba(60, 64, 67, 0.15);\n",
              "      fill: #174EA6;\n",
              "    }\n",
              "\n",
              "    [theme=dark] .colab-df-convert {\n",
              "      background-color: #3B4455;\n",
              "      fill: #D2E3FC;\n",
              "    }\n",
              "\n",
              "    [theme=dark] .colab-df-convert:hover {\n",
              "      background-color: #434B5C;\n",
              "      box-shadow: 0px 1px 3px 1px rgba(0, 0, 0, 0.15);\n",
              "      filter: drop-shadow(0px 1px 2px rgba(0, 0, 0, 0.3));\n",
              "      fill: #FFFFFF;\n",
              "    }\n",
              "  </style>\n",
              "\n",
              "      <script>\n",
              "        const buttonEl =\n",
              "          document.querySelector('#df-cfd2b187-72fb-4724-8406-faf523b37a46 button.colab-df-convert');\n",
              "        buttonEl.style.display =\n",
              "          google.colab.kernel.accessAllowed ? 'block' : 'none';\n",
              "\n",
              "        async function convertToInteractive(key) {\n",
              "          const element = document.querySelector('#df-cfd2b187-72fb-4724-8406-faf523b37a46');\n",
              "          const dataTable =\n",
              "            await google.colab.kernel.invokeFunction('convertToInteractive',\n",
              "                                                     [key], {});\n",
              "          if (!dataTable) return;\n",
              "\n",
              "          const docLinkHtml = 'Like what you see? Visit the ' +\n",
              "            '<a target=\"_blank\" href=https://colab.research.google.com/notebooks/data_table.ipynb>data table notebook</a>'\n",
              "            + ' to learn more about interactive tables.';\n",
              "          element.innerHTML = '';\n",
              "          dataTable['output_type'] = 'display_data';\n",
              "          await google.colab.output.renderOutput(dataTable, element);\n",
              "          const docLink = document.createElement('div');\n",
              "          docLink.innerHTML = docLinkHtml;\n",
              "          element.appendChild(docLink);\n",
              "        }\n",
              "      </script>\n",
              "    </div>\n",
              "  </div>\n",
              "  "
            ]
          },
          "metadata": {},
          "execution_count": 5
        }
      ]
    },
    {
      "cell_type": "code",
      "source": [
        "import matplotlib.pyplot as plt\n",
        "plt.scatter(df[\"Height\"], df[\"Weight\"])"
      ],
      "metadata": {
        "colab": {
          "base_uri": "https://localhost:8080/",
          "height": 282
        },
        "id": "jRbrNb00fRCj",
        "outputId": "919b82a9-8055-4c80-9490-7c3478f46dea"
      },
      "execution_count": 6,
      "outputs": [
        {
          "output_type": "execute_result",
          "data": {
            "text/plain": [
              "<matplotlib.collections.PathCollection at 0x7fec4f1b2390>"
            ]
          },
          "metadata": {},
          "execution_count": 6
        },
        {
          "output_type": "display_data",
          "data": {
            "text/plain": [
              "<Figure size 432x288 with 1 Axes>"
            ],
            "image/png": "[encoded data removed]"
          },
          "metadata": {
            "needs_background": "light"
          }
        }
      ]
    },
    {
      "cell_type": "code",
      "source": [
        "# As the dataset is large so we are taking some points\n",
        "X = df[\"Height\"][:200]\n",
        "Y = df[\"Weight\"][:200]"
      ],
      "metadata": {
        "id": "wlkCTakUflrl"
      },
      "execution_count": 17,
      "outputs": []
    },
    {
      "cell_type": "code",
      "source": [
        "plt.scatter(X, Y)"
      ],
      "metadata": {
        "colab": {
          "base_uri": "https://localhost:8080/",
          "height": 282
        },
        "id": "DmOR7dbgfyj8",
        "outputId": "a361aeb4-8dce-436d-f90a-93c387c20386"
      },
      "execution_count": 18,
      "outputs": [
        {
          "output_type": "execute_result",
          "data": {
            "text/plain": [
              "<matplotlib.collections.PathCollection at 0x7fec4be160d0>"
            ]
          },
          "metadata": {},
          "execution_count": 18
        },
        {
          "output_type": "display_data",
          "data": {
            "text/plain": [
              "<Figure size 432x288 with 1 Axes>"
            ],
            "image/png": "[encoded data removed]"
          },
          "metadata": {
            "needs_background": "light"
          }
        }
      ]
    },
    {
      "cell_type": "code",
      "source": [
        "X.shape"
      ],
      "metadata": {
        "colab": {
          "base_uri": "https://localhost:8080/"
        },
        "id": "eBGAxlZGcUDO",
        "outputId": "e931e282-c85d-442b-80b5-03e52dd550e1"
      },
      "execution_count": 19,
      "outputs": [
        {
          "output_type": "execute_result",
          "data": {
            "text/plain": [
              "(200,)"
            ]
          },
          "metadata": {},
          "execution_count": 19
        }
      ]
    },
    {
      "cell_type": "code",
      "source": [
        "X = X.values.reshape(-1, 1) # to train model we need a 2D array, so we are reshaping it to 2D (200 rows, 1 cols)"
      ],
      "metadata": {
        "id": "44k6XDUDcVpj"
      },
      "execution_count": 20,
      "outputs": []
    },
    {
      "cell_type": "code",
      "source": [
        "X.shape"
      ],
      "metadata": {
        "colab": {
          "base_uri": "https://localhost:8080/"
        },
        "id": "x9367Ww_cZVm",
        "outputId": "198aae09-514e-4b98-d070-16594f2b66df"
      },
      "execution_count": 21,
      "outputs": [
        {
          "output_type": "execute_result",
          "data": {
            "text/plain": [
              "(200, 1)"
            ]
          },
          "metadata": {},
          "execution_count": 21
        }
      ]
    },
    {
      "cell_type": "code",
      "source": [
        "from sklearn.model_selection import train_test_split\n",
        "X_train, X_test, y_train, y_test = train_test_split(X, Y, test_size = 0.3, random_state = 50)"
      ],
      "metadata": {
        "id": "vjIzqtxogKOp"
      },
      "execution_count": 22,
      "outputs": []
    },
    {
      "cell_type": "code",
      "source": [
        "X_train.shape"
      ],
      "metadata": {
        "colab": {
          "base_uri": "https://localhost:8080/"
        },
        "id": "KHhGoLpvgeVt",
        "outputId": "8483bd46-2158-479e-e0a5-85323210905d"
      },
      "execution_count": 23,
      "outputs": [
        {
          "output_type": "execute_result",
          "data": {
            "text/plain": [
              "(140, 1)"
            ]
          },
          "metadata": {},
          "execution_count": 23
        }
      ]
    },
    {
      "cell_type": "code",
      "source": [
        "from sklearn.linear_model import LinearRegression\n",
        "lr = LinearRegression()\n",
        "lr.fit(X_train, y_train)"
      ],
      "metadata": {
        "id": "oF5X_pT0f0nZ",
        "colab": {
          "base_uri": "https://localhost:8080/"
        },
        "outputId": "8ecb18e7-785d-4e4f-f0ae-13c30801f4fa"
      },
      "execution_count": 24,
      "outputs": [
        {
          "output_type": "execute_result",
          "data": {
            "text/plain": [
              "LinearRegression()"
            ]
          },
          "metadata": {},
          "execution_count": 24
        }
      ]
    },
    {
      "cell_type": "code",
      "source": [
        "lr.predict(X_test)"
      ],
      "metadata": {
        "colab": {
          "base_uri": "https://localhost:8080/"
        },
        "id": "g618Sev1gnO5",
        "outputId": "9455c640-f194-410b-c8da-9d47138c2c7b"
      },
      "execution_count": 25,
      "outputs": [
        {
          "output_type": "execute_result",
          "data": {
            "text/plain": [
              "array([202.42772225, 163.93751992, 161.84842036, 178.62966295,\n",
              "       189.75711108, 180.52660301, 199.75220299, 175.21094339,\n",
              "       159.10700302, 182.48066941, 182.49316698, 228.15698598,\n",
              "       186.34977612, 159.28176073, 181.88492559, 189.40368422,\n",
              "       165.31318567, 223.77628971, 181.60129903, 164.53114187,\n",
              "       206.63788901, 215.59105305, 180.39696616, 169.55293439,\n",
              "       183.37603486, 191.72272546, 170.67108965, 190.3864735 ,\n",
              "       174.10716933, 179.26089108, 149.63243912, 145.06678513,\n",
              "       200.32720334, 197.90147501, 182.87869438, 207.98137756,\n",
              "       175.0800427 , 175.04481456, 198.28462606, 178.52220574,\n",
              "       183.8890044 , 172.67921416, 168.02354226, 192.52954079,\n",
              "       180.87828719, 232.69717995, 182.4894624 , 168.01721067,\n",
              "       188.64168375, 185.30866665, 185.66877162, 190.14926888,\n",
              "       193.20402122, 170.72558983, 166.38263697, 188.02942834,\n",
              "       162.09929792, 188.04333922, 190.23700354, 207.23993561])"
            ]
          },
          "metadata": {},
          "execution_count": 25
        }
      ]
    },
    {
      "cell_type": "code",
      "source": [
        "y_pred = lr.predict(X_test)"
      ],
      "metadata": {
        "id": "AuJN-qzMdGfA"
      },
      "execution_count": 26,
      "outputs": []
    },
    {
      "cell_type": "code",
      "source": [
        "plt.scatter(X, Y)\n",
        "plt.plot(X_test, y_pred, color = \"r\")"
      ],
      "metadata": {
        "colab": {
          "base_uri": "https://localhost:8080/",
          "height": 282
        },
        "id": "OI-W-QOyjOyJ",
        "outputId": "9c70d7a6-ca26-4f04-c064-5d332ff74b10"
      },
      "execution_count": 27,
      "outputs": [
        {
          "output_type": "execute_result",
          "data": {
            "text/plain": [
              "[<matplotlib.lines.Line2D at 0x7fec3c995ed0>]"
            ]
          },
          "metadata": {},
          "execution_count": 27
        },
        {
          "output_type": "display_data",
          "data": {
            "text/plain": [
              "<Figure size 432x288 with 1 Axes>"
            ],
            "image/png": "[encoded data removed]"
          },
          "metadata": {
            "needs_background": "light"
          }
        }
      ]
    },
    {
      "cell_type": "code",
      "source": [
        "# Slope of the line (m)\n",
        "lr.coef_"
      ],
      "metadata": {
        "colab": {
          "base_uri": "https://localhost:8080/"
        },
        "id": "_-RxyRk9jqP-",
        "outputId": "34ffc3ab-aefc-406b-8798-2397bf183dd7"
      },
      "execution_count": 28,
      "outputs": [
        {
          "output_type": "execute_result",
          "data": {
            "text/plain": [
              "array([5.93199026])"
            ]
          },
          "metadata": {},
          "execution_count": 28
        }
      ]
    },
    {
      "cell_type": "code",
      "source": [
        "# Y intercept of line\n",
        "lr.intercept_"
      ],
      "metadata": {
        "colab": {
          "base_uri": "https://localhost:8080/"
        },
        "id": "8ksRNHUFk5Ar",
        "outputId": "51a14b9c-a6b6-4576-91ef-2ef64be84580"
      },
      "execution_count": 29,
      "outputs": [
        {
          "output_type": "execute_result",
          "data": {
            "text/plain": [
              "-222.34481302666856"
            ]
          },
          "metadata": {},
          "execution_count": 29
        }
      ]
    },
    {
      "cell_type": "code",
      "source": [
        "m = lr.coef_\n",
        "c = lr.intercept_"
      ],
      "metadata": {
        "id": "w6--nA5Pk_UF"
      },
      "execution_count": 30,
      "outputs": []
    },
    {
      "cell_type": "code",
      "source": [
        "# take a sample point\n",
        "x = X_test[0][0]\n",
        "x"
      ],
      "metadata": {
        "colab": {
          "base_uri": "https://localhost:8080/"
        },
        "id": "giq4HupSlYYx",
        "outputId": "658ab17a-980e-458e-b43b-91aced69e82d"
      },
      "execution_count": 31,
      "outputs": [
        {
          "output_type": "execute_result",
          "data": {
            "text/plain": [
              "71.6070857988906"
            ]
          },
          "metadata": {},
          "execution_count": 31
        }
      ]
    },
    {
      "cell_type": "code",
      "source": [
        "# Equation of line Y = M*X + C \n",
        "y = m * x + c"
      ],
      "metadata": {
        "id": "4vWPHdlXlOcw"
      },
      "execution_count": 46,
      "outputs": []
    },
    {
      "cell_type": "code",
      "source": [
        "y"
      ],
      "metadata": {
        "colab": {
          "base_uri": "https://localhost:8080/"
        },
        "id": "mBUKc1oElhmi",
        "outputId": "3eb83d13-7a0d-4ec6-9f1c-3a482e6708e2"
      },
      "execution_count": 33,
      "outputs": [
        {
          "output_type": "execute_result",
          "data": {
            "text/plain": [
              "array([202.42772225])"
            ]
          },
          "metadata": {},
          "execution_count": 33
        }
      ]
    },
    {
      "cell_type": "code",
      "source": [
        "lr.predict(x.reshape(-1,1))"
      ],
      "metadata": {
        "colab": {
          "base_uri": "https://localhost:8080/"
        },
        "id": "Cf54KDiWliNV",
        "outputId": "cd451847-5e74-46be-ad80-fc880460c4f2"
      },
      "execution_count": 34,
      "outputs": [
        {
          "output_type": "execute_result",
          "data": {
            "text/plain": [
              "array([202.42772225])"
            ]
          },
          "metadata": {},
          "execution_count": 34
        }
      ]
    },
    {
      "cell_type": "markdown",
      "source": [
        "# Custom Linear Regression"
      ],
      "metadata": {
        "id": "eAkOXwWPdk7H"
      }
    },
    {
      "cell_type": "code",
      "source": [
        "class CustomRL():\n",
        "  def __init__(self):\n",
        "    self.m = None\n",
        "    self.c = None\n",
        "\n",
        "  def fit(self, x, y):\n",
        "    p = 0\n",
        "    q = 0\n",
        "    for i in range(x.shape[0]):\n",
        "      p = p + (y[i] - y.mean()) * (x[i] - x.mean())\n",
        "      q = q + (x[i] - x.mean()) ** 2\n",
        "    \n",
        "    self.m = p/q\n",
        "    self.c = y.mean() - self.m * x.mean()\n",
        "  \n",
        "  def predict(self, x_test):\n",
        "    return self.m * x_test + self.c"
      ],
      "metadata": {
        "id": "CStxBzD0llOq"
      },
      "execution_count": 36,
      "outputs": []
    },
    {
      "cell_type": "code",
      "source": [
        "clr = CustomRL()"
      ],
      "metadata": {
        "id": "PLnt1G584TOg"
      },
      "execution_count": 37,
      "outputs": []
    },
    {
      "cell_type": "code",
      "source": [
        "clr.fit(X_train, y_train.values)"
      ],
      "metadata": {
        "id": "OMt_92z-4gFu"
      },
      "execution_count": 38,
      "outputs": []
    },
    {
      "cell_type": "code",
      "source": [
        "clr.predict(X_test)"
      ],
      "metadata": {
        "id": "KZUe9rBPd0wY"
      },
      "execution_count": null,
      "outputs": []
    },
    {
      "cell_type": "code",
      "source": [
        "y_custom = clr.predict(X_test)"
      ],
      "metadata": {
        "id": "dBkWnlsm6Xty"
      },
      "execution_count": 40,
      "outputs": []
    },
    {
      "cell_type": "code",
      "source": [
        "y_sklealn = lr.predict(X_test)"
      ],
      "metadata": {
        "id": "Pix9WRkY6pRN"
      },
      "execution_count": 41,
      "outputs": []
    },
    {
      "cell_type": "code",
      "source": [
        "y_sklealn"
      ],
      "metadata": {
        "colab": {
          "base_uri": "https://localhost:8080/"
        },
        "id": "8KaZ7EGS6w1B",
        "outputId": "6ac61725-eaec-4b78-c351-76dbe71ba024"
      },
      "execution_count": 42,
      "outputs": [
        {
          "output_type": "execute_result",
          "data": {
            "text/plain": [
              "array([202.42772225, 163.93751992, 161.84842036, 178.62966295,\n",
              "       189.75711108, 180.52660301, 199.75220299, 175.21094339,\n",
              "       159.10700302, 182.48066941, 182.49316698, 228.15698598,\n",
              "       186.34977612, 159.28176073, 181.88492559, 189.40368422,\n",
              "       165.31318567, 223.77628971, 181.60129903, 164.53114187,\n",
              "       206.63788901, 215.59105305, 180.39696616, 169.55293439,\n",
              "       183.37603486, 191.72272546, 170.67108965, 190.3864735 ,\n",
              "       174.10716933, 179.26089108, 149.63243912, 145.06678513,\n",
              "       200.32720334, 197.90147501, 182.87869438, 207.98137756,\n",
              "       175.0800427 , 175.04481456, 198.28462606, 178.52220574,\n",
              "       183.8890044 , 172.67921416, 168.02354226, 192.52954079,\n",
              "       180.87828719, 232.69717995, 182.4894624 , 168.01721067,\n",
              "       188.64168375, 185.30866665, 185.66877162, 190.14926888,\n",
              "       193.20402122, 170.72558983, 166.38263697, 188.02942834,\n",
              "       162.09929792, 188.04333922, 190.23700354, 207.23993561])"
            ]
          },
          "metadata": {},
          "execution_count": 42
        }
      ]
    },
    {
      "cell_type": "code",
      "source": [
        "y_custom"
      ],
      "metadata": {
        "colab": {
          "base_uri": "https://localhost:8080/"
        },
        "id": "gcOfVKpUeF58",
        "outputId": "0db6b90e-453d-49df-b7a5-2343bc3a5763"
      },
      "execution_count": 43,
      "outputs": [
        {
          "output_type": "execute_result",
          "data": {
            "text/plain": [
              "array([[202.42772225],\n",
              "       [163.93751992],\n",
              "       [161.84842036],\n",
              "       [178.62966295],\n",
              "       [189.75711108],\n",
              "       [180.52660301],\n",
              "       [199.75220299],\n",
              "       [175.21094339],\n",
              "       [159.10700302],\n",
              "       [182.48066941],\n",
              "       [182.49316698],\n",
              "       [228.15698598],\n",
              "       [186.34977612],\n",
              "       [159.28176073],\n",
              "       [181.88492559],\n",
              "       [189.40368422],\n",
              "       [165.31318567],\n",
              "       [223.77628971],\n",
              "       [181.60129903],\n",
              "       [164.53114187],\n",
              "       [206.63788901],\n",
              "       [215.59105305],\n",
              "       [180.39696616],\n",
              "       [169.55293439],\n",
              "       [183.37603486],\n",
              "       [191.72272546],\n",
              "       [170.67108965],\n",
              "       [190.3864735 ],\n",
              "       [174.10716933],\n",
              "       [179.26089108],\n",
              "       [149.63243912],\n",
              "       [145.06678513],\n",
              "       [200.32720334],\n",
              "       [197.90147501],\n",
              "       [182.87869438],\n",
              "       [207.98137756],\n",
              "       [175.0800427 ],\n",
              "       [175.04481456],\n",
              "       [198.28462606],\n",
              "       [178.52220574],\n",
              "       [183.8890044 ],\n",
              "       [172.67921416],\n",
              "       [168.02354226],\n",
              "       [192.52954079],\n",
              "       [180.87828719],\n",
              "       [232.69717995],\n",
              "       [182.4894624 ],\n",
              "       [168.01721067],\n",
              "       [188.64168375],\n",
              "       [185.30866665],\n",
              "       [185.66877162],\n",
              "       [190.14926888],\n",
              "       [193.20402122],\n",
              "       [170.72558983],\n",
              "       [166.38263697],\n",
              "       [188.02942834],\n",
              "       [162.09929792],\n",
              "       [188.04333922],\n",
              "       [190.23700354],\n",
              "       [207.23993561]])"
            ]
          },
          "metadata": {},
          "execution_count": 43
        }
      ]
    },
    {
      "cell_type": "code",
      "source": [
        "# Slope and Intercept for sklean linear regression\n",
        "print(\"Slope\", lr.coef_)\n",
        "print(\"Intercept\", lr.intercept_)"
      ],
      "metadata": {
        "colab": {
          "base_uri": "https://localhost:8080/"
        },
        "id": "f0WM20bz8QgP",
        "outputId": "0dcbbbdd-50fc-4334-bc4b-f8161e81fa5f"
      },
      "execution_count": 44,
      "outputs": [
        {
          "output_type": "stream",
          "name": "stdout",
          "text": [
            "Slope [5.93199026]\n",
            "Intercept -222.34481302666856\n"
          ]
        }
      ]
    },
    {
      "cell_type": "code",
      "source": [
        "# Slope and Intercept for our custom function\n",
        "print(\"Slope\", clr.m)\n",
        "print(\"Intercept\", clr.c)"
      ],
      "metadata": {
        "colab": {
          "base_uri": "https://localhost:8080/"
        },
        "id": "GSyeW-9p8aSI",
        "outputId": "edc3c8cd-da90-4237-a497-c187437e6088"
      },
      "execution_count": 45,
      "outputs": [
        {
          "output_type": "stream",
          "name": "stdout",
          "text": [
            "Slope [5.93199026]\n",
            "Intercept [-222.34481303]\n"
          ]
        }
      ]
    },
    {
      "cell_type": "code",
      "source": [
        ""
      ],
      "metadata": {
        "id": "MaM9FjxCebwW"
      },
      "execution_count": null,
      "outputs": []
    }
  ]
}