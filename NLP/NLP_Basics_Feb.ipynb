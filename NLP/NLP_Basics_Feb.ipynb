{
  "nbformat": 4,
  "nbformat_minor": 0,
  "metadata": {
    "colab": {
      "name": "NLP_Basics_Feb.ipynb",
      "provenance": [],
      "authorship_tag": "ABX9TyMUnQRjREedjCB1vmQ7nZLm",
      "include_colab_link": true
    },
    "kernelspec": {
      "name": "python3",
      "display_name": "Python 3"
    },
    "language_info": {
      "name": "python"
    }
  },
  "cells": [
    {
      "cell_type": "markdown",
      "metadata": {
        "id": "view-in-github",
        "colab_type": "text"
      },
      "source": [
        "<a href=\"https://colab.research.google.com/github/Pepcoders/Data-Science-February/blob/main/NLP/NLP_Basics_Feb.ipynb\" target=\"_parent\"><img src=\"https://colab.research.google.com/assets/colab-badge.svg\" alt=\"Open In Colab\"/></a>"
      ]
    },
    {
      "cell_type": "code",
      "execution_count": 1,
      "metadata": {
        "id": "mwleM2xVhSVj"
      },
      "outputs": [],
      "source": [
        "import nltk\n"
      ]
    },
    {
      "cell_type": "code",
      "source": [
        "nltk.download('all')"
      ],
      "metadata": {
        "colab": {
          "base_uri": "https://localhost:8080/"
        },
        "id": "iGTU-V2LhgkJ",
        "outputId": "58a7de4c-928d-4dec-85e2-8e4285cf0f9c"
      },
      "execution_count": 2,
      "outputs": [
        {
          "output_type": "stream",
          "name": "stderr",
          "text": [
            "[nltk_data] Downloading collection 'all'\n",
            "[nltk_data]    | \n",
            "[nltk_data]    | Downloading package abc to /root/nltk_data...\n",
            "[nltk_data]    |   Unzipping corpora/abc.zip.\n",
            "[nltk_data]    | Downloading package alpino to /root/nltk_data...\n",
            "[nltk_data]    |   Unzipping corpora/alpino.zip.\n",
            "[nltk_data]    | Downloading package averaged_perceptron_tagger to\n",
            "[nltk_data]    |     /root/nltk_data...\n",
            "[nltk_data]    |   Unzipping taggers/averaged_perceptron_tagger.zip.\n",
            "[nltk_data]    | Downloading package averaged_perceptron_tagger_ru to\n",
            "[nltk_data]    |     /root/nltk_data...\n",
            "[nltk_data]    |   Unzipping\n",
            "[nltk_data]    |       taggers/averaged_perceptron_tagger_ru.zip.\n",
            "[nltk_data]    | Downloading package basque_grammars to\n",
            "[nltk_data]    |     /root/nltk_data...\n",
            "[nltk_data]    |   Unzipping grammars/basque_grammars.zip.\n",
            "[nltk_data]    | Downloading package biocreative_ppi to\n",
            "[nltk_data]    |     /root/nltk_data...\n",
            "[nltk_data]    |   Unzipping corpora/biocreative_ppi.zip.\n",
            "[nltk_data]    | Downloading package bllip_wsj_no_aux to\n",
            "[nltk_data]    |     /root/nltk_data...\n",
            "[nltk_data]    |   Unzipping models/bllip_wsj_no_aux.zip.\n",
            "[nltk_data]    | Downloading package book_grammars to\n",
            "[nltk_data]    |     /root/nltk_data...\n",
            "[nltk_data]    |   Unzipping grammars/book_grammars.zip.\n",
            "[nltk_data]    | Downloading package brown to /root/nltk_data...\n",
            "[nltk_data]    |   Unzipping corpora/brown.zip.\n",
            "[nltk_data]    | Downloading package brown_tei to /root/nltk_data...\n",
            "[nltk_data]    |   Unzipping corpora/brown_tei.zip.\n",
            "[nltk_data]    | Downloading package cess_cat to /root/nltk_data...\n",
            "[nltk_data]    |   Unzipping corpora/cess_cat.zip.\n",
            "[nltk_data]    | Downloading package cess_esp to /root/nltk_data...\n",
            "[nltk_data]    |   Unzipping corpora/cess_esp.zip.\n",
            "[nltk_data]    | Downloading package chat80 to /root/nltk_data...\n",
            "[nltk_data]    |   Unzipping corpora/chat80.zip.\n",
            "[nltk_data]    | Downloading package city_database to\n",
            "[nltk_data]    |     /root/nltk_data...\n",
            "[nltk_data]    |   Unzipping corpora/city_database.zip.\n",
            "[nltk_data]    | Downloading package cmudict to /root/nltk_data...\n",
            "[nltk_data]    |   Unzipping corpora/cmudict.zip.\n",
            "[nltk_data]    | Downloading package comparative_sentences to\n",
            "[nltk_data]    |     /root/nltk_data...\n",
            "[nltk_data]    |   Unzipping corpora/comparative_sentences.zip.\n",
            "[nltk_data]    | Downloading package comtrans to /root/nltk_data...\n",
            "[nltk_data]    | Downloading package conll2000 to /root/nltk_data...\n",
            "[nltk_data]    |   Unzipping corpora/conll2000.zip.\n",
            "[nltk_data]    | Downloading package conll2002 to /root/nltk_data...\n",
            "[nltk_data]    |   Unzipping corpora/conll2002.zip.\n",
            "[nltk_data]    | Downloading package conll2007 to /root/nltk_data...\n",
            "[nltk_data]    | Downloading package crubadan to /root/nltk_data...\n",
            "[nltk_data]    |   Unzipping corpora/crubadan.zip.\n",
            "[nltk_data]    | Downloading package dependency_treebank to\n",
            "[nltk_data]    |     /root/nltk_data...\n",
            "[nltk_data]    |   Unzipping corpora/dependency_treebank.zip.\n",
            "[nltk_data]    | Downloading package dolch to /root/nltk_data...\n",
            "[nltk_data]    |   Unzipping corpora/dolch.zip.\n",
            "[nltk_data]    | Downloading package europarl_raw to\n",
            "[nltk_data]    |     /root/nltk_data...\n",
            "[nltk_data]    |   Unzipping corpora/europarl_raw.zip.\n",
            "[nltk_data]    | Downloading package extended_omw to\n",
            "[nltk_data]    |     /root/nltk_data...\n",
            "[nltk_data]    | Downloading package floresta to /root/nltk_data...\n",
            "[nltk_data]    |   Unzipping corpora/floresta.zip.\n",
            "[nltk_data]    | Downloading package framenet_v15 to\n",
            "[nltk_data]    |     /root/nltk_data...\n",
            "[nltk_data]    |   Unzipping corpora/framenet_v15.zip.\n",
            "[nltk_data]    | Downloading package framenet_v17 to\n",
            "[nltk_data]    |     /root/nltk_data...\n",
            "[nltk_data]    |   Unzipping corpora/framenet_v17.zip.\n",
            "[nltk_data]    | Downloading package gazetteers to /root/nltk_data...\n",
            "[nltk_data]    |   Unzipping corpora/gazetteers.zip.\n",
            "[nltk_data]    | Downloading package genesis to /root/nltk_data...\n",
            "[nltk_data]    |   Unzipping corpora/genesis.zip.\n",
            "[nltk_data]    | Downloading package gutenberg to /root/nltk_data...\n",
            "[nltk_data]    |   Unzipping corpora/gutenberg.zip.\n",
            "[nltk_data]    | Downloading package ieer to /root/nltk_data...\n",
            "[nltk_data]    |   Unzipping corpora/ieer.zip.\n",
            "[nltk_data]    | Downloading package inaugural to /root/nltk_data...\n",
            "[nltk_data]    |   Unzipping corpora/inaugural.zip.\n",
            "[nltk_data]    | Downloading package indian to /root/nltk_data...\n",
            "[nltk_data]    |   Unzipping corpora/indian.zip.\n",
            "[nltk_data]    | Downloading package jeita to /root/nltk_data...\n",
            "[nltk_data]    | Downloading package kimmo to /root/nltk_data...\n",
            "[nltk_data]    |   Unzipping corpora/kimmo.zip.\n",
            "[nltk_data]    | Downloading package knbc to /root/nltk_data...\n",
            "[nltk_data]    | Downloading package large_grammars to\n",
            "[nltk_data]    |     /root/nltk_data...\n",
            "[nltk_data]    |   Unzipping grammars/large_grammars.zip.\n",
            "[nltk_data]    | Downloading package lin_thesaurus to\n",
            "[nltk_data]    |     /root/nltk_data...\n",
            "[nltk_data]    |   Unzipping corpora/lin_thesaurus.zip.\n",
            "[nltk_data]    | Downloading package mac_morpho to /root/nltk_data...\n",
            "[nltk_data]    |   Unzipping corpora/mac_morpho.zip.\n",
            "[nltk_data]    | Downloading package machado to /root/nltk_data...\n",
            "[nltk_data]    | Downloading package masc_tagged to /root/nltk_data...\n",
            "[nltk_data]    | Downloading package maxent_ne_chunker to\n",
            "[nltk_data]    |     /root/nltk_data...\n",
            "[nltk_data]    |   Unzipping chunkers/maxent_ne_chunker.zip.\n",
            "[nltk_data]    | Downloading package maxent_treebank_pos_tagger to\n",
            "[nltk_data]    |     /root/nltk_data...\n",
            "[nltk_data]    |   Unzipping taggers/maxent_treebank_pos_tagger.zip.\n",
            "[nltk_data]    | Downloading package moses_sample to\n",
            "[nltk_data]    |     /root/nltk_data...\n",
            "[nltk_data]    |   Unzipping models/moses_sample.zip.\n",
            "[nltk_data]    | Downloading package movie_reviews to\n",
            "[nltk_data]    |     /root/nltk_data...\n",
            "[nltk_data]    |   Unzipping corpora/movie_reviews.zip.\n",
            "[nltk_data]    | Downloading package mte_teip5 to /root/nltk_data...\n",
            "[nltk_data]    |   Unzipping corpora/mte_teip5.zip.\n",
            "[nltk_data]    | Downloading package mwa_ppdb to /root/nltk_data...\n",
            "[nltk_data]    |   Unzipping misc/mwa_ppdb.zip.\n",
            "[nltk_data]    | Downloading package names to /root/nltk_data...\n",
            "[nltk_data]    |   Unzipping corpora/names.zip.\n",
            "[nltk_data]    | Downloading package nombank.1.0 to /root/nltk_data...\n",
            "[nltk_data]    | Downloading package nonbreaking_prefixes to\n",
            "[nltk_data]    |     /root/nltk_data...\n",
            "[nltk_data]    |   Unzipping corpora/nonbreaking_prefixes.zip.\n",
            "[nltk_data]    | Downloading package nps_chat to /root/nltk_data...\n",
            "[nltk_data]    |   Unzipping corpora/nps_chat.zip.\n",
            "[nltk_data]    | Downloading package omw to /root/nltk_data...\n",
            "[nltk_data]    | Downloading package omw-1.4 to /root/nltk_data...\n",
            "[nltk_data]    | Downloading package opinion_lexicon to\n",
            "[nltk_data]    |     /root/nltk_data...\n",
            "[nltk_data]    |   Unzipping corpora/opinion_lexicon.zip.\n",
            "[nltk_data]    | Downloading package panlex_swadesh to\n",
            "[nltk_data]    |     /root/nltk_data...\n",
            "[nltk_data]    | Downloading package paradigms to /root/nltk_data...\n",
            "[nltk_data]    |   Unzipping corpora/paradigms.zip.\n",
            "[nltk_data]    | Downloading package pe08 to /root/nltk_data...\n",
            "[nltk_data]    |   Unzipping corpora/pe08.zip.\n",
            "[nltk_data]    | Downloading package perluniprops to\n",
            "[nltk_data]    |     /root/nltk_data...\n",
            "[nltk_data]    |   Unzipping misc/perluniprops.zip.\n",
            "[nltk_data]    | Downloading package pil to /root/nltk_data...\n",
            "[nltk_data]    |   Unzipping corpora/pil.zip.\n",
            "[nltk_data]    | Downloading package pl196x to /root/nltk_data...\n",
            "[nltk_data]    |   Unzipping corpora/pl196x.zip.\n",
            "[nltk_data]    | Downloading package porter_test to /root/nltk_data...\n",
            "[nltk_data]    |   Unzipping stemmers/porter_test.zip.\n",
            "[nltk_data]    | Downloading package ppattach to /root/nltk_data...\n",
            "[nltk_data]    |   Unzipping corpora/ppattach.zip.\n",
            "[nltk_data]    | Downloading package problem_reports to\n",
            "[nltk_data]    |     /root/nltk_data...\n",
            "[nltk_data]    |   Unzipping corpora/problem_reports.zip.\n",
            "[nltk_data]    | Downloading package product_reviews_1 to\n",
            "[nltk_data]    |     /root/nltk_data...\n",
            "[nltk_data]    |   Unzipping corpora/product_reviews_1.zip.\n",
            "[nltk_data]    | Downloading package product_reviews_2 to\n",
            "[nltk_data]    |     /root/nltk_data...\n",
            "[nltk_data]    |   Unzipping corpora/product_reviews_2.zip.\n",
            "[nltk_data]    | Downloading package propbank to /root/nltk_data...\n",
            "[nltk_data]    | Downloading package pros_cons to /root/nltk_data...\n",
            "[nltk_data]    |   Unzipping corpora/pros_cons.zip.\n",
            "[nltk_data]    | Downloading package ptb to /root/nltk_data...\n",
            "[nltk_data]    |   Unzipping corpora/ptb.zip.\n",
            "[nltk_data]    | Downloading package punkt to /root/nltk_data...\n",
            "[nltk_data]    |   Unzipping tokenizers/punkt.zip.\n",
            "[nltk_data]    | Downloading package qc to /root/nltk_data...\n",
            "[nltk_data]    |   Unzipping corpora/qc.zip.\n",
            "[nltk_data]    | Downloading package reuters to /root/nltk_data...\n",
            "[nltk_data]    | Downloading package rslp to /root/nltk_data...\n",
            "[nltk_data]    |   Unzipping stemmers/rslp.zip.\n",
            "[nltk_data]    | Downloading package rte to /root/nltk_data...\n",
            "[nltk_data]    |   Unzipping corpora/rte.zip.\n",
            "[nltk_data]    | Downloading package sample_grammars to\n",
            "[nltk_data]    |     /root/nltk_data...\n",
            "[nltk_data]    |   Unzipping grammars/sample_grammars.zip.\n",
            "[nltk_data]    | Downloading package semcor to /root/nltk_data...\n",
            "[nltk_data]    | Downloading package senseval to /root/nltk_data...\n",
            "[nltk_data]    |   Unzipping corpora/senseval.zip.\n",
            "[nltk_data]    | Downloading package sentence_polarity to\n",
            "[nltk_data]    |     /root/nltk_data...\n",
            "[nltk_data]    |   Unzipping corpora/sentence_polarity.zip.\n",
            "[nltk_data]    | Downloading package sentiwordnet to\n",
            "[nltk_data]    |     /root/nltk_data...\n",
            "[nltk_data]    |   Unzipping corpora/sentiwordnet.zip.\n",
            "[nltk_data]    | Downloading package shakespeare to /root/nltk_data...\n",
            "[nltk_data]    |   Unzipping corpora/shakespeare.zip.\n",
            "[nltk_data]    | Downloading package sinica_treebank to\n",
            "[nltk_data]    |     /root/nltk_data...\n",
            "[nltk_data]    |   Unzipping corpora/sinica_treebank.zip.\n",
            "[nltk_data]    | Downloading package smultron to /root/nltk_data...\n",
            "[nltk_data]    |   Unzipping corpora/smultron.zip.\n",
            "[nltk_data]    | Downloading package snowball_data to\n",
            "[nltk_data]    |     /root/nltk_data...\n",
            "[nltk_data]    | Downloading package spanish_grammars to\n",
            "[nltk_data]    |     /root/nltk_data...\n",
            "[nltk_data]    |   Unzipping grammars/spanish_grammars.zip.\n",
            "[nltk_data]    | Downloading package state_union to /root/nltk_data...\n",
            "[nltk_data]    |   Unzipping corpora/state_union.zip.\n",
            "[nltk_data]    | Downloading package stopwords to /root/nltk_data...\n",
            "[nltk_data]    |   Unzipping corpora/stopwords.zip.\n",
            "[nltk_data]    | Downloading package subjectivity to\n",
            "[nltk_data]    |     /root/nltk_data...\n",
            "[nltk_data]    |   Unzipping corpora/subjectivity.zip.\n",
            "[nltk_data]    | Downloading package swadesh to /root/nltk_data...\n",
            "[nltk_data]    |   Unzipping corpora/swadesh.zip.\n",
            "[nltk_data]    | Downloading package switchboard to /root/nltk_data...\n",
            "[nltk_data]    |   Unzipping corpora/switchboard.zip.\n",
            "[nltk_data]    | Downloading package tagsets to /root/nltk_data...\n",
            "[nltk_data]    |   Unzipping help/tagsets.zip.\n",
            "[nltk_data]    | Downloading package timit to /root/nltk_data...\n",
            "[nltk_data]    |   Unzipping corpora/timit.zip.\n",
            "[nltk_data]    | Downloading package toolbox to /root/nltk_data...\n",
            "[nltk_data]    |   Unzipping corpora/toolbox.zip.\n",
            "[nltk_data]    | Downloading package treebank to /root/nltk_data...\n",
            "[nltk_data]    |   Unzipping corpora/treebank.zip.\n",
            "[nltk_data]    | Downloading package twitter_samples to\n",
            "[nltk_data]    |     /root/nltk_data...\n",
            "[nltk_data]    |   Unzipping corpora/twitter_samples.zip.\n",
            "[nltk_data]    | Downloading package udhr to /root/nltk_data...\n",
            "[nltk_data]    |   Unzipping corpora/udhr.zip.\n",
            "[nltk_data]    | Downloading package udhr2 to /root/nltk_data...\n",
            "[nltk_data]    |   Unzipping corpora/udhr2.zip.\n",
            "[nltk_data]    | Downloading package unicode_samples to\n",
            "[nltk_data]    |     /root/nltk_data...\n",
            "[nltk_data]    |   Unzipping corpora/unicode_samples.zip.\n",
            "[nltk_data]    | Downloading package universal_tagset to\n",
            "[nltk_data]    |     /root/nltk_data...\n",
            "[nltk_data]    |   Unzipping taggers/universal_tagset.zip.\n",
            "[nltk_data]    | Downloading package universal_treebanks_v20 to\n",
            "[nltk_data]    |     /root/nltk_data...\n",
            "[nltk_data]    | Downloading package vader_lexicon to\n",
            "[nltk_data]    |     /root/nltk_data...\n",
            "[nltk_data]    | Downloading package verbnet to /root/nltk_data...\n",
            "[nltk_data]    |   Unzipping corpora/verbnet.zip.\n",
            "[nltk_data]    | Downloading package verbnet3 to /root/nltk_data...\n",
            "[nltk_data]    |   Unzipping corpora/verbnet3.zip.\n",
            "[nltk_data]    | Downloading package webtext to /root/nltk_data...\n",
            "[nltk_data]    |   Unzipping corpora/webtext.zip.\n",
            "[nltk_data]    | Downloading package wmt15_eval to /root/nltk_data...\n",
            "[nltk_data]    |   Unzipping models/wmt15_eval.zip.\n",
            "[nltk_data]    | Downloading package word2vec_sample to\n",
            "[nltk_data]    |     /root/nltk_data...\n",
            "[nltk_data]    |   Unzipping models/word2vec_sample.zip.\n",
            "[nltk_data]    | Downloading package wordnet to /root/nltk_data...\n",
            "[nltk_data]    | Downloading package wordnet2021 to /root/nltk_data...\n",
            "[nltk_data]    | Downloading package wordnet31 to /root/nltk_data...\n",
            "[nltk_data]    | Downloading package wordnet_ic to /root/nltk_data...\n",
            "[nltk_data]    |   Unzipping corpora/wordnet_ic.zip.\n",
            "[nltk_data]    | Downloading package words to /root/nltk_data...\n",
            "[nltk_data]    |   Unzipping corpora/words.zip.\n",
            "[nltk_data]    | Downloading package ycoe to /root/nltk_data...\n",
            "[nltk_data]    |   Unzipping corpora/ycoe.zip.\n",
            "[nltk_data]    | \n",
            "[nltk_data]  Done downloading collection all\n"
          ]
        },
        {
          "output_type": "execute_result",
          "data": {
            "text/plain": [
              "True"
            ]
          },
          "metadata": {},
          "execution_count": 2
        }
      ]
    },
    {
      "cell_type": "code",
      "source": [
        "paragraph = \"\"\"\n",
        "Looking back on a childhood filled with events and memories, I find it rather difficult to pick one that leaves me with the fabled \"warm and fuzzy feelings.\" As the daughter of an Air Force major, I had the pleasure of traveling across America in many moving trips. I have visited the monstrous trees of the Sequoia National Forest, stood on the edge of the Grand Canyon and have jumped on the beds at Caesar's Palace in Lake Tahoe.\"\n",
        "\"The day I picked my dog up from the pound was one of the happiest days of both of our lives. I had gone to the pound just a week earlier with the idea that I would just \"look\" at a puppy. Of course, you can no more just look at those squiggling little faces so filled with hope and joy than you can stop the sun from setting in the evening. I knew within minutes of walking in the door that I would get a puppy… but it wasn't until I saw him that I knew I had found my puppy.\"\n",
        "\"Looking for houses was supposed to be a fun and exciting process. Unfortunately, none of the ones that we saw seemed to match the specifications that we had established. They were too small, too impersonal, too close to the neighbors. After days of finding nothing even close, we began to wonder: was there really a perfect house out there for us? \"\"\""
      ],
      "metadata": {
        "id": "t_QM_AyMhl3L"
      },
      "execution_count": 3,
      "outputs": []
    },
    {
      "cell_type": "code",
      "source": [
        "sentences=nltk.sent_tokenize(paragraph)"
      ],
      "metadata": {
        "id": "hvs3mq5ah4zo"
      },
      "execution_count": 5,
      "outputs": []
    },
    {
      "cell_type": "code",
      "source": [
        "sentences"
      ],
      "metadata": {
        "colab": {
          "base_uri": "https://localhost:8080/"
        },
        "id": "uzJK1E4Fh_no",
        "outputId": "cefc9bc0-9b50-4b8f-d485-2282033572fc"
      },
      "execution_count": 6,
      "outputs": [
        {
          "output_type": "execute_result",
          "data": {
            "text/plain": [
              "['\\nLooking back on a childhood filled with events and memories, I find it rather difficult to pick one that leaves me with the fabled \"warm and fuzzy feelings.\"',\n",
              " 'As the daughter of an Air Force major, I had the pleasure of traveling across America in many moving trips.',\n",
              " 'I have visited the monstrous trees of the Sequoia National Forest, stood on the edge of the Grand Canyon and have jumped on the beds at Caesar\\'s Palace in Lake Tahoe.\"',\n",
              " '\"The day I picked my dog up from the pound was one of the happiest days of both of our lives.',\n",
              " 'I had gone to the pound just a week earlier with the idea that I would just \"look\" at a puppy.',\n",
              " 'Of course, you can no more just look at those squiggling little faces so filled with hope and joy than you can stop the sun from setting in the evening.',\n",
              " 'I knew within minutes of walking in the door that I would get a puppy… but it wasn\\'t until I saw him that I knew I had found my puppy.\"',\n",
              " '\"Looking for houses was supposed to be a fun and exciting process.',\n",
              " 'Unfortunately, none of the ones that we saw seemed to match the specifications that we had established.',\n",
              " 'They were too small, too impersonal, too close to the neighbors.',\n",
              " 'After days of finding nothing even close, we began to wonder: was there really a perfect house out there for us?']"
            ]
          },
          "metadata": {},
          "execution_count": 6
        }
      ]
    },
    {
      "cell_type": "code",
      "source": [
        "words=nltk.word_tokenize(paragraph)"
      ],
      "metadata": {
        "id": "GIqF0i9OiDd6"
      },
      "execution_count": 7,
      "outputs": []
    },
    {
      "cell_type": "code",
      "source": [
        "words"
      ],
      "metadata": {
        "colab": {
          "base_uri": "https://localhost:8080/"
        },
        "id": "MpPpyyjAiJsl",
        "outputId": "b5c5bdb7-2aee-4821-d5b5-be0225dbd0c1"
      },
      "execution_count": 8,
      "outputs": [
        {
          "output_type": "execute_result",
          "data": {
            "text/plain": [
              "['Looking',\n",
              " 'back',\n",
              " 'on',\n",
              " 'a',\n",
              " 'childhood',\n",
              " 'filled',\n",
              " 'with',\n",
              " 'events',\n",
              " 'and',\n",
              " 'memories',\n",
              " ',',\n",
              " 'I',\n",
              " 'find',\n",
              " 'it',\n",
              " 'rather',\n",
              " 'difficult',\n",
              " 'to',\n",
              " 'pick',\n",
              " 'one',\n",
              " 'that',\n",
              " 'leaves',\n",
              " 'me',\n",
              " 'with',\n",
              " 'the',\n",
              " 'fabled',\n",
              " '``',\n",
              " 'warm',\n",
              " 'and',\n",
              " 'fuzzy',\n",
              " 'feelings',\n",
              " '.',\n",
              " \"''\",\n",
              " 'As',\n",
              " 'the',\n",
              " 'daughter',\n",
              " 'of',\n",
              " 'an',\n",
              " 'Air',\n",
              " 'Force',\n",
              " 'major',\n",
              " ',',\n",
              " 'I',\n",
              " 'had',\n",
              " 'the',\n",
              " 'pleasure',\n",
              " 'of',\n",
              " 'traveling',\n",
              " 'across',\n",
              " 'America',\n",
              " 'in',\n",
              " 'many',\n",
              " 'moving',\n",
              " 'trips',\n",
              " '.',\n",
              " 'I',\n",
              " 'have',\n",
              " 'visited',\n",
              " 'the',\n",
              " 'monstrous',\n",
              " 'trees',\n",
              " 'of',\n",
              " 'the',\n",
              " 'Sequoia',\n",
              " 'National',\n",
              " 'Forest',\n",
              " ',',\n",
              " 'stood',\n",
              " 'on',\n",
              " 'the',\n",
              " 'edge',\n",
              " 'of',\n",
              " 'the',\n",
              " 'Grand',\n",
              " 'Canyon',\n",
              " 'and',\n",
              " 'have',\n",
              " 'jumped',\n",
              " 'on',\n",
              " 'the',\n",
              " 'beds',\n",
              " 'at',\n",
              " 'Caesar',\n",
              " \"'s\",\n",
              " 'Palace',\n",
              " 'in',\n",
              " 'Lake',\n",
              " 'Tahoe',\n",
              " '.',\n",
              " \"''\",\n",
              " '``',\n",
              " 'The',\n",
              " 'day',\n",
              " 'I',\n",
              " 'picked',\n",
              " 'my',\n",
              " 'dog',\n",
              " 'up',\n",
              " 'from',\n",
              " 'the',\n",
              " 'pound',\n",
              " 'was',\n",
              " 'one',\n",
              " 'of',\n",
              " 'the',\n",
              " 'happiest',\n",
              " 'days',\n",
              " 'of',\n",
              " 'both',\n",
              " 'of',\n",
              " 'our',\n",
              " 'lives',\n",
              " '.',\n",
              " 'I',\n",
              " 'had',\n",
              " 'gone',\n",
              " 'to',\n",
              " 'the',\n",
              " 'pound',\n",
              " 'just',\n",
              " 'a',\n",
              " 'week',\n",
              " 'earlier',\n",
              " 'with',\n",
              " 'the',\n",
              " 'idea',\n",
              " 'that',\n",
              " 'I',\n",
              " 'would',\n",
              " 'just',\n",
              " '``',\n",
              " 'look',\n",
              " \"''\",\n",
              " 'at',\n",
              " 'a',\n",
              " 'puppy',\n",
              " '.',\n",
              " 'Of',\n",
              " 'course',\n",
              " ',',\n",
              " 'you',\n",
              " 'can',\n",
              " 'no',\n",
              " 'more',\n",
              " 'just',\n",
              " 'look',\n",
              " 'at',\n",
              " 'those',\n",
              " 'squiggling',\n",
              " 'little',\n",
              " 'faces',\n",
              " 'so',\n",
              " 'filled',\n",
              " 'with',\n",
              " 'hope',\n",
              " 'and',\n",
              " 'joy',\n",
              " 'than',\n",
              " 'you',\n",
              " 'can',\n",
              " 'stop',\n",
              " 'the',\n",
              " 'sun',\n",
              " 'from',\n",
              " 'setting',\n",
              " 'in',\n",
              " 'the',\n",
              " 'evening',\n",
              " '.',\n",
              " 'I',\n",
              " 'knew',\n",
              " 'within',\n",
              " 'minutes',\n",
              " 'of',\n",
              " 'walking',\n",
              " 'in',\n",
              " 'the',\n",
              " 'door',\n",
              " 'that',\n",
              " 'I',\n",
              " 'would',\n",
              " 'get',\n",
              " 'a',\n",
              " 'puppy…',\n",
              " 'but',\n",
              " 'it',\n",
              " 'was',\n",
              " \"n't\",\n",
              " 'until',\n",
              " 'I',\n",
              " 'saw',\n",
              " 'him',\n",
              " 'that',\n",
              " 'I',\n",
              " 'knew',\n",
              " 'I',\n",
              " 'had',\n",
              " 'found',\n",
              " 'my',\n",
              " 'puppy',\n",
              " '.',\n",
              " \"''\",\n",
              " '``',\n",
              " 'Looking',\n",
              " 'for',\n",
              " 'houses',\n",
              " 'was',\n",
              " 'supposed',\n",
              " 'to',\n",
              " 'be',\n",
              " 'a',\n",
              " 'fun',\n",
              " 'and',\n",
              " 'exciting',\n",
              " 'process',\n",
              " '.',\n",
              " 'Unfortunately',\n",
              " ',',\n",
              " 'none',\n",
              " 'of',\n",
              " 'the',\n",
              " 'ones',\n",
              " 'that',\n",
              " 'we',\n",
              " 'saw',\n",
              " 'seemed',\n",
              " 'to',\n",
              " 'match',\n",
              " 'the',\n",
              " 'specifications',\n",
              " 'that',\n",
              " 'we',\n",
              " 'had',\n",
              " 'established',\n",
              " '.',\n",
              " 'They',\n",
              " 'were',\n",
              " 'too',\n",
              " 'small',\n",
              " ',',\n",
              " 'too',\n",
              " 'impersonal',\n",
              " ',',\n",
              " 'too',\n",
              " 'close',\n",
              " 'to',\n",
              " 'the',\n",
              " 'neighbors',\n",
              " '.',\n",
              " 'After',\n",
              " 'days',\n",
              " 'of',\n",
              " 'finding',\n",
              " 'nothing',\n",
              " 'even',\n",
              " 'close',\n",
              " ',',\n",
              " 'we',\n",
              " 'began',\n",
              " 'to',\n",
              " 'wonder',\n",
              " ':',\n",
              " 'was',\n",
              " 'there',\n",
              " 'really',\n",
              " 'a',\n",
              " 'perfect',\n",
              " 'house',\n",
              " 'out',\n",
              " 'there',\n",
              " 'for',\n",
              " 'us',\n",
              " '?']"
            ]
          },
          "metadata": {},
          "execution_count": 8
        }
      ]
    },
    {
      "cell_type": "markdown",
      "source": [
        "# Stemming"
      ],
      "metadata": {
        "id": "JCWQBl1miN9V"
      }
    },
    {
      "cell_type": "code",
      "source": [
        "sentences = nltk.sent_tokenize(paragraph)\n"
      ],
      "metadata": {
        "id": "XXNTU4rhiKH0"
      },
      "execution_count": 9,
      "outputs": []
    },
    {
      "cell_type": "code",
      "source": [
        "from nltk.stem import PorterStemmer,SnowballStemmer\n",
        "from nltk.corpus import stopwords\n",
        "stemmer1=PorterStemmer()\n",
        "stemmer2=SnowballStemmer(language='english')"
      ],
      "metadata": {
        "id": "sI-F-IqAiZEI"
      },
      "execution_count": 11,
      "outputs": []
    },
    {
      "cell_type": "code",
      "source": [
        ""
      ],
      "metadata": {
        "id": "8icatRSFjVfg"
      },
      "execution_count": 12,
      "outputs": []
    },
    {
      "cell_type": "code",
      "source": [
        "for i in range(len(sentences)):\n",
        "  words=nltk.word_tokenize(sentences[i])\n",
        "  words=[stemmer1.stem(word) for word in words if word not in set(stopwords.words('english'))]\n",
        "  sentences[i] = ' '.join(words)"
      ],
      "metadata": {
        "id": "vea362jaizYL"
      },
      "execution_count": 13,
      "outputs": []
    },
    {
      "cell_type": "code",
      "source": [
        "sentences"
      ],
      "metadata": {
        "colab": {
          "base_uri": "https://localhost:8080/"
        },
        "id": "wzz1yd-0jiDn",
        "outputId": "51f14c22-710e-4f3a-f7bd-9634a7b1de55"
      },
      "execution_count": 14,
      "outputs": [
        {
          "output_type": "execute_result",
          "data": {
            "text/plain": [
              "[\"look back childhood fill event memori , i find rather difficult pick one leav fabl `` warm fuzzi feel . ''\",\n",
              " 'as daughter air forc major , i pleasur travel across america mani move trip .',\n",
              " \"i visit monstrou tree sequoia nation forest , stood edg grand canyon jump bed caesar 's palac lake taho . ''\",\n",
              " '`` the day i pick dog pound one happiest day live .',\n",
              " \"i gone pound week earlier idea i would `` look '' puppi .\",\n",
              " 'of cours , look squiggl littl face fill hope joy stop sun set even .',\n",
              " \"i knew within minut walk door i would get puppy… n't i saw i knew i found puppi . ''\",\n",
              " '`` look hous suppos fun excit process .',\n",
              " 'unfortun , none one saw seem match specif establish .',\n",
              " 'they small , imperson , close neighbor .',\n",
              " 'after day find noth even close , began wonder : realli perfect hous us ?']"
            ]
          },
          "metadata": {},
          "execution_count": 14
        }
      ]
    },
    {
      "cell_type": "code",
      "source": [
        "for i in range(len(sentences)):\n",
        "  words=nltk.word_tokenize(sentences[i])\n",
        "  words=[stemmer2.stem(word) for word in words if word not in set(stopwords.words('english'))]\n",
        "  sentences[i] = ' '.join(words)"
      ],
      "metadata": {
        "id": "vAP8MhP-jju-"
      },
      "execution_count": 15,
      "outputs": []
    },
    {
      "cell_type": "code",
      "source": [
        "sentences"
      ],
      "metadata": {
        "colab": {
          "base_uri": "https://localhost:8080/"
        },
        "id": "N3vSa06hjqst",
        "outputId": "fc26e510-ac1f-483c-f494-5c5696629ea8"
      },
      "execution_count": 16,
      "outputs": [
        {
          "output_type": "execute_result",
          "data": {
            "text/plain": [
              "['look back childhood fill event memori , find rather difficult pick one leav fabl `` warm fuzzi feel . ``',\n",
              " 'daughter air forc major , pleasur travel across america mani move trip .',\n",
              " \"visit monstrou tree sequoia nation forest , stood edg grand canyon jump bed caesar 's palac lake taho . ``\",\n",
              " '`` day pick dog pound one happiest day live .',\n",
              " 'gone pound week earlier idea would `` look `` puppi .',\n",
              " 'cour , look squiggl littl face fill hope joy stop sun set even .',\n",
              " \"knew within minut walk door would get puppy… n't saw knew found puppi . ``\",\n",
              " '`` look hous suppo fun excit process .',\n",
              " 'unfortun , none one saw seem match specif establish .',\n",
              " 'small , imperson , close neighbor .',\n",
              " 'day find noth even close , began wonder : realli perfect hous us ?']"
            ]
          },
          "metadata": {},
          "execution_count": 16
        }
      ]
    },
    {
      "cell_type": "markdown",
      "source": [
        "# Lemmetization"
      ],
      "metadata": {
        "id": "OU9PgQZVjvCb"
      }
    },
    {
      "cell_type": "code",
      "source": [
        "from nltk.stem import WordNetLemmatizer\n",
        "from nltk.corpus import stopwords"
      ],
      "metadata": {
        "id": "1KnESbONjr6a"
      },
      "execution_count": 17,
      "outputs": []
    },
    {
      "cell_type": "code",
      "source": [
        "sentences = nltk.sent_tokenize(paragraph)\n",
        "lemmatizer = WordNetLemmatizer()\n",
        "\n",
        "# Lemmatization\n",
        "for i in range(len(sentences)):\n",
        "    words = nltk.word_tokenize(sentences[i])\n",
        "    words = [lemmatizer.lemmatize(word) for word in words if word not in set(stopwords.words('english'))]\n",
        "    sentences[i] = ' '.join(words)      "
      ],
      "metadata": {
        "id": "F7eBCwjxkM8P"
      },
      "execution_count": 18,
      "outputs": []
    },
    {
      "cell_type": "code",
      "source": [
        "sentences"
      ],
      "metadata": {
        "colab": {
          "base_uri": "https://localhost:8080/"
        },
        "id": "Ph5WwL2DkPjN",
        "outputId": "c8439782-ad46-4d8c-f92c-9ec646a068bd"
      },
      "execution_count": 19,
      "outputs": [
        {
          "output_type": "execute_result",
          "data": {
            "text/plain": [
              "[\"Looking back childhood filled event memory , I find rather difficult pick one leaf fabled `` warm fuzzy feeling . ''\",\n",
              " 'As daughter Air Force major , I pleasure traveling across America many moving trip .',\n",
              " \"I visited monstrous tree Sequoia National Forest , stood edge Grand Canyon jumped bed Caesar 's Palace Lake Tahoe . ''\",\n",
              " '`` The day I picked dog pound one happiest day life .',\n",
              " \"I gone pound week earlier idea I would `` look '' puppy .\",\n",
              " 'Of course , look squiggling little face filled hope joy stop sun setting evening .',\n",
              " \"I knew within minute walking door I would get puppy… n't I saw I knew I found puppy . ''\",\n",
              " '`` Looking house supposed fun exciting process .',\n",
              " 'Unfortunately , none one saw seemed match specification established .',\n",
              " 'They small , impersonal , close neighbor .',\n",
              " 'After day finding nothing even close , began wonder : really perfect house u ?']"
            ]
          },
          "metadata": {},
          "execution_count": 19
        }
      ]
    },
    {
      "cell_type": "markdown",
      "source": [
        "# POS Tagging"
      ],
      "metadata": {
        "id": "cTqt__MXlRXr"
      }
    },
    {
      "cell_type": "code",
      "source": [
        "sentence = \"today we completed basics of nlp, need to revise it\"\n",
        "token = nltk.word_tokenize(sentence)\n",
        "token"
      ],
      "metadata": {
        "colab": {
          "base_uri": "https://localhost:8080/"
        },
        "id": "IfiM5SSekU1F",
        "outputId": "a4921f48-2b64-415e-d19b-0b565ee26fef"
      },
      "execution_count": 30,
      "outputs": [
        {
          "output_type": "execute_result",
          "data": {
            "text/plain": [
              "['today',\n",
              " 'we',\n",
              " 'completed',\n",
              " 'basics',\n",
              " 'of',\n",
              " 'nlp',\n",
              " ',',\n",
              " 'need',\n",
              " 'to',\n",
              " 'revise',\n",
              " 'it']"
            ]
          },
          "metadata": {},
          "execution_count": 30
        }
      ]
    },
    {
      "cell_type": "code",
      "source": [
        "nltk.pos_tag(token)"
      ],
      "metadata": {
        "colab": {
          "base_uri": "https://localhost:8080/"
        },
        "id": "Ey693D0PlWAG",
        "outputId": "600a86df-6524-41df-af1f-9a561214291f"
      },
      "execution_count": 31,
      "outputs": [
        {
          "output_type": "execute_result",
          "data": {
            "text/plain": [
              "[('today', 'NN'),\n",
              " ('we', 'PRP'),\n",
              " ('completed', 'VBD'),\n",
              " ('basics', 'NNS'),\n",
              " ('of', 'IN'),\n",
              " ('nlp', 'NN'),\n",
              " (',', ','),\n",
              " ('need', 'VBP'),\n",
              " ('to', 'TO'),\n",
              " ('revise', 'VB'),\n",
              " ('it', 'PRP')]"
            ]
          },
          "metadata": {},
          "execution_count": 31
        }
      ]
    },
    {
      "cell_type": "code",
      "source": [
        "# We can get more details about any POS tag using help funciton of NLTK as follows.\n",
        "nltk.help.upenn_tagset(\"PRP$\")"
      ],
      "metadata": {
        "colab": {
          "base_uri": "https://localhost:8080/"
        },
        "id": "2SR_PBDylX6m",
        "outputId": "a880171b-d6fe-48d9-e192-730549b70807"
      },
      "execution_count": 26,
      "outputs": [
        {
          "output_type": "stream",
          "name": "stdout",
          "text": [
            "PRP$: pronoun, possessive\n",
            "    her his mine my our ours their thy your\n"
          ]
        }
      ]
    },
    {
      "cell_type": "code",
      "source": [
        "# We can get more details about any POS tag using help funciton of NLTK as follows.\n",
        "nltk.help.upenn_tagset(\"JJ\")"
      ],
      "metadata": {
        "colab": {
          "base_uri": "https://localhost:8080/"
        },
        "id": "i5RGldqClbcM",
        "outputId": "f6b3f50b-c68d-4df6-ed23-e2eb5f330d6f"
      },
      "execution_count": 29,
      "outputs": [
        {
          "output_type": "stream",
          "name": "stdout",
          "text": [
            "JJ: adjective or numeral, ordinal\n",
            "    third ill-mannered pre-war regrettable oiled calamitous first separable\n",
            "    ectoplasmic battery-powered participatory fourth still-to-be-named\n",
            "    multilingual multi-disciplinary ...\n"
          ]
        }
      ]
    },
    {
      "cell_type": "code",
      "source": [
        "sentence = \"A quick brown fox runs over a greedy dog\"\n",
        "token = nltk.word_tokenize(sentence)\n",
        "token"
      ],
      "metadata": {
        "colab": {
          "base_uri": "https://localhost:8080/"
        },
        "id": "x-XguTztlzZA",
        "outputId": "ee2a993f-ec5b-4292-f8ad-624b75504f8f"
      },
      "execution_count": 32,
      "outputs": [
        {
          "output_type": "execute_result",
          "data": {
            "text/plain": [
              "['A', 'quick', 'brown', 'fox', 'runs', 'over', 'a', 'greedy', 'dog']"
            ]
          },
          "metadata": {},
          "execution_count": 32
        }
      ]
    },
    {
      "cell_type": "code",
      "source": [
        "nltk.pos_tag(token)"
      ],
      "metadata": {
        "colab": {
          "base_uri": "https://localhost:8080/"
        },
        "id": "5PRkD60JmJww",
        "outputId": "1aebca5c-d527-4cbd-921e-51ab15bfb989"
      },
      "execution_count": 33,
      "outputs": [
        {
          "output_type": "execute_result",
          "data": {
            "text/plain": [
              "[('A', 'DT'),\n",
              " ('quick', 'JJ'),\n",
              " ('brown', 'NN'),\n",
              " ('fox', 'NN'),\n",
              " ('runs', 'VBZ'),\n",
              " ('over', 'IN'),\n",
              " ('a', 'DT'),\n",
              " ('greedy', 'NN'),\n",
              " ('dog', 'NN')]"
            ]
          },
          "metadata": {},
          "execution_count": 33
        }
      ]
    },
    {
      "cell_type": "code",
      "source": [
        "# We can get more details about any POS tag using help funciton of NLTK as follows.\n",
        "nltk.help.upenn_tagset(\"DT\")"
      ],
      "metadata": {
        "colab": {
          "base_uri": "https://localhost:8080/"
        },
        "id": "Tw8YEsEKmLVm",
        "outputId": "7f6cef1f-58d6-457d-9404-473db8e3bec4"
      },
      "execution_count": 34,
      "outputs": [
        {
          "output_type": "stream",
          "name": "stdout",
          "text": [
            "DT: determiner\n",
            "    all an another any both del each either every half la many much nary\n",
            "    neither no some such that the them these this those\n"
          ]
        }
      ]
    },
    {
      "cell_type": "code",
      "source": [
        ""
      ],
      "metadata": {
        "id": "y2E4r9rimPTa"
      },
      "execution_count": null,
      "outputs": []
    }
  ]
}