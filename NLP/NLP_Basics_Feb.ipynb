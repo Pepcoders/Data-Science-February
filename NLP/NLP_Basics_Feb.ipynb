{
  "nbformat": 4,
  "nbformat_minor": 0,
  "metadata": {
    "colab": {
      "name": "NLP_Basics_Feb.ipynb",
      "provenance": [],
      "authorship_tag": "ABX9TyO3wBFCjfzLyo+luN/CQXjj",
      "include_colab_link": true
    },
    "kernelspec": {
      "name": "python3",
      "display_name": "Python 3"
    },
    "language_info": {
      "name": "python"
    }
  },
  "cells": [
    {
      "cell_type": "markdown",
      "metadata": {
        "id": "view-in-github",
        "colab_type": "text"
      },
      "source": [
        "<a href=\"https://colab.research.google.com/github/Pepcoders/Data-Science-February/blob/main/NLP/NLP_Basics_Feb.ipynb\" target=\"_parent\"><img src=\"https://colab.research.google.com/assets/colab-badge.svg\" alt=\"Open In Colab\"/></a>"
      ]
    },
    {
      "cell_type": "code",
      "execution_count": 1,
      "metadata": {
        "id": "mwleM2xVhSVj"
      },
      "outputs": [],
      "source": [
        "import nltk\n"
      ]
    },
    {
      "cell_type": "code",
      "source": [
        "nltk.download('all')"
      ],
      "metadata": {
        "colab": {
          "base_uri": "https://localhost:8080/"
        },
        "id": "iGTU-V2LhgkJ",
        "outputId": "ab4af76c-8287-4fce-fd5f-90ddefca7380"
      },
      "execution_count": 2,
      "outputs": [
        {
          "output_type": "stream",
          "name": "stderr",
          "text": [
            "[nltk_data] Downloading collection 'all'\n",
            "[nltk_data]    | \n",
            "[nltk_data]    | Downloading package abc to /root/nltk_data...\n",
            "[nltk_data]    |   Unzipping corpora/abc.zip.\n",
            "[nltk_data]    | Downloading package alpino to /root/nltk_data...\n",
            "[nltk_data]    |   Unzipping corpora/alpino.zip.\n",
            "[nltk_data]    | Downloading package averaged_perceptron_tagger to\n",
            "[nltk_data]    |     /root/nltk_data...\n",
            "[nltk_data]    |   Unzipping taggers/averaged_perceptron_tagger.zip.\n",
            "[nltk_data]    | Downloading package averaged_perceptron_tagger_ru to\n",
            "[nltk_data]    |     /root/nltk_data...\n",
            "[nltk_data]    |   Unzipping\n",
            "[nltk_data]    |       taggers/averaged_perceptron_tagger_ru.zip.\n",
            "[nltk_data]    | Downloading package basque_grammars to\n",
            "[nltk_data]    |     /root/nltk_data...\n",
            "[nltk_data]    |   Unzipping grammars/basque_grammars.zip.\n",
            "[nltk_data]    | Downloading package biocreative_ppi to\n",
            "[nltk_data]    |     /root/nltk_data...\n",
            "[nltk_data]    |   Unzipping corpora/biocreative_ppi.zip.\n",
            "[nltk_data]    | Downloading package bllip_wsj_no_aux to\n",
            "[nltk_data]    |     /root/nltk_data...\n",
            "[nltk_data]    |   Unzipping models/bllip_wsj_no_aux.zip.\n",
            "[nltk_data]    | Downloading package book_grammars to\n",
            "[nltk_data]    |     /root/nltk_data...\n",
            "[nltk_data]    |   Unzipping grammars/book_grammars.zip.\n",
            "[nltk_data]    | Downloading package brown to /root/nltk_data...\n",
            "[nltk_data]    |   Unzipping corpora/brown.zip.\n",
            "[nltk_data]    | Downloading package brown_tei to /root/nltk_data...\n",
            "[nltk_data]    |   Unzipping corpora/brown_tei.zip.\n",
            "[nltk_data]    | Downloading package cess_cat to /root/nltk_data...\n",
            "[nltk_data]    |   Unzipping corpora/cess_cat.zip.\n",
            "[nltk_data]    | Downloading package cess_esp to /root/nltk_data...\n",
            "[nltk_data]    |   Unzipping corpora/cess_esp.zip.\n",
            "[nltk_data]    | Downloading package chat80 to /root/nltk_data...\n",
            "[nltk_data]    |   Unzipping corpora/chat80.zip.\n",
            "[nltk_data]    | Downloading package city_database to\n",
            "[nltk_data]    |     /root/nltk_data...\n",
            "[nltk_data]    |   Unzipping corpora/city_database.zip.\n",
            "[nltk_data]    | Downloading package cmudict to /root/nltk_data...\n",
            "[nltk_data]    |   Unzipping corpora/cmudict.zip.\n",
            "[nltk_data]    | Downloading package comparative_sentences to\n",
            "[nltk_data]    |     /root/nltk_data...\n",
            "[nltk_data]    |   Unzipping corpora/comparative_sentences.zip.\n",
            "[nltk_data]    | Downloading package comtrans to /root/nltk_data...\n",
            "[nltk_data]    | Downloading package conll2000 to /root/nltk_data...\n",
            "[nltk_data]    |   Unzipping corpora/conll2000.zip.\n",
            "[nltk_data]    | Downloading package conll2002 to /root/nltk_data...\n",
            "[nltk_data]    |   Unzipping corpora/conll2002.zip.\n",
            "[nltk_data]    | Downloading package conll2007 to /root/nltk_data...\n",
            "[nltk_data]    | Downloading package crubadan to /root/nltk_data...\n",
            "[nltk_data]    |   Unzipping corpora/crubadan.zip.\n",
            "[nltk_data]    | Downloading package dependency_treebank to\n",
            "[nltk_data]    |     /root/nltk_data...\n",
            "[nltk_data]    |   Unzipping corpora/dependency_treebank.zip.\n",
            "[nltk_data]    | Downloading package dolch to /root/nltk_data...\n",
            "[nltk_data]    |   Unzipping corpora/dolch.zip.\n",
            "[nltk_data]    | Downloading package europarl_raw to\n",
            "[nltk_data]    |     /root/nltk_data...\n",
            "[nltk_data]    |   Unzipping corpora/europarl_raw.zip.\n",
            "[nltk_data]    | Downloading package extended_omw to\n",
            "[nltk_data]    |     /root/nltk_data...\n",
            "[nltk_data]    | Downloading package floresta to /root/nltk_data...\n",
            "[nltk_data]    |   Unzipping corpora/floresta.zip.\n",
            "[nltk_data]    | Downloading package framenet_v15 to\n",
            "[nltk_data]    |     /root/nltk_data...\n",
            "[nltk_data]    |   Unzipping corpora/framenet_v15.zip.\n",
            "[nltk_data]    | Downloading package framenet_v17 to\n",
            "[nltk_data]    |     /root/nltk_data...\n",
            "[nltk_data]    |   Unzipping corpora/framenet_v17.zip.\n",
            "[nltk_data]    | Downloading package gazetteers to /root/nltk_data...\n",
            "[nltk_data]    |   Unzipping corpora/gazetteers.zip.\n",
            "[nltk_data]    | Downloading package genesis to /root/nltk_data...\n",
            "[nltk_data]    |   Unzipping corpora/genesis.zip.\n",
            "[nltk_data]    | Downloading package gutenberg to /root/nltk_data...\n",
            "[nltk_data]    |   Unzipping corpora/gutenberg.zip.\n",
            "[nltk_data]    | Downloading package ieer to /root/nltk_data...\n",
            "[nltk_data]    |   Unzipping corpora/ieer.zip.\n",
            "[nltk_data]    | Downloading package inaugural to /root/nltk_data...\n",
            "[nltk_data]    |   Unzipping corpora/inaugural.zip.\n",
            "[nltk_data]    | Downloading package indian to /root/nltk_data...\n",
            "[nltk_data]    |   Unzipping corpora/indian.zip.\n",
            "[nltk_data]    | Downloading package jeita to /root/nltk_data...\n",
            "[nltk_data]    | Downloading package kimmo to /root/nltk_data...\n",
            "[nltk_data]    |   Unzipping corpora/kimmo.zip.\n",
            "[nltk_data]    | Downloading package knbc to /root/nltk_data...\n",
            "[nltk_data]    | Downloading package large_grammars to\n",
            "[nltk_data]    |     /root/nltk_data...\n",
            "[nltk_data]    |   Unzipping grammars/large_grammars.zip.\n",
            "[nltk_data]    | Downloading package lin_thesaurus to\n",
            "[nltk_data]    |     /root/nltk_data...\n",
            "[nltk_data]    |   Unzipping corpora/lin_thesaurus.zip.\n",
            "[nltk_data]    | Downloading package mac_morpho to /root/nltk_data...\n",
            "[nltk_data]    |   Unzipping corpora/mac_morpho.zip.\n",
            "[nltk_data]    | Downloading package machado to /root/nltk_data...\n",
            "[nltk_data]    | Downloading package masc_tagged to /root/nltk_data...\n",
            "[nltk_data]    | Downloading package maxent_ne_chunker to\n",
            "[nltk_data]    |     /root/nltk_data...\n",
            "[nltk_data]    |   Unzipping chunkers/maxent_ne_chunker.zip.\n",
            "[nltk_data]    | Downloading package maxent_treebank_pos_tagger to\n",
            "[nltk_data]    |     /root/nltk_data...\n",
            "[nltk_data]    |   Unzipping taggers/maxent_treebank_pos_tagger.zip.\n",
            "[nltk_data]    | Downloading package moses_sample to\n",
            "[nltk_data]    |     /root/nltk_data...\n",
            "[nltk_data]    |   Unzipping models/moses_sample.zip.\n",
            "[nltk_data]    | Downloading package movie_reviews to\n",
            "[nltk_data]    |     /root/nltk_data...\n",
            "[nltk_data]    |   Unzipping corpora/movie_reviews.zip.\n",
            "[nltk_data]    | Downloading package mte_teip5 to /root/nltk_data...\n",
            "[nltk_data]    |   Unzipping corpora/mte_teip5.zip.\n",
            "[nltk_data]    | Downloading package mwa_ppdb to /root/nltk_data...\n",
            "[nltk_data]    |   Unzipping misc/mwa_ppdb.zip.\n",
            "[nltk_data]    | Downloading package names to /root/nltk_data...\n",
            "[nltk_data]    |   Unzipping corpora/names.zip.\n",
            "[nltk_data]    | Downloading package nombank.1.0 to /root/nltk_data...\n",
            "[nltk_data]    | Downloading package nonbreaking_prefixes to\n",
            "[nltk_data]    |     /root/nltk_data...\n",
            "[nltk_data]    |   Unzipping corpora/nonbreaking_prefixes.zip.\n",
            "[nltk_data]    | Downloading package nps_chat to /root/nltk_data...\n",
            "[nltk_data]    |   Unzipping corpora/nps_chat.zip.\n",
            "[nltk_data]    | Downloading package omw to /root/nltk_data...\n",
            "[nltk_data]    | Downloading package omw-1.4 to /root/nltk_data...\n",
            "[nltk_data]    | Downloading package opinion_lexicon to\n",
            "[nltk_data]    |     /root/nltk_data...\n",
            "[nltk_data]    |   Unzipping corpora/opinion_lexicon.zip.\n",
            "[nltk_data]    | Downloading package panlex_swadesh to\n",
            "[nltk_data]    |     /root/nltk_data...\n",
            "[nltk_data]    | Downloading package paradigms to /root/nltk_data...\n",
            "[nltk_data]    |   Unzipping corpora/paradigms.zip.\n",
            "[nltk_data]    | Downloading package pe08 to /root/nltk_data...\n",
            "[nltk_data]    |   Unzipping corpora/pe08.zip.\n",
            "[nltk_data]    | Downloading package perluniprops to\n",
            "[nltk_data]    |     /root/nltk_data...\n",
            "[nltk_data]    |   Unzipping misc/perluniprops.zip.\n",
            "[nltk_data]    | Downloading package pil to /root/nltk_data...\n",
            "[nltk_data]    |   Unzipping corpora/pil.zip.\n",
            "[nltk_data]    | Downloading package pl196x to /root/nltk_data...\n",
            "[nltk_data]    |   Unzipping corpora/pl196x.zip.\n",
            "[nltk_data]    | Downloading package porter_test to /root/nltk_data...\n",
            "[nltk_data]    |   Unzipping stemmers/porter_test.zip.\n",
            "[nltk_data]    | Downloading package ppattach to /root/nltk_data...\n",
            "[nltk_data]    |   Unzipping corpora/ppattach.zip.\n",
            "[nltk_data]    | Downloading package problem_reports to\n",
            "[nltk_data]    |     /root/nltk_data...\n",
            "[nltk_data]    |   Unzipping corpora/problem_reports.zip.\n",
            "[nltk_data]    | Downloading package product_reviews_1 to\n",
            "[nltk_data]    |     /root/nltk_data...\n",
            "[nltk_data]    |   Unzipping corpora/product_reviews_1.zip.\n",
            "[nltk_data]    | Downloading package product_reviews_2 to\n",
            "[nltk_data]    |     /root/nltk_data...\n",
            "[nltk_data]    |   Unzipping corpora/product_reviews_2.zip.\n",
            "[nltk_data]    | Downloading package propbank to /root/nltk_data...\n",
            "[nltk_data]    | Downloading package pros_cons to /root/nltk_data...\n",
            "[nltk_data]    |   Unzipping corpora/pros_cons.zip.\n",
            "[nltk_data]    | Downloading package ptb to /root/nltk_data...\n",
            "[nltk_data]    |   Unzipping corpora/ptb.zip.\n",
            "[nltk_data]    | Downloading package punkt to /root/nltk_data...\n",
            "[nltk_data]    |   Unzipping tokenizers/punkt.zip.\n",
            "[nltk_data]    | Downloading package qc to /root/nltk_data...\n",
            "[nltk_data]    |   Unzipping corpora/qc.zip.\n",
            "[nltk_data]    | Downloading package reuters to /root/nltk_data...\n",
            "[nltk_data]    | Downloading package rslp to /root/nltk_data...\n",
            "[nltk_data]    |   Unzipping stemmers/rslp.zip.\n",
            "[nltk_data]    | Downloading package rte to /root/nltk_data...\n",
            "[nltk_data]    |   Unzipping corpora/rte.zip.\n",
            "[nltk_data]    | Downloading package sample_grammars to\n",
            "[nltk_data]    |     /root/nltk_data...\n",
            "[nltk_data]    |   Unzipping grammars/sample_grammars.zip.\n",
            "[nltk_data]    | Downloading package semcor to /root/nltk_data...\n",
            "[nltk_data]    | Downloading package senseval to /root/nltk_data...\n",
            "[nltk_data]    |   Unzipping corpora/senseval.zip.\n",
            "[nltk_data]    | Downloading package sentence_polarity to\n",
            "[nltk_data]    |     /root/nltk_data...\n",
            "[nltk_data]    |   Unzipping corpora/sentence_polarity.zip.\n",
            "[nltk_data]    | Downloading package sentiwordnet to\n",
            "[nltk_data]    |     /root/nltk_data...\n",
            "[nltk_data]    |   Unzipping corpora/sentiwordnet.zip.\n",
            "[nltk_data]    | Downloading package shakespeare to /root/nltk_data...\n",
            "[nltk_data]    |   Unzipping corpora/shakespeare.zip.\n",
            "[nltk_data]    | Downloading package sinica_treebank to\n",
            "[nltk_data]    |     /root/nltk_data...\n",
            "[nltk_data]    |   Unzipping corpora/sinica_treebank.zip.\n",
            "[nltk_data]    | Downloading package smultron to /root/nltk_data...\n",
            "[nltk_data]    |   Unzipping corpora/smultron.zip.\n",
            "[nltk_data]    | Downloading package snowball_data to\n",
            "[nltk_data]    |     /root/nltk_data...\n",
            "[nltk_data]    | Downloading package spanish_grammars to\n",
            "[nltk_data]    |     /root/nltk_data...\n",
            "[nltk_data]    |   Unzipping grammars/spanish_grammars.zip.\n",
            "[nltk_data]    | Downloading package state_union to /root/nltk_data...\n",
            "[nltk_data]    |   Unzipping corpora/state_union.zip.\n",
            "[nltk_data]    | Downloading package stopwords to /root/nltk_data...\n",
            "[nltk_data]    |   Unzipping corpora/stopwords.zip.\n",
            "[nltk_data]    | Downloading package subjectivity to\n",
            "[nltk_data]    |     /root/nltk_data...\n",
            "[nltk_data]    |   Unzipping corpora/subjectivity.zip.\n",
            "[nltk_data]    | Downloading package swadesh to /root/nltk_data...\n",
            "[nltk_data]    |   Unzipping corpora/swadesh.zip.\n",
            "[nltk_data]    | Downloading package switchboard to /root/nltk_data...\n",
            "[nltk_data]    |   Unzipping corpora/switchboard.zip.\n",
            "[nltk_data]    | Downloading package tagsets to /root/nltk_data...\n",
            "[nltk_data]    |   Unzipping help/tagsets.zip.\n",
            "[nltk_data]    | Downloading package timit to /root/nltk_data...\n",
            "[nltk_data]    |   Unzipping corpora/timit.zip.\n",
            "[nltk_data]    | Downloading package toolbox to /root/nltk_data...\n",
            "[nltk_data]    |   Unzipping corpora/toolbox.zip.\n",
            "[nltk_data]    | Downloading package treebank to /root/nltk_data...\n",
            "[nltk_data]    |   Unzipping corpora/treebank.zip.\n",
            "[nltk_data]    | Downloading package twitter_samples to\n",
            "[nltk_data]    |     /root/nltk_data...\n",
            "[nltk_data]    |   Unzipping corpora/twitter_samples.zip.\n",
            "[nltk_data]    | Downloading package udhr to /root/nltk_data...\n",
            "[nltk_data]    |   Unzipping corpora/udhr.zip.\n",
            "[nltk_data]    | Downloading package udhr2 to /root/nltk_data...\n",
            "[nltk_data]    |   Unzipping corpora/udhr2.zip.\n",
            "[nltk_data]    | Downloading package unicode_samples to\n",
            "[nltk_data]    |     /root/nltk_data...\n",
            "[nltk_data]    |   Unzipping corpora/unicode_samples.zip.\n",
            "[nltk_data]    | Downloading package universal_tagset to\n",
            "[nltk_data]    |     /root/nltk_data...\n",
            "[nltk_data]    |   Unzipping taggers/universal_tagset.zip.\n",
            "[nltk_data]    | Downloading package universal_treebanks_v20 to\n",
            "[nltk_data]    |     /root/nltk_data...\n",
            "[nltk_data]    | Downloading package vader_lexicon to\n",
            "[nltk_data]    |     /root/nltk_data...\n",
            "[nltk_data]    | Downloading package verbnet to /root/nltk_data...\n",
            "[nltk_data]    |   Unzipping corpora/verbnet.zip.\n",
            "[nltk_data]    | Downloading package verbnet3 to /root/nltk_data...\n",
            "[nltk_data]    |   Unzipping corpora/verbnet3.zip.\n",
            "[nltk_data]    | Downloading package webtext to /root/nltk_data...\n",
            "[nltk_data]    |   Unzipping corpora/webtext.zip.\n",
            "[nltk_data]    | Downloading package wmt15_eval to /root/nltk_data...\n",
            "[nltk_data]    |   Unzipping models/wmt15_eval.zip.\n",
            "[nltk_data]    | Downloading package word2vec_sample to\n",
            "[nltk_data]    |     /root/nltk_data...\n",
            "[nltk_data]    |   Unzipping models/word2vec_sample.zip.\n",
            "[nltk_data]    | Downloading package wordnet to /root/nltk_data...\n",
            "[nltk_data]    | Downloading package wordnet2021 to /root/nltk_data...\n",
            "[nltk_data]    | Downloading package wordnet31 to /root/nltk_data...\n",
            "[nltk_data]    | Downloading package wordnet_ic to /root/nltk_data...\n",
            "[nltk_data]    |   Unzipping corpora/wordnet_ic.zip.\n",
            "[nltk_data]    | Downloading package words to /root/nltk_data...\n",
            "[nltk_data]    |   Unzipping corpora/words.zip.\n",
            "[nltk_data]    | Downloading package ycoe to /root/nltk_data...\n",
            "[nltk_data]    |   Unzipping corpora/ycoe.zip.\n",
            "[nltk_data]    | \n",
            "[nltk_data]  Done downloading collection all\n"
          ]
        },
        {
          "output_type": "execute_result",
          "data": {
            "text/plain": [
              "True"
            ]
          },
          "metadata": {},
          "execution_count": 2
        }
      ]
    },
    {
      "cell_type": "code",
      "source": [
        "paragraph = \"\"\"\n",
        "Looking back on a childhood filled with events and memories, I find it rather difficult to pick one that leaves me with the fabled \"warm and fuzzy feelings.\" As the daughter of an Air Force major, I had the pleasure of traveling across America in many moving trips. I have visited the monstrous trees of the Sequoia National Forest, stood on the edge of the Grand Canyon and have jumped on the beds at Caesar's Palace in Lake Tahoe.\"\n",
        "\"The day I picked my dog up from the pound was one of the happiest days of both of our lives. I had gone to the pound just a week earlier with the idea that I would just \"look\" at a puppy. Of course, you can no more just look at those squiggling little faces so filled with hope and joy than you can stop the sun from setting in the evening. I knew within minutes of walking in the door that I would get a puppy… but it wasn't until I saw him that I knew I had found my puppy.\"\n",
        "\"Looking for houses was supposed to be a fun and exciting process. Unfortunately, none of the ones that we saw seemed to match the specifications that we had established. They were too small, too impersonal, too close to the neighbors. After days of finding nothing even close, we began to wonder: was there really a perfect house out there for us? \"\"\""
      ],
      "metadata": {
        "id": "t_QM_AyMhl3L"
      },
      "execution_count": 3,
      "outputs": []
    },
    {
      "cell_type": "code",
      "source": [
        "sentences=nltk.sent_tokenize(paragraph)"
      ],
      "metadata": {
        "id": "hvs3mq5ah4zo"
      },
      "execution_count": 4,
      "outputs": []
    },
    {
      "cell_type": "code",
      "source": [
        "sentences"
      ],
      "metadata": {
        "colab": {
          "base_uri": "https://localhost:8080/"
        },
        "id": "uzJK1E4Fh_no",
        "outputId": "9907de57-49fd-436e-cdfd-71676dcbf454"
      },
      "execution_count": 5,
      "outputs": [
        {
          "output_type": "execute_result",
          "data": {
            "text/plain": [
              "['\\nLooking back on a childhood filled with events and memories, I find it rather difficult to pick one that leaves me with the fabled \"warm and fuzzy feelings.\"',\n",
              " 'As the daughter of an Air Force major, I had the pleasure of traveling across America in many moving trips.',\n",
              " 'I have visited the monstrous trees of the Sequoia National Forest, stood on the edge of the Grand Canyon and have jumped on the beds at Caesar\\'s Palace in Lake Tahoe.\"',\n",
              " '\"The day I picked my dog up from the pound was one of the happiest days of both of our lives.',\n",
              " 'I had gone to the pound just a week earlier with the idea that I would just \"look\" at a puppy.',\n",
              " 'Of course, you can no more just look at those squiggling little faces so filled with hope and joy than you can stop the sun from setting in the evening.',\n",
              " 'I knew within minutes of walking in the door that I would get a puppy… but it wasn\\'t until I saw him that I knew I had found my puppy.\"',\n",
              " '\"Looking for houses was supposed to be a fun and exciting process.',\n",
              " 'Unfortunately, none of the ones that we saw seemed to match the specifications that we had established.',\n",
              " 'They were too small, too impersonal, too close to the neighbors.',\n",
              " 'After days of finding nothing even close, we began to wonder: was there really a perfect house out there for us?']"
            ]
          },
          "metadata": {},
          "execution_count": 5
        }
      ]
    },
    {
      "cell_type": "code",
      "source": [
        "words=nltk.word_tokenize(paragraph)"
      ],
      "metadata": {
        "id": "GIqF0i9OiDd6"
      },
      "execution_count": 6,
      "outputs": []
    },
    {
      "cell_type": "code",
      "source": [
        "words"
      ],
      "metadata": {
        "colab": {
          "base_uri": "https://localhost:8080/"
        },
        "id": "MpPpyyjAiJsl",
        "outputId": "7f143c01-a226-4f0d-a94f-02f299101843"
      },
      "execution_count": 7,
      "outputs": [
        {
          "output_type": "execute_result",
          "data": {
            "text/plain": [
              "['Looking',\n",
              " 'back',\n",
              " 'on',\n",
              " 'a',\n",
              " 'childhood',\n",
              " 'filled',\n",
              " 'with',\n",
              " 'events',\n",
              " 'and',\n",
              " 'memories',\n",
              " ',',\n",
              " 'I',\n",
              " 'find',\n",
              " 'it',\n",
              " 'rather',\n",
              " 'difficult',\n",
              " 'to',\n",
              " 'pick',\n",
              " 'one',\n",
              " 'that',\n",
              " 'leaves',\n",
              " 'me',\n",
              " 'with',\n",
              " 'the',\n",
              " 'fabled',\n",
              " '``',\n",
              " 'warm',\n",
              " 'and',\n",
              " 'fuzzy',\n",
              " 'feelings',\n",
              " '.',\n",
              " \"''\",\n",
              " 'As',\n",
              " 'the',\n",
              " 'daughter',\n",
              " 'of',\n",
              " 'an',\n",
              " 'Air',\n",
              " 'Force',\n",
              " 'major',\n",
              " ',',\n",
              " 'I',\n",
              " 'had',\n",
              " 'the',\n",
              " 'pleasure',\n",
              " 'of',\n",
              " 'traveling',\n",
              " 'across',\n",
              " 'America',\n",
              " 'in',\n",
              " 'many',\n",
              " 'moving',\n",
              " 'trips',\n",
              " '.',\n",
              " 'I',\n",
              " 'have',\n",
              " 'visited',\n",
              " 'the',\n",
              " 'monstrous',\n",
              " 'trees',\n",
              " 'of',\n",
              " 'the',\n",
              " 'Sequoia',\n",
              " 'National',\n",
              " 'Forest',\n",
              " ',',\n",
              " 'stood',\n",
              " 'on',\n",
              " 'the',\n",
              " 'edge',\n",
              " 'of',\n",
              " 'the',\n",
              " 'Grand',\n",
              " 'Canyon',\n",
              " 'and',\n",
              " 'have',\n",
              " 'jumped',\n",
              " 'on',\n",
              " 'the',\n",
              " 'beds',\n",
              " 'at',\n",
              " 'Caesar',\n",
              " \"'s\",\n",
              " 'Palace',\n",
              " 'in',\n",
              " 'Lake',\n",
              " 'Tahoe',\n",
              " '.',\n",
              " \"''\",\n",
              " '``',\n",
              " 'The',\n",
              " 'day',\n",
              " 'I',\n",
              " 'picked',\n",
              " 'my',\n",
              " 'dog',\n",
              " 'up',\n",
              " 'from',\n",
              " 'the',\n",
              " 'pound',\n",
              " 'was',\n",
              " 'one',\n",
              " 'of',\n",
              " 'the',\n",
              " 'happiest',\n",
              " 'days',\n",
              " 'of',\n",
              " 'both',\n",
              " 'of',\n",
              " 'our',\n",
              " 'lives',\n",
              " '.',\n",
              " 'I',\n",
              " 'had',\n",
              " 'gone',\n",
              " 'to',\n",
              " 'the',\n",
              " 'pound',\n",
              " 'just',\n",
              " 'a',\n",
              " 'week',\n",
              " 'earlier',\n",
              " 'with',\n",
              " 'the',\n",
              " 'idea',\n",
              " 'that',\n",
              " 'I',\n",
              " 'would',\n",
              " 'just',\n",
              " '``',\n",
              " 'look',\n",
              " \"''\",\n",
              " 'at',\n",
              " 'a',\n",
              " 'puppy',\n",
              " '.',\n",
              " 'Of',\n",
              " 'course',\n",
              " ',',\n",
              " 'you',\n",
              " 'can',\n",
              " 'no',\n",
              " 'more',\n",
              " 'just',\n",
              " 'look',\n",
              " 'at',\n",
              " 'those',\n",
              " 'squiggling',\n",
              " 'little',\n",
              " 'faces',\n",
              " 'so',\n",
              " 'filled',\n",
              " 'with',\n",
              " 'hope',\n",
              " 'and',\n",
              " 'joy',\n",
              " 'than',\n",
              " 'you',\n",
              " 'can',\n",
              " 'stop',\n",
              " 'the',\n",
              " 'sun',\n",
              " 'from',\n",
              " 'setting',\n",
              " 'in',\n",
              " 'the',\n",
              " 'evening',\n",
              " '.',\n",
              " 'I',\n",
              " 'knew',\n",
              " 'within',\n",
              " 'minutes',\n",
              " 'of',\n",
              " 'walking',\n",
              " 'in',\n",
              " 'the',\n",
              " 'door',\n",
              " 'that',\n",
              " 'I',\n",
              " 'would',\n",
              " 'get',\n",
              " 'a',\n",
              " 'puppy…',\n",
              " 'but',\n",
              " 'it',\n",
              " 'was',\n",
              " \"n't\",\n",
              " 'until',\n",
              " 'I',\n",
              " 'saw',\n",
              " 'him',\n",
              " 'that',\n",
              " 'I',\n",
              " 'knew',\n",
              " 'I',\n",
              " 'had',\n",
              " 'found',\n",
              " 'my',\n",
              " 'puppy',\n",
              " '.',\n",
              " \"''\",\n",
              " '``',\n",
              " 'Looking',\n",
              " 'for',\n",
              " 'houses',\n",
              " 'was',\n",
              " 'supposed',\n",
              " 'to',\n",
              " 'be',\n",
              " 'a',\n",
              " 'fun',\n",
              " 'and',\n",
              " 'exciting',\n",
              " 'process',\n",
              " '.',\n",
              " 'Unfortunately',\n",
              " ',',\n",
              " 'none',\n",
              " 'of',\n",
              " 'the',\n",
              " 'ones',\n",
              " 'that',\n",
              " 'we',\n",
              " 'saw',\n",
              " 'seemed',\n",
              " 'to',\n",
              " 'match',\n",
              " 'the',\n",
              " 'specifications',\n",
              " 'that',\n",
              " 'we',\n",
              " 'had',\n",
              " 'established',\n",
              " '.',\n",
              " 'They',\n",
              " 'were',\n",
              " 'too',\n",
              " 'small',\n",
              " ',',\n",
              " 'too',\n",
              " 'impersonal',\n",
              " ',',\n",
              " 'too',\n",
              " 'close',\n",
              " 'to',\n",
              " 'the',\n",
              " 'neighbors',\n",
              " '.',\n",
              " 'After',\n",
              " 'days',\n",
              " 'of',\n",
              " 'finding',\n",
              " 'nothing',\n",
              " 'even',\n",
              " 'close',\n",
              " ',',\n",
              " 'we',\n",
              " 'began',\n",
              " 'to',\n",
              " 'wonder',\n",
              " ':',\n",
              " 'was',\n",
              " 'there',\n",
              " 'really',\n",
              " 'a',\n",
              " 'perfect',\n",
              " 'house',\n",
              " 'out',\n",
              " 'there',\n",
              " 'for',\n",
              " 'us',\n",
              " '?']"
            ]
          },
          "metadata": {},
          "execution_count": 7
        }
      ]
    },
    {
      "cell_type": "markdown",
      "source": [
        "# Stemming"
      ],
      "metadata": {
        "id": "JCWQBl1miN9V"
      }
    },
    {
      "cell_type": "code",
      "source": [
        "sentences = nltk.sent_tokenize(paragraph)\n"
      ],
      "metadata": {
        "id": "XXNTU4rhiKH0"
      },
      "execution_count": 8,
      "outputs": []
    },
    {
      "cell_type": "code",
      "source": [
        "from nltk.stem import PorterStemmer,SnowballStemmer\n",
        "from nltk.corpus import stopwords\n",
        "stemmer1=PorterStemmer()\n",
        "stemmer2=SnowballStemmer(language='english')"
      ],
      "metadata": {
        "id": "sI-F-IqAiZEI"
      },
      "execution_count": 9,
      "outputs": []
    },
    {
      "cell_type": "code",
      "source": [
        ""
      ],
      "metadata": {
        "id": "8icatRSFjVfg"
      },
      "execution_count": 9,
      "outputs": []
    },
    {
      "cell_type": "code",
      "source": [
        "for i in range(len(sentences)):\n",
        "  words=nltk.word_tokenize(sentences[i])\n",
        "  words=[stemmer1.stem(word) for word in words if word not in set(stopwords.words('english'))]\n",
        "  sentences[i] = ' '.join(words)"
      ],
      "metadata": {
        "id": "vea362jaizYL"
      },
      "execution_count": 10,
      "outputs": []
    },
    {
      "cell_type": "code",
      "source": [
        "sentences"
      ],
      "metadata": {
        "colab": {
          "base_uri": "https://localhost:8080/"
        },
        "id": "wzz1yd-0jiDn",
        "outputId": "d826f89d-8452-4a31-9bfb-d5028eebe955"
      },
      "execution_count": 11,
      "outputs": [
        {
          "output_type": "execute_result",
          "data": {
            "text/plain": [
              "[\"look back childhood fill event memori , i find rather difficult pick one leav fabl `` warm fuzzi feel . ''\",\n",
              " 'as daughter air forc major , i pleasur travel across america mani move trip .',\n",
              " \"i visit monstrou tree sequoia nation forest , stood edg grand canyon jump bed caesar 's palac lake taho . ''\",\n",
              " '`` the day i pick dog pound one happiest day live .',\n",
              " \"i gone pound week earlier idea i would `` look '' puppi .\",\n",
              " 'of cours , look squiggl littl face fill hope joy stop sun set even .',\n",
              " \"i knew within minut walk door i would get puppy… n't i saw i knew i found puppi . ''\",\n",
              " '`` look hous suppos fun excit process .',\n",
              " 'unfortun , none one saw seem match specif establish .',\n",
              " 'they small , imperson , close neighbor .',\n",
              " 'after day find noth even close , began wonder : realli perfect hous us ?']"
            ]
          },
          "metadata": {},
          "execution_count": 11
        }
      ]
    },
    {
      "cell_type": "code",
      "source": [
        "for i in range(len(sentences)):\n",
        "  words=nltk.word_tokenize(sentences[i])\n",
        "  words=[stemmer2.stem(word) for word in words if word not in set(stopwords.words('english'))]\n",
        "  sentences[i] = ' '.join(words)"
      ],
      "metadata": {
        "id": "vAP8MhP-jju-"
      },
      "execution_count": 12,
      "outputs": []
    },
    {
      "cell_type": "code",
      "source": [
        "sentences"
      ],
      "metadata": {
        "colab": {
          "base_uri": "https://localhost:8080/"
        },
        "id": "N3vSa06hjqst",
        "outputId": "9651af04-0ba2-426a-813c-d1b7e96604f3"
      },
      "execution_count": 13,
      "outputs": [
        {
          "output_type": "execute_result",
          "data": {
            "text/plain": [
              "['look back childhood fill event memori , find rather difficult pick one leav fabl `` warm fuzzi feel . ``',\n",
              " 'daughter air forc major , pleasur travel across america mani move trip .',\n",
              " \"visit monstrou tree sequoia nation forest , stood edg grand canyon jump bed caesar 's palac lake taho . ``\",\n",
              " '`` day pick dog pound one happiest day live .',\n",
              " 'gone pound week earlier idea would `` look `` puppi .',\n",
              " 'cour , look squiggl littl face fill hope joy stop sun set even .',\n",
              " \"knew within minut walk door would get puppy… n't saw knew found puppi . ``\",\n",
              " '`` look hous suppo fun excit process .',\n",
              " 'unfortun , none one saw seem match specif establish .',\n",
              " 'small , imperson , close neighbor .',\n",
              " 'day find noth even close , began wonder : realli perfect hous us ?']"
            ]
          },
          "metadata": {},
          "execution_count": 13
        }
      ]
    },
    {
      "cell_type": "markdown",
      "source": [
        "# Lemmetization"
      ],
      "metadata": {
        "id": "OU9PgQZVjvCb"
      }
    },
    {
      "cell_type": "code",
      "source": [
        "from nltk.stem import WordNetLemmatizer\n",
        "from nltk.corpus import stopwords"
      ],
      "metadata": {
        "id": "1KnESbONjr6a"
      },
      "execution_count": 14,
      "outputs": []
    },
    {
      "cell_type": "code",
      "source": [
        "sentences = nltk.sent_tokenize(paragraph)\n",
        "lemmatizer = WordNetLemmatizer()\n",
        "\n",
        "# Lemmatization\n",
        "for i in range(len(sentences)):\n",
        "    words = nltk.word_tokenize(sentences[i])\n",
        "    words = [lemmatizer.lemmatize(word) for word in words if word not in set(stopwords.words('english'))]\n",
        "    sentences[i] = ' '.join(words)      "
      ],
      "metadata": {
        "id": "F7eBCwjxkM8P"
      },
      "execution_count": 15,
      "outputs": []
    },
    {
      "cell_type": "code",
      "source": [
        "sentences"
      ],
      "metadata": {
        "colab": {
          "base_uri": "https://localhost:8080/"
        },
        "id": "Ph5WwL2DkPjN",
        "outputId": "b16d34f7-e0b1-4f1e-8c7c-d92654f702c5"
      },
      "execution_count": 16,
      "outputs": [
        {
          "output_type": "execute_result",
          "data": {
            "text/plain": [
              "[\"Looking back childhood filled event memory , I find rather difficult pick one leaf fabled `` warm fuzzy feeling . ''\",\n",
              " 'As daughter Air Force major , I pleasure traveling across America many moving trip .',\n",
              " \"I visited monstrous tree Sequoia National Forest , stood edge Grand Canyon jumped bed Caesar 's Palace Lake Tahoe . ''\",\n",
              " '`` The day I picked dog pound one happiest day life .',\n",
              " \"I gone pound week earlier idea I would `` look '' puppy .\",\n",
              " 'Of course , look squiggling little face filled hope joy stop sun setting evening .',\n",
              " \"I knew within minute walking door I would get puppy… n't I saw I knew I found puppy . ''\",\n",
              " '`` Looking house supposed fun exciting process .',\n",
              " 'Unfortunately , none one saw seemed match specification established .',\n",
              " 'They small , impersonal , close neighbor .',\n",
              " 'After day finding nothing even close , began wonder : really perfect house u ?']"
            ]
          },
          "metadata": {},
          "execution_count": 16
        }
      ]
    },
    {
      "cell_type": "markdown",
      "source": [
        "# POS Tagging"
      ],
      "metadata": {
        "id": "cTqt__MXlRXr"
      }
    },
    {
      "cell_type": "code",
      "source": [
        "sentence = \"today we completed basics of nlp, need to revise it\"\n",
        "token = nltk.word_tokenize(sentence)\n",
        "token"
      ],
      "metadata": {
        "colab": {
          "base_uri": "https://localhost:8080/"
        },
        "id": "IfiM5SSekU1F",
        "outputId": "ef54137d-935f-4a44-8cb8-03cd64b60e72"
      },
      "execution_count": 17,
      "outputs": [
        {
          "output_type": "execute_result",
          "data": {
            "text/plain": [
              "['today',\n",
              " 'we',\n",
              " 'completed',\n",
              " 'basics',\n",
              " 'of',\n",
              " 'nlp',\n",
              " ',',\n",
              " 'need',\n",
              " 'to',\n",
              " 'revise',\n",
              " 'it']"
            ]
          },
          "metadata": {},
          "execution_count": 17
        }
      ]
    },
    {
      "cell_type": "code",
      "source": [
        "nltk.pos_tag(token)"
      ],
      "metadata": {
        "colab": {
          "base_uri": "https://localhost:8080/"
        },
        "id": "Ey693D0PlWAG",
        "outputId": "fc823734-33fb-4bd9-c372-4595c38ea733"
      },
      "execution_count": 18,
      "outputs": [
        {
          "output_type": "execute_result",
          "data": {
            "text/plain": [
              "[('today', 'NN'),\n",
              " ('we', 'PRP'),\n",
              " ('completed', 'VBD'),\n",
              " ('basics', 'NNS'),\n",
              " ('of', 'IN'),\n",
              " ('nlp', 'NN'),\n",
              " (',', ','),\n",
              " ('need', 'VBP'),\n",
              " ('to', 'TO'),\n",
              " ('revise', 'VB'),\n",
              " ('it', 'PRP')]"
            ]
          },
          "metadata": {},
          "execution_count": 18
        }
      ]
    },
    {
      "cell_type": "code",
      "source": [
        "# We can get more details about any POS tag using help funciton of NLTK as follows.\n",
        "nltk.help.upenn_tagset(\"PRP$\")"
      ],
      "metadata": {
        "colab": {
          "base_uri": "https://localhost:8080/"
        },
        "id": "2SR_PBDylX6m",
        "outputId": "07f3d637-bce6-4be1-f4f5-08ae277d7259"
      },
      "execution_count": 19,
      "outputs": [
        {
          "output_type": "stream",
          "name": "stdout",
          "text": [
            "PRP$: pronoun, possessive\n",
            "    her his mine my our ours their thy your\n"
          ]
        }
      ]
    },
    {
      "cell_type": "code",
      "source": [
        "# We can get more details about any POS tag using help funciton of NLTK as follows.\n",
        "nltk.help.upenn_tagset(\"JJ\")"
      ],
      "metadata": {
        "colab": {
          "base_uri": "https://localhost:8080/"
        },
        "id": "i5RGldqClbcM",
        "outputId": "a7baa0a4-d7b6-44ab-a7e7-fc779cde6674"
      },
      "execution_count": 20,
      "outputs": [
        {
          "output_type": "stream",
          "name": "stdout",
          "text": [
            "JJ: adjective or numeral, ordinal\n",
            "    third ill-mannered pre-war regrettable oiled calamitous first separable\n",
            "    ectoplasmic battery-powered participatory fourth still-to-be-named\n",
            "    multilingual multi-disciplinary ...\n"
          ]
        }
      ]
    },
    {
      "cell_type": "code",
      "source": [
        "sentence = \"A quick brown fox runs over a greedy dog\"\n",
        "token = nltk.word_tokenize(sentence)\n",
        "token"
      ],
      "metadata": {
        "colab": {
          "base_uri": "https://localhost:8080/"
        },
        "id": "x-XguTztlzZA",
        "outputId": "dd4f4d7e-1a83-40e9-eb11-94705e752541"
      },
      "execution_count": 21,
      "outputs": [
        {
          "output_type": "execute_result",
          "data": {
            "text/plain": [
              "['A', 'quick', 'brown', 'fox', 'runs', 'over', 'a', 'greedy', 'dog']"
            ]
          },
          "metadata": {},
          "execution_count": 21
        }
      ]
    },
    {
      "cell_type": "code",
      "source": [
        "nltk.pos_tag(token)"
      ],
      "metadata": {
        "colab": {
          "base_uri": "https://localhost:8080/"
        },
        "id": "5PRkD60JmJww",
        "outputId": "574806b7-e451-4a8d-af0f-e175f4fd01ab"
      },
      "execution_count": 22,
      "outputs": [
        {
          "output_type": "execute_result",
          "data": {
            "text/plain": [
              "[('A', 'DT'),\n",
              " ('quick', 'JJ'),\n",
              " ('brown', 'NN'),\n",
              " ('fox', 'NN'),\n",
              " ('runs', 'VBZ'),\n",
              " ('over', 'IN'),\n",
              " ('a', 'DT'),\n",
              " ('greedy', 'NN'),\n",
              " ('dog', 'NN')]"
            ]
          },
          "metadata": {},
          "execution_count": 22
        }
      ]
    },
    {
      "cell_type": "code",
      "source": [
        "# We can get more details about any POS tag using help funciton of NLTK as follows.\n",
        "nltk.help.upenn_tagset(\"DT\")"
      ],
      "metadata": {
        "colab": {
          "base_uri": "https://localhost:8080/"
        },
        "id": "Tw8YEsEKmLVm",
        "outputId": "61ae7612-2508-4111-956a-f9ee7348d55a"
      },
      "execution_count": 23,
      "outputs": [
        {
          "output_type": "stream",
          "name": "stdout",
          "text": [
            "DT: determiner\n",
            "    all an another any both del each either every half la many much nary\n",
            "    neither no some such that the them these this those\n"
          ]
        }
      ]
    },
    {
      "cell_type": "markdown",
      "source": [
        "# Bag Of Words (BOW)"
      ],
      "metadata": {
        "id": "_enx0CBbzCLh"
      }
    },
    {
      "cell_type": "code",
      "source": [
        "import re #Regular Expression\n",
        "from nltk.corpus import stopwords\n",
        "from nltk.stem.porter import PorterStemmer\n",
        "from nltk.stem import WordNetLemmatizer"
      ],
      "metadata": {
        "id": "y2E4r9rimPTa"
      },
      "execution_count": 24,
      "outputs": []
    },
    {
      "cell_type": "code",
      "source": [
        "ps = PorterStemmer()\n",
        "wordnet=WordNetLemmatizer()\n",
        "sentences = nltk.sent_tokenize(paragraph)\n",
        "corpus = []"
      ],
      "metadata": {
        "id": "JMsZnYhFzHn0"
      },
      "execution_count": 25,
      "outputs": []
    },
    {
      "cell_type": "code",
      "source": [
        "for i in range(len(sentences)):\n",
        "    review = re.sub('[^a-zA-Z]', ' ', sentences[i])\n",
        "    review = review.lower()\n",
        "    review = review.split()\n",
        "    review = [wordnet.lemmatize(word) for word in review if not word in set(stopwords.words('english'))]\n",
        "    review = ' '.join(review)\n",
        "    corpus.append(review)"
      ],
      "metadata": {
        "id": "yH668ulMzJO-"
      },
      "execution_count": 26,
      "outputs": []
    },
    {
      "cell_type": "code",
      "source": [
        "corpus"
      ],
      "metadata": {
        "colab": {
          "base_uri": "https://localhost:8080/"
        },
        "id": "yjfKO-KhzpQP",
        "outputId": "29958c58-6811-4708-cd20-de576821d6c7"
      },
      "execution_count": 27,
      "outputs": [
        {
          "output_type": "execute_result",
          "data": {
            "text/plain": [
              "['looking back childhood filled event memory find rather difficult pick one leaf fabled warm fuzzy feeling',\n",
              " 'daughter air force major pleasure traveling across america many moving trip',\n",
              " 'visited monstrous tree sequoia national forest stood edge grand canyon jumped bed caesar palace lake tahoe',\n",
              " 'day picked dog pound one happiest day life',\n",
              " 'gone pound week earlier idea would look puppy',\n",
              " 'course look squiggling little face filled hope joy stop sun setting evening',\n",
              " 'knew within minute walking door would get puppy saw knew found puppy',\n",
              " 'looking house supposed fun exciting process',\n",
              " 'unfortunately none one saw seemed match specification established',\n",
              " 'small impersonal close neighbor',\n",
              " 'day finding nothing even close began wonder really perfect house u']"
            ]
          },
          "metadata": {},
          "execution_count": 27
        }
      ]
    },
    {
      "cell_type": "code",
      "source": [
        "# Bag Of Word\n",
        "from sklearn.feature_extraction.text import CountVectorizer\n",
        "cv=CountVectorizer(max_features=1500)\n"
      ],
      "metadata": {
        "id": "CKZWShuPzqTk"
      },
      "execution_count": 28,
      "outputs": []
    },
    {
      "cell_type": "code",
      "source": [
        "X=cv.fit_transform(corpus).toarray()"
      ],
      "metadata": {
        "id": "f24kumoOz8Td"
      },
      "execution_count": 30,
      "outputs": []
    },
    {
      "cell_type": "code",
      "source": [
        "X.shape"
      ],
      "metadata": {
        "colab": {
          "base_uri": "https://localhost:8080/"
        },
        "id": "ORFLBuk60B0J",
        "outputId": "f259ef41-f938-4333-a78f-a65d20b47a27"
      },
      "execution_count": 32,
      "outputs": [
        {
          "output_type": "execute_result",
          "data": {
            "text/plain": [
              "(11, 96)"
            ]
          },
          "metadata": {},
          "execution_count": 32
        }
      ]
    },
    {
      "cell_type": "markdown",
      "source": [
        "# TF-IDF (Term Frequency & Inverse Document Frequency)\n"
      ],
      "metadata": {
        "id": "Mi4ZanPC0MpG"
      }
    },
    {
      "cell_type": "code",
      "source": [
        "import re\n",
        "from nltk.corpus import stopwords\n",
        "from nltk.stem.porter import PorterStemmer\n",
        "from nltk.stem import WordNetLemmatizer\n"
      ],
      "metadata": {
        "id": "bTO033o40Em2"
      },
      "execution_count": 33,
      "outputs": []
    },
    {
      "cell_type": "code",
      "source": [
        "ps = PorterStemmer()\n",
        "wordnet=WordNetLemmatizer()\n",
        "sentences = nltk.sent_tokenize(paragraph)\n",
        "corpus = []"
      ],
      "metadata": {
        "id": "U6bsR9Pk0Ut2"
      },
      "execution_count": 34,
      "outputs": []
    },
    {
      "cell_type": "code",
      "source": [
        "for i in range(len(sentences)):\n",
        "    review = re.sub('[^a-zA-Z]', ' ', sentences[i])\n",
        "    review = review.lower()\n",
        "    review = review.split()\n",
        "    review = [wordnet.lemmatize(word) for word in review if not word in set(stopwords.words('english'))]\n",
        "    review = ' '.join(review)\n",
        "    corpus.append(review)"
      ],
      "metadata": {
        "id": "RUDI5L170WOC"
      },
      "execution_count": 35,
      "outputs": []
    },
    {
      "cell_type": "code",
      "source": [
        "corpus"
      ],
      "metadata": {
        "colab": {
          "base_uri": "https://localhost:8080/"
        },
        "id": "5Uv8P3ft0Xnw",
        "outputId": "73d1b5a5-6f00-4b78-da6b-b442595a1ff7"
      },
      "execution_count": 36,
      "outputs": [
        {
          "output_type": "execute_result",
          "data": {
            "text/plain": [
              "['looking back childhood filled event memory find rather difficult pick one leaf fabled warm fuzzy feeling',\n",
              " 'daughter air force major pleasure traveling across america many moving trip',\n",
              " 'visited monstrous tree sequoia national forest stood edge grand canyon jumped bed caesar palace lake tahoe',\n",
              " 'day picked dog pound one happiest day life',\n",
              " 'gone pound week earlier idea would look puppy',\n",
              " 'course look squiggling little face filled hope joy stop sun setting evening',\n",
              " 'knew within minute walking door would get puppy saw knew found puppy',\n",
              " 'looking house supposed fun exciting process',\n",
              " 'unfortunately none one saw seemed match specification established',\n",
              " 'small impersonal close neighbor',\n",
              " 'day finding nothing even close began wonder really perfect house u']"
            ]
          },
          "metadata": {},
          "execution_count": 36
        }
      ]
    },
    {
      "cell_type": "code",
      "source": [
        "from sklearn.feature_extraction.text import TfidfVectorizer\n",
        "\n",
        "tfidf=TfidfVectorizer()"
      ],
      "metadata": {
        "id": "EGWBX7tQ0YIv"
      },
      "execution_count": 37,
      "outputs": []
    },
    {
      "cell_type": "code",
      "source": [
        "X=tfidf.fit_transform(corpus).toarray()"
      ],
      "metadata": {
        "id": "AOmShC270hGk"
      },
      "execution_count": 39,
      "outputs": []
    },
    {
      "cell_type": "code",
      "source": [
        "X"
      ],
      "metadata": {
        "colab": {
          "base_uri": "https://localhost:8080/"
        },
        "id": "sQxfd8lF0m5B",
        "outputId": "a85de7cf-4468-41ef-b878-58b9c1e384a4"
      },
      "execution_count": 40,
      "outputs": [
        {
          "output_type": "execute_result",
          "data": {
            "text/plain": [
              "array([[0.        , 0.        , 0.        , ..., 0.        , 0.        ,\n",
              "        0.        ],\n",
              "       [0.30151134, 0.30151134, 0.30151134, ..., 0.        , 0.        ,\n",
              "        0.        ],\n",
              "       [0.        , 0.        , 0.        , ..., 0.        , 0.        ,\n",
              "        0.        ],\n",
              "       ...,\n",
              "       [0.        , 0.        , 0.        , ..., 0.        , 0.        ,\n",
              "        0.        ],\n",
              "       [0.        , 0.        , 0.        , ..., 0.        , 0.        ,\n",
              "        0.        ],\n",
              "       [0.        , 0.        , 0.        , ..., 0.        , 0.32983614,\n",
              "        0.        ]])"
            ]
          },
          "metadata": {},
          "execution_count": 40
        }
      ]
    },
    {
      "cell_type": "code",
      "source": [
        "X.shape"
      ],
      "metadata": {
        "colab": {
          "base_uri": "https://localhost:8080/"
        },
        "id": "nk6l_QEb0rNr",
        "outputId": "e4a023f7-4dab-4391-d232-80683bf8e74f"
      },
      "execution_count": 41,
      "outputs": [
        {
          "output_type": "execute_result",
          "data": {
            "text/plain": [
              "(11, 96)"
            ]
          },
          "metadata": {},
          "execution_count": 41
        }
      ]
    },
    {
      "cell_type": "markdown",
      "source": [
        "# Word2Vec Model (Word 2 Vector Model)"
      ],
      "metadata": {
        "id": "ajRF-GzD0yCa"
      }
    },
    {
      "cell_type": "code",
      "source": [
        "text = re.sub(r'\\[[0-9]*\\]',' ',paragraph)\n",
        "text = re.sub(r'\\s+',' ',text)\n",
        "text = text.lower()\n",
        "text = re.sub(r'\\d',' ',text)\n",
        "text = re.sub(r'\\s+',' ',text)"
      ],
      "metadata": {
        "id": "dvTqTq400sEA"
      },
      "execution_count": 42,
      "outputs": []
    },
    {
      "cell_type": "code",
      "source": [
        "text"
      ],
      "metadata": {
        "colab": {
          "base_uri": "https://localhost:8080/",
          "height": 174
        },
        "id": "VBwUlai91RMd",
        "outputId": "9db33410-94c7-4d50-d617-1cdc9b984e4f"
      },
      "execution_count": 43,
      "outputs": [
        {
          "output_type": "execute_result",
          "data": {
            "text/plain": [
              "' looking back on a childhood filled with events and memories, i find it rather difficult to pick one that leaves me with the fabled \"warm and fuzzy feelings.\" as the daughter of an air force major, i had the pleasure of traveling across america in many moving trips. i have visited the monstrous trees of the sequoia national forest, stood on the edge of the grand canyon and have jumped on the beds at caesar\\'s palace in lake tahoe.\" \"the day i picked my dog up from the pound was one of the happiest days of both of our lives. i had gone to the pound just a week earlier with the idea that i would just \"look\" at a puppy. of course, you can no more just look at those squiggling little faces so filled with hope and joy than you can stop the sun from setting in the evening. i knew within minutes of walking in the door that i would get a puppy… but it wasn\\'t until i saw him that i knew i had found my puppy.\" \"looking for houses was supposed to be a fun and exciting process. unfortunately, none of the ones that we saw seemed to match the specifications that we had established. they were too small, too impersonal, too close to the neighbors. after days of finding nothing even close, we began to wonder: was there really a perfect house out there for us? '"
            ],
            "application/vnd.google.colaboratory.intrinsic+json": {
              "type": "string"
            }
          },
          "metadata": {},
          "execution_count": 43
        }
      ]
    },
    {
      "cell_type": "code",
      "source": [
        "# Preparing the dataset\n",
        "sentences = nltk.sent_tokenize(text)"
      ],
      "metadata": {
        "id": "5NO3X9H51SM7"
      },
      "execution_count": 44,
      "outputs": []
    },
    {
      "cell_type": "code",
      "source": [
        "sentences"
      ],
      "metadata": {
        "colab": {
          "base_uri": "https://localhost:8080/"
        },
        "id": "QEoPqZje1XR-",
        "outputId": "695ad093-4df5-4f65-b656-8fe615d9375f"
      },
      "execution_count": 45,
      "outputs": [
        {
          "output_type": "execute_result",
          "data": {
            "text/plain": [
              "[' looking back on a childhood filled with events and memories, i find it rather difficult to pick one that leaves me with the fabled \"warm and fuzzy feelings.\"',\n",
              " 'as the daughter of an air force major, i had the pleasure of traveling across america in many moving trips.',\n",
              " 'i have visited the monstrous trees of the sequoia national forest, stood on the edge of the grand canyon and have jumped on the beds at caesar\\'s palace in lake tahoe.\"',\n",
              " '\"the day i picked my dog up from the pound was one of the happiest days of both of our lives.',\n",
              " 'i had gone to the pound just a week earlier with the idea that i would just \"look\" at a puppy.',\n",
              " 'of course, you can no more just look at those squiggling little faces so filled with hope and joy than you can stop the sun from setting in the evening.',\n",
              " 'i knew within minutes of walking in the door that i would get a puppy… but it wasn\\'t until i saw him that i knew i had found my puppy.\"',\n",
              " '\"looking for houses was supposed to be a fun and exciting process.',\n",
              " 'unfortunately, none of the ones that we saw seemed to match the specifications that we had established.',\n",
              " 'they were too small, too impersonal, too close to the neighbors.',\n",
              " 'after days of finding nothing even close, we began to wonder: was there really a perfect house out there for us?']"
            ]
          },
          "metadata": {},
          "execution_count": 45
        }
      ]
    },
    {
      "cell_type": "code",
      "source": [
        "sentences=[nltk.word_tokenize(sentence) for sentence in sentences]"
      ],
      "metadata": {
        "id": "IS-V1D-i1YR9"
      },
      "execution_count": 46,
      "outputs": []
    },
    {
      "cell_type": "code",
      "source": [
        "sentences"
      ],
      "metadata": {
        "colab": {
          "base_uri": "https://localhost:8080/"
        },
        "id": "Kf-xNUd11h_0",
        "outputId": "fc31cb99-2555-431f-8e44-7c511199e3fd"
      },
      "execution_count": 47,
      "outputs": [
        {
          "output_type": "execute_result",
          "data": {
            "text/plain": [
              "[['looking',\n",
              "  'back',\n",
              "  'on',\n",
              "  'a',\n",
              "  'childhood',\n",
              "  'filled',\n",
              "  'with',\n",
              "  'events',\n",
              "  'and',\n",
              "  'memories',\n",
              "  ',',\n",
              "  'i',\n",
              "  'find',\n",
              "  'it',\n",
              "  'rather',\n",
              "  'difficult',\n",
              "  'to',\n",
              "  'pick',\n",
              "  'one',\n",
              "  'that',\n",
              "  'leaves',\n",
              "  'me',\n",
              "  'with',\n",
              "  'the',\n",
              "  'fabled',\n",
              "  '``',\n",
              "  'warm',\n",
              "  'and',\n",
              "  'fuzzy',\n",
              "  'feelings',\n",
              "  '.',\n",
              "  \"''\"],\n",
              " ['as',\n",
              "  'the',\n",
              "  'daughter',\n",
              "  'of',\n",
              "  'an',\n",
              "  'air',\n",
              "  'force',\n",
              "  'major',\n",
              "  ',',\n",
              "  'i',\n",
              "  'had',\n",
              "  'the',\n",
              "  'pleasure',\n",
              "  'of',\n",
              "  'traveling',\n",
              "  'across',\n",
              "  'america',\n",
              "  'in',\n",
              "  'many',\n",
              "  'moving',\n",
              "  'trips',\n",
              "  '.'],\n",
              " ['i',\n",
              "  'have',\n",
              "  'visited',\n",
              "  'the',\n",
              "  'monstrous',\n",
              "  'trees',\n",
              "  'of',\n",
              "  'the',\n",
              "  'sequoia',\n",
              "  'national',\n",
              "  'forest',\n",
              "  ',',\n",
              "  'stood',\n",
              "  'on',\n",
              "  'the',\n",
              "  'edge',\n",
              "  'of',\n",
              "  'the',\n",
              "  'grand',\n",
              "  'canyon',\n",
              "  'and',\n",
              "  'have',\n",
              "  'jumped',\n",
              "  'on',\n",
              "  'the',\n",
              "  'beds',\n",
              "  'at',\n",
              "  'caesar',\n",
              "  \"'s\",\n",
              "  'palace',\n",
              "  'in',\n",
              "  'lake',\n",
              "  'tahoe',\n",
              "  '.',\n",
              "  \"''\"],\n",
              " ['``',\n",
              "  'the',\n",
              "  'day',\n",
              "  'i',\n",
              "  'picked',\n",
              "  'my',\n",
              "  'dog',\n",
              "  'up',\n",
              "  'from',\n",
              "  'the',\n",
              "  'pound',\n",
              "  'was',\n",
              "  'one',\n",
              "  'of',\n",
              "  'the',\n",
              "  'happiest',\n",
              "  'days',\n",
              "  'of',\n",
              "  'both',\n",
              "  'of',\n",
              "  'our',\n",
              "  'lives',\n",
              "  '.'],\n",
              " ['i',\n",
              "  'had',\n",
              "  'gone',\n",
              "  'to',\n",
              "  'the',\n",
              "  'pound',\n",
              "  'just',\n",
              "  'a',\n",
              "  'week',\n",
              "  'earlier',\n",
              "  'with',\n",
              "  'the',\n",
              "  'idea',\n",
              "  'that',\n",
              "  'i',\n",
              "  'would',\n",
              "  'just',\n",
              "  '``',\n",
              "  'look',\n",
              "  \"''\",\n",
              "  'at',\n",
              "  'a',\n",
              "  'puppy',\n",
              "  '.'],\n",
              " ['of',\n",
              "  'course',\n",
              "  ',',\n",
              "  'you',\n",
              "  'can',\n",
              "  'no',\n",
              "  'more',\n",
              "  'just',\n",
              "  'look',\n",
              "  'at',\n",
              "  'those',\n",
              "  'squiggling',\n",
              "  'little',\n",
              "  'faces',\n",
              "  'so',\n",
              "  'filled',\n",
              "  'with',\n",
              "  'hope',\n",
              "  'and',\n",
              "  'joy',\n",
              "  'than',\n",
              "  'you',\n",
              "  'can',\n",
              "  'stop',\n",
              "  'the',\n",
              "  'sun',\n",
              "  'from',\n",
              "  'setting',\n",
              "  'in',\n",
              "  'the',\n",
              "  'evening',\n",
              "  '.'],\n",
              " ['i',\n",
              "  'knew',\n",
              "  'within',\n",
              "  'minutes',\n",
              "  'of',\n",
              "  'walking',\n",
              "  'in',\n",
              "  'the',\n",
              "  'door',\n",
              "  'that',\n",
              "  'i',\n",
              "  'would',\n",
              "  'get',\n",
              "  'a',\n",
              "  'puppy…',\n",
              "  'but',\n",
              "  'it',\n",
              "  'was',\n",
              "  \"n't\",\n",
              "  'until',\n",
              "  'i',\n",
              "  'saw',\n",
              "  'him',\n",
              "  'that',\n",
              "  'i',\n",
              "  'knew',\n",
              "  'i',\n",
              "  'had',\n",
              "  'found',\n",
              "  'my',\n",
              "  'puppy',\n",
              "  '.',\n",
              "  \"''\"],\n",
              " ['``',\n",
              "  'looking',\n",
              "  'for',\n",
              "  'houses',\n",
              "  'was',\n",
              "  'supposed',\n",
              "  'to',\n",
              "  'be',\n",
              "  'a',\n",
              "  'fun',\n",
              "  'and',\n",
              "  'exciting',\n",
              "  'process',\n",
              "  '.'],\n",
              " ['unfortunately',\n",
              "  ',',\n",
              "  'none',\n",
              "  'of',\n",
              "  'the',\n",
              "  'ones',\n",
              "  'that',\n",
              "  'we',\n",
              "  'saw',\n",
              "  'seemed',\n",
              "  'to',\n",
              "  'match',\n",
              "  'the',\n",
              "  'specifications',\n",
              "  'that',\n",
              "  'we',\n",
              "  'had',\n",
              "  'established',\n",
              "  '.'],\n",
              " ['they',\n",
              "  'were',\n",
              "  'too',\n",
              "  'small',\n",
              "  ',',\n",
              "  'too',\n",
              "  'impersonal',\n",
              "  ',',\n",
              "  'too',\n",
              "  'close',\n",
              "  'to',\n",
              "  'the',\n",
              "  'neighbors',\n",
              "  '.'],\n",
              " ['after',\n",
              "  'days',\n",
              "  'of',\n",
              "  'finding',\n",
              "  'nothing',\n",
              "  'even',\n",
              "  'close',\n",
              "  ',',\n",
              "  'we',\n",
              "  'began',\n",
              "  'to',\n",
              "  'wonder',\n",
              "  ':',\n",
              "  'was',\n",
              "  'there',\n",
              "  'really',\n",
              "  'a',\n",
              "  'perfect',\n",
              "  'house',\n",
              "  'out',\n",
              "  'there',\n",
              "  'for',\n",
              "  'us',\n",
              "  '?']]"
            ]
          },
          "metadata": {},
          "execution_count": 47
        }
      ]
    },
    {
      "cell_type": "code",
      "source": [
        "###Stopword Removal\n",
        "for i in range(len(sentences)):\n",
        "  sentences[i]=[word for word in sentences[i] if word not in stopwords.words('english')]"
      ],
      "metadata": {
        "id": "IbtUT2lS1jVH"
      },
      "execution_count": 48,
      "outputs": []
    },
    {
      "cell_type": "code",
      "source": [
        "sentences"
      ],
      "metadata": {
        "colab": {
          "base_uri": "https://localhost:8080/"
        },
        "id": "xTzitUuc11zd",
        "outputId": "2076be24-7e12-45e1-b8da-2a99925c609f"
      },
      "execution_count": 49,
      "outputs": [
        {
          "output_type": "execute_result",
          "data": {
            "text/plain": [
              "[['looking',\n",
              "  'back',\n",
              "  'childhood',\n",
              "  'filled',\n",
              "  'events',\n",
              "  'memories',\n",
              "  ',',\n",
              "  'find',\n",
              "  'rather',\n",
              "  'difficult',\n",
              "  'pick',\n",
              "  'one',\n",
              "  'leaves',\n",
              "  'fabled',\n",
              "  '``',\n",
              "  'warm',\n",
              "  'fuzzy',\n",
              "  'feelings',\n",
              "  '.',\n",
              "  \"''\"],\n",
              " ['daughter',\n",
              "  'air',\n",
              "  'force',\n",
              "  'major',\n",
              "  ',',\n",
              "  'pleasure',\n",
              "  'traveling',\n",
              "  'across',\n",
              "  'america',\n",
              "  'many',\n",
              "  'moving',\n",
              "  'trips',\n",
              "  '.'],\n",
              " ['visited',\n",
              "  'monstrous',\n",
              "  'trees',\n",
              "  'sequoia',\n",
              "  'national',\n",
              "  'forest',\n",
              "  ',',\n",
              "  'stood',\n",
              "  'edge',\n",
              "  'grand',\n",
              "  'canyon',\n",
              "  'jumped',\n",
              "  'beds',\n",
              "  'caesar',\n",
              "  \"'s\",\n",
              "  'palace',\n",
              "  'lake',\n",
              "  'tahoe',\n",
              "  '.',\n",
              "  \"''\"],\n",
              " ['``',\n",
              "  'day',\n",
              "  'picked',\n",
              "  'dog',\n",
              "  'pound',\n",
              "  'one',\n",
              "  'happiest',\n",
              "  'days',\n",
              "  'lives',\n",
              "  '.'],\n",
              " ['gone',\n",
              "  'pound',\n",
              "  'week',\n",
              "  'earlier',\n",
              "  'idea',\n",
              "  'would',\n",
              "  '``',\n",
              "  'look',\n",
              "  \"''\",\n",
              "  'puppy',\n",
              "  '.'],\n",
              " ['course',\n",
              "  ',',\n",
              "  'look',\n",
              "  'squiggling',\n",
              "  'little',\n",
              "  'faces',\n",
              "  'filled',\n",
              "  'hope',\n",
              "  'joy',\n",
              "  'stop',\n",
              "  'sun',\n",
              "  'setting',\n",
              "  'evening',\n",
              "  '.'],\n",
              " ['knew',\n",
              "  'within',\n",
              "  'minutes',\n",
              "  'walking',\n",
              "  'door',\n",
              "  'would',\n",
              "  'get',\n",
              "  'puppy…',\n",
              "  \"n't\",\n",
              "  'saw',\n",
              "  'knew',\n",
              "  'found',\n",
              "  'puppy',\n",
              "  '.',\n",
              "  \"''\"],\n",
              " ['``', 'looking', 'houses', 'supposed', 'fun', 'exciting', 'process', '.'],\n",
              " ['unfortunately',\n",
              "  ',',\n",
              "  'none',\n",
              "  'ones',\n",
              "  'saw',\n",
              "  'seemed',\n",
              "  'match',\n",
              "  'specifications',\n",
              "  'established',\n",
              "  '.'],\n",
              " ['small', ',', 'impersonal', ',', 'close', 'neighbors', '.'],\n",
              " ['days',\n",
              "  'finding',\n",
              "  'nothing',\n",
              "  'even',\n",
              "  'close',\n",
              "  ',',\n",
              "  'began',\n",
              "  'wonder',\n",
              "  ':',\n",
              "  'really',\n",
              "  'perfect',\n",
              "  'house',\n",
              "  'us',\n",
              "  '?']]"
            ]
          },
          "metadata": {},
          "execution_count": 49
        }
      ]
    },
    {
      "cell_type": "code",
      "source": [
        "from gensim.models import Word2Vec"
      ],
      "metadata": {
        "id": "OX8qNYm513RV"
      },
      "execution_count": 50,
      "outputs": []
    },
    {
      "cell_type": "code",
      "source": [
        "model=Word2Vec(sentences,min_count=1)"
      ],
      "metadata": {
        "colab": {
          "base_uri": "https://localhost:8080/"
        },
        "id": "Ag1i2n9C1-L-",
        "outputId": "971b6cd7-4e79-4583-fa85-801ca14e78fd"
      },
      "execution_count": 51,
      "outputs": [
        {
          "output_type": "stream",
          "name": "stderr",
          "text": [
            "WARNING:gensim.models.base_any2vec:under 10 jobs per worker: consider setting a smaller `batch_words' for smoother alpha decay\n"
          ]
        }
      ]
    },
    {
      "cell_type": "code",
      "source": [
        "model"
      ],
      "metadata": {
        "colab": {
          "base_uri": "https://localhost:8080/"
        },
        "id": "dLC9Brx42ByA",
        "outputId": "bdd7613e-1d92-4ed0-a1c6-6355ef3e10b0"
      },
      "execution_count": 52,
      "outputs": [
        {
          "output_type": "execute_result",
          "data": {
            "text/plain": [
              "<gensim.models.word2vec.Word2Vec at 0x7fb94e0ee0d0>"
            ]
          },
          "metadata": {},
          "execution_count": 52
        }
      ]
    },
    {
      "cell_type": "code",
      "source": [
        "model.wv.vocab"
      ],
      "metadata": {
        "colab": {
          "base_uri": "https://localhost:8080/"
        },
        "id": "f2buQySw2Ekr",
        "outputId": "831ac3c6-9bb1-4f84-decc-116c577584ca"
      },
      "execution_count": 53,
      "outputs": [
        {
          "output_type": "execute_result",
          "data": {
            "text/plain": [
              "{\"''\": <gensim.models.keyedvectors.Vocab at 0x7fb94e0eecd0>,\n",
              " \"'s\": <gensim.models.keyedvectors.Vocab at 0x7fb94e0fe0d0>,\n",
              " ',': <gensim.models.keyedvectors.Vocab at 0x7fb94e0ee990>,\n",
              " '.': <gensim.models.keyedvectors.Vocab at 0x7fb94e0ee650>,\n",
              " ':': <gensim.models.keyedvectors.Vocab at 0x7fb94e12d590>,\n",
              " '?': <gensim.models.keyedvectors.Vocab at 0x7fb94e12d6d0>,\n",
              " '``': <gensim.models.keyedvectors.Vocab at 0x7fb94e0ee910>,\n",
              " 'across': <gensim.models.keyedvectors.Vocab at 0x7fb94e0fed90>,\n",
              " 'air': <gensim.models.keyedvectors.Vocab at 0x7fb94e0fe890>,\n",
              " 'america': <gensim.models.keyedvectors.Vocab at 0x7fb94e0fe810>,\n",
              " 'back': <gensim.models.keyedvectors.Vocab at 0x7fb94e0ee1d0>,\n",
              " 'beds': <gensim.models.keyedvectors.Vocab at 0x7fb94e0fe9d0>,\n",
              " 'began': <gensim.models.keyedvectors.Vocab at 0x7fb94e12d510>,\n",
              " 'caesar': <gensim.models.keyedvectors.Vocab at 0x7fb94e0fe190>,\n",
              " 'canyon': <gensim.models.keyedvectors.Vocab at 0x7fb94e0fe4d0>,\n",
              " 'childhood': <gensim.models.keyedvectors.Vocab at 0x7fb94e0ee190>,\n",
              " 'close': <gensim.models.keyedvectors.Vocab at 0x7fb94e12d3d0>,\n",
              " 'course': <gensim.models.keyedvectors.Vocab at 0x7fb94e0fe110>,\n",
              " 'daughter': <gensim.models.keyedvectors.Vocab at 0x7fb94e0fe290>,\n",
              " 'day': <gensim.models.keyedvectors.Vocab at 0x7fb94e0fe5d0>,\n",
              " 'days': <gensim.models.keyedvectors.Vocab at 0x7fb94e0fe790>,\n",
              " 'difficult': <gensim.models.keyedvectors.Vocab at 0x7fb94e0ee110>,\n",
              " 'dog': <gensim.models.keyedvectors.Vocab at 0x7fb94e0fe690>,\n",
              " 'door': <gensim.models.keyedvectors.Vocab at 0x7fb94e157750>,\n",
              " 'earlier': <gensim.models.keyedvectors.Vocab at 0x7fb94e0fe510>,\n",
              " 'edge': <gensim.models.keyedvectors.Vocab at 0x7fb94e0fe550>,\n",
              " 'established': <gensim.models.keyedvectors.Vocab at 0x7fb94e12d310>,\n",
              " 'even': <gensim.models.keyedvectors.Vocab at 0x7fb94e12d4d0>,\n",
              " 'evening': <gensim.models.keyedvectors.Vocab at 0x7fb94e125090>,\n",
              " 'events': <gensim.models.keyedvectors.Vocab at 0x7fb94e0eed10>,\n",
              " 'exciting': <gensim.models.keyedvectors.Vocab at 0x7fb94e12d110>,\n",
              " 'fabled': <gensim.models.keyedvectors.Vocab at 0x7fb94e0ee850>,\n",
              " 'faces': <gensim.models.keyedvectors.Vocab at 0x7fb94e125ad0>,\n",
              " 'feelings': <gensim.models.keyedvectors.Vocab at 0x7fb94e0ee410>,\n",
              " 'filled': <gensim.models.keyedvectors.Vocab at 0x7fb94e0ee810>,\n",
              " 'find': <gensim.models.keyedvectors.Vocab at 0x7fb94e0ee6d0>,\n",
              " 'finding': <gensim.models.keyedvectors.Vocab at 0x7fb94e12d450>,\n",
              " 'force': <gensim.models.keyedvectors.Vocab at 0x7fb94e0fe050>,\n",
              " 'forest': <gensim.models.keyedvectors.Vocab at 0x7fb94e0fe850>,\n",
              " 'found': <gensim.models.keyedvectors.Vocab at 0x7fb94f353590>,\n",
              " 'fun': <gensim.models.keyedvectors.Vocab at 0x7fb94e12d0d0>,\n",
              " 'fuzzy': <gensim.models.keyedvectors.Vocab at 0x7fb94e0eec50>,\n",
              " 'get': <gensim.models.keyedvectors.Vocab at 0x7fb94e157b90>,\n",
              " 'gone': <gensim.models.keyedvectors.Vocab at 0x7fb94e0fee50>,\n",
              " 'grand': <gensim.models.keyedvectors.Vocab at 0x7fb94e0fee90>,\n",
              " 'happiest': <gensim.models.keyedvectors.Vocab at 0x7fb94e0fe2d0>,\n",
              " 'hope': <gensim.models.keyedvectors.Vocab at 0x7fb94e1257d0>,\n",
              " 'house': <gensim.models.keyedvectors.Vocab at 0x7fb94e12d650>,\n",
              " 'houses': <gensim.models.keyedvectors.Vocab at 0x7fb94e12d050>,\n",
              " 'idea': <gensim.models.keyedvectors.Vocab at 0x7fb94e0fee10>,\n",
              " 'impersonal': <gensim.models.keyedvectors.Vocab at 0x7fb94e12d390>,\n",
              " 'joy': <gensim.models.keyedvectors.Vocab at 0x7fb94e1250d0>,\n",
              " 'jumped': <gensim.models.keyedvectors.Vocab at 0x7fb94e0fe210>,\n",
              " 'knew': <gensim.models.keyedvectors.Vocab at 0x7fb94e1252d0>,\n",
              " 'lake': <gensim.models.keyedvectors.Vocab at 0x7fb94e0fe390>,\n",
              " 'leaves': <gensim.models.keyedvectors.Vocab at 0x7fb94e0ee2d0>,\n",
              " 'little': <gensim.models.keyedvectors.Vocab at 0x7fb94e1258d0>,\n",
              " 'lives': <gensim.models.keyedvectors.Vocab at 0x7fb94e0fe910>,\n",
              " 'look': <gensim.models.keyedvectors.Vocab at 0x7fb94e0fe090>,\n",
              " 'looking': <gensim.models.keyedvectors.Vocab at 0x7fb94f3ab150>,\n",
              " 'major': <gensim.models.keyedvectors.Vocab at 0x7fb94e0fe950>,\n",
              " 'many': <gensim.models.keyedvectors.Vocab at 0x7fb94e0fec90>,\n",
              " 'match': <gensim.models.keyedvectors.Vocab at 0x7fb94e12d290>,\n",
              " 'memories': <gensim.models.keyedvectors.Vocab at 0x7fb94e0ee790>,\n",
              " 'minutes': <gensim.models.keyedvectors.Vocab at 0x7fb94e125290>,\n",
              " 'monstrous': <gensim.models.keyedvectors.Vocab at 0x7fb94e0fe650>,\n",
              " 'moving': <gensim.models.keyedvectors.Vocab at 0x7fb94e0fe8d0>,\n",
              " \"n't\": <gensim.models.keyedvectors.Vocab at 0x7fb94e157a50>,\n",
              " 'national': <gensim.models.keyedvectors.Vocab at 0x7fb94e0fea50>,\n",
              " 'neighbors': <gensim.models.keyedvectors.Vocab at 0x7fb94e12d410>,\n",
              " 'none': <gensim.models.keyedvectors.Vocab at 0x7fb94e12d1d0>,\n",
              " 'nothing': <gensim.models.keyedvectors.Vocab at 0x7fb94e12d490>,\n",
              " 'one': <gensim.models.keyedvectors.Vocab at 0x7fb94e0ee250>,\n",
              " 'ones': <gensim.models.keyedvectors.Vocab at 0x7fb94e12d210>,\n",
              " 'palace': <gensim.models.keyedvectors.Vocab at 0x7fb94e0fe150>,\n",
              " 'perfect': <gensim.models.keyedvectors.Vocab at 0x7fb94e12d610>,\n",
              " 'pick': <gensim.models.keyedvectors.Vocab at 0x7fb94e0eebd0>,\n",
              " 'picked': <gensim.models.keyedvectors.Vocab at 0x7fb94e0fe3d0>,\n",
              " 'pleasure': <gensim.models.keyedvectors.Vocab at 0x7fb94e0fec50>,\n",
              " 'pound': <gensim.models.keyedvectors.Vocab at 0x7fb94e0fed10>,\n",
              " 'process': <gensim.models.keyedvectors.Vocab at 0x7fb94e12d150>,\n",
              " 'puppy': <gensim.models.keyedvectors.Vocab at 0x7fb94e0fe250>,\n",
              " 'puppy…': <gensim.models.keyedvectors.Vocab at 0x7fb94e157fd0>,\n",
              " 'rather': <gensim.models.keyedvectors.Vocab at 0x7fb94e0ee550>,\n",
              " 'really': <gensim.models.keyedvectors.Vocab at 0x7fb94e12d5d0>,\n",
              " 'saw': <gensim.models.keyedvectors.Vocab at 0x7fb94e157c50>,\n",
              " 'seemed': <gensim.models.keyedvectors.Vocab at 0x7fb94e12d250>,\n",
              " 'sequoia': <gensim.models.keyedvectors.Vocab at 0x7fb94e0fe7d0>,\n",
              " 'setting': <gensim.models.keyedvectors.Vocab at 0x7fb94e125410>,\n",
              " 'small': <gensim.models.keyedvectors.Vocab at 0x7fb94e12d350>,\n",
              " 'specifications': <gensim.models.keyedvectors.Vocab at 0x7fb94e12d2d0>,\n",
              " 'squiggling': <gensim.models.keyedvectors.Vocab at 0x7fb94e125210>,\n",
              " 'stood': <gensim.models.keyedvectors.Vocab at 0x7fb94e0fe590>,\n",
              " 'stop': <gensim.models.keyedvectors.Vocab at 0x7fb94e1255d0>,\n",
              " 'sun': <gensim.models.keyedvectors.Vocab at 0x7fb94e125790>,\n",
              " 'supposed': <gensim.models.keyedvectors.Vocab at 0x7fb94e12d090>,\n",
              " 'tahoe': <gensim.models.keyedvectors.Vocab at 0x7fb94e0fef50>,\n",
              " 'traveling': <gensim.models.keyedvectors.Vocab at 0x7fb94e0fe6d0>,\n",
              " 'trees': <gensim.models.keyedvectors.Vocab at 0x7fb94e0fe450>,\n",
              " 'trips': <gensim.models.keyedvectors.Vocab at 0x7fb94e0fe750>,\n",
              " 'unfortunately': <gensim.models.keyedvectors.Vocab at 0x7fb94e12d190>,\n",
              " 'us': <gensim.models.keyedvectors.Vocab at 0x7fb94e12d690>,\n",
              " 'visited': <gensim.models.keyedvectors.Vocab at 0x7fb94e0fe490>,\n",
              " 'walking': <gensim.models.keyedvectors.Vocab at 0x7fb94e125450>,\n",
              " 'warm': <gensim.models.keyedvectors.Vocab at 0x7fb94e0ee450>,\n",
              " 'week': <gensim.models.keyedvectors.Vocab at 0x7fb94e0fea10>,\n",
              " 'within': <gensim.models.keyedvectors.Vocab at 0x7fb94e125850>,\n",
              " 'wonder': <gensim.models.keyedvectors.Vocab at 0x7fb94e12d550>,\n",
              " 'would': <gensim.models.keyedvectors.Vocab at 0x7fb94e0fe610>}"
            ]
          },
          "metadata": {},
          "execution_count": 53
        }
      ]
    },
    {
      "cell_type": "code",
      "source": [
        "vectors=model.wv['process']"
      ],
      "metadata": {
        "id": "xGZj42Ft2KdA"
      },
      "execution_count": 56,
      "outputs": []
    },
    {
      "cell_type": "code",
      "source": [
        "vectors"
      ],
      "metadata": {
        "colab": {
          "base_uri": "https://localhost:8080/"
        },
        "id": "4MFd78zz2V4O",
        "outputId": "392f7b5a-bcab-4ab7-ccda-c5be5f645ecf"
      },
      "execution_count": 57,
      "outputs": [
        {
          "output_type": "execute_result",
          "data": {
            "text/plain": [
              "array([-4.1149748e-03,  1.2986665e-03,  9.6577685e-04,  1.9141100e-04,\n",
              "       -5.8921200e-04, -4.8129275e-03,  2.7792878e-03,  2.7740414e-03,\n",
              "        2.6816896e-03, -3.0678237e-04,  3.2433146e-03,  4.2233272e-03,\n",
              "       -4.9814931e-04,  4.5187897e-03, -3.1585949e-03,  4.8445657e-04,\n",
              "        1.5608789e-03, -3.3470229e-03,  3.0478314e-03,  2.8045585e-03,\n",
              "       -8.9164893e-04,  4.7077159e-03,  1.2952124e-03,  1.4510544e-03,\n",
              "       -4.9489917e-04, -2.8668607e-03,  4.8675733e-03, -4.4047441e-03,\n",
              "        2.6284584e-03,  4.8457249e-03, -1.1054959e-04, -8.7909505e-04,\n",
              "        4.6171140e-04,  1.1215529e-03,  1.7971434e-03, -1.1578047e-03,\n",
              "       -3.8891661e-03,  9.9630481e-05,  2.8692479e-03,  2.9844048e-03,\n",
              "       -1.8490750e-03,  1.6433728e-03,  4.8857364e-03,  2.9533298e-03,\n",
              "       -1.7027764e-03, -4.2307749e-03,  1.7935798e-03,  3.5534299e-03,\n",
              "       -4.5778635e-03, -2.3752337e-03, -4.6045627e-04,  4.3202476e-03,\n",
              "       -3.3170183e-03,  2.8180615e-03,  3.2284227e-04,  1.6474444e-03,\n",
              "       -2.5625559e-04, -6.4938184e-04, -1.3318679e-03,  4.6709771e-03,\n",
              "        1.3130654e-03,  1.4159301e-03, -2.1823023e-03, -5.0015068e-03,\n",
              "       -3.5288332e-03, -7.9984654e-04, -3.2597836e-03,  4.4041788e-03,\n",
              "        4.4603343e-03, -4.7071050e-03, -4.9690870e-03,  8.5676926e-05,\n",
              "       -1.5663385e-03, -4.7438252e-03, -2.5582430e-03,  1.8763382e-03,\n",
              "       -1.2565285e-03, -7.4303325e-04,  8.2158012e-04,  3.4588698e-04,\n",
              "       -1.4789606e-03,  2.8824047e-03, -8.4883865e-04, -3.9378479e-03,\n",
              "       -1.2143530e-03,  1.9819490e-03,  7.2133756e-04,  3.8105010e-03,\n",
              "       -1.3744060e-04, -3.4790477e-03, -4.7070472e-04, -7.2552898e-04,\n",
              "        3.6406941e-03, -3.2431027e-03,  3.5434498e-03, -2.3443924e-04,\n",
              "        4.9514035e-03, -1.1283463e-03, -3.7294547e-03,  2.5165928e-04],\n",
              "      dtype=float32)"
            ]
          },
          "metadata": {},
          "execution_count": 57
        }
      ]
    },
    {
      "cell_type": "code",
      "source": [
        "model.wv.most_similar('trees',topn=20)"
      ],
      "metadata": {
        "colab": {
          "base_uri": "https://localhost:8080/"
        },
        "id": "LDjCfGwH2ck1",
        "outputId": "fb3969f5-88ea-4746-99fc-53581a38c41d"
      },
      "execution_count": 59,
      "outputs": [
        {
          "output_type": "execute_result",
          "data": {
            "text/plain": [
              "[('days', 0.22498995065689087),\n",
              " ('tahoe', 0.1972578465938568),\n",
              " ('evening', 0.15323898196220398),\n",
              " ('pound', 0.14352631568908691),\n",
              " ('perfect', 0.14052952826023102),\n",
              " ('stood', 0.13394519686698914),\n",
              " ('picked', 0.13394159078598022),\n",
              " (\"n't\", 0.13090381026268005),\n",
              " ('force', 0.1299690157175064),\n",
              " ('?', 0.1285313367843628),\n",
              " ('joy', 0.12709081172943115),\n",
              " ('specifications', 0.1248747855424881),\n",
              " ('gone', 0.1133418083190918),\n",
              " ('monstrous', 0.11011383682489395),\n",
              " ('nothing', 0.10634148120880127),\n",
              " ('dog', 0.10065053403377533),\n",
              " (':', 0.09775034338235855),\n",
              " ('course', 0.09108187258243561),\n",
              " ('air', 0.09102833271026611),\n",
              " ('close', 0.08906251937150955)]"
            ]
          },
          "metadata": {},
          "execution_count": 59
        }
      ]
    },
    {
      "cell_type": "code",
      "source": [
        "import gensim.downloader"
      ],
      "metadata": {
        "id": "G2fBiDZK2nfO"
      },
      "execution_count": 60,
      "outputs": []
    },
    {
      "cell_type": "code",
      "source": [
        "print(list(gensim.downloader.info()['models'].keys()))"
      ],
      "metadata": {
        "colab": {
          "base_uri": "https://localhost:8080/"
        },
        "id": "iRuDoeHQ3RNO",
        "outputId": "7289f8b6-0a0c-440f-877d-9179ba4f3f51"
      },
      "execution_count": 61,
      "outputs": [
        {
          "output_type": "stream",
          "name": "stdout",
          "text": [
            "['fasttext-wiki-news-subwords-300', 'conceptnet-numberbatch-17-06-300', 'word2vec-ruscorpora-300', 'word2vec-google-news-300', 'glove-wiki-gigaword-50', 'glove-wiki-gigaword-100', 'glove-wiki-gigaword-200', 'glove-wiki-gigaword-300', 'glove-twitter-25', 'glove-twitter-50', 'glove-twitter-100', 'glove-twitter-200', '__testing_word2vec-matrix-synopsis']\n"
          ]
        }
      ]
    },
    {
      "cell_type": "code",
      "source": [
        "twitter=gensim.downloader.load('glove-twitter-25')"
      ],
      "metadata": {
        "colab": {
          "base_uri": "https://localhost:8080/"
        },
        "id": "3s2IgSa_3XzZ",
        "outputId": "8413d0bb-600a-478b-d0ee-757730dc6757"
      },
      "execution_count": 62,
      "outputs": [
        {
          "output_type": "stream",
          "name": "stdout",
          "text": [
            "[==================================================] 100.0% 104.8/104.8MB downloaded\n"
          ]
        }
      ]
    },
    {
      "cell_type": "code",
      "source": [
        "twitter.wv.most_similar('twitter')"
      ],
      "metadata": {
        "colab": {
          "base_uri": "https://localhost:8080/"
        },
        "id": "N4wvmWzx3fNN",
        "outputId": "65c77fd0-0293-4bdf-e828-28e0d7866f78"
      },
      "execution_count": 63,
      "outputs": [
        {
          "output_type": "stream",
          "name": "stderr",
          "text": [
            "/usr/local/lib/python3.7/dist-packages/ipykernel_launcher.py:1: DeprecationWarning: Call to deprecated `wv` (Attribute will be removed in 4.0.0, use self instead).\n",
            "  \"\"\"Entry point for launching an IPython kernel.\n"
          ]
        },
        {
          "output_type": "execute_result",
          "data": {
            "text/plain": [
              "[('facebook', 0.9480051398277283),\n",
              " ('tweet', 0.9403422474861145),\n",
              " ('fb', 0.9342358708381653),\n",
              " ('instagram', 0.9104823470115662),\n",
              " ('chat', 0.8964964747428894),\n",
              " ('hashtag', 0.8885936141014099),\n",
              " ('tweets', 0.8878157734870911),\n",
              " ('tl', 0.8778461813926697),\n",
              " ('link', 0.877821147441864),\n",
              " ('internet', 0.8753897547721863)]"
            ]
          },
          "metadata": {},
          "execution_count": 63
        }
      ]
    },
    {
      "cell_type": "code",
      "source": [
        ""
      ],
      "metadata": {
        "id": "g6LsGN6M33dV"
      },
      "execution_count": null,
      "outputs": []
    }
  ]
}