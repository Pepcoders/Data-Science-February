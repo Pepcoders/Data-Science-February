{
  "nbformat": 4,
  "nbformat_minor": 0,
  "metadata": {
    "colab": {
      "name": "Streamlit.ipynb",
      "provenance": [],
      "authorship_tag": "ABX9TyOLdOvFTQ4lh+3eajOwZOWR",
      "include_colab_link": true
    },
    "kernelspec": {
      "name": "python3",
      "display_name": "Python 3"
    },
    "language_info": {
      "name": "python"
    }
  },
  "cells": [
    {
      "cell_type": "markdown",
      "metadata": {
        "id": "view-in-github",
        "colab_type": "text"
      },
      "source": [
        "<a href=\"https://colab.research.google.com/github/Pepcoders/Data-Science-February/blob/main/Streamlit/Streamlit-Demo.ipynb\" target=\"_parent\"><img src=\"https://colab.research.google.com/assets/colab-badge.svg\" alt=\"Open In Colab\"/></a>"
      ]
    },
    {
      "cell_type": "code",
      "source": [
        "!pip install -q streamlit"
      ],
      "metadata": {
        "id": "g6uvYQo0x-OY"
      },
      "execution_count": null,
      "outputs": []
    },
    {
      "cell_type": "code",
      "source": [
        "%%writefile app.py\n",
        "import streamlit as st\n",
        "import numpy as np\n",
        "import pandas as pd\n",
        "\n",
        "st.title(\"Deam app\")\n",
        "\n",
        "st.header(\"Header\")\n",
        "st.subheader(\"Sub Header\")\n",
        "\n",
        "name = st.text_input(\"Enter your name\")\n",
        "st.write(name)\n",
        "\n",
        "mobile = st.number_input(\"Mobile\")\n",
        "st.write(mobile)\n",
        "\n",
        "\n",
        "# col1, col2 = st.columns(2)\n",
        "# fname = col1.text_input(\"First Name\")\n",
        "# lname = col2.text_input(\"Last Name\")\n",
        "\n",
        "# st.write(fname + lname)\n",
        "\n",
        "# st.text_area(\"Message\")\n",
        "\n",
        "# data = np.random.randn(10, 3)\n",
        "# df = pd.DataFrame(data, columns = {\"A\", \"B\", \"C\"})\n",
        "\n",
        "# st.table(df)\n",
        "# st.dataframe(df)\n",
        "\n",
        "\n",
        "# st.line_chart(df)\n",
        "# st.bar_chart(df)\n",
        "# st.map()\n",
        "\n",
        "# img = st.file_uploader(\"Upload you photo\")\n",
        "\n",
        "# if st.checkbox(\"Show Image\"):\n",
        "#   st.image(img)\n",
        "\n",
        "\n",
        "# skills = st.multiselect(\"Skills\", [\"Python\", \"Java\", \"CPP\"])\n",
        "\n",
        "# gender = st.radio(\"Gender\", [\"Male\",\"Female\"])\n",
        "\n",
        "# contact = st.sidebar.selectbox(\"Comtact\", [\"Phone\",\"Email\"])\n",
        "\n",
        "\n",
        "# st.write(skills)\n",
        "# st.write(gender)\n",
        "# st.write(contact)\n",
        "\n",
        "if st.button(\"Submit\"):\n",
        "  with open(\"data.txt\", \"a\") as f:  \n",
        "    f.write(str(name) + str(mobile) + \"\\n\")\n",
        "\n",
        "  st.write(\"Data submitted\")\n"
      ],
      "metadata": {
        "colab": {
          "base_uri": "https://localhost:8080/"
        },
        "id": "61cDz1lox2cO",
        "outputId": "c01193d0-b00b-46d9-bb5d-6f5ea72b1487"
      },
      "execution_count": null,
      "outputs": [
        {
          "output_type": "stream",
          "name": "stdout",
          "text": [
            "Overwriting app.py\n"
          ]
        }
      ]
    },
    {
      "cell_type": "code",
      "source": [
        "%%writefile app.py\n",
        "import streamlit as st\n",
        "\n",
        "st.title(\"Regustration Form\")\n",
        "\n",
        "col1, col2 = st.columns(2)\n",
        "fname = col1.text_input(\"First Name\")\n",
        "lname = col2.text_input(\"Last Name\")\n",
        "\n",
        "college = st.text_input(\"College Name\")\n",
        "email = st.text_input(\"Email\")\n",
        "phone = st.number_input(\"Phone\")\n",
        "\n",
        "address = st.text_area(\"Address\")\n",
        "gender = st.radio(\"Gender\", [\"Male\", \"Female\"])\n",
        "\n",
        "st.button(\"Submit\")"
      ],
      "metadata": {
        "colab": {
          "base_uri": "https://localhost:8080/"
        },
        "id": "Ub14OfQFGFhd",
        "outputId": "0075600d-185e-42a2-c3be-53cc5cf262ad"
      },
      "execution_count": null,
      "outputs": [
        {
          "output_type": "stream",
          "name": "stdout",
          "text": [
            "Overwriting app.py\n"
          ]
        }
      ]
    },
    {
      "cell_type": "code",
      "source": [
        "!cat data.txt"
      ],
      "metadata": {
        "colab": {
          "base_uri": "https://localhost:8080/"
        },
        "id": "_Sb98PqpEd46",
        "outputId": "c7addf5f-0832-4b2d-ccd3-3c56318f54cf"
      },
      "execution_count": null,
      "outputs": [
        {
          "output_type": "stream",
          "name": "stdout",
          "text": [
            "python9090.0\n",
            "abc123.0\n",
            "abc123.0\n",
            "surbhi8899.0\n",
            "hii10098.0\n",
            "hii10098.0\n",
            "hii10098.0\n"
          ]
        }
      ]
    },
    {
      "cell_type": "code",
      "source": [
        "import pandas as pd\n",
        "data = {\"Name\":[\"name\",], \"Mobile\":[\"mobile\",]}\n",
        "df = pd.DataFrame(data)\n",
        "df.to_csv(\"data.csv\")"
      ],
      "metadata": {
        "id": "lT4KhO3MBQpy"
      },
      "execution_count": null,
      "outputs": []
    },
    {
      "cell_type": "code",
      "source": [
        "!cat app.py"
      ],
      "metadata": {
        "colab": {
          "base_uri": "https://localhost:8080/"
        },
        "id": "B5pNAD0YzLH4",
        "outputId": "16ced7c4-29bf-4d70-fb0a-7c8555f2961f"
      },
      "execution_count": null,
      "outputs": [
        {
          "output_type": "stream",
          "name": "stdout",
          "text": [
            "import streamlit as st\n",
            "import numpy as np\n",
            "import pandas as pd\n",
            "\n",
            "\n",
            "st.title(\"Deam app\")\n",
            "\n",
            "st.header(\"Header\")\n",
            "st.subheader(\"Sub Header\")\n",
            "\n",
            "name = st.text_input(\"Enter your name\")\n",
            "st.write(name)\n",
            "\n",
            "mobile = st.number_input(\"Mobile\")\n",
            "st.write(mobile)\n"
          ]
        }
      ]
    },
    {
      "cell_type": "code",
      "source": [
        "!streamlit run app.py --server.port 5301 &>server.out &"
      ],
      "metadata": {
        "id": "SLhZmTpSzN-b"
      },
      "execution_count": null,
      "outputs": []
    },
    {
      "cell_type": "code",
      "source": [
        "!cat server.out"
      ],
      "metadata": {
        "colab": {
          "base_uri": "https://localhost:8080/"
        },
        "id": "6yNON7zw0C6c",
        "outputId": "de2fede7-a49d-4737-95cd-f084ab7f3994"
      },
      "execution_count": null,
      "outputs": [
        {
          "output_type": "stream",
          "name": "stdout",
          "text": [
            "2022-05-31 16:05:21.130 INFO    numexpr.utils: NumExpr defaulting to 2 threads.\n",
            "2022-05-31 16:05:22.552 Port 5301 is already in use\n"
          ]
        }
      ]
    },
    {
      "cell_type": "code",
      "source": [
        "!nohup npx localtunnel --port 5301 &"
      ],
      "metadata": {
        "colab": {
          "base_uri": "https://localhost:8080/"
        },
        "id": "OwT4qU1w0lQ8",
        "outputId": "b3a9ded3-0220-4ffb-838c-69c7e71b06cf"
      },
      "execution_count": null,
      "outputs": [
        {
          "output_type": "stream",
          "name": "stdout",
          "text": [
            "nohup: appending output to 'nohup.out'\n"
          ]
        }
      ]
    },
    {
      "cell_type": "code",
      "source": [
        "!cat nohup.out"
      ],
      "metadata": {
        "colab": {
          "base_uri": "https://localhost:8080/"
        },
        "id": "FJnheKNs1Mdr",
        "outputId": "bd52ec24-863f-4235-e260-6686580f2e29"
      },
      "execution_count": null,
      "outputs": [
        {
          "output_type": "stream",
          "name": "stdout",
          "text": [
            "npx: installed 22 in 3.902s\n",
            "your url is: https://quick-tires-talk-34-138-151-69.loca.lt\n",
            "npx: installed 22 in 2.464s\n",
            "your url is: https://stale-glasses-decide-34-138-151-69.loca.lt\n",
            "npx: installed 22 in 1.764s\n"
          ]
        }
      ]
    },
    {
      "cell_type": "code",
      "source": [
        ""
      ],
      "metadata": {
        "id": "uSc5lhcz1TQm"
      },
      "execution_count": null,
      "outputs": []
    }
  ]
}