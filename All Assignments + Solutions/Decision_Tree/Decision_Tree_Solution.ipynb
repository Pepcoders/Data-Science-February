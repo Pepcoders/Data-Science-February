{
  "nbformat": 4,
  "nbformat_minor": 0,
  "metadata": {
    "colab": {
      "name": "Decision Tree Assignment Solution.ipynb",
      "provenance": [],
      "collapsed_sections": [],
      "toc_visible": true,
      "include_colab_link": true
    },
    "kernelspec": {
      "name": "python3",
      "display_name": "Python 3"
    },
    "language_info": {
      "name": "python"
    },
    "widgets": {
      "application/vnd.jupyter.widget-state+json": {
        "2abe68b68a224eb3a421c6f03e0bad68": {
          "model_module": "@jupyter-widgets/controls",
          "model_name": "VBoxModel",
          "model_module_version": "1.5.0",
          "state": {
            "_view_name": "VBoxView",
            "_dom_classes": [
              "widget-interact"
            ],
            "_model_name": "VBoxModel",
            "_view_module": "@jupyter-widgets/controls",
            "_model_module_version": "1.5.0",
            "_view_count": null,
            "_view_module_version": "1.5.0",
            "box_style": "",
            "layout": "IPY_MODEL_1ab7500b055a45cb95b48c416a3584ae",
            "_model_module": "@jupyter-widgets/controls",
            "children": [
              "IPY_MODEL_9f45485087434cbb863943745e24b2ff",
              "IPY_MODEL_e8628017b06442238868e70857a976b3"
            ]
          }
        },
        "1ab7500b055a45cb95b48c416a3584ae": {
          "model_module": "@jupyter-widgets/base",
          "model_name": "LayoutModel",
          "model_module_version": "1.2.0",
          "state": {
            "_view_name": "LayoutView",
            "grid_template_rows": null,
            "right": null,
            "justify_content": null,
            "_view_module": "@jupyter-widgets/base",
            "overflow": null,
            "_model_module_version": "1.2.0",
            "_view_count": null,
            "flex_flow": null,
            "width": null,
            "min_width": null,
            "border": null,
            "align_items": null,
            "bottom": null,
            "_model_module": "@jupyter-widgets/base",
            "top": null,
            "grid_column": null,
            "overflow_y": null,
            "overflow_x": null,
            "grid_auto_flow": null,
            "grid_area": null,
            "grid_template_columns": null,
            "flex": null,
            "_model_name": "LayoutModel",
            "justify_items": null,
            "grid_row": null,
            "max_height": null,
            "align_content": null,
            "visibility": null,
            "align_self": null,
            "height": null,
            "min_height": null,
            "padding": null,
            "grid_auto_rows": null,
            "grid_gap": null,
            "max_width": null,
            "order": null,
            "_view_module_version": "1.2.0",
            "grid_template_areas": null,
            "object_position": null,
            "object_fit": null,
            "grid_auto_columns": null,
            "margin": null,
            "display": null,
            "left": null
          }
        },
        "9f45485087434cbb863943745e24b2ff": {
          "model_module": "@jupyter-widgets/controls",
          "model_name": "IntSliderModel",
          "model_module_version": "1.5.0",
          "state": {
            "_view_name": "IntSliderView",
            "style": "IPY_MODEL_a0f0e00cbf4d474ea7ba1bdcaff6973d",
            "_dom_classes": [],
            "description": "max_depth",
            "step": 1,
            "_model_name": "IntSliderModel",
            "orientation": "horizontal",
            "max": 9,
            "_view_module": "@jupyter-widgets/controls",
            "_model_module_version": "1.5.0",
            "value": 3,
            "_view_count": null,
            "disabled": false,
            "_view_module_version": "1.5.0",
            "min": -3,
            "continuous_update": true,
            "readout_format": "d",
            "description_tooltip": null,
            "readout": true,
            "_model_module": "@jupyter-widgets/controls",
            "layout": "IPY_MODEL_09d39510ede54cc8a227b3eed3949746"
          }
        },
        "e8628017b06442238868e70857a976b3": {
          "model_module": "@jupyter-widgets/output",
          "model_name": "OutputModel",
          "model_module_version": "1.0.0",
          "state": {
            "_view_name": "OutputView",
            "msg_id": "",
            "_dom_classes": [],
            "_model_name": "OutputModel",
            "outputs": [
              {
                "output_type": "display_data",
                "data": {
                  "image/png": "iVBORw0KGgoAAAANSUhEUgAAAXkAAAD4CAYAAAAJmJb0AAAABHNCSVQICAgIfAhkiAAAAAlwSFlzAAALEgAACxIB0t1+/AAAADh0RVh0U29mdHdhcmUAbWF0cGxvdGxpYiB2ZXJzaW9uMy4yLjIsIGh0dHA6Ly9tYXRwbG90bGliLm9yZy+WH4yJAAAgAElEQVR4nO3de3SV9Z3v8fc3ISThlgsELwmRiIDcIUSHqmVE7MFqK0i9dXWm0tNKte05M6dTTqE9tT2duqTLOdOOqz3jcE5d1TPOCNqCKF6qRQdtQU24qQjK3QTkFsI1Cbn8zh/P3jGEnWTv7L3z7Gfn81qLlZ3nebKf78Ply2//Lt+fOecQEZH0lOF3ACIikjxK8iIiaUxJXkQkjSnJi4ikMSV5EZE01s/vANobNmyYGzlypN9hiIgESlVV1VHnXFGkcymV5EeOHEllZaXfYYiIBIqZ7evsnLprRETSmJK8iEgaU5IXEUljKdUnLyLpo6mpierqahoaGvwOJW3k5ORQUlJCVlZW1D+jJC8iSVFdXc3gwYMZOXIkZuZ3OIHnnOPYsWNUV1dTVlYW9c/FneTNLAdYB2SH3u8Z59yPzawMeAoYClQBf+2cOxfv/aRnVm2q4eGXd3Cgrp5L83NZNGcs86YV+x2WpLGGhgYl+AQyM4YOHcqRI0di+rlE9Mk3Ajc456YAU4GbzGwG8HPgF865K4DjwNcTcC/pgVWbaljy+3epqavHATV19Sz5/bus2lTjd2iS5pTgE6snv59xJ3nnOR36Niv0ywE3AM+Ejj8OzIv3XtIzD7+8g/qmlvOO1Te18PDLOy64dtWmGq5dupayxWu4dula/UcgEnAJmV1jZplmthk4DLwC7ALqnHPNoUuqgYh9A2a20Mwqzawy1o8hfV20CflAXX1Ux9Xil3T2k5/8hH/4h3/o0c9u3ryZF154ISHv1Zlnn32WyZMnM3XqVCoqKnjzzTcT8r4JSfLOuRbn3FSgBLgauDKGn13mnKtwzlUUFUVclSsRxJKQL83PjfgeHY/H0uIX6Us6JvlkmD17Nlu2bGHz5s089thjfOMb30jI+yZ0nrxzrg54DfgMkG9m4YHdEkDNwQSKJSEvmjOW3KzM847lZmWyaM7Y845F2+IXCYoHH3yQMWPGcN1117Fjx6f/Nnbt2sVNN93E9OnT+exnP8v27dsBWLBgAffddx8VFRWMGTOG559/nnPnzvHAAw+wfPlypk6dyvLlywHYtm0b119/PZdffjmPPPJI3LEOGjSorc/9zJkzCRvPSMTsmiKgyTlXZ2a5wOfwBl1fA27Hm2FzD/BsvPeST8WSkMOzaLqbXXNpfi41EX6+s08CIlGr+ls4vjmx71kwFab/svNbVlXx1FNPsXnzZpqbmykvL2f69OkALFy4kEcffZTRo0fz1ltv8a1vfYu1a9cCsHfvXt5++2127drFrFmz2LlzJz/96U+prKzkV7/6FeB112zfvp3XXnuNU6dOMXbsWO6///4L5q/fdddd5/3nEvbd736Xr371qxccX7lyJUuWLOHw4cOsWbOmx7817SVinvwlwONmlon3yWCFc+55M9sGPGVmPwM2Ab9JwL0kJNaEPG9acbdTJhfNGcuS37973ieESC1+kSB44403uO222xgwYAAAt956KwCnT5/mz3/+M3fccUfbtY2NjW2v77zzTjIyMhg9ejSXX355Wyu/o1tuuYXs7Gyys7MZPnw4hw4doqSk5Lxrwq3+aN12223cdtttrFu3jh/96Ee8+uqrMf18JHEneefcVmBahOO78frnJQmSkZCjbfGHae69RK2LFndva21tJT8/n82bI3+y6NhN0lm3SXZ2dtvrzMxMmpubL7gm1pZ82MyZM9m9ezdHjx5l2LBhnV4XDa14DahYE3Is7xvNe4QHfsP/yYQHftvHJuKnmTNnsmDBApYsWUJzczPPPfcc3/zmNxkyZAhlZWU8/fTT3HHHHTjn2Lp1K1OmTAHg6aef5p577mHPnj3s3r2bsWPHsnPnTk6dOhVzDLG05Hfu3MmoUaMwMzZu3EhjYyNDhw6N+Z4dKckHWLQJORm6GvhVkpdUUF5ezl133cWUKVMYPnw4V111Vdu5J598kvvvv5+f/exnNDU1cffdd7cl+dLSUq6++mpOnjzJo48+Sk5ODrNmzWLp0qVMnTqVJUuWJCXe3/3udzzxxBNkZWWRm5vL8uXLEzL4as65BISXGBUVFU6bhgSjG6Rs8Roi/c0xYM/SW3o7HElBH3zwAePGjfM7jJgsWLCAL3zhC9x+++1+h9KpSL+vZlblnKuIdL1KDaeYoCxIinbuvYj4S0k+xQRlQVK0c+9FguS3v/1tSrfie0J98ikmKAuSkjXwKyKJpSSfYoK0IMnPgV8RiY66a1KMukFEJJHUkk+ETYvg4CsJeat5wKypTRw+1UhTSytZmRkMH5xN3sEsOJiQWwTDuEVQ9hW/oxAJPCX5eLU2wYe/goEjYUhiWtt5gyAvjQpyHqxr4KPDp2hoaiUnK4PRwwdzSX5O5z9w5M+w+zEleelVr7/+Ov379+eaa67p8XsMGjSI06dPd39hL1KSj9eJbdDSABMfgJFf9jualLNqUw1LXulQfmFfJg/Nn9R5f/7b98H+FeAcaGch6SWvv/46gwYNiivJpyL1ycfr2Dve18KI6xD6vB5NCS0sh3PH4cy+JEcnqSRZu5LNmzeP6dOnM2HCBJYtWwbASy+9RHl5OVOmTGH27Nns3buXRx99lF/84hdMnTqVN954gwULFvDMM8+0vc+gQYMAr8DZ7NmzKS8vZ9KkSTz7bGoX2FVLPl61lZCVB4Ov8DuSlNSjKaEFoXp3xzfCoJGJD0pSTjJrIT322GMUFhZSX1/PVVddxdy5c7n33ntZt24dZWVl1NbWUlhYyH333cegQYP43ve+B8BvfhO5cG5OTg4rV65kyJAhHD16lBkzZnDrrbem7H62asnH69g7Xis+Rf+A/dajlbH5k8AyoXZjkqKSVJPMRYCPPPIIU6ZMYcaMGXz88ccsW7aMmTNnUlZWBkBhYWFM7+ec4wc/+AGTJ0/mxhtvpKamhkOHDsUdZ7IoycejpQFOvAtDr+r20r66QXaPpoRm5kDeBCX5PiRZiwBff/11Xn31VdavX8+WLVuYNm0aU6dOjepn+/XrR2trK+CVJz537hzgFTc7cuQIVVVVbN68mYsuuoiGhoa44kwmJfl4HN/qza7ppj8+KPVokmHetGIemj+J4vxcDCjOz+160DWssByOb+qVGMV/yaqFdOLECQoKChgwYADbt29nw4YNNDQ0sG7dOvbs2QNAbW0tAIMHDz6vnPDIkSOpqqoCYPXq1TQ1NbW95/Dhw8nKyuK1115j377UHjtSko9HbahiZjct+aDUo0mWedOK+dPiG9iz9Bb+tPiG6PpYC6ZBwydQ35cWB/RdyVoEeNNNN9Hc3My4ceNYvHgxM2bMoKioiGXLljF//nymTJnCXXfdBcAXv/hFVq5c2Tbweu+99/If//EfTJkyhfXr1zNw4EAAvvKVr1BZWcmkSZN44oknuPLKK+OKMdk08BqP2ncguwgGjOjysqDUo0kpBeXe19qNUKzSxekuWbWQsrOzefHFFyOe+/znP3/e92PGjGHr1q3nHduwYUPb65///OcADBs2jPXr10d8z1SbIw9K8vE5VhnVoGuQ6tGkjIIpgCnJ9yGqhZQc6q7pqeYzcHJbVIOuqkfTA1mDYcgYbxqliPSYWvI9VbsJXGtUi6BUlreHCsrh6J/9jkLi4JxL2fnjQdSTnfyU5HuqbdA1upWu+ijaAwXTYN+/Q+MxyI5/Q2PpXTk5ORw7doyhQ4cq0SeAc45jx46Rk9NF3acIlOR76tg7kFsMuZf4HUn6KgwNvh7fBBff6G8sErOSkhKqq6s5cuSI36GkjZycHEpKSmL6GSX5nqqtjKo/XmLTfhPzsYVNvFSCN/iqJB84WVlZbatKxT9xD7ya2Qgze83MtpnZ+2b2N6HjhWb2ipl9FPpaEH+4KeJcHZz6UEXJEqzjorHttVlUn7uI6t1/8js0kcBKxOyaZuDvnHPjgRnAt81sPLAY+KNzbjTwx9D36SG83F5JPqEiLRp7r/5yWo9pho1IT8Wd5J1zB51zG0OvTwEfAMXAXODx0GWP4216lB5iHHSV6ERaHPZe/ShKs6qh6aQPEYkEX0LnyZvZSGAa8BZwkXMuvCb9E+CiTn5moZlVmlllYAZojr0DA8s04yPBIi0Oe69+lPfi+JZejkYkPSQsyZvZIOB3wN86585rdjlvcmfECZ7OuWXOuQrnXEVRUUD2vNOga1JEWjS2q2mM90IVKUV6JCGza8wsCy/BP+mc+33o8CEzu8Q5d9DMLgEOJ+Jevms4Amf2wuhvAefPBtEip/hEWjT2d3Omwt5LtPJVpIfiTvLmrXL4DfCBc+4f251aDdwDLA19Te09sqJV65UeZehVSd3Npq+KuGjsxDSVHRbpoUR011wL/DVwg5ltDv26GS+5f87MPgJuDH0ffG17upb3+RLCvaag3NswvVlVO0ViFXdL3jn3JtDZmuXZ8b5/yqmthCFjIWuISgj3lsJycC1Q9y4Mu9rvaEQCRVUoY1X7DhR6g67J2s1GOmgrb6B+eZFYKcnH4uwBb6ei0CIolRDuJQNKoX+B+uVFekC1a2LRYbs/lRDuJWZev7ymUYrETEk+FsfeAcuEgk93e1cJ4V5SWA47/snbOD0jy+9oRAJD3TWxqK2EvAnQb4DfkfQ9BeXQes6bZSMiUVOSj5ZzoUFX1avxRWG7jb1FJGpK8tE6s8/boUjlDPwx+AroN0iDryIxUp98tGrDi6DUkveFZXhjIaFplConIRIdteSjdazSG/DLn+R3JH1XQTkc38yqjfvP21wkXE5i1aYavyMUSTlK8tGqfQfyp0Bmtt+R9F2F5dB8huVr16qchEiUlOSj4Vq9wmTqqvFXwTQAhje/H/G0ykmIXEhJPhqndno7E2nQ1V954yAjm7/I3x/xtMpJiFxIST4axzTomhIysiB/Mp+7uEblJESipCQfjdpKyMyFvPF+RyKF5RQ1vc9Dt02kOD8XA4rzc3lo/iTNrhGJQFMoI+g4PW/12D8xtGAaZOi3y3eF5bDzX5g3pol55Tf4HY1IylNLvoPwbk/h6Xmf1J0m98xWdrVc6XdoAm2Dr1r5KhIdJfkOOu72dEXOxwzIaORfPxruY1TSJn+SVyROK19FoqIk30HHaXiTcz8CYN2xy/wIRzrKzPGKxKklLxIVJfkOOk7Dm5S7k1MtuTTmXuFTRHKBwnI4XuUVjRORLinJd9Bxt6fJAz5kW8NovjdnnI9RyXkKpkHDYW+XLhHpkpJ8B/OmFfPQ/EkU5+fS35oYn7uXwhHXaHpeKinQnq8i0dKcwAjadnuqrYKXmhg9bpbfIUl7BVMAg9pNUPwFv6MRSWlqyXfl2Pl7ukqKyBoMQ8aoJS8SBSX5rtS+A/0LYeBIvyORjrSxt0hUEpLkzewxMztsZu+1O1ZoZq+Y2UehrwWJuFevOlbp1asx8zsS6ahgGpzdDw1H/Y5EJKUlqiX/W+CmDscWA390zo0G/hj6Pjiaz8KJ99RVk6rCe75qUZRIlxIy8OqcW2dmIzscngtcH3r9OPA68P1E3C8ue5+CI290f925WnAtqjyZqsLlDY5vgks+1+Wl2ipQ+rJkzq65yDkXnsj8CXBRpIvMbCGwEKC0tDSJ4eC1zt/6uve634Durx88BoZ/NrkxSc9kh8ZKuumXD9ciCpeqCG8VCCjRS5/QK1MonXPOzCIuT3TOLQOWAVRUVCR3CeOBF6DlLMxeCxdpWmTgFUzrdoZNx1pE8OlWgUry0hckM8kfMrNLnHMHzewS4HAS7xWd/SsgZzgUzfQ7EkmEwnKoXgnPd14h9InhZ6Cz2nLPD4x8POdiuP5F6KedpiT4kpnkVwP3AEtDX59N4r2613wGap6Hy78GGZndXy+pb+RX4OSH0Hqu00v2HDx0QUsevJ2kRuVH6EFsOASHX4e6rTDsLxIYrIg/EpLkzezf8QZZh5lZNfBjvOS+wsy+DuwD7kzEvXqsZg201EOpv2FIAg0qg2ue6PKS0wPP75MHL8E/NH8SROquObUTnhsNJ95Xkpe0kKjZNV/u5NTsRLx/Quxf4X0ML7rO70ikF4X73aOeXTOwzCtnXPde5PMiAdM3atc0nYYDa2DUN9RV0we11SKKRkYmDBnnteRF0kDfSPI1z0NLA280zmLx0rWaLy1dy5sIh9b6HYVIQvSN2jX7V1Df7yK++VJO296t4fnSqzbV+B2dpJr8CVBfA+fq/I5EJG7pn+SbTsGBF3ju+DWcbTp/Gn54vrTIefImeF/VZSNpIP2TfM1z0NrIikOfiXi6456uIuRN9L4qyUsaSP8kv38F5BbzSf9pEU933NNVhIGl0G8g1CnJS/Cld5JvOgkHXoTSO/jenHHn7d0K3nzpRXPG+hScpCzLgCHjvSqkIgGX3rNrqld7qyFL72ReUYzzpaVvy5/gNRBEAi69k/z+FTBgRNvKxZjmS0vfljcRdv8WGo9B9lC/oxHpsfTtrjlXBwdfhtI7vI/fIrHQDBtJE+mb/dp11YjELJzkVd5AAi59k/z+FTCgFIZe7XckEkQDSiBriFryEnjpmeTPHYdP/gCX3alNuKVnzLzWvJK8BFx6JvnqZ6G1SV01Ep+8Cd40SpfcDctEkik9Z9fsW+Ht/6lNuCUGHTf8/uerSpjceAwaDkNuxC2KRVJe+rXkG2vhk1e8Vry6aiRK4Q2/2xew++Xb/b2T6rKRAEu/JF+9Elyz1x8vEqVIG36/e6bEe6EkLwGWfkl+3woYNAoKyv2ORAIkUqG6I80FHG8erPIGEmjpleQbjsKhP6qrRmIWuVCdsa95pFryEmjpleSrV4JrUVeNxGzRnLERC9jlXTzVq0apGTYSUOmV5PevgMGjIX+K35FIwMybVsxD8ydRnJ+LAcX5uTw0fxJlo66GpjqoP+B3iCI9kj5TKBuOePtyjl+irhrpkYgF7A6120BkgIrbSfAEviW/alMN1y5dyw8e+Z/gWll79i/9DknSiQqVScAFOsm3n9t8S94b7Goo4dsvNGtzbkmcnCLILlKhMgmspCd5M7vJzHaY2U4zW5zI9w7PbR7W7zgzBr3H8yeuo76pVZtzS2LlT1RLXpIm3BtRtngN1y5dm/BGalKTvJllAr8GPg+MB75sZuMT9f7huc2zBr9DprWypu66846LJETeBDixTTNsJOEirbRe8vt3E5rok92SvxrY6Zzb7Zw7BzwFzE3Um4fnNj99/HPc8tEv+bDxsvOOiyRE3gRoPgVnP/Y7Ekkz4d6IpSWP8Pm8NwGob2pJaG9EspN8MdD+X0Z16FgbM1toZpVmVnnkyJGY3vzTuc3G+/VXAKbNuSXx8kIzbNQvLwl2oK6ey/of4O7CP3Bp1pHzjieK7wOvzrllzrkK51xFUVFRTD/b2dxm7eMqCZWvGTaSHJfm53JLqAX/4olrzzueKMmeJ18DjGj3fUnoWMJoc25Juv4FkHuJkrwk3KI5Yxmz6U2qzlzJgabhAAnvjUh2S/4dYLSZlZlZf+BuYHWS7ymSeHkTVahMEm7eqDOMz9nNm+duSFpvRFJb8s65ZjP7DvAykAk85pxTc0iCJ28C7FwGrhXM915OSRf7nwbgb762hL8ZUJKUWyS9rIFz7gXghWTfRySp8iZAy1k4sxcGXe53NJIu9j8Nw67xNo5PEjVJRKIRLm9Qpw+ikiAnd0DdlqTvRa0kLxKNthk26peXBAl11VB6e1JvoyQvEo2sITBghGbYSOLsXwFF1ya9umn6lBoWSba8CW1JftWmGh5+eQcH6uq5ND+XRXPGaiqvRO/Edqh7F6b/U9JvpZa8SLTyJ8KJD1i1cX/S641Imtv/NGAw4ktJv5WSvEi08iZAayNPrX2N+qaW804lut6IpLn9K6Doul7ZiEZJXiRaoRk2eec+jHha1U8lKic+8AbwkzyrJkxJXiRaeV6V7On5ByOeVvVTiUq4q6Y0+V01oCQvEr1+A2FgGTeXHgtVP/2Uqp9K1PavgOGf9eoh9QIleZFY5E2gxHar+qn0TN373gytXuqqAU2hFIlN/kT45GXmTRmupC6x68VZNWFqyYvEIm8CtDbBqY/8jkSC6OOnYfhMyL24126plrxILPLabSCSl7DtiiXNRFwsV1bn7RVc8etejUUteZFYDLnSKzWsQmXSic42597+9v/1/u6MmN+r8SjJi8SiXy4MGqVCZdKp8Obc7dU3NZNz8Pcw/C97tasGlORFYteuho1IR5EWxY3J3sfIrP1Qekevx6MkLxKrvAnewGtLo9+RSAqKtCjulvw3aXEZUNK7XTWgJC8Su7yJ4FrgVOTyBtK3LZoztsNiOccX89+kduBnIPeiXo9HSV4kVuENROrULy8Xmjet+LzFcjOLDnJ5djVFE/7al3g0hVIkVoPHgGWqX146NW9a8aeL5bb8CLZlwIjbfIlFLXmRWGVme4leSV6641yoVs0syBnuSwhK8iI9kTdB3TXSvbqt3tjNZb1Xq6YjJXmRnsibAKd3QbNqyEsX9q/wuvZK/OmqAfXJi/RM/kTAwcntUDit08u0F2wf5pxXkOyiWZBT5FsYcSV5M7sD+AkwDrjaOVfZ7twS4OtAC/BfnXMvx3MvkZTSvoZNJ0k+vLw9vPoxvLwdUKIPsrr34cye7q+rP+itpxi3KPkxdSHelvx7wHzgX9ofNLPxwN3ABOBS4FUzG+Oca7nwLUQCaPAVkJEFm78PO34Z8ZIrD55i+WWtFxzvvzkDDg3u5I0Nxn8fSm9PYLCSMK1N8IcZ0Hw6uuszc3ztqoE4k7xz7gMAM+t4ai7wlHOuEdhjZjuBq4H18dxPJGVkZMHEB+Dohk4vqWnsZMirGa7sbKbF0fWw6zdK8qnqxPtegp+6FC6a3f31OUWQMyz5cXUhWX3yxUD7v/3VoWMXMLOFwEKA0tLSJIUjkgQT/0eXpx/YsJaaCHVMivNzmX39DZF/aMPXoGaN1597YeNJ/FZb5X0tuQ2GjPE3lih1O7vGzF41s/ci/JqbiACcc8uccxXOuYqiIv8GJ0QS7cLl7VHsBVtYAY1H4Gx1kqOTHqndCP0Ge911AdFtS945d2MP3rcGGNHu+5LQMZE+Izy4GtPsmsLp3tfaShg4ovPrxB+1VVBY7tWFD4hkddesBv7NzP4Rb+B1NPB2ku4lkrLOW94ejfwp3rzq2irflsFLJ1qboW4LjP6W35HEJK7/jszsNjOrBj4DrDGzlwGcc+8DK4BtwEvAtzWzRiQK/XK96Zm1ld1fK73rxDZoafj001ZAxDu7ZiWwspNzDwIPxvP+In1S4XSoeU6Dr6kmPOgasCQfnI4lkb6isAIaj8LZj/2ORNqrraIpYyDX/e+PKVu8hmuXrmXVptQfalSSF0k17QdfJWXUVq9ny+kyqusaz9ugO9UTvZK8SKrJn/zp4KukhtZmBpx5ny1nRp13uL6phYdf3uFTUNFRkhdJNf1yvS0GleRTx8kPyMlo5N36C+fHR9q4O5UoyYukosLpXneNc35HItD2H26kJB9p4+5UoiQvkooKp0PjMTi73+9IBKB2I802gE9az1+g1u0K5hSgJC+SigorvK/HNPiaEmqr6DesnAfnT23boLs4P5eH5k9K+bLR2jREJBUVTAbr53UTlH7J72j6ttYWOL4Zrrg39hXMKUAteZFUlJnj7T6lwVf/ndwOLWcDtwgqTEleJFVp8DU1BHSla5i6a0RSRMf9YH999SimnquFM/tg0Ei/w+u7aqsgcwAMTu0B1s6oJS+SAsL7wdbU1betpnxw/QDvpFa++ut4FRRMhYzM7q9NQUryIing4Zd3tG34Hbb1dCnNTitffdXaArWbAttVA0ryIikh0qrJRtef7Q0jleT9dGpHoAddQUleJCV0tmpyd8tYDb76KeCDrqAkL5ISOtsPtvSKz8K543Bmrz+B9XW1VZCZC0Ou9DuSHlOSF0kB86YV89D8SResppw6JbTFsgZf/VG7MTToGtyJiMGNXCTNRFxN2TIMMrJCK1/v8Cewvsq1wvFNcPkCvyOJi5K8SCrLzIa8SRp8TaKO6xMWzRnr/Wd78kNoPh3o/nhQkhdJfYXT4eNntOdrEoTXJ4Snr4Z3ewKYlx/8QVdQn7xI6iucHhp83eN3JGkn0vqEtt2eaqu8GkJDxvkUXWIoyYukuqEqO5wsne3qdKCu3lvpmj8l0IOuoCQvkvryJn46+CoJ1dn6hOL87MCvdA1TkhdJdZnZ3ubeSvIJ19n6hJ9c3x+aTynJm9nDZrbdzLaa2Uozy293bomZ7TSzHWY2J/5QRfqwwulektfK14TqbH3CjRdXexekQZKPt7PpFWCJc67ZzH4OLAG+b2bjgbuBCcClwKtmNsY519LFe4lIZwqnw85lcHo3DB7ldzRpJeL6hI1VkJENeeP9CSqB4mrJO+f+4JxrDn27ASgJvZ4LPOWca3TO7QF2AlfHcy+RPi2856tWvvaO2o1QMMUbCwm4RA4b/2dgeeh1MV7SD6sOHbuAmS0EFgKUlpYmMByRNJI3ETL6Q20Vq2qvi7x4RxLDtcLxjTDyK35HkhDdJnkzexW4OMKpHzrnng1d80OgGXgy1gCcc8uAZQAVFRXqcBSJJLM/5E/myL4/s6TqhsiLd5ToE+PULmg6mRb98RBFknfO3djVeTNbAHwBmO1c26hQDTCi3WUloWMi0lOF08n58F+pb2oGPl35Gl68oySfIGlQXri9eGfX3AT8d+BW59zZdqdWA3ebWbaZlQGjgbfjuZdIn1c4ncEZZ7is/8ELTnW2qEd64Hh40HWC35EkRLzz5H8FDAZeMbPNZvYogHPufWAFsA14Cfi2ZtaIxCk0+Dopd+cFpzpb1CM9UFvlrUtIg0FXiHPg1Tl3RRfnHgQejOf9RaSdvAm0WH+mDdrF8ydmth3Ozcpk0ZyxPgaWRpzzZtZcdrffkSRMsIsyiPQlmf3JLJjMrbkHeexMrmbXdKPTEsJdOb0Lmk6kTX88KMmLBEthBZEB4esAAAeSSURBVEX7/o0/ff96MFUl6UyXJYS7SvRpNugKql0jEiyF073pfad2+R1JSuuyhHBXaqu89Qh5E5MYXe9SkhcJknDZYRUr61KXJYS7UlsF+ZO8dQlpQkleJEjyJnjT+1TeoEudzTbqchZSeNA1jbpqQEleJFgyslR2OAqdlRDuchbSmT3QVKckLyI+G1oRKjvc6nckKauzEsJ9bdAVNLtGJHgKp8NH/wyndsKQMV1e2qNphGkiYgnhrtRWeZ+U0mjQFdSSFwmewugGX8PTCGvq6nF8Oo1w1SaVkYqotgryJnk7caURJXmRoMkbH9Xga4+nEfZFznlJvrDc70gSTkleJGgysrwNLbppyfd4GmFfdGYvnDuedv3xoD55kWAqrIA9j8OW/9HpJT++bC+nGpovOD44px9sWZ/M6ILn9G7vq5K8iKSES2+G3Y/BtqWdXvLVPGgdcuE+PBlmXn3YAGp10NpuM/MMMzKsix+IxaDLvempaUZJXiSIim+Bu7rudskAVqfR7JqO9WjAm/ve7dTIPk5JXiSNxTyNMIV1NZCcLs+YDBp4FZFA0EByzyjJi0gg9KgejSjJi4jX333t0rWULV7DtUvXpuSCqR7VoxH1yYv0dT3eYKOXhWNJl4Hk3qIkL9LHBWlAM50GknuLkrxIH5cKA5p9uZBasqlPXqSP83tAU4XUkktJXqSP83tAU4XUkkvdNSJ9XKwDmonuWkmF7qJ0FleSN7O/B+YCrcBhYIFz7oCZGfBPwM3A2dDxjfEGKyLJEe2AZiwzcaL9z+DS/FxqIiR0zX9PjHi7ax52zk12zk0FngceCB3/PDA69Gsh8M9x3kdEUkC0XSux9LP73V2U7uJK8s65k+2+HQiEy8PNBZ5wng1AvpldEs+9RMR/0XatxNLP3qP9WCVqcffJm9mDwFeBE8Cs0OFi4ON2l1WHjh2M8PML8Vr7lJaWxhuOiCRRtF0rsfaza/578nTbkjezV83svQi/5gI4537onBsBPAl8J9YAnHPLnHMVzrmKoqKi2J9ARHpNtF0rfk/LlE91m+Sdczc65yZG+PVsh0ufBL4Uel0DjGh3riR0TEQCLNquFfWzp454Z9eMds59FPp2LrA99Ho18B0zewr4C+CEc+6CrhoRCZ5oulZUZyZ1xNsnv9TMxuJNodwH3Bc6/gLe9MmdeFMovxbnfUQkYNTPnhriSvLOuS91ctwB347nvUVEJH4qayAiksaU5EVE0piSvIhIGlOSFxFJY+aNkaYGMzuCN0unJ4YBRxMYThDomfsGPXPfEM8zX+aci7iaNKWSfDzMrNI5V+F3HL1Jz9w36Jn7hmQ9s7prRETSmJK8iEgaS6ckv8zvAHygZ+4b9Mx9Q1KeOW365EVE5ELp1JIXEZEOlORFRNJYoJK8md1kZjvMbKeZLY5wPtvMlofOv2VmI3s/ysSK4pm/a2bbzGyrmf3RzC7zI85E6u6Z2133JTNzZhb4qXbRPLOZ3Rn6s37fzP6tt2NMtCj+bpea2Wtmtin09/tmP+JMJDN7zMwOm9l7nZw3M3sk9Huy1czK476pcy4Qv4BMYBdwOdAf2AKM73DNt4BHQ6/vBpb7HXcvPPMsYEDo9f194ZlD1w0G1gEbgAq/4+6FP+fRwCagIPT9cL/j7oVnXgbcH3o9Htjrd9wJeO6ZQDnwXifnbwZeBAyYAbwV7z2D1JK/GtjpnNvtnDsHPIW3UUl7c4HHQ6+fAWabmfVijInW7TM7515zzp0NfbsBbxeuIIvmzxng74GfAw29GVySRPPM9wK/ds4dB3DOHe7lGBMtmmd2wJDQ6zzgQC/GlxTOuXVAbReXzAWecJ4NQL6ZXRLPPYOU5DvbHDziNc65ZrzNxYf2SnTJEc0zt/d1vFZAkHX7zKGPsCOcc2t6M7AkiubPeQwwxsz+ZGYbzOymXosuOaJ55p8Af2Vm1XgbEf2X3gnNV7H+m+9WvDtDSYows78CKoC/9DuWZDKzDOAfgQU+h9Lb+uF12VyP92ltnZlNcs7V+RpVcn0Z+K1z7n+Z2WeA/2dmE51zrX4HFiRBaslHszl42zVm1g/vI96xXokuOaLaEN3MbgR+CNzqnGvspdiSpbtnHgxMBF43s714/ZarAz74Gs2fczWw2jnX5JzbA3yIl/SDKppn/jqwAsA5tx7IwSvilc6i+jcfiyAl+XeA0WZWZmb98QZWV3e4ZjVwT+j17cBaFxrNCKhun9nMpgH/gpfgg95PC908s3PuhHNumHNupHNuJN44xK3OuUp/wk2IaP5ur8JrxWNmw/C6b3b3ZpAJFs0z7wdmA5jZOLwkf6RXo+x9q4GvhmbZzABOOOcOxvOGgemucc41m9l3gJfxRuYfc869b2Y/BSqdc6uB3+B9pNuJN7hxt38Rxy/KZ34YGAQ8HRpj3u+cu9W3oOMU5TOnlSif+WXgP5nZNqAFWOScC+yn1Cif+e+A/2Nm/w1vEHZBwBttmNm/4/1nPSw01vBjIAvAOfco3tjDzcBO4CzwtbjvGfDfMxER6UKQumtERCRGSvIiImlMSV5EJI0pyYuIpDEleRGRNKYkLyKSxpTkRUTS2P8Ha1w6P/WoOhsAAAAASUVORK5CYII=\n",
                  "text/plain": "<Figure size 432x288 with 1 Axes>"
                },
                "metadata": {
                  "needs_background": "light"
                }
              }
            ],
            "_view_module": "@jupyter-widgets/output",
            "_model_module_version": "1.0.0",
            "_view_count": null,
            "_view_module_version": "1.0.0",
            "layout": "IPY_MODEL_9f17fc1dbd0f44e19ca050bf85cf1aaa",
            "_model_module": "@jupyter-widgets/output"
          }
        },
        "a0f0e00cbf4d474ea7ba1bdcaff6973d": {
          "model_module": "@jupyter-widgets/controls",
          "model_name": "SliderStyleModel",
          "model_module_version": "1.5.0",
          "state": {
            "_view_name": "StyleView",
            "handle_color": null,
            "_model_name": "SliderStyleModel",
            "description_width": "",
            "_view_module": "@jupyter-widgets/base",
            "_model_module_version": "1.5.0",
            "_view_count": null,
            "_view_module_version": "1.2.0",
            "_model_module": "@jupyter-widgets/controls"
          }
        },
        "09d39510ede54cc8a227b3eed3949746": {
          "model_module": "@jupyter-widgets/base",
          "model_name": "LayoutModel",
          "model_module_version": "1.2.0",
          "state": {
            "_view_name": "LayoutView",
            "grid_template_rows": null,
            "right": null,
            "justify_content": null,
            "_view_module": "@jupyter-widgets/base",
            "overflow": null,
            "_model_module_version": "1.2.0",
            "_view_count": null,
            "flex_flow": null,
            "width": null,
            "min_width": null,
            "border": null,
            "align_items": null,
            "bottom": null,
            "_model_module": "@jupyter-widgets/base",
            "top": null,
            "grid_column": null,
            "overflow_y": null,
            "overflow_x": null,
            "grid_auto_flow": null,
            "grid_area": null,
            "grid_template_columns": null,
            "flex": null,
            "_model_name": "LayoutModel",
            "justify_items": null,
            "grid_row": null,
            "max_height": null,
            "align_content": null,
            "visibility": null,
            "align_self": null,
            "height": null,
            "min_height": null,
            "padding": null,
            "grid_auto_rows": null,
            "grid_gap": null,
            "max_width": null,
            "order": null,
            "_view_module_version": "1.2.0",
            "grid_template_areas": null,
            "object_position": null,
            "object_fit": null,
            "grid_auto_columns": null,
            "margin": null,
            "display": null,
            "left": null
          }
        },
        "9f17fc1dbd0f44e19ca050bf85cf1aaa": {
          "model_module": "@jupyter-widgets/base",
          "model_name": "LayoutModel",
          "model_module_version": "1.2.0",
          "state": {
            "_view_name": "LayoutView",
            "grid_template_rows": null,
            "right": null,
            "justify_content": null,
            "_view_module": "@jupyter-widgets/base",
            "overflow": null,
            "_model_module_version": "1.2.0",
            "_view_count": null,
            "flex_flow": null,
            "width": null,
            "min_width": null,
            "border": null,
            "align_items": null,
            "bottom": null,
            "_model_module": "@jupyter-widgets/base",
            "top": null,
            "grid_column": null,
            "overflow_y": null,
            "overflow_x": null,
            "grid_auto_flow": null,
            "grid_area": null,
            "grid_template_columns": null,
            "flex": null,
            "_model_name": "LayoutModel",
            "justify_items": null,
            "grid_row": null,
            "max_height": null,
            "align_content": null,
            "visibility": null,
            "align_self": null,
            "height": null,
            "min_height": null,
            "padding": null,
            "grid_auto_rows": null,
            "grid_gap": null,
            "max_width": null,
            "order": null,
            "_view_module_version": "1.2.0",
            "grid_template_areas": null,
            "object_position": null,
            "object_fit": null,
            "grid_auto_columns": null,
            "margin": null,
            "display": null,
            "left": null
          }
        },
        "668477cd2ca14383b58fe369e3e9962e": {
          "model_module": "@jupyter-widgets/controls",
          "model_name": "VBoxModel",
          "model_module_version": "1.5.0",
          "state": {
            "_view_name": "VBoxView",
            "_dom_classes": [
              "widget-interact"
            ],
            "_model_name": "VBoxModel",
            "_view_module": "@jupyter-widgets/controls",
            "_model_module_version": "1.5.0",
            "_view_count": null,
            "_view_module_version": "1.5.0",
            "box_style": "",
            "layout": "IPY_MODEL_379902006f37408eb9beca85103c7e0d",
            "_model_module": "@jupyter-widgets/controls",
            "children": [
              "IPY_MODEL_c4e14e51d4e44367a68ca3613e0bf5ee",
              "IPY_MODEL_f0aef025b029482fabf6f3cb03a1e855"
            ]
          }
        },
        "379902006f37408eb9beca85103c7e0d": {
          "model_module": "@jupyter-widgets/base",
          "model_name": "LayoutModel",
          "model_module_version": "1.2.0",
          "state": {
            "_view_name": "LayoutView",
            "grid_template_rows": null,
            "right": null,
            "justify_content": null,
            "_view_module": "@jupyter-widgets/base",
            "overflow": null,
            "_model_module_version": "1.2.0",
            "_view_count": null,
            "flex_flow": null,
            "width": null,
            "min_width": null,
            "border": null,
            "align_items": null,
            "bottom": null,
            "_model_module": "@jupyter-widgets/base",
            "top": null,
            "grid_column": null,
            "overflow_y": null,
            "overflow_x": null,
            "grid_auto_flow": null,
            "grid_area": null,
            "grid_template_columns": null,
            "flex": null,
            "_model_name": "LayoutModel",
            "justify_items": null,
            "grid_row": null,
            "max_height": null,
            "align_content": null,
            "visibility": null,
            "align_self": null,
            "height": null,
            "min_height": null,
            "padding": null,
            "grid_auto_rows": null,
            "grid_gap": null,
            "max_width": null,
            "order": null,
            "_view_module_version": "1.2.0",
            "grid_template_areas": null,
            "object_position": null,
            "object_fit": null,
            "grid_auto_columns": null,
            "margin": null,
            "display": null,
            "left": null
          }
        },
        "c4e14e51d4e44367a68ca3613e0bf5ee": {
          "model_module": "@jupyter-widgets/controls",
          "model_name": "IntSliderModel",
          "model_module_version": "1.5.0",
          "state": {
            "_view_name": "IntSliderView",
            "style": "IPY_MODEL_99d1828f05d8459bb8aed46c0e78a50c",
            "_dom_classes": [],
            "description": "max_depth",
            "step": 1,
            "_model_name": "IntSliderModel",
            "orientation": "horizontal",
            "max": 9,
            "_view_module": "@jupyter-widgets/controls",
            "_model_module_version": "1.5.0",
            "value": 3,
            "_view_count": null,
            "disabled": false,
            "_view_module_version": "1.5.0",
            "min": -3,
            "continuous_update": true,
            "readout_format": "d",
            "description_tooltip": null,
            "readout": true,
            "_model_module": "@jupyter-widgets/controls",
            "layout": "IPY_MODEL_ac0f4bc773624a9a96bdab83d0c9ad8a"
          }
        },
        "f0aef025b029482fabf6f3cb03a1e855": {
          "model_module": "@jupyter-widgets/output",
          "model_name": "OutputModel",
          "model_module_version": "1.0.0",
          "state": {
            "_view_name": "OutputView",
            "msg_id": "",
            "_dom_classes": [],
            "_model_name": "OutputModel",
            "outputs": [
              {
                "output_type": "display_data",
                "data": {
                  "image/png": "iVBORw0KGgoAAAANSUhEUgAAAXkAAAD4CAYAAAAJmJb0AAAABHNCSVQICAgIfAhkiAAAAAlwSFlzAAALEgAACxIB0t1+/AAAADh0RVh0U29mdHdhcmUAbWF0cGxvdGxpYiB2ZXJzaW9uMy4yLjIsIGh0dHA6Ly9tYXRwbG90bGliLm9yZy+WH4yJAAAgAElEQVR4nO3de3RV9Znw8e+T6zlJgHAJEsIlUBFFEdBobZ1xtNqirRW0F513Oq3Tjqxa+7ZOp7bQrul0OfWVjjPOjNO+49CFb+3Ujpe2IK2ttIiItmobBFtFGBEQggIBCRBIck6S3/vHPjsckpOc295n357PWllJ9rn9DuQ853ee/fyenxhjUEopFU5lXg9AKaWUezTIK6VUiGmQV0qpENMgr5RSIaZBXimlQqzC6wGkmzBhgmlubvZ6GEopFSibNm06ZIxpyHSZr4J8c3Mzra2tXg9DKaUCRUTeHO4yTdcopVSIaZBXSqkQ0yCvlFIhpkFeKaVCTIO8UkqFWNHVNSISAzYC1an7+7Ex5u9FZAbwMDAe2AT8pTEmUezjqcKs3ryPe9Zu562OLibXx7lj4WwWL2jyelhKKZc5MZPvAd5njJkHzAeuFpFLgG8D/2KMORM4AnzGgcdSBVi9eR/LfvpH9nV0YYB9HV0s++kfWb15n9dDU0q5rOggbyydqV8rU18GeB/w49TxB4HFxT6WKsw9a7fTlew77VhXso971m4fct3Vm/dx6fL1zFj6BJcuX69vBEoFnCOLoUSkHCslcybwXeANoMMY05u6ShuQMTcgIkuAJQDTpk1zYjiRkWsK5q2Oroy3H3zcnvHbbwj2jB/Q1I5SAeXIiVdjTJ8xZj4wBbgYODuP264wxrQYY1oaGjKuylUZ5JOCmVwfz3gfg4/nM+NXSgWDo9U1xpgO4GngPUC9iNifFKYA+rnfQfkE5DsWziZeWX7asXhlOXcsnH3asVxn/Eqp4Cg6yItIg4jUp36OA+8HXsMK9h9NXe1TwOPFPpY6JZ+AvHhBE3ffMJem+jgCNNXHufuGuUNSMLnO+JVSwSHF7vEqIudjnVgtx3rTeNQYc6eIzMQqoRwHbAY+YYzpGem+WlpajDYoS3nuJnjr58NefDLRR6b/OhGoqSofekEOevsMPX391mnzgTuE6vIyKspl+BvO/Sac8+WCHlMpVTwR2WSMacl0WdEnXo0xfwAWZDi+Eys/rwpx8BmoOxMmXZXx4n0HO3n29XZ6+09F5Ioy4U9nNTBrYl1BD1kB7DrYye93v8OJnl5qqyu4qHncsPf3+sFOxhz8Cds3/oilj1+gtfdK+ZCvWg2rNMkOmPEJWHBPxotnAa+eMbS6ZlaRQXZW6iub1Zv3sew3f+QfG7cyN75DK3GU8ikN8n7U1219VdaPeLXFC5o8C6j2id89iUlcPea3lNNHV9I6rkFeKf/Q3jU+9MuXtgHwjV+2+XZBkn2Cd09iEpXSR2PlodOOK6X8QYO8z6zevI/7nrROPh/tq/VtCwK74mZPzyQAplbtP+24UsofNMj7zD1rt1PVfwyA4321gD8XJNm193sTVpCfVr0/Y+29UspbmpP3mbc6uphZdwKAY6kgbx/3Ezvvfu/acpKmnHNHHeI97x9ae6+U8pYGeZ+ZXB9ntBka5P2YBhk48bummU9O7wcN8Er5jqZrfOaOhbMZX2XN2o/1W/Xpvk+D1M2Ezp1ej0IplYHO5H1m8YImzjw8Cg5CZ18NTUHY4KNuJuz9cfbrKaVKToO8D53XYKC9jFfu+qjVp8Dv6mZCz2FIHIWqMV6PRimVRtM1fpQ4ai2ECkKAByvIA5zY5e04lFJDaJD3o2QHVI282tVX7CCveXmlfEeDvB8lOqAyQGkPDfJK+ZYGeT8K2ky+qh6qxmqQV8qHNMj7kZ2TDxIto1TKl7S6xo+SHcGrUqmbCUe2eD0KpQbkutF92OlM3o8SHcGcyZ/YDf19Wa+qlNvy2eg+7DTI+01/L/R2BisnD1aQ709CV/ReRMp/7P0O7pv2j1wz5jnAn43+SkGDvN8krQ6UgZzJg+bllS+81dGF0M+1Y57lilGtpx2PGg3yfpPssL4HMScPGuSVL0yuj1NX1kWZGM6ofOe041GjQd5vEqkgH7SZfM1UkHIN8soX7lg4m4nV1qx9YoUV5H3f6M8lWl3jN3aQD1pOvqwSaqZpkFe+sHhBE6O7J8MuaKg8EoxGfy7RIO83yaPW96AFedBa+RLR0sDcvG9mFeyCCRVH+c0dfwLlVV4PyRMa5P1mIF0TsJw8WEG+bXVRd6EBbGR2aWBX0ipVtUsDAf13Gsw+vwXQfQBqp3o3Fg8VnZMXkaki8rSIbBWRV0Xki6nj40Tk1yLyeur72OKHGwHJgKZrINVyuB2Sxwu6udY2Z2eXBqaLamlgVom0IN/1tnfj8JgTJ157gb81xswBLgFuE5E5wFLgKWPMLOCp1O8qm0QqXVMx2ttxFGKgwqawlsMawLIbrgQwiqWBWZ0W5N/ybhweKzrIG2PeNsa8lPr5OPAa0AQsAh5MXe1BYHGxjxUJyQ6oHA1l5V6PJH9FllFqAMtuuBLAKJYGZnVaukZn8o4QkWZgAfAicIYxxv6X3Q+cMcxtlohIq4i0tre3OzmcYApam+F0RQZ5DWDZ3bFwNvHK0ycAUS0NzCrRAeU1IGVwUmfyRROROuAnwO3GmGPplxljDGAy3c4Ys8IY02KMaWloaHBqOMEVtDbD6arGWm9QBQZ5DWDZLV7QxN03zKWpPo4ATfVx7r5hrp50zSTZAdXjoXpipGfyjlTXiEglVoB/yBjz09ThAyLSaIx5W0QagYNOPJbfOF4NEsQ2wzaRosoo7X83ra4Z2eIFTfpvkotEasIklZE+8Vp0kBcRAVYCrxlj7k27aA3wKWB56vvjxT6W37hSzpbssFaPBlXdTDj6SsE31wCmHGN3c60cHenGeU6kay4F/hJ4n4hsSX19ECu4v19EXgeuSv0eKq5UgwQ5Jw+pmfwuMP1ej0RFnZ36jDfqTL4YxpjnABnm4iuLvX8/c6UaJBHgnDykWg4nrJK1milej0ZFWaIDxsyF+GToPmi18S6L3vpPbVBWBMerQUw/9B4Lbk4etBul8o9E2kweY616jSAN8kVwvBqkt9MK9EGfyYMGeeUt02/1gaqqt2byENmUTfQ+uzjI8WqQIPetsdVOt+qSNcgrLyWPA8b6VBxvtI5FdNWrBvkiOVoNEtQ2w+m05bDyg/QeUANBPpozeU3X+EmQ2wyn05bDymvpE6bYGYBokFc+ENRdoQbTIK+8lv5aKquEWENk0zUa5P0kGYKcPFhBvvsA9J7weiQqqga37I5PjuxMXnPyfhKGnDyc3nK4/jxXHkI3F1EjGvxaijXqTF75gJ2TD8NMHlxL2ejmIiqrxBHre1Vqr6J4Y2SblGmQ95NEB5THg78XpctBXjcXUVnZM3l78534ZCuF2N83/G1CSoO8nwS5zXC6qnFWUyiXgrxuLqKyGrz5TrzRWiDVE8pmuCPSIO8nQW4znK7IlsPZ6OYiKiu7A6UtwrXyGuT9JCwzeXA1yOvmIiqrwa+lCLc20CDvJ0FvM5yubiaccKflsO6OpLIa3M01wq0NtIQyA8/K8xIdMOpM9x+nFOpmQl83dO2HmsmO371uLqJGlOiw+ijZYpOs7zqTV56W5yVDkpMHqNVulMpDg9M15VVQPSGSM3kN8oN4Vp5nTPhy8qBBXnlj8IlXiOwOURrkB/GsPK+vC/qT4cnJ104HRIO8Kj3TD8ljQydMEW1toEF+EM/K88LS0sBWXmVtSK5BXpVa8hhgMgT5aLY20CA/iGfleQMtDUIS5CFVYaNBXpXYcN1cY43WqteIbTKvQX4Qz8rzwjaTB205rLwxuAOlLT4ZTC/0HCr9mDykJZQZeFKeF5Y2w+nqZlo50N6TUFHj9WhUVAw3YUqvlY9NLO2YPKQzeb8I60we4MRuT4ehIma4dE1EV71qkPeLsGz9l07LKJUXhk3XRHPVqyNBXkQeEJGDIvJK2rFxIvJrEXk99X2sE48VWmHZ+i+dBnnlhWHTNdFc9erUTP77wNWDji0FnjLGzAKeSv2uhpPssPaiLI95PRLnVE+AijoN8qq0BveSt5XHrDbYEQvyjpx4NcZsFJHmQYcXAZenfn4Q2AB81YnHCyW7zbCI1yNxjssth3OlWwVGzOBe8ukiWCvvZnXNGcYY+y1zP3BGpiuJyBJgCcC0adMKe6S3fwWbv1LYbZ0y+wvwrk8XfvswtTRIVzcTjr/u2cPbvYjsVhV2LyJAA31YZWppYIvgqteSlFAaY4yImGEuWwGsAGhpacl4nawqaqGuueDxFe3gRtjzWHFBfqQ/zCCrmwlvr7V683jwKWWkXkQa5ENqpAlTvBGObSvteDzmZpA/ICKNxpi3RaQRcG/frYZLrS+vbLgWuorsUpnogKoQ1cjb6mZafXm6D5w68VVCulVgBA3uJZ8u3gjd+z2bdHjBzRLKNcCnUj9/CnjcxcfylhPd7cLUZjidxxU2ulVgBGVL1/QnoedwacfkIadKKP8beB6YLSJtIvIZYDnwfhF5Hbgq9Xs4xRuh+yD09xZ+H2HOyYNnQV63CoygbOkaiNTJV6eqa/58mIuudOL+fS82CTBWoC90F6SRPmIGmccth+28u1bXRMhIM/lY2obeY88v3Zg8pL1rnGDPDroL3OquL2HlrcPUt8ZWHoOaJk/LKHWrwAgZrpe8zX59dkenwiZSQd61eul42uygEGFsM5zOB7XyKiKG6yVvi0UvXROZ3jWu7t1abJAPY3OydBrkVakMvJaG6aJSEbcmUxGqlY9MkHd179ZYap1XwTP5ELYZTlc70yox7ev2eiQq7BJHrO8jfSqO2KrXyAR5V+uly2PWzKF7f2G3j8JMHqBzt6fDUBEwXAfKdBHb0DsyQd71euli/nDC2GY4nXajVKWSy4QpYq0NIhPkXa+XjhUR5MPYZjidBnlVKrm8lux0jSmsi0rQRCbIu753a3xS4WVZAx8xQ5qTj02E8hoN8sp9OaVrJkN/4lT+PuQiVULpar10vBG6CuyJkTgKUmb1Xg8ju+XwCQ3yymWJDkCsVsPDSa+Gqx5XkmF5KTIzedfFGqG/59RMIh/JDquyRkL836FllKoUEqle8iO9liLW2iDEUaXEiqmVD2ub4XR2kI9IHlR5JJceUBHb0DtS6RpXpe8fOWZOfrcNa5vhdHXvgt4T8GgN4PMWr7GJsPB31ncVLLlMmCI2k9cg75SB5dIF1MqHtc1wuuk3WusI+hNej2Rk/b2w/V9h+7/BvLu8Ho3KVy4z+YpaqBilM3mVp4EmZQX84SQ7rJlumMUaYN63vB5Fbk7uhf/5DpzzlfB/wgqbRAfUzch+vZrJkWlSpjl5p1SOhvJ44Tn5sC6ECpDVm/dx6fL1XLv+TyB5jFefCe8WCKGV6/mtWHRaG2iQd4qI1Ve+4BOvOmP0UnoDu1e6zmTDsQuZ9PZ/8LNNO7wemspHrpvvRGjVqwZ5J9n7R+ajvw96j4c/J+9zgxvYfffgxxhfcZTXn7/Pw1GpvPT3Wa2Gc3kt2W1IIlDtpUHeSYX0r+k9Zn3XdI2nBjeq+/3J8/j9iTncWPewtSeo8r98XkvxRmujHrtvVIhpkHdSIUE+7B0oAyJTo7rvHvwYTVXtsPtHHoxI5S2f11KEauU1yDspNsmaGfTm0b54oKGS5uS9lKmB3Yvd7+Zo9RzYereVClD+lk+jvwjVymuQd1L6Xq+5Cnub4YDI3MDufMa0/D0c2w5tq70eosoml+ZktmJ3cwsQrZN3UvofTi61uhD+NsMBkrGBXf9HYNQsazY/9Yb8m8+p0tF0TUaBn8nbtc0zlj7BpcvXO7Nna6EKmR3kM/tQpVdWDnO+Cu9sgv2/9no0aiT5TJgqR1krXzVd42+ubs5diFha/5pcaU7e/5r/EmqmwKv/x+uRqJHkO2GKSK2860FeRK4Wke0iskNEljp5365uzl2I6garxWkhOfmR+l8rb5VXwdl/Cwefgfbfej0aNZxcesmn88mG3m5nI1wN8iJSDnwXuAaYA/y5iOTZonF4rm7OXYiycoidkf9MvmIUlOnpEV878xaoHg+v3u31SNRwcukln66YLTsdUopshNsz+YuBHcaYncaYBPAwsMipO3d9c+5C5PuHk+sybOWtilqYfTu89XM48rLXo1GZ5PtaiqealHm46rUU2Qi3g3wTsDft97bUsQEiskREWkWktb29Pa87d31z7kLku9dr4qjm44PirNusT11btXGZL+W7+U680drjoPe4e2PKohTZCM9PvBpjVhhjWowxLQ0NDXnd1vXNuQth7/WaK53JB0fVWJh1K+x5FI5r4zLfSXZY/0e58kEZZSmyEW4ngvcBU9N+n5I65hhXN+cuRKwReg5aKyTLyrNfP9EBcR+NX43s7L+xNhTZ+o/w7hVej0alS3RY20zmKr3kebQ3n/7vWDibZT/942kpG6ezEW7P5H8PzBKRGSJSBdwErHH5Mb0VbwTTbwX6XERh678wiU+Cd30Gdn0fTnq4JkMNlTiSZ07e+9YGpchGuDqTN8b0isjngbVAOfCAMeZVNx/Tc+l7vdp/RCOJwtZ/YXPOHbDjP2HbvXDBP3s9GmXLOyfvfboG3M9GuJ6TN8b8whhzljHmXcaY8G+amc9er8ZoTj6I6pph+v+C1++HnsNej0aBtTdv7/H8XksDu7l5XyvvJi3Odlo+e732dlqpHQ3ywXPuUtj9X/Dz2Vag8EJ8Mly1EcqrvXl8P0mmesnnM5MXKaw9eMBokHdaPI/WBtrSILjGzIGW78A7L3nz+CfehANPWVU+9ed6MwY/KbQHVARaG2iQd1p5zJpN5JKu0TbDwXbWbd49dvvz8OunrGCvQb7wzXfijaFf3KZB3g3xxtzSNdpmOLBWb97HPWu381ZHF5Pr49yxcHZpS3lrp1vfT75Zusf0s0JfS/HJ8NaTzo/HRzTIuyHXPJ+2GQ4ku9+IXdts9xsBShfo45OgrAo6d5fm8fyu4HRNo3XCNtkJlXXOj8sHPF/xGkq5BnnNyQeSL7qfShnUTLPSNarwdE0s/DtEaZB3Q2yS1W44W+MjzckHkm+6n9Y1w4ndpX1Mvyo0XVOTqpXPp99UwGiQd0O8Efq6TwXx4ehMPpB80/20drrO5G1Ju5f8qPxuZ8/kT4a3Vl6DvBty3QYw2WHVWGudc6D4pvtpbbP1ibGvu7SP60eJDmuylGsveZvO5FVBcg3y2mY4kHzT/dSusDmxp7SP60eJAleOV9ZDWXWoc/JaXeMGe6/XbNsAakuDwPJF99OBIP8mjD7L27F4rdDX0sCqV03XqHzkPJPPs6GSUulqm63vevK1uNdSyFe96kzeDZVjrJWvuQT56vGlGZMKn/hkkHI9+QrWTL7uXYXdNt4IR51tjuv5Yrk0OpN3g0hue70mNSevilBWATVTdSYPhefkwfEmZaXYnDsfGuTdEp+kOXnlPi2jtBSbrkkehd6TjgzFF4vl0miQd0u22YExxc0+lAIrLx/1mXwhveTT5XoOLUe+WSyXokHeLdnSNX3d0J/QE6+qOLXTrcqQ/qTXI/FOIb3k0zm8Q5RvFsulaJB3S7zRSsf0DvPuPdDSQHPyqgi1062NZ062eT0S7xTb6C+fjX5y4JvFcika5N1ibx7SfSDz5dpmWDlByygLb05mc7i1gW8Wy6VoCaVb0rvb1TUPvVzbDCsnpC+IiqpiJ0zV46Gs0tHWBr5YLJeiM3m3ZPsIqDN55YSaqYBEu698sRMmu+Q5pE3KNMi7JdsZe83JKyeUV1knDqO8Q1Sx6Rqw/g1D2qRMg7xbqhusjnjD7fWqM3nllLrmaM/kB4L82MLvw+EFUX6iOXm3lJVD9cThZweak4+Ekixvr5kOh5539j6DJNlhTagqiti+L94IBzdAX8KxYeVNyqxVzA4r6h5F5GPAN4FzgIuNMa1ply0DPgP0AV8wxqwt5rECaaTZQeIoSIXVT16FUsn2gq2dDnsehf4+a3IRNYX2kk9XMwUSR+ARD/d2mPNVmL/c8bst9m3jFeAG4D/TD4rIHOAm4FxgMrBORM4yxvQNvYsQGynI2y0NREo7JlUyIy1vdzTI1zWD6bUWRdVOde5+gyJxpPi058xPW83eTK8zYyrEhPe4crdFBXljzGsAMjRQLQIeNsb0ALtEZAdwMRCtz5SxSXBkc+bLtM1w6JVseXtNWhllJIO8A+1B4mfAnK84Mx6fcevEaxOwN+33ttSxIURkiYi0ikhre3u7S8PxSLzRWgzVn+EDjPatCb2SLW+312FEdUGUNvobUdYgLyLrROSVDF+LnBiAMWaFMabFGNPS0NDgxF36R7zRWnLek+HNS9sMh17JlrfXTLO+R3VBlH4qHlHWdI0x5qoC7ncfkP65cUrqWLSk18rbbQ5syY5Tl6tQsvPurlfXVMQhNjG6QV5n8iNyq4RyDfAjEbkX68TrLOB3Lj2Wf42016umayKhZMvbo9xyWGfyIyoqJy8i14tIG/Ae4AkRWQtgjHkVeBTYCjwJ3Ba5yhoYedWr/mEqJ0V185D+Xujt1AnTCIqtrlkFrBrmsruAu4q5/8AbLsj3J6HvpObklXNqm6FtjXUOqJh68aAZaA+iQX44uuLVTeUxa7Y+OMgn9A9TOax2OvT3QPfBoed/wqzE7UH8tEF3rjTIuy3TXq/a0kA5Lb2vfJSCfAlfSyVbweywCH2u80imVa/anEw5Lap95Z3oQJkjv23QnSsN8m7LtNerthlWTot6kC/BhMlvG3TnSoO82+KNVidKY04d05m8clrlKKgaF70yyhKma/y2QXeuNMi7LT4J+rpP7SgPmpNX7ohiGWUJ0zV+26A7V3ri1W3pe73a6ZkS/mGqCKlthuP+zg87LuFAL/kclWwFs8M0yLstfa/XMWdbPyePAlKSP0wVIbXTYf+vrNRgVFpYJx3oJZ8HP23QnStN17gt04IoJzY5UGqw2mboPQE9h70eSenoyvGsNMq4za5ZTt/rVfvWKDfYFTZR2tRbX0tZabrGbZX1UFZ9+l6vyaP6h6mGKHo1ZXoZ5bgL3Rmk32gHyqw0yLtNZOiCKDuPqFSKI6sp7c1DOnc7P0C/SnTAqFlej8LXNF1TCoODvH7EVIM4spqysh4qRkWrjFJn8llpkC+F2KD+NXqySA3iyGpKEWs2H6UFUfpaykqDfCkMSddoTl6dzrHVlDURWhClveRzokG+FOKNkDhirXw1/dbqV83JqzSOraaM0kxee8nnRE+8lsJArfz+1B+k0T9MdRrHVlPWTreCX+Jo+BvgDawcH+vtOHxOg3wpZNrrVfOIahBHVlOml1FWnV/8oPzM7gGlr6URaZAvhfRVr+WpHGvYZ1nKG+mbh4wNeZB3qAdUEHd7yocG+VJID/JV46yfdfah3BClvvKJI9b3IoJ8UHd7yoeeeC2F6olWn5qut7XNsHJXdYP1aTEKJ18d2JchqLs95UODfCmUlVsvvu792mZYuUskOn3lHZgwBXW3p3xokC8Vu1beLvvSEkrlltrp0ZnJF9lLPqi7PeVDg3yp2Hu9DnzE1CCvXFLbHI2ZvL3atYje+UHd7SkfRQV5EblHRLaJyB9EZJWI1KddtkxEdojIdhFZWPxQA87e6zXRYc08yvSct3JJ7XToOWT1lg8zB/rWLF7QxN03zKWpPo4ATfVx7r5hbmhOukLx1TW/BpYZY3pF5NvAMuCrIjIHuAk4F5gMrBORs4wxfSPcV7jFJ0H3QUi8o/l45a6BMso3YcwcT4fiKof61gRxt6d8FDWTN8b8yhjTm/r1BWBK6udFwMPGmB5jzC5gB3BxMY8VeLFGMH3QuUNTNcpdUSmj1A6UOXEyJ/9p4Jepn5uAvWmXtaWODSEiS0SkVURa29vbHRyOz9i18kdf0z9M5a70BVFhpi27c5I1XSMi64BJGS76ujHm8dR1vg70Ag/lOwBjzApgBUBLS4vJ9/aBYQf5xDu6EEq5Kz4JyqrCP5PXNsM5yRrkjTFXjXS5iNwMXAtcaYyxg/Q+YGra1aakjkVXPO19Umcfyk1SBjVTwx/kNV2Tk2Kra64GvgJcZ4w5mXbRGuAmEakWkRnALOB3xTxW4MUaT/2sOXnlttrmcG8D2J+0qod0Jp9VsTn57wCjgF+LyBYRuR/AGPMq8CiwFXgSuC3SlTUAFfFTwV1nH8pttdPhZIhn8gntJZ+rokoojTFnjnDZXcBdxdx/6MQbrRWvOvsYkEwmaWtro7u72+uhhEYsFmNKzVlUdj1gbVRTHvN6SM7THlA50xU5pRSbBMe26R9mmra2NkaNGkVzczNSxMpFZTHGcPjwYdpOvpcZACf2wuhZXg/LeQ40J4sKbWtQSnaFjebkB3R3dzN+/HgN8A4REcaPH0+3SfVzCWsZpc7kc6ZBvkRWb97Hf/8xCcDfrNrN6s3RLjZKpwHeWSICkvqQHtYKG+3mmjMN8iVgb0yws3M0ADuPVrDsp3/UQK/cI+XWV9iDvKZrstIgXwL2xgS7Ek30mTIO9I4P3cYEYfHNb36Tf/qnfyrotlu2bOEXv/iFI/c1nMcff5zzzz+f+fPn09LSwnPPPZf5iiJQM0XTNUqDfCnYGxCsO3Yxl29fwf7khNOOq3AYHOTdcOWVV/Lyyy+zZcsWHnjgAf76r/96+CuHefMQB3rJR4VW15TA5Po4+zq6AGFvYtJpx6Mg542SN90OR7Y4++Bj58OF/zriVe666y4efPBBJk6cyNSpU7nwwgsBeOONN7jttttob2+npqaG733ve5x99tncfPPNxGIxWltbOXbsGPfeey8f+MAH+MY3vkFXVxfPPfccy5YtA2Dr1q1cfvnl7Nmzh9tvv50vfOELRT2durpTQe3EiRMjn8+obYYDTxf1eL7lQC/5qNAgXwJ3LJx92mbBEL6NCYbj942SN23axMMPP8yWLVvo7e3lggsuGAjyS5Ys4f7772fWrFm8+OKLfO5zn2P9+vUA7N69m9/97ne88cYbXHHFFezYsYM777yT1tZWvvOd7wBWumbbtm08/fTTHD9+nNmzZ3PrrbdSWVl52nFf84EAAAxQSURBVBhuvPFGtm8fmrr70pe+xCc/+ckhx1etWsWyZcs4ePAgTzzxxPBPrnY65uQ+/mz5r9jbkRz5DTZotKVBzjTIl4D9osppNhsyI22UPOT5Z5lxu+HZZ5/l+uuvp6amBoDrrrsOgM7OTn7729/ysY99bOC6PT09Az9//OMfp6ysjFmzZjFz5ky2bduW8f4/9KEPUV1dTXV1NRMnTuTAgQNMmTLltOs88sgjeY35+uuv5/rrr2fjxo383d/9HevWrct4vc2HR7OAfvpP7MUwyXdvsEXR5mQ50yBfImHfmGA4Qd0oub+/n/r6erZsyZw+GpwmGS5tUl1dPfBzeXk5vb29Q66T70zedtlll7Fz504OHTrEhAkThlz+/7bAgjNgStVB2pJWmnDYN9igSXZA1VivRxEIeuJVucrvGyVfdtllrF69mq6uLo4fP87PfvYzAEaPHs2MGTN47LHHAGsl6csvvzxwu8cee4z+/n7eeOMNdu7cyezZsxk1ahTHjx/PewyPPPIIW7ZsGfKVKcDv2LEDu9nrSy+9RE9PD+PHj894v384Yi26a6o6fZ8Gv7/B5kR7yedMg7xyld83Sr7gggu48cYbmTdvHtdccw0XXXTRwGUPPfQQK1euZN68eZx77rk8/vjjA5dNmzaNiy++mGuuuYb777+fWCzGFVdcwdatW5k/f37eKZhc/eQnP+G8885j/vz53HbbbTzyyCPDn3ytmUq/EaZUHjjtsF/eYIuiQT5ncqoFvPdaWlpMa2ur18NQDhupuua1117jnHPO8XiE+bn55pu59tpr+ehHP+r1UIb12muvsb17NO/5wzyeOb6Ar7TdDlhvsEHeqNr+W/pV04d4/MSHqXn3vwT2uThJRDYZY1oyXaY5eeW6qJ6P8NriBU0c3j2Dd/UdQiDwJ/ztSq1ksofaad28dbKalWE5kewiDfJK5en73/++10PI2fiJsxhf/iK7Pv0hr4dSNLtSa1z5CQCO9dWG50SyizQnr1SY1U6HE3ugP/h79tgnjEeXdwJwrK/utOMqMw3ySoVZbTOYXuh+2+uRFM0+YTw6bSafflxlpkFeqTCrnW59z9LDZvXmfVy6fD0zlj7BpcvX+7JDql2plR7k/VSp5Veak1cqzGqbre+du6Hh0oxX8XvrCZs9ltaNzwMQqx3P3e8LbqVQqWiQVypHGzZsoKqqive+970F30ddXR2dnZ0OjiqL2mnW97bV0J95H93XnnuND9clMxxfx+LR/ipvXTwaFr97D+yEH966EGo0wGejQV4FSs4dLV2wYcMG6urqigryJVdRA6POgr0/tr4yWDYeyLxoFl50bWTFqRwN1UNbOaihNMirwHArrbB48WL27t1Ld3c3X/ziF1myZAlPPvkkX/va1+jr62PChAmsXLmS+++/n/Lycn74wx/y7//+76xcufK0RVH2LL2zs5NFixZx5MgRkskk3/rWt1i0aFHx/wCFumYz9Bwe9uLr/+9v2H9s6Cx/0ugYqz6XOcXjpLWv7mf5L7fR3XuqAihWUc7Sa85m4bmTMt+oqh7KY66PLQw0yKvAyKujZR4eeOABxo0bR1dXFxdddBGLFi3illtuYePGjcyYMYN33nmHcePG8dnPfpa6ujq+/OUvA7By5cqM9xeLxVi1ahWjR4/m0KFDXHLJJVx33XXe7WVbUWN9DeNTV/1pxlbYX71qLtS6/ynpzvWvs69r3OkHk3Dn+uMsvPiizDdSOdMgrwLDrY6W9913H6tWrQJg7969rFixgssuu4wZM2YAMG7cuJFuPoQxhq997Wts3LiRsrIy9u3bx4EDB5g0aZhZqcfybYXtdMosqJ1Kg6KoIC8i/wAsAvqBg8DNxpi3xJqy/BvwQeBk6vhLxQ5WRdupHbaGHi/Uhg0bWLduHc8//zw1NTVcfvnlzJ8/f9j+8OkqKiro7+8HrNbEiUQCsBqbtbe3s2nTJiorK2lubqa7O/NJT7/ItfVEPimzXN8M3Ph/VacUWyd/jzHmfGPMfODnwDdSx68BZqW+lgD/UeTjKOVKR8ujR48yduxYampq2LZtGy+88ALd3d1s3LiRXbt2AfDOO+8ADGkl3NzczKZNmwBYs2YNyWRy4D4nTpxIZWUlTz/9NG++GZ59VkdKmaWz3wz2dXRhOPVmkKn+3u+dSoOuqCBvjDmW9mstYLe0XAT8wFheAOpFpLGYx1Jq8YIm7r5hLk31cQRoqo8X3VHx6quvpre3l3POOYelS5dyySWX0NDQwIoVK7jhhhuYN28eN954IwAf/vCHWbVqFfPnz+fZZ5/llltu4ZlnnmHevHk8//zz1NZaKzD/4i/+gtbWVubOncsPfvADzj77bCeevi/kmlrJ9c0A3Pl/VacU3WpYRO4CPgkcBa4wxrSLyM+B5caY51LXeQr4qjFmSB9hEVmCNdtn2rRpF4Zp1qOyC2Kr4SBw69/10uXrM6ZWmurj/Gbp+wZ+n7H0CTJFFgF2LQ9+szS/GanVcNaZvIisE5FXMnwtAjDGfN0YMxV4CPh8voMzxqwwxrQYY1oaGhryvblSqoRyTa34fUewKMka5I0xVxljzsvw9figqz4EfCT18z5gatplU1LHlFIBlmtqRfPs/lFsdc0sY8zrqV8XAXZJwhrg8yLyMPBu4KgxJvht8JQrjDHe1ZCHkNu7veVSiZNvWaZyT7F18stFZDZWCeWbwGdTx3+BVT65A6uE8q+KfBwVUrFYjMOHDzN+/HgN9A4wxnD48GFiMe9Xg+qOYP5QVJA3xnxkmOMGuK2Y+1bRMGXKFNra2mhvb/d6KKERi8WYMmWK18NQPqErXpWnKisrB1aWKqWcp5uGKKVUiGmQV0qpENMgr5RSIVb0ilcniUg7VpVOISYAhxwcThDoc44Gfc7RUMxznm6Mybia1FdBvhgi0jrcst6w0uccDfqco8Gt56zpGqWUCjEN8kopFWJhCvIrvB6AB/Q5R4M+52hw5TmHJievlFJqqDDN5JVSSg2iQV4ppUIsUEFeRK4Wke0iskNElma4vFpEHkld/qKINJd+lM7K4Tl/SUS2isgfROQpEZnuxTidlO05p13vIyJiRCTwpXa5PGcR+Xjq//pVEflRqcfotBz+tqeJyNMisjn19/1BL8bpJBF5QEQOisgrw1wuInJf6t/kDyJyQdEPaowJxBdQDrwBzASqgJeBOYOu8zng/tTPNwGPeD3uEjznK4Ca1M+3RuE5p643CtgIvAC0eD3uEvw/zwI2A2NTv0/0etwleM4rgFtTP88Bdns9bgee92XABcArw1z+QeCXWDslXgK8WOxjBmkmfzGwwxiz0xiTAB7G2qgk3SLgwdTPPwaulGA3Kc/6nI0xTxtjTqZ+fQFrF64gy+X/GeAfgG8D3aUcnEtyec63AN81xhwBMMYcLPEYnZbLczbA6NTPY4C3Sjg+VxhjNgLvjHCVRcAPjOUFoF5EGot5zCAF+SZgb9rvbaljGa9jjOnF2lx8fElG545cnnO6z2DNAoIs63NOfYSdaox5opQDc1Eu/89nAWeJyG9E5AURubpko3NHLs/5m8AnRKQNayOi/12aoXkq39d8VtpPPiRE5BNAC/BnXo/FTSJSBtwL3OzxUEqtAitlcznWp7WNIjLXGNPh6ajc9efA940x/ywi7wH+S0TOM8b0ez2wIAnSTD6XzcEHriMiFVgf8Q6XZHTuyGlDdBG5Cvg6cJ0xpqdEY3NLtuc8CjgP2CAiu7HylmsCfvI1l//nNmCNMSZpjNkF/A9W0A+qXJ7zZ4BHAYwxzwMxrCZeYZbTaz4fQQryvwdmicgMEanCOrG6ZtB11gCfSv38UWC9SZ3NCKisz1lEFgD/iRXgg56nhSzP2Rhz1BgzwRjTbIxpxjoPcZ0xptWb4Toil7/t1VizeERkAlb6ZmcpB+mwXJ7zHuBKABE5ByvIh32fyDXAJ1NVNpcAR40xbxdzh4FJ1xhjekXk88BarDPzDxhjXhWRO4FWY8waYCXWR7odWCc3bvJuxMXL8TnfA9QBj6XOMe8xxlzn2aCLlONzDpUcn/Na4AMishXoA+4wxgT2U2qOz/lvge+JyN9gnYS9OeCTNkTkv7HerCekzjX8PVAJYIy5H+vcwweBHcBJ4K+KfsyA/5sppZQaQZDSNUoppfKkQV4ppUJMg7xSSoWYBnmllAoxDfJKKRViGuSVUirENMgrpVSI/X/YjmSy4/QCuwAAAABJRU5ErkJggg==\n",
                  "text/plain": "<Figure size 432x288 with 1 Axes>"
                },
                "metadata": {
                  "needs_background": "light"
                }
              }
            ],
            "_view_module": "@jupyter-widgets/output",
            "_model_module_version": "1.0.0",
            "_view_count": null,
            "_view_module_version": "1.0.0",
            "layout": "IPY_MODEL_65ad5441f67544c1891defe8966d8666",
            "_model_module": "@jupyter-widgets/output"
          }
        },
        "99d1828f05d8459bb8aed46c0e78a50c": {
          "model_module": "@jupyter-widgets/controls",
          "model_name": "SliderStyleModel",
          "model_module_version": "1.5.0",
          "state": {
            "_view_name": "StyleView",
            "handle_color": null,
            "_model_name": "SliderStyleModel",
            "description_width": "",
            "_view_module": "@jupyter-widgets/base",
            "_model_module_version": "1.5.0",
            "_view_count": null,
            "_view_module_version": "1.2.0",
            "_model_module": "@jupyter-widgets/controls"
          }
        },
        "ac0f4bc773624a9a96bdab83d0c9ad8a": {
          "model_module": "@jupyter-widgets/base",
          "model_name": "LayoutModel",
          "model_module_version": "1.2.0",
          "state": {
            "_view_name": "LayoutView",
            "grid_template_rows": null,
            "right": null,
            "justify_content": null,
            "_view_module": "@jupyter-widgets/base",
            "overflow": null,
            "_model_module_version": "1.2.0",
            "_view_count": null,
            "flex_flow": null,
            "width": null,
            "min_width": null,
            "border": null,
            "align_items": null,
            "bottom": null,
            "_model_module": "@jupyter-widgets/base",
            "top": null,
            "grid_column": null,
            "overflow_y": null,
            "overflow_x": null,
            "grid_auto_flow": null,
            "grid_area": null,
            "grid_template_columns": null,
            "flex": null,
            "_model_name": "LayoutModel",
            "justify_items": null,
            "grid_row": null,
            "max_height": null,
            "align_content": null,
            "visibility": null,
            "align_self": null,
            "height": null,
            "min_height": null,
            "padding": null,
            "grid_auto_rows": null,
            "grid_gap": null,
            "max_width": null,
            "order": null,
            "_view_module_version": "1.2.0",
            "grid_template_areas": null,
            "object_position": null,
            "object_fit": null,
            "grid_auto_columns": null,
            "margin": null,
            "display": null,
            "left": null
          }
        },
        "65ad5441f67544c1891defe8966d8666": {
          "model_module": "@jupyter-widgets/base",
          "model_name": "LayoutModel",
          "model_module_version": "1.2.0",
          "state": {
            "_view_name": "LayoutView",
            "grid_template_rows": null,
            "right": null,
            "justify_content": null,
            "_view_module": "@jupyter-widgets/base",
            "overflow": null,
            "_model_module_version": "1.2.0",
            "_view_count": null,
            "flex_flow": null,
            "width": null,
            "min_width": null,
            "border": null,
            "align_items": null,
            "bottom": null,
            "_model_module": "@jupyter-widgets/base",
            "top": null,
            "grid_column": null,
            "overflow_y": null,
            "overflow_x": null,
            "grid_auto_flow": null,
            "grid_area": null,
            "grid_template_columns": null,
            "flex": null,
            "_model_name": "LayoutModel",
            "justify_items": null,
            "grid_row": null,
            "max_height": null,
            "align_content": null,
            "visibility": null,
            "align_self": null,
            "height": null,
            "min_height": null,
            "padding": null,
            "grid_auto_rows": null,
            "grid_gap": null,
            "max_width": null,
            "order": null,
            "_view_module_version": "1.2.0",
            "grid_template_areas": null,
            "object_position": null,
            "object_fit": null,
            "grid_auto_columns": null,
            "margin": null,
            "display": null,
            "left": null
          }
        }
      }
    }
  },
  "cells": [
    {
      "cell_type": "markdown",
      "metadata": {
        "id": "view-in-github",
        "colab_type": "text"
      },
      "source": [
        "<a href=\"https://colab.research.google.com/github/Pepcoders/Data-Science-Assignements/blob/main/Decision_Tree/Decision_Tree_Solution.ipynb\" target=\"_parent\"><img src=\"https://colab.research.google.com/assets/colab-badge.svg\" alt=\"Open In Colab\"/></a>"
      ]
    },
    {
      "cell_type": "markdown",
      "source": [
        "#Decison Tree "
      ],
      "metadata": {
        "id": "-cR8NDcbQ-c0"
      }
    },
    {
      "cell_type": "code",
      "execution_count": null,
      "metadata": {
        "id": "vGrnLObZkJuE"
      },
      "outputs": [],
      "source": [
        "import numpy as np\n",
        "import matplotlib.pyplot as plt\n",
        "import pandas as pd"
      ]
    },
    {
      "cell_type": "markdown",
      "source": [
        "# Gini Entropy\n",
        "\n",
        "splitter{“best”, “random”}"
      ],
      "metadata": {
        "id": "qqQnbnS-7ACX"
      }
    },
    {
      "cell_type": "code",
      "source": [
        "x = np.linspace(0, 1, 200)"
      ],
      "metadata": {
        "id": "J0q1WiUkEKCd"
      },
      "execution_count": null,
      "outputs": []
    },
    {
      "cell_type": "code",
      "source": [
        "ye = -x*np.log2(x) + -(1-x)*np.log2(1-x)\n",
        "yg = 1-(x*x + (1-x)**2)"
      ],
      "metadata": {
        "colab": {
          "base_uri": "https://localhost:8080/"
        },
        "id": "Kfxv04jOEYhN",
        "outputId": "be2b7ea7-cb0e-4e3e-a318-4954f76c4205"
      },
      "execution_count": null,
      "outputs": [
        {
          "output_type": "stream",
          "name": "stderr",
          "text": [
            "/usr/local/lib/python3.7/dist-packages/ipykernel_launcher.py:1: RuntimeWarning: divide by zero encountered in log\n",
            "  \"\"\"Entry point for launching an IPython kernel.\n",
            "/usr/local/lib/python3.7/dist-packages/ipykernel_launcher.py:1: RuntimeWarning: invalid value encountered in multiply\n",
            "  \"\"\"Entry point for launching an IPython kernel.\n"
          ]
        }
      ]
    },
    {
      "cell_type": "code",
      "source": [
        "plt.plot(x, ye)\n",
        "plt.plot(x, yg)"
      ],
      "metadata": {
        "colab": {
          "base_uri": "https://localhost:8080/",
          "height": 284
        },
        "id": "fpQJXmlVE1bv",
        "outputId": "ba662935-735f-45b0-bb1c-aa4471871c0e"
      },
      "execution_count": null,
      "outputs": [
        {
          "output_type": "execute_result",
          "data": {
            "text/plain": [
              "[<matplotlib.lines.Line2D at 0x7ff1d34f2b50>]"
            ]
          },
          "metadata": {},
          "execution_count": 12
        },
        {
          "output_type": "display_data",
          "data": {
            "image/png": "[encoded data removed]",
            "text/plain": [
              "<Figure size 432x288 with 1 Axes>"
            ]
          },
          "metadata": {
            "needs_background": "light"
          }
        }
      ]
    },
    {
      "cell_type": "code",
      "source": [
        "x = np.linspace(0, 1, 200)\n",
        "ye = -x*np.log(x) + -(1-x)*np.log(1-x)\n",
        "yg = 1 - (x*x + (1-x)**2)"
      ],
      "metadata": {
        "colab": {
          "base_uri": "https://localhost:8080/"
        },
        "id": "_lctrJrbF9b-",
        "outputId": "66ab6a38-686e-41a7-eb4b-314be3b3e01a"
      },
      "execution_count": null,
      "outputs": [
        {
          "output_type": "stream",
          "name": "stderr",
          "text": [
            "/usr/local/lib/python3.7/dist-packages/ipykernel_launcher.py:2: RuntimeWarning: divide by zero encountered in log\n",
            "  \n",
            "/usr/local/lib/python3.7/dist-packages/ipykernel_launcher.py:2: RuntimeWarning: invalid value encountered in multiply\n",
            "  \n"
          ]
        }
      ]
    },
    {
      "cell_type": "code",
      "source": [
        "plt.plot(x, ye)\n",
        "plt.plot(x, yg)"
      ],
      "metadata": {
        "colab": {
          "base_uri": "https://localhost:8080/",
          "height": 282
        },
        "id": "GIEKDEbSF9NM",
        "outputId": "4a052376-28c7-4bb3-8502-f9773aba7047"
      },
      "execution_count": null,
      "outputs": [
        {
          "output_type": "execute_result",
          "data": {
            "text/plain": [
              "[<matplotlib.lines.Line2D at 0x7f91df01cbd0>]"
            ]
          },
          "metadata": {},
          "execution_count": 52
        },
        {
          "output_type": "display_data",
          "data": {
            "image/png": "[encoded data removed]",
            "text/plain": [
              "<Figure size 432x288 with 1 Axes>"
            ]
          },
          "metadata": {
            "needs_background": "light"
          }
        }
      ]
    },
    {
      "cell_type": "markdown",
      "source": [
        "# Probelms\n",
        "\n",
        "\n",
        "\n",
        "*   Even Odd  <\n",
        "*   Ordinal\n",
        "*   Nominal\n",
        "\n",
        "\n",
        "\n",
        "1.   Depth\n",
        "2.   pruning ccp_alphanon\n",
        "\n",
        "\n",
        "\n",
        "sklearn decision tree dont support categorical features"
      ],
      "metadata": {
        "id": "DitjZ54I8pwe"
      }
    },
    {
      "cell_type": "markdown",
      "source": [
        "## EvenOdd\n"
      ],
      "metadata": {
        "id": "rQ9KWzlkFMZv"
      }
    },
    {
      "cell_type": "code",
      "source": [
        "import numpy as np"
      ],
      "metadata": {
        "id": "sNF91Ebq-tM0"
      },
      "execution_count": null,
      "outputs": []
    },
    {
      "cell_type": "code",
      "source": [
        "x = np.arange(1000)\n",
        "y = x%2"
      ],
      "metadata": {
        "id": "Ltj_TTRVFiss"
      },
      "execution_count": null,
      "outputs": []
    },
    {
      "cell_type": "code",
      "source": [
        "y[0:100] = 0"
      ],
      "metadata": {
        "id": "T80Ot3UFGS6V"
      },
      "execution_count": null,
      "outputs": []
    },
    {
      "cell_type": "code",
      "source": [
        "y[50] = 1"
      ],
      "metadata": {
        "id": "-XAiDg9pGjtn"
      },
      "execution_count": null,
      "outputs": []
    },
    {
      "cell_type": "code",
      "source": [
        "x = np.arange(1000)\n",
        "y = x%2\n",
        "y[0:100] = 0\n",
        "y[50] = 1"
      ],
      "metadata": {
        "id": "ry3V_Vzym5OP"
      },
      "execution_count": null,
      "outputs": []
    },
    {
      "cell_type": "code",
      "source": [
        "print(x)\n",
        "print(x.shape, x.size)\n",
        "print(type(x))"
      ],
      "metadata": {
        "id": "rwgvecJHIj_z"
      },
      "execution_count": null,
      "outputs": []
    },
    {
      "cell_type": "code",
      "source": [
        "X = x.reshape(-1, 1)"
      ],
      "metadata": {
        "id": "89ClBvIyFycC"
      },
      "execution_count": null,
      "outputs": []
    },
    {
      "cell_type": "code",
      "source": [
        "print(x)\n",
        "print(x.shape, x.size)\n",
        "print(type(x))"
      ],
      "metadata": {
        "id": "DWLfpRpyIzsT"
      },
      "execution_count": null,
      "outputs": []
    },
    {
      "cell_type": "code",
      "source": [
        "from sklearn.tree import DecisionTreeClassifier\n",
        "\n",
        "clf = DecisionTreeClassifier(max_depth=3)\n",
        "clf.fit(X, y)"
      ],
      "metadata": {
        "colab": {
          "base_uri": "https://localhost:8080/"
        },
        "id": "fsRdJhEFFebh",
        "outputId": "e66dfadb-36ff-419b-faee-2e6569fc67b4"
      },
      "execution_count": null,
      "outputs": [
        {
          "output_type": "execute_result",
          "data": {
            "text/plain": [
              "DecisionTreeClassifier(max_depth=3)"
            ]
          },
          "metadata": {},
          "execution_count": 33
        }
      ]
    },
    {
      "cell_type": "code",
      "source": [
        "clf.score(X, y)"
      ],
      "metadata": {
        "colab": {
          "base_uri": "https://localhost:8080/"
        },
        "id": "Pu9LwJ_0FweS",
        "outputId": "25b601ed-4fa6-464f-9710-1cd158a4472b"
      },
      "execution_count": null,
      "outputs": [
        {
          "output_type": "execute_result",
          "data": {
            "text/plain": [
              "0.552"
            ]
          },
          "metadata": {},
          "execution_count": 34
        }
      ]
    },
    {
      "cell_type": "code",
      "source": [
        "print(clf.get_depth())"
      ],
      "metadata": {
        "colab": {
          "base_uri": "https://localhost:8080/"
        },
        "id": "adSptYLiFxGj",
        "outputId": "cf043284-9400-4c79-8e4c-7d033680ee50"
      },
      "execution_count": null,
      "outputs": [
        {
          "output_type": "stream",
          "name": "stdout",
          "text": [
            "3\n"
          ]
        }
      ]
    },
    {
      "cell_type": "code",
      "source": [
        "from sklearn import tree\n",
        "\n",
        "plt.figure(figsize=(10, 10))\n",
        "\n",
        "tree.plot_tree(clf, feature_names=['x1'], filled = True)\n",
        "plt.show()"
      ],
      "metadata": {
        "colab": {
          "base_uri": "https://localhost:8080/",
          "height": 575
        },
        "id": "TPw2dZYz-t7c",
        "outputId": "be96edcf-ee0f-4f4a-98ab-8e8856d4db25"
      },
      "execution_count": null,
      "outputs": [
        {
          "output_type": "display_data",
          "data": {
            "image/png": "[encoded data removed]",
            "text/plain": [
              "<Figure size 720x720 with 1 Axes>"
            ]
          },
          "metadata": {
            "needs_background": "light"
          }
        }
      ]
    },
    {
      "cell_type": "markdown",
      "source": [
        "##**Ordinal**"
      ],
      "metadata": {
        "id": "_6bBO26eJgHb"
      }
    },
    {
      "cell_type": "code",
      "source": [
        "df2 = pd.read_csv('https://raw.githubusercontent.com/Ramanand-Yadav/DataSet/main/play_tennis.csv')\n",
        "df2"
      ],
      "metadata": {
        "colab": {
          "base_uri": "https://localhost:8080/",
          "height": 488
        },
        "id": "FHNdSZiIJfde",
        "outputId": "9bce38df-8aef-4db4-dbef-2583d61d43bf"
      },
      "execution_count": null,
      "outputs": [
        {
          "output_type": "execute_result",
          "data": {
            "text/html": [
              "\n",
              "  <div id=\"df-53eb8df7-4779-42b0-8820-0dc054d10114\">\n",
              "    <div class=\"colab-df-container\">\n",
              "      <div>\n",
              "<style scoped>\n",
              "    .dataframe tbody tr th:only-of-type {\n",
              "        vertical-align: middle;\n",
              "    }\n",
              "\n",
              "    .dataframe tbody tr th {\n",
              "        vertical-align: top;\n",
              "    }\n",
              "\n",
              "    .dataframe thead th {\n",
              "        text-align: right;\n",
              "    }\n",
              "</style>\n",
              "<table border=\"1\" class=\"dataframe\">\n",
              "  <thead>\n",
              "    <tr style=\"text-align: right;\">\n",
              "      <th></th>\n",
              "      <th>day</th>\n",
              "      <th>outlook</th>\n",
              "      <th>temp</th>\n",
              "      <th>humidity</th>\n",
              "      <th>wind</th>\n",
              "      <th>play</th>\n",
              "    </tr>\n",
              "  </thead>\n",
              "  <tbody>\n",
              "    <tr>\n",
              "      <th>0</th>\n",
              "      <td>D1</td>\n",
              "      <td>Sunny</td>\n",
              "      <td>Hot</td>\n",
              "      <td>High</td>\n",
              "      <td>Weak</td>\n",
              "      <td>No</td>\n",
              "    </tr>\n",
              "    <tr>\n",
              "      <th>1</th>\n",
              "      <td>D2</td>\n",
              "      <td>Sunny</td>\n",
              "      <td>Hot</td>\n",
              "      <td>High</td>\n",
              "      <td>Strong</td>\n",
              "      <td>No</td>\n",
              "    </tr>\n",
              "    <tr>\n",
              "      <th>2</th>\n",
              "      <td>D3</td>\n",
              "      <td>Overcast</td>\n",
              "      <td>Hot</td>\n",
              "      <td>High</td>\n",
              "      <td>Weak</td>\n",
              "      <td>Yes</td>\n",
              "    </tr>\n",
              "    <tr>\n",
              "      <th>3</th>\n",
              "      <td>D4</td>\n",
              "      <td>Rain</td>\n",
              "      <td>Mild</td>\n",
              "      <td>High</td>\n",
              "      <td>Weak</td>\n",
              "      <td>Yes</td>\n",
              "    </tr>\n",
              "    <tr>\n",
              "      <th>4</th>\n",
              "      <td>D5</td>\n",
              "      <td>Rain</td>\n",
              "      <td>Cool</td>\n",
              "      <td>Normal</td>\n",
              "      <td>Weak</td>\n",
              "      <td>Yes</td>\n",
              "    </tr>\n",
              "    <tr>\n",
              "      <th>5</th>\n",
              "      <td>D6</td>\n",
              "      <td>Rain</td>\n",
              "      <td>Cool</td>\n",
              "      <td>Normal</td>\n",
              "      <td>Strong</td>\n",
              "      <td>No</td>\n",
              "    </tr>\n",
              "    <tr>\n",
              "      <th>6</th>\n",
              "      <td>D7</td>\n",
              "      <td>Overcast</td>\n",
              "      <td>Cool</td>\n",
              "      <td>Normal</td>\n",
              "      <td>Strong</td>\n",
              "      <td>Yes</td>\n",
              "    </tr>\n",
              "    <tr>\n",
              "      <th>7</th>\n",
              "      <td>D8</td>\n",
              "      <td>Sunny</td>\n",
              "      <td>Mild</td>\n",
              "      <td>High</td>\n",
              "      <td>Weak</td>\n",
              "      <td>No</td>\n",
              "    </tr>\n",
              "    <tr>\n",
              "      <th>8</th>\n",
              "      <td>D9</td>\n",
              "      <td>Sunny</td>\n",
              "      <td>Cool</td>\n",
              "      <td>Normal</td>\n",
              "      <td>Weak</td>\n",
              "      <td>Yes</td>\n",
              "    </tr>\n",
              "    <tr>\n",
              "      <th>9</th>\n",
              "      <td>D10</td>\n",
              "      <td>Rain</td>\n",
              "      <td>Mild</td>\n",
              "      <td>Normal</td>\n",
              "      <td>Weak</td>\n",
              "      <td>Yes</td>\n",
              "    </tr>\n",
              "    <tr>\n",
              "      <th>10</th>\n",
              "      <td>D11</td>\n",
              "      <td>Sunny</td>\n",
              "      <td>Mild</td>\n",
              "      <td>Normal</td>\n",
              "      <td>Strong</td>\n",
              "      <td>Yes</td>\n",
              "    </tr>\n",
              "    <tr>\n",
              "      <th>11</th>\n",
              "      <td>D12</td>\n",
              "      <td>Overcast</td>\n",
              "      <td>Mild</td>\n",
              "      <td>High</td>\n",
              "      <td>Strong</td>\n",
              "      <td>Yes</td>\n",
              "    </tr>\n",
              "    <tr>\n",
              "      <th>12</th>\n",
              "      <td>D13</td>\n",
              "      <td>Overcast</td>\n",
              "      <td>Hot</td>\n",
              "      <td>Normal</td>\n",
              "      <td>Weak</td>\n",
              "      <td>Yes</td>\n",
              "    </tr>\n",
              "    <tr>\n",
              "      <th>13</th>\n",
              "      <td>D14</td>\n",
              "      <td>Rain</td>\n",
              "      <td>Mild</td>\n",
              "      <td>High</td>\n",
              "      <td>Strong</td>\n",
              "      <td>No</td>\n",
              "    </tr>\n",
              "  </tbody>\n",
              "</table>\n",
              "</div>\n",
              "      <button class=\"colab-df-convert\" onclick=\"convertToInteractive('df-53eb8df7-4779-42b0-8820-0dc054d10114')\"\n",
              "              title=\"Convert this dataframe to an interactive table.\"\n",
              "              style=\"display:none;\">\n",
              "        \n",
              "  <svg xmlns=\"http://www.w3.org/2000/svg\" height=\"24px\"viewBox=\"0 0 24 24\"\n",
              "       width=\"24px\">\n",
              "    <path d=\"M0 0h24v24H0V0z\" fill=\"none\"/>\n",
              "    <path d=\"M18.56 5.44l.94 2.06.94-2.06 2.06-.94-2.06-.94-.94-2.06-.94 2.06-2.06.94zm-11 1L8.5 8.5l.94-2.06 2.06-.94-2.06-.94L8.5 2.5l-.94 2.06-2.06.94zm10 10l.94 2.06.94-2.06 2.06-.94-2.06-.94-.94-2.06-.94 2.06-2.06.94z\"/><path d=\"M17.41 7.96l-1.37-1.37c-.4-.4-.92-.59-1.43-.59-.52 0-1.04.2-1.43.59L10.3 9.45l-7.72 7.72c-.78.78-.78 2.05 0 2.83L4 21.41c.39.39.9.59 1.41.59.51 0 1.02-.2 1.41-.59l7.78-7.78 2.81-2.81c.8-.78.8-2.07 0-2.86zM5.41 20L4 18.59l7.72-7.72 1.47 1.35L5.41 20z\"/>\n",
              "  </svg>\n",
              "      </button>\n",
              "      \n",
              "  <style>\n",
              "    .colab-df-container {\n",
              "      display:flex;\n",
              "      flex-wrap:wrap;\n",
              "      gap: 12px;\n",
              "    }\n",
              "\n",
              "    .colab-df-convert {\n",
              "      background-color: #E8F0FE;\n",
              "      border: none;\n",
              "      border-radius: 50%;\n",
              "      cursor: pointer;\n",
              "      display: none;\n",
              "      fill: #1967D2;\n",
              "      height: 32px;\n",
              "      padding: 0 0 0 0;\n",
              "      width: 32px;\n",
              "    }\n",
              "\n",
              "    .colab-df-convert:hover {\n",
              "      background-color: #E2EBFA;\n",
              "      box-shadow: 0px 1px 2px rgba(60, 64, 67, 0.3), 0px 1px 3px 1px rgba(60, 64, 67, 0.15);\n",
              "      fill: #174EA6;\n",
              "    }\n",
              "\n",
              "    [theme=dark] .colab-df-convert {\n",
              "      background-color: #3B4455;\n",
              "      fill: #D2E3FC;\n",
              "    }\n",
              "\n",
              "    [theme=dark] .colab-df-convert:hover {\n",
              "      background-color: #434B5C;\n",
              "      box-shadow: 0px 1px 3px 1px rgba(0, 0, 0, 0.15);\n",
              "      filter: drop-shadow(0px 1px 2px rgba(0, 0, 0, 0.3));\n",
              "      fill: #FFFFFF;\n",
              "    }\n",
              "  </style>\n",
              "\n",
              "      <script>\n",
              "        const buttonEl =\n",
              "          document.querySelector('#df-53eb8df7-4779-42b0-8820-0dc054d10114 button.colab-df-convert');\n",
              "        buttonEl.style.display =\n",
              "          google.colab.kernel.accessAllowed ? 'block' : 'none';\n",
              "\n",
              "        async function convertToInteractive(key) {\n",
              "          const element = document.querySelector('#df-53eb8df7-4779-42b0-8820-0dc054d10114');\n",
              "          const dataTable =\n",
              "            await google.colab.kernel.invokeFunction('convertToInteractive',\n",
              "                                                     [key], {});\n",
              "          if (!dataTable) return;\n",
              "\n",
              "          const docLinkHtml = 'Like what you see? Visit the ' +\n",
              "            '<a target=\"_blank\" href=https://colab.research.google.com/notebooks/data_table.ipynb>data table notebook</a>'\n",
              "            + ' to learn more about interactive tables.';\n",
              "          element.innerHTML = '';\n",
              "          dataTable['output_type'] = 'display_data';\n",
              "          await google.colab.output.renderOutput(dataTable, element);\n",
              "          const docLink = document.createElement('div');\n",
              "          docLink.innerHTML = docLinkHtml;\n",
              "          element.appendChild(docLink);\n",
              "        }\n",
              "      </script>\n",
              "    </div>\n",
              "  </div>\n",
              "  "
            ],
            "text/plain": [
              "    day   outlook  temp humidity    wind play\n",
              "0    D1     Sunny   Hot     High    Weak   No\n",
              "1    D2     Sunny   Hot     High  Strong   No\n",
              "2    D3  Overcast   Hot     High    Weak  Yes\n",
              "3    D4      Rain  Mild     High    Weak  Yes\n",
              "4    D5      Rain  Cool   Normal    Weak  Yes\n",
              "5    D6      Rain  Cool   Normal  Strong   No\n",
              "6    D7  Overcast  Cool   Normal  Strong  Yes\n",
              "7    D8     Sunny  Mild     High    Weak   No\n",
              "8    D9     Sunny  Cool   Normal    Weak  Yes\n",
              "9   D10      Rain  Mild   Normal    Weak  Yes\n",
              "10  D11     Sunny  Mild   Normal  Strong  Yes\n",
              "11  D12  Overcast  Mild     High  Strong  Yes\n",
              "12  D13  Overcast   Hot   Normal    Weak  Yes\n",
              "13  D14      Rain  Mild     High  Strong   No"
            ]
          },
          "metadata": {},
          "execution_count": 59
        }
      ]
    },
    {
      "cell_type": "code",
      "source": [
        "df2['play'] = np.where(df2['play']=='No', 0, 1)"
      ],
      "metadata": {
        "id": "NIYiIGHBJfaJ"
      },
      "execution_count": null,
      "outputs": []
    },
    {
      "cell_type": "code",
      "source": [
        "Y = df2['play']\n",
        "\n",
        "df2.drop('play', axis=1, inplace=True)"
      ],
      "metadata": {
        "id": "cgmPscV_RVsl"
      },
      "execution_count": null,
      "outputs": []
    },
    {
      "cell_type": "code",
      "source": [
        ""
      ],
      "metadata": {
        "colab": {
          "base_uri": "https://localhost:8080/",
          "height": 206
        },
        "id": "rts-E2DaRVqj",
        "outputId": "a26a28c5-eee3-4c38-d824-25d87c0d9471"
      },
      "execution_count": null,
      "outputs": [
        {
          "output_type": "execute_result",
          "data": {
            "text/html": [
              "\n",
              "  <div id=\"df-200c863f-7d9d-4cc8-959d-606126d4ba88\">\n",
              "    <div class=\"colab-df-container\">\n",
              "      <div>\n",
              "<style scoped>\n",
              "    .dataframe tbody tr th:only-of-type {\n",
              "        vertical-align: middle;\n",
              "    }\n",
              "\n",
              "    .dataframe tbody tr th {\n",
              "        vertical-align: top;\n",
              "    }\n",
              "\n",
              "    .dataframe thead th {\n",
              "        text-align: right;\n",
              "    }\n",
              "</style>\n",
              "<table border=\"1\" class=\"dataframe\">\n",
              "  <thead>\n",
              "    <tr style=\"text-align: right;\">\n",
              "      <th></th>\n",
              "      <th>day</th>\n",
              "      <th>outlook</th>\n",
              "      <th>temp</th>\n",
              "      <th>humidity</th>\n",
              "      <th>wind</th>\n",
              "    </tr>\n",
              "  </thead>\n",
              "  <tbody>\n",
              "    <tr>\n",
              "      <th>0</th>\n",
              "      <td>D1</td>\n",
              "      <td>Sunny</td>\n",
              "      <td>Hot</td>\n",
              "      <td>High</td>\n",
              "      <td>Weak</td>\n",
              "    </tr>\n",
              "    <tr>\n",
              "      <th>1</th>\n",
              "      <td>D2</td>\n",
              "      <td>Sunny</td>\n",
              "      <td>Hot</td>\n",
              "      <td>High</td>\n",
              "      <td>Strong</td>\n",
              "    </tr>\n",
              "    <tr>\n",
              "      <th>2</th>\n",
              "      <td>D3</td>\n",
              "      <td>Overcast</td>\n",
              "      <td>Hot</td>\n",
              "      <td>High</td>\n",
              "      <td>Weak</td>\n",
              "    </tr>\n",
              "    <tr>\n",
              "      <th>3</th>\n",
              "      <td>D4</td>\n",
              "      <td>Rain</td>\n",
              "      <td>Mild</td>\n",
              "      <td>High</td>\n",
              "      <td>Weak</td>\n",
              "    </tr>\n",
              "    <tr>\n",
              "      <th>4</th>\n",
              "      <td>D5</td>\n",
              "      <td>Rain</td>\n",
              "      <td>Cool</td>\n",
              "      <td>Normal</td>\n",
              "      <td>Weak</td>\n",
              "    </tr>\n",
              "  </tbody>\n",
              "</table>\n",
              "</div>\n",
              "      <button class=\"colab-df-convert\" onclick=\"convertToInteractive('df-200c863f-7d9d-4cc8-959d-606126d4ba88')\"\n",
              "              title=\"Convert this dataframe to an interactive table.\"\n",
              "              style=\"display:none;\">\n",
              "        \n",
              "  <svg xmlns=\"http://www.w3.org/2000/svg\" height=\"24px\"viewBox=\"0 0 24 24\"\n",
              "       width=\"24px\">\n",
              "    <path d=\"M0 0h24v24H0V0z\" fill=\"none\"/>\n",
              "    <path d=\"M18.56 5.44l.94 2.06.94-2.06 2.06-.94-2.06-.94-.94-2.06-.94 2.06-2.06.94zm-11 1L8.5 8.5l.94-2.06 2.06-.94-2.06-.94L8.5 2.5l-.94 2.06-2.06.94zm10 10l.94 2.06.94-2.06 2.06-.94-2.06-.94-.94-2.06-.94 2.06-2.06.94z\"/><path d=\"M17.41 7.96l-1.37-1.37c-.4-.4-.92-.59-1.43-.59-.52 0-1.04.2-1.43.59L10.3 9.45l-7.72 7.72c-.78.78-.78 2.05 0 2.83L4 21.41c.39.39.9.59 1.41.59.51 0 1.02-.2 1.41-.59l7.78-7.78 2.81-2.81c.8-.78.8-2.07 0-2.86zM5.41 20L4 18.59l7.72-7.72 1.47 1.35L5.41 20z\"/>\n",
              "  </svg>\n",
              "      </button>\n",
              "      \n",
              "  <style>\n",
              "    .colab-df-container {\n",
              "      display:flex;\n",
              "      flex-wrap:wrap;\n",
              "      gap: 12px;\n",
              "    }\n",
              "\n",
              "    .colab-df-convert {\n",
              "      background-color: #E8F0FE;\n",
              "      border: none;\n",
              "      border-radius: 50%;\n",
              "      cursor: pointer;\n",
              "      display: none;\n",
              "      fill: #1967D2;\n",
              "      height: 32px;\n",
              "      padding: 0 0 0 0;\n",
              "      width: 32px;\n",
              "    }\n",
              "\n",
              "    .colab-df-convert:hover {\n",
              "      background-color: #E2EBFA;\n",
              "      box-shadow: 0px 1px 2px rgba(60, 64, 67, 0.3), 0px 1px 3px 1px rgba(60, 64, 67, 0.15);\n",
              "      fill: #174EA6;\n",
              "    }\n",
              "\n",
              "    [theme=dark] .colab-df-convert {\n",
              "      background-color: #3B4455;\n",
              "      fill: #D2E3FC;\n",
              "    }\n",
              "\n",
              "    [theme=dark] .colab-df-convert:hover {\n",
              "      background-color: #434B5C;\n",
              "      box-shadow: 0px 1px 3px 1px rgba(0, 0, 0, 0.15);\n",
              "      filter: drop-shadow(0px 1px 2px rgba(0, 0, 0, 0.3));\n",
              "      fill: #FFFFFF;\n",
              "    }\n",
              "  </style>\n",
              "\n",
              "      <script>\n",
              "        const buttonEl =\n",
              "          document.querySelector('#df-200c863f-7d9d-4cc8-959d-606126d4ba88 button.colab-df-convert');\n",
              "        buttonEl.style.display =\n",
              "          google.colab.kernel.accessAllowed ? 'block' : 'none';\n",
              "\n",
              "        async function convertToInteractive(key) {\n",
              "          const element = document.querySelector('#df-200c863f-7d9d-4cc8-959d-606126d4ba88');\n",
              "          const dataTable =\n",
              "            await google.colab.kernel.invokeFunction('convertToInteractive',\n",
              "                                                     [key], {});\n",
              "          if (!dataTable) return;\n",
              "\n",
              "          const docLinkHtml = 'Like what you see? Visit the ' +\n",
              "            '<a target=\"_blank\" href=https://colab.research.google.com/notebooks/data_table.ipynb>data table notebook</a>'\n",
              "            + ' to learn more about interactive tables.';\n",
              "          element.innerHTML = '';\n",
              "          dataTable['output_type'] = 'display_data';\n",
              "          await google.colab.output.renderOutput(dataTable, element);\n",
              "          const docLink = document.createElement('div');\n",
              "          docLink.innerHTML = docLinkHtml;\n",
              "          element.appendChild(docLink);\n",
              "        }\n",
              "      </script>\n",
              "    </div>\n",
              "  </div>\n",
              "  "
            ],
            "text/plain": [
              "  day   outlook  temp humidity    wind\n",
              "0  D1     Sunny   Hot     High    Weak\n",
              "1  D2     Sunny   Hot     High  Strong\n",
              "2  D3  Overcast   Hot     High    Weak\n",
              "3  D4      Rain  Mild     High    Weak\n",
              "4  D5      Rain  Cool   Normal    Weak"
            ]
          },
          "metadata": {},
          "execution_count": 62
        }
      ]
    },
    {
      "cell_type": "code",
      "source": [
        "from sklearn.preprocessing import OneHotEncoder\n",
        "enc = OneHotEncoder()\n",
        "enc.fit()"
      ],
      "metadata": {
        "id": "RHK8dpmFSrFc"
      },
      "execution_count": null,
      "outputs": []
    },
    {
      "cell_type": "code",
      "source": [
        ""
      ],
      "metadata": {
        "id": "qXFpYso3S9RO"
      },
      "execution_count": null,
      "outputs": []
    },
    {
      "cell_type": "code",
      "source": [
        ""
      ],
      "metadata": {
        "colab": {
          "base_uri": "https://localhost:8080/"
        },
        "id": "O7VelD1wTCAG",
        "outputId": "619f64ae-4d1e-405f-c97e-0463a3dab8ed"
      },
      "execution_count": null,
      "outputs": [
        {
          "output_type": "execute_result",
          "data": {
            "text/plain": [
              "<14x24 sparse matrix of type '<class 'numpy.float64'>'\n",
              "\twith 70 stored elements in Compressed Sparse Row format>"
            ]
          },
          "metadata": {},
          "execution_count": 68
        }
      ]
    },
    {
      "cell_type": "code",
      "source": [
        "arr = np.arange(14)+1\n",
        "arr\n",
        "df2['day'] = arr"
      ],
      "metadata": {
        "id": "RaDAdZ2DTu1O"
      },
      "execution_count": null,
      "outputs": []
    },
    {
      "cell_type": "code",
      "source": [
        "df2.drop('day', axis=1, inplace=True)"
      ],
      "metadata": {
        "id": "MkwR9yiFUFuu"
      },
      "execution_count": null,
      "outputs": []
    },
    {
      "cell_type": "code",
      "source": [
        "df2"
      ],
      "metadata": {
        "colab": {
          "base_uri": "https://localhost:8080/",
          "height": 488
        },
        "id": "wo2NREgMUaX8",
        "outputId": "e4558310-4ea6-4d83-8fdb-f1864d8c51d0"
      },
      "execution_count": null,
      "outputs": [
        {
          "output_type": "execute_result",
          "data": {
            "text/html": [
              "\n",
              "  <div id=\"df-e76d86e5-11ed-4ad2-9dda-d0220c438a62\">\n",
              "    <div class=\"colab-df-container\">\n",
              "      <div>\n",
              "<style scoped>\n",
              "    .dataframe tbody tr th:only-of-type {\n",
              "        vertical-align: middle;\n",
              "    }\n",
              "\n",
              "    .dataframe tbody tr th {\n",
              "        vertical-align: top;\n",
              "    }\n",
              "\n",
              "    .dataframe thead th {\n",
              "        text-align: right;\n",
              "    }\n",
              "</style>\n",
              "<table border=\"1\" class=\"dataframe\">\n",
              "  <thead>\n",
              "    <tr style=\"text-align: right;\">\n",
              "      <th></th>\n",
              "      <th>outlook</th>\n",
              "      <th>temp</th>\n",
              "      <th>humidity</th>\n",
              "      <th>wind</th>\n",
              "    </tr>\n",
              "  </thead>\n",
              "  <tbody>\n",
              "    <tr>\n",
              "      <th>0</th>\n",
              "      <td>Sunny</td>\n",
              "      <td>Hot</td>\n",
              "      <td>High</td>\n",
              "      <td>Weak</td>\n",
              "    </tr>\n",
              "    <tr>\n",
              "      <th>1</th>\n",
              "      <td>Sunny</td>\n",
              "      <td>Hot</td>\n",
              "      <td>High</td>\n",
              "      <td>Strong</td>\n",
              "    </tr>\n",
              "    <tr>\n",
              "      <th>2</th>\n",
              "      <td>Overcast</td>\n",
              "      <td>Hot</td>\n",
              "      <td>High</td>\n",
              "      <td>Weak</td>\n",
              "    </tr>\n",
              "    <tr>\n",
              "      <th>3</th>\n",
              "      <td>Rain</td>\n",
              "      <td>Mild</td>\n",
              "      <td>High</td>\n",
              "      <td>Weak</td>\n",
              "    </tr>\n",
              "    <tr>\n",
              "      <th>4</th>\n",
              "      <td>Rain</td>\n",
              "      <td>Cool</td>\n",
              "      <td>Normal</td>\n",
              "      <td>Weak</td>\n",
              "    </tr>\n",
              "    <tr>\n",
              "      <th>5</th>\n",
              "      <td>Rain</td>\n",
              "      <td>Cool</td>\n",
              "      <td>Normal</td>\n",
              "      <td>Strong</td>\n",
              "    </tr>\n",
              "    <tr>\n",
              "      <th>6</th>\n",
              "      <td>Overcast</td>\n",
              "      <td>Cool</td>\n",
              "      <td>Normal</td>\n",
              "      <td>Strong</td>\n",
              "    </tr>\n",
              "    <tr>\n",
              "      <th>7</th>\n",
              "      <td>Sunny</td>\n",
              "      <td>Mild</td>\n",
              "      <td>High</td>\n",
              "      <td>Weak</td>\n",
              "    </tr>\n",
              "    <tr>\n",
              "      <th>8</th>\n",
              "      <td>Sunny</td>\n",
              "      <td>Cool</td>\n",
              "      <td>Normal</td>\n",
              "      <td>Weak</td>\n",
              "    </tr>\n",
              "    <tr>\n",
              "      <th>9</th>\n",
              "      <td>Rain</td>\n",
              "      <td>Mild</td>\n",
              "      <td>Normal</td>\n",
              "      <td>Weak</td>\n",
              "    </tr>\n",
              "    <tr>\n",
              "      <th>10</th>\n",
              "      <td>Sunny</td>\n",
              "      <td>Mild</td>\n",
              "      <td>Normal</td>\n",
              "      <td>Strong</td>\n",
              "    </tr>\n",
              "    <tr>\n",
              "      <th>11</th>\n",
              "      <td>Overcast</td>\n",
              "      <td>Mild</td>\n",
              "      <td>High</td>\n",
              "      <td>Strong</td>\n",
              "    </tr>\n",
              "    <tr>\n",
              "      <th>12</th>\n",
              "      <td>Overcast</td>\n",
              "      <td>Hot</td>\n",
              "      <td>Normal</td>\n",
              "      <td>Weak</td>\n",
              "    </tr>\n",
              "    <tr>\n",
              "      <th>13</th>\n",
              "      <td>Rain</td>\n",
              "      <td>Mild</td>\n",
              "      <td>High</td>\n",
              "      <td>Strong</td>\n",
              "    </tr>\n",
              "  </tbody>\n",
              "</table>\n",
              "</div>\n",
              "      <button class=\"colab-df-convert\" onclick=\"convertToInteractive('df-e76d86e5-11ed-4ad2-9dda-d0220c438a62')\"\n",
              "              title=\"Convert this dataframe to an interactive table.\"\n",
              "              style=\"display:none;\">\n",
              "        \n",
              "  <svg xmlns=\"http://www.w3.org/2000/svg\" height=\"24px\"viewBox=\"0 0 24 24\"\n",
              "       width=\"24px\">\n",
              "    <path d=\"M0 0h24v24H0V0z\" fill=\"none\"/>\n",
              "    <path d=\"M18.56 5.44l.94 2.06.94-2.06 2.06-.94-2.06-.94-.94-2.06-.94 2.06-2.06.94zm-11 1L8.5 8.5l.94-2.06 2.06-.94-2.06-.94L8.5 2.5l-.94 2.06-2.06.94zm10 10l.94 2.06.94-2.06 2.06-.94-2.06-.94-.94-2.06-.94 2.06-2.06.94z\"/><path d=\"M17.41 7.96l-1.37-1.37c-.4-.4-.92-.59-1.43-.59-.52 0-1.04.2-1.43.59L10.3 9.45l-7.72 7.72c-.78.78-.78 2.05 0 2.83L4 21.41c.39.39.9.59 1.41.59.51 0 1.02-.2 1.41-.59l7.78-7.78 2.81-2.81c.8-.78.8-2.07 0-2.86zM5.41 20L4 18.59l7.72-7.72 1.47 1.35L5.41 20z\"/>\n",
              "  </svg>\n",
              "      </button>\n",
              "      \n",
              "  <style>\n",
              "    .colab-df-container {\n",
              "      display:flex;\n",
              "      flex-wrap:wrap;\n",
              "      gap: 12px;\n",
              "    }\n",
              "\n",
              "    .colab-df-convert {\n",
              "      background-color: #E8F0FE;\n",
              "      border: none;\n",
              "      border-radius: 50%;\n",
              "      cursor: pointer;\n",
              "      display: none;\n",
              "      fill: #1967D2;\n",
              "      height: 32px;\n",
              "      padding: 0 0 0 0;\n",
              "      width: 32px;\n",
              "    }\n",
              "\n",
              "    .colab-df-convert:hover {\n",
              "      background-color: #E2EBFA;\n",
              "      box-shadow: 0px 1px 2px rgba(60, 64, 67, 0.3), 0px 1px 3px 1px rgba(60, 64, 67, 0.15);\n",
              "      fill: #174EA6;\n",
              "    }\n",
              "\n",
              "    [theme=dark] .colab-df-convert {\n",
              "      background-color: #3B4455;\n",
              "      fill: #D2E3FC;\n",
              "    }\n",
              "\n",
              "    [theme=dark] .colab-df-convert:hover {\n",
              "      background-color: #434B5C;\n",
              "      box-shadow: 0px 1px 3px 1px rgba(0, 0, 0, 0.15);\n",
              "      filter: drop-shadow(0px 1px 2px rgba(0, 0, 0, 0.3));\n",
              "      fill: #FFFFFF;\n",
              "    }\n",
              "  </style>\n",
              "\n",
              "      <script>\n",
              "        const buttonEl =\n",
              "          document.querySelector('#df-e76d86e5-11ed-4ad2-9dda-d0220c438a62 button.colab-df-convert');\n",
              "        buttonEl.style.display =\n",
              "          google.colab.kernel.accessAllowed ? 'block' : 'none';\n",
              "\n",
              "        async function convertToInteractive(key) {\n",
              "          const element = document.querySelector('#df-e76d86e5-11ed-4ad2-9dda-d0220c438a62');\n",
              "          const dataTable =\n",
              "            await google.colab.kernel.invokeFunction('convertToInteractive',\n",
              "                                                     [key], {});\n",
              "          if (!dataTable) return;\n",
              "\n",
              "          const docLinkHtml = 'Like what you see? Visit the ' +\n",
              "            '<a target=\"_blank\" href=https://colab.research.google.com/notebooks/data_table.ipynb>data table notebook</a>'\n",
              "            + ' to learn more about interactive tables.';\n",
              "          element.innerHTML = '';\n",
              "          dataTable['output_type'] = 'display_data';\n",
              "          await google.colab.output.renderOutput(dataTable, element);\n",
              "          const docLink = document.createElement('div');\n",
              "          docLink.innerHTML = docLinkHtml;\n",
              "          element.appendChild(docLink);\n",
              "        }\n",
              "      </script>\n",
              "    </div>\n",
              "  </div>\n",
              "  "
            ],
            "text/plain": [
              "     outlook  temp humidity    wind\n",
              "0      Sunny   Hot     High    Weak\n",
              "1      Sunny   Hot     High  Strong\n",
              "2   Overcast   Hot     High    Weak\n",
              "3       Rain  Mild     High    Weak\n",
              "4       Rain  Cool   Normal    Weak\n",
              "5       Rain  Cool   Normal  Strong\n",
              "6   Overcast  Cool   Normal  Strong\n",
              "7      Sunny  Mild     High    Weak\n",
              "8      Sunny  Cool   Normal    Weak\n",
              "9       Rain  Mild   Normal    Weak\n",
              "10     Sunny  Mild   Normal  Strong\n",
              "11  Overcast  Mild     High  Strong\n",
              "12  Overcast   Hot   Normal    Weak\n",
              "13      Rain  Mild     High  Strong"
            ]
          },
          "metadata": {},
          "execution_count": 82
        }
      ]
    },
    {
      "cell_type": "code",
      "source": [
        "from sklearn.preprocessing import OneHotEncoder\n",
        "enc = OneHotEncoder()\n",
        "X = enc.fit_transform(df2)"
      ],
      "metadata": {
        "id": "Xsq1B6Y4UmIt"
      },
      "execution_count": null,
      "outputs": []
    },
    {
      "cell_type": "code",
      "source": [
        "X2 = pd.get_dummies(df2)\n",
        "X2"
      ],
      "metadata": {
        "colab": {
          "base_uri": "https://localhost:8080/",
          "height": 552
        },
        "id": "VO247a6xU4cq",
        "outputId": "f0e7b315-a3e2-44c8-aeb9-4322ebc24c7e"
      },
      "execution_count": null,
      "outputs": [
        {
          "output_type": "execute_result",
          "data": {
            "text/html": [
              "\n",
              "  <div id=\"df-bcbd226a-ecc3-4137-b639-fccb54cb4765\">\n",
              "    <div class=\"colab-df-container\">\n",
              "      <div>\n",
              "<style scoped>\n",
              "    .dataframe tbody tr th:only-of-type {\n",
              "        vertical-align: middle;\n",
              "    }\n",
              "\n",
              "    .dataframe tbody tr th {\n",
              "        vertical-align: top;\n",
              "    }\n",
              "\n",
              "    .dataframe thead th {\n",
              "        text-align: right;\n",
              "    }\n",
              "</style>\n",
              "<table border=\"1\" class=\"dataframe\">\n",
              "  <thead>\n",
              "    <tr style=\"text-align: right;\">\n",
              "      <th></th>\n",
              "      <th>outlook_Overcast</th>\n",
              "      <th>outlook_Rain</th>\n",
              "      <th>outlook_Sunny</th>\n",
              "      <th>temp_Cool</th>\n",
              "      <th>temp_Hot</th>\n",
              "      <th>temp_Mild</th>\n",
              "      <th>humidity_High</th>\n",
              "      <th>humidity_Normal</th>\n",
              "      <th>wind_Strong</th>\n",
              "      <th>wind_Weak</th>\n",
              "    </tr>\n",
              "  </thead>\n",
              "  <tbody>\n",
              "    <tr>\n",
              "      <th>0</th>\n",
              "      <td>0</td>\n",
              "      <td>0</td>\n",
              "      <td>1</td>\n",
              "      <td>0</td>\n",
              "      <td>1</td>\n",
              "      <td>0</td>\n",
              "      <td>1</td>\n",
              "      <td>0</td>\n",
              "      <td>0</td>\n",
              "      <td>1</td>\n",
              "    </tr>\n",
              "    <tr>\n",
              "      <th>1</th>\n",
              "      <td>0</td>\n",
              "      <td>0</td>\n",
              "      <td>1</td>\n",
              "      <td>0</td>\n",
              "      <td>1</td>\n",
              "      <td>0</td>\n",
              "      <td>1</td>\n",
              "      <td>0</td>\n",
              "      <td>1</td>\n",
              "      <td>0</td>\n",
              "    </tr>\n",
              "    <tr>\n",
              "      <th>2</th>\n",
              "      <td>1</td>\n",
              "      <td>0</td>\n",
              "      <td>0</td>\n",
              "      <td>0</td>\n",
              "      <td>1</td>\n",
              "      <td>0</td>\n",
              "      <td>1</td>\n",
              "      <td>0</td>\n",
              "      <td>0</td>\n",
              "      <td>1</td>\n",
              "    </tr>\n",
              "    <tr>\n",
              "      <th>3</th>\n",
              "      <td>0</td>\n",
              "      <td>1</td>\n",
              "      <td>0</td>\n",
              "      <td>0</td>\n",
              "      <td>0</td>\n",
              "      <td>1</td>\n",
              "      <td>1</td>\n",
              "      <td>0</td>\n",
              "      <td>0</td>\n",
              "      <td>1</td>\n",
              "    </tr>\n",
              "    <tr>\n",
              "      <th>4</th>\n",
              "      <td>0</td>\n",
              "      <td>1</td>\n",
              "      <td>0</td>\n",
              "      <td>1</td>\n",
              "      <td>0</td>\n",
              "      <td>0</td>\n",
              "      <td>0</td>\n",
              "      <td>1</td>\n",
              "      <td>0</td>\n",
              "      <td>1</td>\n",
              "    </tr>\n",
              "    <tr>\n",
              "      <th>5</th>\n",
              "      <td>0</td>\n",
              "      <td>1</td>\n",
              "      <td>0</td>\n",
              "      <td>1</td>\n",
              "      <td>0</td>\n",
              "      <td>0</td>\n",
              "      <td>0</td>\n",
              "      <td>1</td>\n",
              "      <td>1</td>\n",
              "      <td>0</td>\n",
              "    </tr>\n",
              "    <tr>\n",
              "      <th>6</th>\n",
              "      <td>1</td>\n",
              "      <td>0</td>\n",
              "      <td>0</td>\n",
              "      <td>1</td>\n",
              "      <td>0</td>\n",
              "      <td>0</td>\n",
              "      <td>0</td>\n",
              "      <td>1</td>\n",
              "      <td>1</td>\n",
              "      <td>0</td>\n",
              "    </tr>\n",
              "    <tr>\n",
              "      <th>7</th>\n",
              "      <td>0</td>\n",
              "      <td>0</td>\n",
              "      <td>1</td>\n",
              "      <td>0</td>\n",
              "      <td>0</td>\n",
              "      <td>1</td>\n",
              "      <td>1</td>\n",
              "      <td>0</td>\n",
              "      <td>0</td>\n",
              "      <td>1</td>\n",
              "    </tr>\n",
              "    <tr>\n",
              "      <th>8</th>\n",
              "      <td>0</td>\n",
              "      <td>0</td>\n",
              "      <td>1</td>\n",
              "      <td>1</td>\n",
              "      <td>0</td>\n",
              "      <td>0</td>\n",
              "      <td>0</td>\n",
              "      <td>1</td>\n",
              "      <td>0</td>\n",
              "      <td>1</td>\n",
              "    </tr>\n",
              "    <tr>\n",
              "      <th>9</th>\n",
              "      <td>0</td>\n",
              "      <td>1</td>\n",
              "      <td>0</td>\n",
              "      <td>0</td>\n",
              "      <td>0</td>\n",
              "      <td>1</td>\n",
              "      <td>0</td>\n",
              "      <td>1</td>\n",
              "      <td>0</td>\n",
              "      <td>1</td>\n",
              "    </tr>\n",
              "    <tr>\n",
              "      <th>10</th>\n",
              "      <td>0</td>\n",
              "      <td>0</td>\n",
              "      <td>1</td>\n",
              "      <td>0</td>\n",
              "      <td>0</td>\n",
              "      <td>1</td>\n",
              "      <td>0</td>\n",
              "      <td>1</td>\n",
              "      <td>1</td>\n",
              "      <td>0</td>\n",
              "    </tr>\n",
              "    <tr>\n",
              "      <th>11</th>\n",
              "      <td>1</td>\n",
              "      <td>0</td>\n",
              "      <td>0</td>\n",
              "      <td>0</td>\n",
              "      <td>0</td>\n",
              "      <td>1</td>\n",
              "      <td>1</td>\n",
              "      <td>0</td>\n",
              "      <td>1</td>\n",
              "      <td>0</td>\n",
              "    </tr>\n",
              "    <tr>\n",
              "      <th>12</th>\n",
              "      <td>1</td>\n",
              "      <td>0</td>\n",
              "      <td>0</td>\n",
              "      <td>0</td>\n",
              "      <td>1</td>\n",
              "      <td>0</td>\n",
              "      <td>0</td>\n",
              "      <td>1</td>\n",
              "      <td>0</td>\n",
              "      <td>1</td>\n",
              "    </tr>\n",
              "    <tr>\n",
              "      <th>13</th>\n",
              "      <td>0</td>\n",
              "      <td>1</td>\n",
              "      <td>0</td>\n",
              "      <td>0</td>\n",
              "      <td>0</td>\n",
              "      <td>1</td>\n",
              "      <td>1</td>\n",
              "      <td>0</td>\n",
              "      <td>1</td>\n",
              "      <td>0</td>\n",
              "    </tr>\n",
              "  </tbody>\n",
              "</table>\n",
              "</div>\n",
              "      <button class=\"colab-df-convert\" onclick=\"convertToInteractive('df-bcbd226a-ecc3-4137-b639-fccb54cb4765')\"\n",
              "              title=\"Convert this dataframe to an interactive table.\"\n",
              "              style=\"display:none;\">\n",
              "        \n",
              "  <svg xmlns=\"http://www.w3.org/2000/svg\" height=\"24px\"viewBox=\"0 0 24 24\"\n",
              "       width=\"24px\">\n",
              "    <path d=\"M0 0h24v24H0V0z\" fill=\"none\"/>\n",
              "    <path d=\"M18.56 5.44l.94 2.06.94-2.06 2.06-.94-2.06-.94-.94-2.06-.94 2.06-2.06.94zm-11 1L8.5 8.5l.94-2.06 2.06-.94-2.06-.94L8.5 2.5l-.94 2.06-2.06.94zm10 10l.94 2.06.94-2.06 2.06-.94-2.06-.94-.94-2.06-.94 2.06-2.06.94z\"/><path d=\"M17.41 7.96l-1.37-1.37c-.4-.4-.92-.59-1.43-.59-.52 0-1.04.2-1.43.59L10.3 9.45l-7.72 7.72c-.78.78-.78 2.05 0 2.83L4 21.41c.39.39.9.59 1.41.59.51 0 1.02-.2 1.41-.59l7.78-7.78 2.81-2.81c.8-.78.8-2.07 0-2.86zM5.41 20L4 18.59l7.72-7.72 1.47 1.35L5.41 20z\"/>\n",
              "  </svg>\n",
              "      </button>\n",
              "      \n",
              "  <style>\n",
              "    .colab-df-container {\n",
              "      display:flex;\n",
              "      flex-wrap:wrap;\n",
              "      gap: 12px;\n",
              "    }\n",
              "\n",
              "    .colab-df-convert {\n",
              "      background-color: #E8F0FE;\n",
              "      border: none;\n",
              "      border-radius: 50%;\n",
              "      cursor: pointer;\n",
              "      display: none;\n",
              "      fill: #1967D2;\n",
              "      height: 32px;\n",
              "      padding: 0 0 0 0;\n",
              "      width: 32px;\n",
              "    }\n",
              "\n",
              "    .colab-df-convert:hover {\n",
              "      background-color: #E2EBFA;\n",
              "      box-shadow: 0px 1px 2px rgba(60, 64, 67, 0.3), 0px 1px 3px 1px rgba(60, 64, 67, 0.15);\n",
              "      fill: #174EA6;\n",
              "    }\n",
              "\n",
              "    [theme=dark] .colab-df-convert {\n",
              "      background-color: #3B4455;\n",
              "      fill: #D2E3FC;\n",
              "    }\n",
              "\n",
              "    [theme=dark] .colab-df-convert:hover {\n",
              "      background-color: #434B5C;\n",
              "      box-shadow: 0px 1px 3px 1px rgba(0, 0, 0, 0.15);\n",
              "      filter: drop-shadow(0px 1px 2px rgba(0, 0, 0, 0.3));\n",
              "      fill: #FFFFFF;\n",
              "    }\n",
              "  </style>\n",
              "\n",
              "      <script>\n",
              "        const buttonEl =\n",
              "          document.querySelector('#df-bcbd226a-ecc3-4137-b639-fccb54cb4765 button.colab-df-convert');\n",
              "        buttonEl.style.display =\n",
              "          google.colab.kernel.accessAllowed ? 'block' : 'none';\n",
              "\n",
              "        async function convertToInteractive(key) {\n",
              "          const element = document.querySelector('#df-bcbd226a-ecc3-4137-b639-fccb54cb4765');\n",
              "          const dataTable =\n",
              "            await google.colab.kernel.invokeFunction('convertToInteractive',\n",
              "                                                     [key], {});\n",
              "          if (!dataTable) return;\n",
              "\n",
              "          const docLinkHtml = 'Like what you see? Visit the ' +\n",
              "            '<a target=\"_blank\" href=https://colab.research.google.com/notebooks/data_table.ipynb>data table notebook</a>'\n",
              "            + ' to learn more about interactive tables.';\n",
              "          element.innerHTML = '';\n",
              "          dataTable['output_type'] = 'display_data';\n",
              "          await google.colab.output.renderOutput(dataTable, element);\n",
              "          const docLink = document.createElement('div');\n",
              "          docLink.innerHTML = docLinkHtml;\n",
              "          element.appendChild(docLink);\n",
              "        }\n",
              "      </script>\n",
              "    </div>\n",
              "  </div>\n",
              "  "
            ],
            "text/plain": [
              "    outlook_Overcast  outlook_Rain  ...  wind_Strong  wind_Weak\n",
              "0                  0             0  ...            0          1\n",
              "1                  0             0  ...            1          0\n",
              "2                  1             0  ...            0          1\n",
              "3                  0             1  ...            0          1\n",
              "4                  0             1  ...            0          1\n",
              "5                  0             1  ...            1          0\n",
              "6                  1             0  ...            1          0\n",
              "7                  0             0  ...            0          1\n",
              "8                  0             0  ...            0          1\n",
              "9                  0             1  ...            0          1\n",
              "10                 0             0  ...            1          0\n",
              "11                 1             0  ...            1          0\n",
              "12                 1             0  ...            0          1\n",
              "13                 0             1  ...            1          0\n",
              "\n",
              "[14 rows x 10 columns]"
            ]
          },
          "metadata": {},
          "execution_count": 97
        }
      ]
    },
    {
      "cell_type": "code",
      "source": [
        "from sklearn.tree import DecisionTreeClassifier\n",
        "\n",
        "clf = DecisionTreeClassifier(max_depth=3)\n",
        "clf.fit(X2, Y)"
      ],
      "metadata": {
        "colab": {
          "base_uri": "https://localhost:8080/"
        },
        "id": "g0uMOokMTFWr",
        "outputId": "9742882f-df1a-4d66-baef-26e2dca3b2dc"
      },
      "execution_count": null,
      "outputs": [
        {
          "output_type": "execute_result",
          "data": {
            "text/plain": [
              "DecisionTreeClassifier(max_depth=3)"
            ]
          },
          "metadata": {},
          "execution_count": 98
        }
      ]
    },
    {
      "cell_type": "code",
      "source": [
        "clf.score(X2, Y)"
      ],
      "metadata": {
        "colab": {
          "base_uri": "https://localhost:8080/"
        },
        "id": "SPaHG3LXTB5a",
        "outputId": "5939f96e-fc24-4998-9dee-077abb5d4b13"
      },
      "execution_count": null,
      "outputs": [
        {
          "output_type": "execute_result",
          "data": {
            "text/plain": [
              "0.8571428571428571"
            ]
          },
          "metadata": {},
          "execution_count": 102
        }
      ]
    },
    {
      "cell_type": "code",
      "source": [
        "from sklearn import tree\n",
        "\n",
        "plt.figure(figsize=(10, 10))\n",
        "\n",
        "tree.plot_tree(clf,filled = True)\n",
        "plt.show()"
      ],
      "metadata": {
        "colab": {
          "base_uri": "https://localhost:8080/",
          "height": 575
        },
        "id": "VdNtHeiqRVnx",
        "outputId": "49848039-a200-47e5-8b5c-ad00dc223617"
      },
      "execution_count": null,
      "outputs": [
        {
          "output_type": "display_data",
          "data": {
            "image/png": "[encoded data removed]",
            "text/plain": [
              "<Figure size 720x720 with 1 Axes>"
            ]
          },
          "metadata": {
            "needs_background": "light"
          }
        }
      ]
    },
    {
      "cell_type": "markdown",
      "source": [
        "##**Nominal**"
      ],
      "metadata": {
        "id": "_WlY-Qnggbu9"
      }
    },
    {
      "cell_type": "code",
      "source": [
        "df3= pd.read_csv('/content/Internet_User.csv')\n",
        "df3"
      ],
      "metadata": {
        "colab": {
          "base_uri": "https://localhost:8080/",
          "height": 424
        },
        "id": "7L8N3c2OgemE",
        "outputId": "556ee13b-05c4-4c11-a2e6-930b6eac60eb"
      },
      "execution_count": null,
      "outputs": [
        {
          "output_type": "execute_result",
          "data": {
            "text/html": [
              "\n",
              "  <div id=\"df-05d21794-609d-4f76-82f1-e8d868816d11\">\n",
              "    <div class=\"colab-df-container\">\n",
              "      <div>\n",
              "<style scoped>\n",
              "    .dataframe tbody tr th:only-of-type {\n",
              "        vertical-align: middle;\n",
              "    }\n",
              "\n",
              "    .dataframe tbody tr th {\n",
              "        vertical-align: top;\n",
              "    }\n",
              "\n",
              "    .dataframe thead th {\n",
              "        text-align: right;\n",
              "    }\n",
              "</style>\n",
              "<table border=\"1\" class=\"dataframe\">\n",
              "  <thead>\n",
              "    <tr style=\"text-align: right;\">\n",
              "      <th></th>\n",
              "      <th>Country or Area</th>\n",
              "      <th>Internet Users</th>\n",
              "      <th>Population</th>\n",
              "      <th>Rank</th>\n",
              "      <th>Percentage</th>\n",
              "      <th>Rank.1</th>\n",
              "    </tr>\n",
              "  </thead>\n",
              "  <tbody>\n",
              "    <tr>\n",
              "      <th>0</th>\n",
              "      <td>China</td>\n",
              "      <td>765,367,947</td>\n",
              "      <td>1,409,517,397</td>\n",
              "      <td>1</td>\n",
              "      <td>54.30%</td>\n",
              "      <td>116</td>\n",
              "    </tr>\n",
              "    <tr>\n",
              "      <th>1</th>\n",
              "      <td>India</td>\n",
              "      <td>461,347,554</td>\n",
              "      <td>1,339,180,127</td>\n",
              "      <td>2</td>\n",
              "      <td>34.45%</td>\n",
              "      <td>145</td>\n",
              "    </tr>\n",
              "    <tr>\n",
              "      <th>2</th>\n",
              "      <td>United States</td>\n",
              "      <td>244,090,854</td>\n",
              "      <td>324,459,463</td>\n",
              "      <td>3</td>\n",
              "      <td>75.23%</td>\n",
              "      <td>68</td>\n",
              "    </tr>\n",
              "    <tr>\n",
              "      <th>3</th>\n",
              "      <td>Brazil</td>\n",
              "      <td>141,206,801</td>\n",
              "      <td>209,288,278</td>\n",
              "      <td>4</td>\n",
              "      <td>67.47%</td>\n",
              "      <td>83</td>\n",
              "    </tr>\n",
              "    <tr>\n",
              "      <th>4</th>\n",
              "      <td>Japan</td>\n",
              "      <td>115,845,120</td>\n",
              "      <td>127,484,450</td>\n",
              "      <td>5</td>\n",
              "      <td>90.87%</td>\n",
              "      <td>23</td>\n",
              "    </tr>\n",
              "    <tr>\n",
              "      <th>...</th>\n",
              "      <td>...</td>\n",
              "      <td>...</td>\n",
              "      <td>...</td>\n",
              "      <td>...</td>\n",
              "      <td>...</td>\n",
              "      <td>...</td>\n",
              "    </tr>\n",
              "    <tr>\n",
              "      <th>210</th>\n",
              "      <td>Falkland Islands</td>\n",
              "      <td>2,881</td>\n",
              "      <td>2,910</td>\n",
              "      <td>211</td>\n",
              "      <td>99.02% (2016)</td>\n",
              "      <td>-</td>\n",
              "    </tr>\n",
              "    <tr>\n",
              "      <th>211</th>\n",
              "      <td>Montserrat</td>\n",
              "      <td>2,833</td>\n",
              "      <td>5,177</td>\n",
              "      <td>212</td>\n",
              "      <td>54.55% (2013)</td>\n",
              "      <td>115</td>\n",
              "    </tr>\n",
              "    <tr>\n",
              "      <th>212</th>\n",
              "      <td>Wallis and Futuna</td>\n",
              "      <td>1,383</td>\n",
              "      <td>11,773</td>\n",
              "      <td>213</td>\n",
              "      <td>8.95% (2012)</td>\n",
              "      <td>-</td>\n",
              "    </tr>\n",
              "    <tr>\n",
              "      <th>213</th>\n",
              "      <td>Niue</td>\n",
              "      <td>1,034</td>\n",
              "      <td>1,618</td>\n",
              "      <td>214</td>\n",
              "      <td>86.90% (2013)</td>\n",
              "      <td>30</td>\n",
              "    </tr>\n",
              "    <tr>\n",
              "      <th>214</th>\n",
              "      <td>Ascension</td>\n",
              "      <td>361</td>\n",
              "      <td>806</td>\n",
              "      <td>215</td>\n",
              "      <td>41.03% (2012)</td>\n",
              "      <td>-</td>\n",
              "    </tr>\n",
              "  </tbody>\n",
              "</table>\n",
              "<p>215 rows × 6 columns</p>\n",
              "</div>\n",
              "      <button class=\"colab-df-convert\" onclick=\"convertToInteractive('df-05d21794-609d-4f76-82f1-e8d868816d11')\"\n",
              "              title=\"Convert this dataframe to an interactive table.\"\n",
              "              style=\"display:none;\">\n",
              "        \n",
              "  <svg xmlns=\"http://www.w3.org/2000/svg\" height=\"24px\"viewBox=\"0 0 24 24\"\n",
              "       width=\"24px\">\n",
              "    <path d=\"M0 0h24v24H0V0z\" fill=\"none\"/>\n",
              "    <path d=\"M18.56 5.44l.94 2.06.94-2.06 2.06-.94-2.06-.94-.94-2.06-.94 2.06-2.06.94zm-11 1L8.5 8.5l.94-2.06 2.06-.94-2.06-.94L8.5 2.5l-.94 2.06-2.06.94zm10 10l.94 2.06.94-2.06 2.06-.94-2.06-.94-.94-2.06-.94 2.06-2.06.94z\"/><path d=\"M17.41 7.96l-1.37-1.37c-.4-.4-.92-.59-1.43-.59-.52 0-1.04.2-1.43.59L10.3 9.45l-7.72 7.72c-.78.78-.78 2.05 0 2.83L4 21.41c.39.39.9.59 1.41.59.51 0 1.02-.2 1.41-.59l7.78-7.78 2.81-2.81c.8-.78.8-2.07 0-2.86zM5.41 20L4 18.59l7.72-7.72 1.47 1.35L5.41 20z\"/>\n",
              "  </svg>\n",
              "      </button>\n",
              "      \n",
              "  <style>\n",
              "    .colab-df-container {\n",
              "      display:flex;\n",
              "      flex-wrap:wrap;\n",
              "      gap: 12px;\n",
              "    }\n",
              "\n",
              "    .colab-df-convert {\n",
              "      background-color: #E8F0FE;\n",
              "      border: none;\n",
              "      border-radius: 50%;\n",
              "      cursor: pointer;\n",
              "      display: none;\n",
              "      fill: #1967D2;\n",
              "      height: 32px;\n",
              "      padding: 0 0 0 0;\n",
              "      width: 32px;\n",
              "    }\n",
              "\n",
              "    .colab-df-convert:hover {\n",
              "      background-color: #E2EBFA;\n",
              "      box-shadow: 0px 1px 2px rgba(60, 64, 67, 0.3), 0px 1px 3px 1px rgba(60, 64, 67, 0.15);\n",
              "      fill: #174EA6;\n",
              "    }\n",
              "\n",
              "    [theme=dark] .colab-df-convert {\n",
              "      background-color: #3B4455;\n",
              "      fill: #D2E3FC;\n",
              "    }\n",
              "\n",
              "    [theme=dark] .colab-df-convert:hover {\n",
              "      background-color: #434B5C;\n",
              "      box-shadow: 0px 1px 3px 1px rgba(0, 0, 0, 0.15);\n",
              "      filter: drop-shadow(0px 1px 2px rgba(0, 0, 0, 0.3));\n",
              "      fill: #FFFFFF;\n",
              "    }\n",
              "  </style>\n",
              "\n",
              "      <script>\n",
              "        const buttonEl =\n",
              "          document.querySelector('#df-05d21794-609d-4f76-82f1-e8d868816d11 button.colab-df-convert');\n",
              "        buttonEl.style.display =\n",
              "          google.colab.kernel.accessAllowed ? 'block' : 'none';\n",
              "\n",
              "        async function convertToInteractive(key) {\n",
              "          const element = document.querySelector('#df-05d21794-609d-4f76-82f1-e8d868816d11');\n",
              "          const dataTable =\n",
              "            await google.colab.kernel.invokeFunction('convertToInteractive',\n",
              "                                                     [key], {});\n",
              "          if (!dataTable) return;\n",
              "\n",
              "          const docLinkHtml = 'Like what you see? Visit the ' +\n",
              "            '<a target=\"_blank\" href=https://colab.research.google.com/notebooks/data_table.ipynb>data table notebook</a>'\n",
              "            + ' to learn more about interactive tables.';\n",
              "          element.innerHTML = '';\n",
              "          dataTable['output_type'] = 'display_data';\n",
              "          await google.colab.output.renderOutput(dataTable, element);\n",
              "          const docLink = document.createElement('div');\n",
              "          docLink.innerHTML = docLinkHtml;\n",
              "          element.appendChild(docLink);\n",
              "        }\n",
              "      </script>\n",
              "    </div>\n",
              "  </div>\n",
              "  "
            ],
            "text/plain": [
              "       Country or Area Internet Users  ...     Percentage  Rank.1\n",
              "0                China    765,367,947  ...         54.30%     116\n",
              "1                India    461,347,554  ...         34.45%     145\n",
              "2        United States    244,090,854  ...         75.23%      68\n",
              "3               Brazil    141,206,801  ...         67.47%      83\n",
              "4                Japan    115,845,120  ...         90.87%      23\n",
              "..                 ...            ...  ...            ...     ...\n",
              "210   Falkland Islands          2,881  ...  99.02% (2016)       -\n",
              "211         Montserrat          2,833  ...  54.55% (2013)     115\n",
              "212  Wallis and Futuna          1,383  ...   8.95% (2012)       -\n",
              "213               Niue          1,034  ...  86.90% (2013)      30\n",
              "214          Ascension            361  ...  41.03% (2012)       -\n",
              "\n",
              "[215 rows x 6 columns]"
            ]
          },
          "metadata": {},
          "execution_count": 240
        }
      ]
    },
    {
      "cell_type": "code",
      "source": [
        "df3 = df3[df3['Rank.1'] != \"-\"]"
      ],
      "metadata": {
        "id": "3aNy6z9q_ybS"
      },
      "execution_count": null,
      "outputs": []
    },
    {
      "cell_type": "code",
      "source": [
        "df3.shape"
      ],
      "metadata": {
        "id": "67sXxVeEAnwQ"
      },
      "execution_count": null,
      "outputs": []
    },
    {
      "cell_type": "code",
      "source": [
        ""
      ],
      "metadata": {
        "id": "vYa00eynAnrs"
      },
      "execution_count": null,
      "outputs": []
    },
    {
      "cell_type": "markdown",
      "source": [
        "We may claim that the nation name has no bearing on the rank prediction, thus we can't assign a order number value to it."
      ],
      "metadata": {
        "id": "0oegSzPblqqJ"
      }
    },
    {
      "cell_type": "code",
      "source": [
        "df3.shape"
      ],
      "metadata": {
        "colab": {
          "base_uri": "https://localhost:8080/"
        },
        "id": "Yj6C6-uKzuP7",
        "outputId": "43ad73df-5d3d-4dc9-a34b-57bdfe8c3bf4"
      },
      "execution_count": null,
      "outputs": [
        {
          "output_type": "execute_result",
          "data": {
            "text/plain": [
              "(209, 6)"
            ]
          },
          "metadata": {},
          "execution_count": 252
        }
      ]
    },
    {
      "cell_type": "code",
      "source": [
        "#drop duplicate country\n",
        "df4 = df3.sort_values('Country or Area', ascending=False).drop_duplicates('Country or Area').sort_index()"
      ],
      "metadata": {
        "id": "vHjqr8p00Ff1"
      },
      "execution_count": null,
      "outputs": []
    },
    {
      "cell_type": "code",
      "source": [
        "# percentage have a very noise , so we will make our own percentage features\n",
        "df4.drop('Percentage', axis=1, inplace=True)"
      ],
      "metadata": {
        "id": "_cMaxtV70q2L"
      },
      "execution_count": null,
      "outputs": []
    },
    {
      "cell_type": "code",
      "source": [
        "Y = df3['Rank.1']\n",
        "df4.drop('Rank.1', axis=1, inplace=True)"
      ],
      "metadata": {
        "id": "SEESrJtQlo6L"
      },
      "execution_count": null,
      "outputs": []
    },
    {
      "cell_type": "code",
      "source": [
        "df4['Population']=   df4['Population'].str.replace(',', '').astype(int)\n",
        "df4['Internet Users']= df4['Internet Users'].str.replace(',', '').astype(int)"
      ],
      "metadata": {
        "id": "Vtzbsl6Eqv8O"
      },
      "execution_count": null,
      "outputs": []
    },
    {
      "cell_type": "code",
      "source": [
        "df4.head()"
      ],
      "metadata": {
        "colab": {
          "base_uri": "https://localhost:8080/",
          "height": 206
        },
        "id": "J7-oDKl91j8x",
        "outputId": "404afe42-08a9-42d1-f100-0462d07b52ff"
      },
      "execution_count": null,
      "outputs": [
        {
          "output_type": "execute_result",
          "data": {
            "text/html": [
              "\n",
              "  <div id=\"df-ba4776be-42f6-444a-a000-f8d8580acd60\">\n",
              "    <div class=\"colab-df-container\">\n",
              "      <div>\n",
              "<style scoped>\n",
              "    .dataframe tbody tr th:only-of-type {\n",
              "        vertical-align: middle;\n",
              "    }\n",
              "\n",
              "    .dataframe tbody tr th {\n",
              "        vertical-align: top;\n",
              "    }\n",
              "\n",
              "    .dataframe thead th {\n",
              "        text-align: right;\n",
              "    }\n",
              "</style>\n",
              "<table border=\"1\" class=\"dataframe\">\n",
              "  <thead>\n",
              "    <tr style=\"text-align: right;\">\n",
              "      <th></th>\n",
              "      <th>Country or Area</th>\n",
              "      <th>Internet Users</th>\n",
              "      <th>Population</th>\n",
              "      <th>Rank</th>\n",
              "    </tr>\n",
              "  </thead>\n",
              "  <tbody>\n",
              "    <tr>\n",
              "      <th>0</th>\n",
              "      <td>China</td>\n",
              "      <td>765367947</td>\n",
              "      <td>1409517397</td>\n",
              "      <td>1</td>\n",
              "    </tr>\n",
              "    <tr>\n",
              "      <th>1</th>\n",
              "      <td>India</td>\n",
              "      <td>461347554</td>\n",
              "      <td>1339180127</td>\n",
              "      <td>2</td>\n",
              "    </tr>\n",
              "    <tr>\n",
              "      <th>2</th>\n",
              "      <td>United States</td>\n",
              "      <td>244090854</td>\n",
              "      <td>324459463</td>\n",
              "      <td>3</td>\n",
              "    </tr>\n",
              "    <tr>\n",
              "      <th>3</th>\n",
              "      <td>Brazil</td>\n",
              "      <td>141206801</td>\n",
              "      <td>209288278</td>\n",
              "      <td>4</td>\n",
              "    </tr>\n",
              "    <tr>\n",
              "      <th>4</th>\n",
              "      <td>Japan</td>\n",
              "      <td>115845120</td>\n",
              "      <td>127484450</td>\n",
              "      <td>5</td>\n",
              "    </tr>\n",
              "  </tbody>\n",
              "</table>\n",
              "</div>\n",
              "      <button class=\"colab-df-convert\" onclick=\"convertToInteractive('df-ba4776be-42f6-444a-a000-f8d8580acd60')\"\n",
              "              title=\"Convert this dataframe to an interactive table.\"\n",
              "              style=\"display:none;\">\n",
              "        \n",
              "  <svg xmlns=\"http://www.w3.org/2000/svg\" height=\"24px\"viewBox=\"0 0 24 24\"\n",
              "       width=\"24px\">\n",
              "    <path d=\"M0 0h24v24H0V0z\" fill=\"none\"/>\n",
              "    <path d=\"M18.56 5.44l.94 2.06.94-2.06 2.06-.94-2.06-.94-.94-2.06-.94 2.06-2.06.94zm-11 1L8.5 8.5l.94-2.06 2.06-.94-2.06-.94L8.5 2.5l-.94 2.06-2.06.94zm10 10l.94 2.06.94-2.06 2.06-.94-2.06-.94-.94-2.06-.94 2.06-2.06.94z\"/><path d=\"M17.41 7.96l-1.37-1.37c-.4-.4-.92-.59-1.43-.59-.52 0-1.04.2-1.43.59L10.3 9.45l-7.72 7.72c-.78.78-.78 2.05 0 2.83L4 21.41c.39.39.9.59 1.41.59.51 0 1.02-.2 1.41-.59l7.78-7.78 2.81-2.81c.8-.78.8-2.07 0-2.86zM5.41 20L4 18.59l7.72-7.72 1.47 1.35L5.41 20z\"/>\n",
              "  </svg>\n",
              "      </button>\n",
              "      \n",
              "  <style>\n",
              "    .colab-df-container {\n",
              "      display:flex;\n",
              "      flex-wrap:wrap;\n",
              "      gap: 12px;\n",
              "    }\n",
              "\n",
              "    .colab-df-convert {\n",
              "      background-color: #E8F0FE;\n",
              "      border: none;\n",
              "      border-radius: 50%;\n",
              "      cursor: pointer;\n",
              "      display: none;\n",
              "      fill: #1967D2;\n",
              "      height: 32px;\n",
              "      padding: 0 0 0 0;\n",
              "      width: 32px;\n",
              "    }\n",
              "\n",
              "    .colab-df-convert:hover {\n",
              "      background-color: #E2EBFA;\n",
              "      box-shadow: 0px 1px 2px rgba(60, 64, 67, 0.3), 0px 1px 3px 1px rgba(60, 64, 67, 0.15);\n",
              "      fill: #174EA6;\n",
              "    }\n",
              "\n",
              "    [theme=dark] .colab-df-convert {\n",
              "      background-color: #3B4455;\n",
              "      fill: #D2E3FC;\n",
              "    }\n",
              "\n",
              "    [theme=dark] .colab-df-convert:hover {\n",
              "      background-color: #434B5C;\n",
              "      box-shadow: 0px 1px 3px 1px rgba(0, 0, 0, 0.15);\n",
              "      filter: drop-shadow(0px 1px 2px rgba(0, 0, 0, 0.3));\n",
              "      fill: #FFFFFF;\n",
              "    }\n",
              "  </style>\n",
              "\n",
              "      <script>\n",
              "        const buttonEl =\n",
              "          document.querySelector('#df-ba4776be-42f6-444a-a000-f8d8580acd60 button.colab-df-convert');\n",
              "        buttonEl.style.display =\n",
              "          google.colab.kernel.accessAllowed ? 'block' : 'none';\n",
              "\n",
              "        async function convertToInteractive(key) {\n",
              "          const element = document.querySelector('#df-ba4776be-42f6-444a-a000-f8d8580acd60');\n",
              "          const dataTable =\n",
              "            await google.colab.kernel.invokeFunction('convertToInteractive',\n",
              "                                                     [key], {});\n",
              "          if (!dataTable) return;\n",
              "\n",
              "          const docLinkHtml = 'Like what you see? Visit the ' +\n",
              "            '<a target=\"_blank\" href=https://colab.research.google.com/notebooks/data_table.ipynb>data table notebook</a>'\n",
              "            + ' to learn more about interactive tables.';\n",
              "          element.innerHTML = '';\n",
              "          dataTable['output_type'] = 'display_data';\n",
              "          await google.colab.output.renderOutput(dataTable, element);\n",
              "          const docLink = document.createElement('div');\n",
              "          docLink.innerHTML = docLinkHtml;\n",
              "          element.appendChild(docLink);\n",
              "        }\n",
              "      </script>\n",
              "    </div>\n",
              "  </div>\n",
              "  "
            ],
            "text/plain": [
              "  Country or Area  Internet Users  Population  Rank\n",
              "0           China       765367947  1409517397     1\n",
              "1           India       461347554  1339180127     2\n",
              "2   United States       244090854   324459463     3\n",
              "3          Brazil       141206801   209288278     4\n",
              "4           Japan       115845120   127484450     5"
            ]
          },
          "metadata": {},
          "execution_count": 257
        }
      ]
    },
    {
      "cell_type": "code",
      "source": [
        "df4['Percentage'] = (df4['Internet Users']/df4['Population']) * 100"
      ],
      "metadata": {
        "id": "zr-qXLTl1hr2"
      },
      "execution_count": null,
      "outputs": []
    },
    {
      "cell_type": "code",
      "source": [
        "df4.head()"
      ],
      "metadata": {
        "colab": {
          "base_uri": "https://localhost:8080/",
          "height": 206
        },
        "id": "5andRde01wbY",
        "outputId": "b3bfdb44-7414-477f-c782-6602087501f7"
      },
      "execution_count": null,
      "outputs": [
        {
          "output_type": "execute_result",
          "data": {
            "text/html": [
              "\n",
              "  <div id=\"df-7351c971-b259-4beb-b4a3-4bed2911965a\">\n",
              "    <div class=\"colab-df-container\">\n",
              "      <div>\n",
              "<style scoped>\n",
              "    .dataframe tbody tr th:only-of-type {\n",
              "        vertical-align: middle;\n",
              "    }\n",
              "\n",
              "    .dataframe tbody tr th {\n",
              "        vertical-align: top;\n",
              "    }\n",
              "\n",
              "    .dataframe thead th {\n",
              "        text-align: right;\n",
              "    }\n",
              "</style>\n",
              "<table border=\"1\" class=\"dataframe\">\n",
              "  <thead>\n",
              "    <tr style=\"text-align: right;\">\n",
              "      <th></th>\n",
              "      <th>Country or Area</th>\n",
              "      <th>Internet Users</th>\n",
              "      <th>Population</th>\n",
              "      <th>Rank</th>\n",
              "      <th>Percentage</th>\n",
              "    </tr>\n",
              "  </thead>\n",
              "  <tbody>\n",
              "    <tr>\n",
              "      <th>0</th>\n",
              "      <td>China</td>\n",
              "      <td>765367947</td>\n",
              "      <td>1409517397</td>\n",
              "      <td>1</td>\n",
              "      <td>54.30</td>\n",
              "    </tr>\n",
              "    <tr>\n",
              "      <th>1</th>\n",
              "      <td>India</td>\n",
              "      <td>461347554</td>\n",
              "      <td>1339180127</td>\n",
              "      <td>2</td>\n",
              "      <td>34.45</td>\n",
              "    </tr>\n",
              "    <tr>\n",
              "      <th>2</th>\n",
              "      <td>United States</td>\n",
              "      <td>244090854</td>\n",
              "      <td>324459463</td>\n",
              "      <td>3</td>\n",
              "      <td>75.23</td>\n",
              "    </tr>\n",
              "    <tr>\n",
              "      <th>3</th>\n",
              "      <td>Brazil</td>\n",
              "      <td>141206801</td>\n",
              "      <td>209288278</td>\n",
              "      <td>4</td>\n",
              "      <td>67.47</td>\n",
              "    </tr>\n",
              "    <tr>\n",
              "      <th>4</th>\n",
              "      <td>Japan</td>\n",
              "      <td>115845120</td>\n",
              "      <td>127484450</td>\n",
              "      <td>5</td>\n",
              "      <td>90.87</td>\n",
              "    </tr>\n",
              "  </tbody>\n",
              "</table>\n",
              "</div>\n",
              "      <button class=\"colab-df-convert\" onclick=\"convertToInteractive('df-7351c971-b259-4beb-b4a3-4bed2911965a')\"\n",
              "              title=\"Convert this dataframe to an interactive table.\"\n",
              "              style=\"display:none;\">\n",
              "        \n",
              "  <svg xmlns=\"http://www.w3.org/2000/svg\" height=\"24px\"viewBox=\"0 0 24 24\"\n",
              "       width=\"24px\">\n",
              "    <path d=\"M0 0h24v24H0V0z\" fill=\"none\"/>\n",
              "    <path d=\"M18.56 5.44l.94 2.06.94-2.06 2.06-.94-2.06-.94-.94-2.06-.94 2.06-2.06.94zm-11 1L8.5 8.5l.94-2.06 2.06-.94-2.06-.94L8.5 2.5l-.94 2.06-2.06.94zm10 10l.94 2.06.94-2.06 2.06-.94-2.06-.94-.94-2.06-.94 2.06-2.06.94z\"/><path d=\"M17.41 7.96l-1.37-1.37c-.4-.4-.92-.59-1.43-.59-.52 0-1.04.2-1.43.59L10.3 9.45l-7.72 7.72c-.78.78-.78 2.05 0 2.83L4 21.41c.39.39.9.59 1.41.59.51 0 1.02-.2 1.41-.59l7.78-7.78 2.81-2.81c.8-.78.8-2.07 0-2.86zM5.41 20L4 18.59l7.72-7.72 1.47 1.35L5.41 20z\"/>\n",
              "  </svg>\n",
              "      </button>\n",
              "      \n",
              "  <style>\n",
              "    .colab-df-container {\n",
              "      display:flex;\n",
              "      flex-wrap:wrap;\n",
              "      gap: 12px;\n",
              "    }\n",
              "\n",
              "    .colab-df-convert {\n",
              "      background-color: #E8F0FE;\n",
              "      border: none;\n",
              "      border-radius: 50%;\n",
              "      cursor: pointer;\n",
              "      display: none;\n",
              "      fill: #1967D2;\n",
              "      height: 32px;\n",
              "      padding: 0 0 0 0;\n",
              "      width: 32px;\n",
              "    }\n",
              "\n",
              "    .colab-df-convert:hover {\n",
              "      background-color: #E2EBFA;\n",
              "      box-shadow: 0px 1px 2px rgba(60, 64, 67, 0.3), 0px 1px 3px 1px rgba(60, 64, 67, 0.15);\n",
              "      fill: #174EA6;\n",
              "    }\n",
              "\n",
              "    [theme=dark] .colab-df-convert {\n",
              "      background-color: #3B4455;\n",
              "      fill: #D2E3FC;\n",
              "    }\n",
              "\n",
              "    [theme=dark] .colab-df-convert:hover {\n",
              "      background-color: #434B5C;\n",
              "      box-shadow: 0px 1px 3px 1px rgba(0, 0, 0, 0.15);\n",
              "      filter: drop-shadow(0px 1px 2px rgba(0, 0, 0, 0.3));\n",
              "      fill: #FFFFFF;\n",
              "    }\n",
              "  </style>\n",
              "\n",
              "      <script>\n",
              "        const buttonEl =\n",
              "          document.querySelector('#df-7351c971-b259-4beb-b4a3-4bed2911965a button.colab-df-convert');\n",
              "        buttonEl.style.display =\n",
              "          google.colab.kernel.accessAllowed ? 'block' : 'none';\n",
              "\n",
              "        async function convertToInteractive(key) {\n",
              "          const element = document.querySelector('#df-7351c971-b259-4beb-b4a3-4bed2911965a');\n",
              "          const dataTable =\n",
              "            await google.colab.kernel.invokeFunction('convertToInteractive',\n",
              "                                                     [key], {});\n",
              "          if (!dataTable) return;\n",
              "\n",
              "          const docLinkHtml = 'Like what you see? Visit the ' +\n",
              "            '<a target=\"_blank\" href=https://colab.research.google.com/notebooks/data_table.ipynb>data table notebook</a>'\n",
              "            + ' to learn more about interactive tables.';\n",
              "          element.innerHTML = '';\n",
              "          dataTable['output_type'] = 'display_data';\n",
              "          await google.colab.output.renderOutput(dataTable, element);\n",
              "          const docLink = document.createElement('div');\n",
              "          docLink.innerHTML = docLinkHtml;\n",
              "          element.appendChild(docLink);\n",
              "        }\n",
              "      </script>\n",
              "    </div>\n",
              "  </div>\n",
              "  "
            ],
            "text/plain": [
              "  Country or Area  Internet Users  Population  Rank  Percentage\n",
              "0           China       765367947  1409517397     1       54.30\n",
              "1           India       461347554  1339180127     2       34.45\n",
              "2   United States       244090854   324459463     3       75.23\n",
              "3          Brazil       141206801   209288278     4       67.47\n",
              "4           Japan       115845120   127484450     5       90.87"
            ]
          },
          "metadata": {},
          "execution_count": 259
        }
      ]
    },
    {
      "cell_type": "code",
      "source": [
        "df4.rename(columns = {'Country or Area':'Country'}, inplace=True)"
      ],
      "metadata": {
        "id": "f8ptDEPRtWWx"
      },
      "execution_count": null,
      "outputs": []
    },
    {
      "cell_type": "code",
      "source": [
        "df4"
      ],
      "metadata": {
        "colab": {
          "base_uri": "https://localhost:8080/",
          "height": 424
        },
        "id": "Bd8uP4FgtaJX",
        "outputId": "d76f1b7f-8b01-424a-a825-01f445129c09"
      },
      "execution_count": null,
      "outputs": [
        {
          "output_type": "execute_result",
          "data": {
            "text/html": [
              "\n",
              "  <div id=\"df-2d4bd9b1-8f09-48ab-af7e-e1f7f6a01fda\">\n",
              "    <div class=\"colab-df-container\">\n",
              "      <div>\n",
              "<style scoped>\n",
              "    .dataframe tbody tr th:only-of-type {\n",
              "        vertical-align: middle;\n",
              "    }\n",
              "\n",
              "    .dataframe tbody tr th {\n",
              "        vertical-align: top;\n",
              "    }\n",
              "\n",
              "    .dataframe thead th {\n",
              "        text-align: right;\n",
              "    }\n",
              "</style>\n",
              "<table border=\"1\" class=\"dataframe\">\n",
              "  <thead>\n",
              "    <tr style=\"text-align: right;\">\n",
              "      <th></th>\n",
              "      <th>Country</th>\n",
              "      <th>Internet Users</th>\n",
              "      <th>Population</th>\n",
              "      <th>Rank</th>\n",
              "      <th>Percentage</th>\n",
              "    </tr>\n",
              "  </thead>\n",
              "  <tbody>\n",
              "    <tr>\n",
              "      <th>0</th>\n",
              "      <td>China</td>\n",
              "      <td>765367947</td>\n",
              "      <td>1409517397</td>\n",
              "      <td>1</td>\n",
              "      <td>54.300000</td>\n",
              "    </tr>\n",
              "    <tr>\n",
              "      <th>1</th>\n",
              "      <td>India</td>\n",
              "      <td>461347554</td>\n",
              "      <td>1339180127</td>\n",
              "      <td>2</td>\n",
              "      <td>34.450000</td>\n",
              "    </tr>\n",
              "    <tr>\n",
              "      <th>2</th>\n",
              "      <td>United States</td>\n",
              "      <td>244090854</td>\n",
              "      <td>324459463</td>\n",
              "      <td>3</td>\n",
              "      <td>75.230000</td>\n",
              "    </tr>\n",
              "    <tr>\n",
              "      <th>3</th>\n",
              "      <td>Brazil</td>\n",
              "      <td>141206801</td>\n",
              "      <td>209288278</td>\n",
              "      <td>4</td>\n",
              "      <td>67.470000</td>\n",
              "    </tr>\n",
              "    <tr>\n",
              "      <th>4</th>\n",
              "      <td>Japan</td>\n",
              "      <td>115845120</td>\n",
              "      <td>127484450</td>\n",
              "      <td>5</td>\n",
              "      <td>90.870000</td>\n",
              "    </tr>\n",
              "    <tr>\n",
              "      <th>...</th>\n",
              "      <td>...</td>\n",
              "      <td>...</td>\n",
              "      <td>...</td>\n",
              "      <td>...</td>\n",
              "      <td>...</td>\n",
              "    </tr>\n",
              "    <tr>\n",
              "      <th>206</th>\n",
              "      <td>Anguilla</td>\n",
              "      <td>12043</td>\n",
              "      <td>14909</td>\n",
              "      <td>207</td>\n",
              "      <td>80.776712</td>\n",
              "    </tr>\n",
              "    <tr>\n",
              "      <th>207</th>\n",
              "      <td>Nauru</td>\n",
              "      <td>6475</td>\n",
              "      <td>11359</td>\n",
              "      <td>208</td>\n",
              "      <td>57.003257</td>\n",
              "    </tr>\n",
              "    <tr>\n",
              "      <th>208</th>\n",
              "      <td>Tuvalu</td>\n",
              "      <td>5520</td>\n",
              "      <td>11192</td>\n",
              "      <td>209</td>\n",
              "      <td>49.320944</td>\n",
              "    </tr>\n",
              "    <tr>\n",
              "      <th>211</th>\n",
              "      <td>Montserrat</td>\n",
              "      <td>2833</td>\n",
              "      <td>5177</td>\n",
              "      <td>212</td>\n",
              "      <td>54.722812</td>\n",
              "    </tr>\n",
              "    <tr>\n",
              "      <th>213</th>\n",
              "      <td>Niue</td>\n",
              "      <td>1034</td>\n",
              "      <td>1618</td>\n",
              "      <td>214</td>\n",
              "      <td>63.906057</td>\n",
              "    </tr>\n",
              "  </tbody>\n",
              "</table>\n",
              "<p>209 rows × 5 columns</p>\n",
              "</div>\n",
              "      <button class=\"colab-df-convert\" onclick=\"convertToInteractive('df-2d4bd9b1-8f09-48ab-af7e-e1f7f6a01fda')\"\n",
              "              title=\"Convert this dataframe to an interactive table.\"\n",
              "              style=\"display:none;\">\n",
              "        \n",
              "  <svg xmlns=\"http://www.w3.org/2000/svg\" height=\"24px\"viewBox=\"0 0 24 24\"\n",
              "       width=\"24px\">\n",
              "    <path d=\"M0 0h24v24H0V0z\" fill=\"none\"/>\n",
              "    <path d=\"M18.56 5.44l.94 2.06.94-2.06 2.06-.94-2.06-.94-.94-2.06-.94 2.06-2.06.94zm-11 1L8.5 8.5l.94-2.06 2.06-.94-2.06-.94L8.5 2.5l-.94 2.06-2.06.94zm10 10l.94 2.06.94-2.06 2.06-.94-2.06-.94-.94-2.06-.94 2.06-2.06.94z\"/><path d=\"M17.41 7.96l-1.37-1.37c-.4-.4-.92-.59-1.43-.59-.52 0-1.04.2-1.43.59L10.3 9.45l-7.72 7.72c-.78.78-.78 2.05 0 2.83L4 21.41c.39.39.9.59 1.41.59.51 0 1.02-.2 1.41-.59l7.78-7.78 2.81-2.81c.8-.78.8-2.07 0-2.86zM5.41 20L4 18.59l7.72-7.72 1.47 1.35L5.41 20z\"/>\n",
              "  </svg>\n",
              "      </button>\n",
              "      \n",
              "  <style>\n",
              "    .colab-df-container {\n",
              "      display:flex;\n",
              "      flex-wrap:wrap;\n",
              "      gap: 12px;\n",
              "    }\n",
              "\n",
              "    .colab-df-convert {\n",
              "      background-color: #E8F0FE;\n",
              "      border: none;\n",
              "      border-radius: 50%;\n",
              "      cursor: pointer;\n",
              "      display: none;\n",
              "      fill: #1967D2;\n",
              "      height: 32px;\n",
              "      padding: 0 0 0 0;\n",
              "      width: 32px;\n",
              "    }\n",
              "\n",
              "    .colab-df-convert:hover {\n",
              "      background-color: #E2EBFA;\n",
              "      box-shadow: 0px 1px 2px rgba(60, 64, 67, 0.3), 0px 1px 3px 1px rgba(60, 64, 67, 0.15);\n",
              "      fill: #174EA6;\n",
              "    }\n",
              "\n",
              "    [theme=dark] .colab-df-convert {\n",
              "      background-color: #3B4455;\n",
              "      fill: #D2E3FC;\n",
              "    }\n",
              "\n",
              "    [theme=dark] .colab-df-convert:hover {\n",
              "      background-color: #434B5C;\n",
              "      box-shadow: 0px 1px 3px 1px rgba(0, 0, 0, 0.15);\n",
              "      filter: drop-shadow(0px 1px 2px rgba(0, 0, 0, 0.3));\n",
              "      fill: #FFFFFF;\n",
              "    }\n",
              "  </style>\n",
              "\n",
              "      <script>\n",
              "        const buttonEl =\n",
              "          document.querySelector('#df-2d4bd9b1-8f09-48ab-af7e-e1f7f6a01fda button.colab-df-convert');\n",
              "        buttonEl.style.display =\n",
              "          google.colab.kernel.accessAllowed ? 'block' : 'none';\n",
              "\n",
              "        async function convertToInteractive(key) {\n",
              "          const element = document.querySelector('#df-2d4bd9b1-8f09-48ab-af7e-e1f7f6a01fda');\n",
              "          const dataTable =\n",
              "            await google.colab.kernel.invokeFunction('convertToInteractive',\n",
              "                                                     [key], {});\n",
              "          if (!dataTable) return;\n",
              "\n",
              "          const docLinkHtml = 'Like what you see? Visit the ' +\n",
              "            '<a target=\"_blank\" href=https://colab.research.google.com/notebooks/data_table.ipynb>data table notebook</a>'\n",
              "            + ' to learn more about interactive tables.';\n",
              "          element.innerHTML = '';\n",
              "          dataTable['output_type'] = 'display_data';\n",
              "          await google.colab.output.renderOutput(dataTable, element);\n",
              "          const docLink = document.createElement('div');\n",
              "          docLink.innerHTML = docLinkHtml;\n",
              "          element.appendChild(docLink);\n",
              "        }\n",
              "      </script>\n",
              "    </div>\n",
              "  </div>\n",
              "  "
            ],
            "text/plain": [
              "           Country  Internet Users  Population  Rank  Percentage\n",
              "0            China       765367947  1409517397     1   54.300000\n",
              "1            India       461347554  1339180127     2   34.450000\n",
              "2    United States       244090854   324459463     3   75.230000\n",
              "3           Brazil       141206801   209288278     4   67.470000\n",
              "4            Japan       115845120   127484450     5   90.870000\n",
              "..             ...             ...         ...   ...         ...\n",
              "206       Anguilla           12043       14909   207   80.776712\n",
              "207          Nauru            6475       11359   208   57.003257\n",
              "208         Tuvalu            5520       11192   209   49.320944\n",
              "211     Montserrat            2833        5177   212   54.722812\n",
              "213           Niue            1034        1618   214   63.906057\n",
              "\n",
              "[209 rows x 5 columns]"
            ]
          },
          "metadata": {},
          "execution_count": 261
        }
      ]
    },
    {
      "cell_type": "code",
      "source": [
        "df4.corr()"
      ],
      "metadata": {
        "colab": {
          "base_uri": "https://localhost:8080/",
          "height": 175
        },
        "id": "Lx-cM-JMtWKA",
        "outputId": "60e27829-9a12-4e70-8ce1-26ab2d04c39d"
      },
      "execution_count": null,
      "outputs": [
        {
          "output_type": "execute_result",
          "data": {
            "text/html": [
              "\n",
              "  <div id=\"df-c6b1a800-e253-4ea6-9ebf-d3672e826335\">\n",
              "    <div class=\"colab-df-container\">\n",
              "      <div>\n",
              "<style scoped>\n",
              "    .dataframe tbody tr th:only-of-type {\n",
              "        vertical-align: middle;\n",
              "    }\n",
              "\n",
              "    .dataframe tbody tr th {\n",
              "        vertical-align: top;\n",
              "    }\n",
              "\n",
              "    .dataframe thead th {\n",
              "        text-align: right;\n",
              "    }\n",
              "</style>\n",
              "<table border=\"1\" class=\"dataframe\">\n",
              "  <thead>\n",
              "    <tr style=\"text-align: right;\">\n",
              "      <th></th>\n",
              "      <th>Internet Users</th>\n",
              "      <th>Population</th>\n",
              "      <th>Rank</th>\n",
              "      <th>Percentage</th>\n",
              "    </tr>\n",
              "  </thead>\n",
              "  <tbody>\n",
              "    <tr>\n",
              "      <th>Internet Users</th>\n",
              "      <td>1.000000</td>\n",
              "      <td>0.959737</td>\n",
              "      <td>-0.380651</td>\n",
              "      <td>0.036849</td>\n",
              "    </tr>\n",
              "    <tr>\n",
              "      <th>Population</th>\n",
              "      <td>0.959737</td>\n",
              "      <td>1.000000</td>\n",
              "      <td>-0.351966</td>\n",
              "      <td>-0.057485</td>\n",
              "    </tr>\n",
              "    <tr>\n",
              "      <th>Rank</th>\n",
              "      <td>-0.380651</td>\n",
              "      <td>-0.351966</td>\n",
              "      <td>1.000000</td>\n",
              "      <td>-0.133210</td>\n",
              "    </tr>\n",
              "    <tr>\n",
              "      <th>Percentage</th>\n",
              "      <td>0.036849</td>\n",
              "      <td>-0.057485</td>\n",
              "      <td>-0.133210</td>\n",
              "      <td>1.000000</td>\n",
              "    </tr>\n",
              "  </tbody>\n",
              "</table>\n",
              "</div>\n",
              "      <button class=\"colab-df-convert\" onclick=\"convertToInteractive('df-c6b1a800-e253-4ea6-9ebf-d3672e826335')\"\n",
              "              title=\"Convert this dataframe to an interactive table.\"\n",
              "              style=\"display:none;\">\n",
              "        \n",
              "  <svg xmlns=\"http://www.w3.org/2000/svg\" height=\"24px\"viewBox=\"0 0 24 24\"\n",
              "       width=\"24px\">\n",
              "    <path d=\"M0 0h24v24H0V0z\" fill=\"none\"/>\n",
              "    <path d=\"M18.56 5.44l.94 2.06.94-2.06 2.06-.94-2.06-.94-.94-2.06-.94 2.06-2.06.94zm-11 1L8.5 8.5l.94-2.06 2.06-.94-2.06-.94L8.5 2.5l-.94 2.06-2.06.94zm10 10l.94 2.06.94-2.06 2.06-.94-2.06-.94-.94-2.06-.94 2.06-2.06.94z\"/><path d=\"M17.41 7.96l-1.37-1.37c-.4-.4-.92-.59-1.43-.59-.52 0-1.04.2-1.43.59L10.3 9.45l-7.72 7.72c-.78.78-.78 2.05 0 2.83L4 21.41c.39.39.9.59 1.41.59.51 0 1.02-.2 1.41-.59l7.78-7.78 2.81-2.81c.8-.78.8-2.07 0-2.86zM5.41 20L4 18.59l7.72-7.72 1.47 1.35L5.41 20z\"/>\n",
              "  </svg>\n",
              "      </button>\n",
              "      \n",
              "  <style>\n",
              "    .colab-df-container {\n",
              "      display:flex;\n",
              "      flex-wrap:wrap;\n",
              "      gap: 12px;\n",
              "    }\n",
              "\n",
              "    .colab-df-convert {\n",
              "      background-color: #E8F0FE;\n",
              "      border: none;\n",
              "      border-radius: 50%;\n",
              "      cursor: pointer;\n",
              "      display: none;\n",
              "      fill: #1967D2;\n",
              "      height: 32px;\n",
              "      padding: 0 0 0 0;\n",
              "      width: 32px;\n",
              "    }\n",
              "\n",
              "    .colab-df-convert:hover {\n",
              "      background-color: #E2EBFA;\n",
              "      box-shadow: 0px 1px 2px rgba(60, 64, 67, 0.3), 0px 1px 3px 1px rgba(60, 64, 67, 0.15);\n",
              "      fill: #174EA6;\n",
              "    }\n",
              "\n",
              "    [theme=dark] .colab-df-convert {\n",
              "      background-color: #3B4455;\n",
              "      fill: #D2E3FC;\n",
              "    }\n",
              "\n",
              "    [theme=dark] .colab-df-convert:hover {\n",
              "      background-color: #434B5C;\n",
              "      box-shadow: 0px 1px 3px 1px rgba(0, 0, 0, 0.15);\n",
              "      filter: drop-shadow(0px 1px 2px rgba(0, 0, 0, 0.3));\n",
              "      fill: #FFFFFF;\n",
              "    }\n",
              "  </style>\n",
              "\n",
              "      <script>\n",
              "        const buttonEl =\n",
              "          document.querySelector('#df-c6b1a800-e253-4ea6-9ebf-d3672e826335 button.colab-df-convert');\n",
              "        buttonEl.style.display =\n",
              "          google.colab.kernel.accessAllowed ? 'block' : 'none';\n",
              "\n",
              "        async function convertToInteractive(key) {\n",
              "          const element = document.querySelector('#df-c6b1a800-e253-4ea6-9ebf-d3672e826335');\n",
              "          const dataTable =\n",
              "            await google.colab.kernel.invokeFunction('convertToInteractive',\n",
              "                                                     [key], {});\n",
              "          if (!dataTable) return;\n",
              "\n",
              "          const docLinkHtml = 'Like what you see? Visit the ' +\n",
              "            '<a target=\"_blank\" href=https://colab.research.google.com/notebooks/data_table.ipynb>data table notebook</a>'\n",
              "            + ' to learn more about interactive tables.';\n",
              "          element.innerHTML = '';\n",
              "          dataTable['output_type'] = 'display_data';\n",
              "          await google.colab.output.renderOutput(dataTable, element);\n",
              "          const docLink = document.createElement('div');\n",
              "          docLink.innerHTML = docLinkHtml;\n",
              "          element.appendChild(docLink);\n",
              "        }\n",
              "      </script>\n",
              "    </div>\n",
              "  </div>\n",
              "  "
            ],
            "text/plain": [
              "                Internet Users  Population      Rank  Percentage\n",
              "Internet Users        1.000000    0.959737 -0.380651    0.036849\n",
              "Population            0.959737    1.000000 -0.351966   -0.057485\n",
              "Rank                 -0.380651   -0.351966  1.000000   -0.133210\n",
              "Percentage            0.036849   -0.057485 -0.133210    1.000000"
            ]
          },
          "metadata": {},
          "execution_count": 262
        }
      ]
    },
    {
      "cell_type": "code",
      "source": [
        "df4.corr()"
      ],
      "metadata": {
        "colab": {
          "base_uri": "https://localhost:8080/",
          "height": 175
        },
        "id": "fcchiyE8_nTq",
        "outputId": "50cbf7d5-bf3c-4838-8c89-3cc229e95b3f"
      },
      "execution_count": null,
      "outputs": [
        {
          "output_type": "execute_result",
          "data": {
            "text/html": [
              "\n",
              "  <div id=\"df-94ac7bf0-5578-4404-a445-e6a4540c1037\">\n",
              "    <div class=\"colab-df-container\">\n",
              "      <div>\n",
              "<style scoped>\n",
              "    .dataframe tbody tr th:only-of-type {\n",
              "        vertical-align: middle;\n",
              "    }\n",
              "\n",
              "    .dataframe tbody tr th {\n",
              "        vertical-align: top;\n",
              "    }\n",
              "\n",
              "    .dataframe thead th {\n",
              "        text-align: right;\n",
              "    }\n",
              "</style>\n",
              "<table border=\"1\" class=\"dataframe\">\n",
              "  <thead>\n",
              "    <tr style=\"text-align: right;\">\n",
              "      <th></th>\n",
              "      <th>Internet Users</th>\n",
              "      <th>Population</th>\n",
              "      <th>Rank</th>\n",
              "      <th>Percentage</th>\n",
              "    </tr>\n",
              "  </thead>\n",
              "  <tbody>\n",
              "    <tr>\n",
              "      <th>Internet Users</th>\n",
              "      <td>1.000000</td>\n",
              "      <td>0.959737</td>\n",
              "      <td>-0.380651</td>\n",
              "      <td>0.036849</td>\n",
              "    </tr>\n",
              "    <tr>\n",
              "      <th>Population</th>\n",
              "      <td>0.959737</td>\n",
              "      <td>1.000000</td>\n",
              "      <td>-0.351966</td>\n",
              "      <td>-0.057485</td>\n",
              "    </tr>\n",
              "    <tr>\n",
              "      <th>Rank</th>\n",
              "      <td>-0.380651</td>\n",
              "      <td>-0.351966</td>\n",
              "      <td>1.000000</td>\n",
              "      <td>-0.133210</td>\n",
              "    </tr>\n",
              "    <tr>\n",
              "      <th>Percentage</th>\n",
              "      <td>0.036849</td>\n",
              "      <td>-0.057485</td>\n",
              "      <td>-0.133210</td>\n",
              "      <td>1.000000</td>\n",
              "    </tr>\n",
              "  </tbody>\n",
              "</table>\n",
              "</div>\n",
              "      <button class=\"colab-df-convert\" onclick=\"convertToInteractive('df-94ac7bf0-5578-4404-a445-e6a4540c1037')\"\n",
              "              title=\"Convert this dataframe to an interactive table.\"\n",
              "              style=\"display:none;\">\n",
              "        \n",
              "  <svg xmlns=\"http://www.w3.org/2000/svg\" height=\"24px\"viewBox=\"0 0 24 24\"\n",
              "       width=\"24px\">\n",
              "    <path d=\"M0 0h24v24H0V0z\" fill=\"none\"/>\n",
              "    <path d=\"M18.56 5.44l.94 2.06.94-2.06 2.06-.94-2.06-.94-.94-2.06-.94 2.06-2.06.94zm-11 1L8.5 8.5l.94-2.06 2.06-.94-2.06-.94L8.5 2.5l-.94 2.06-2.06.94zm10 10l.94 2.06.94-2.06 2.06-.94-2.06-.94-.94-2.06-.94 2.06-2.06.94z\"/><path d=\"M17.41 7.96l-1.37-1.37c-.4-.4-.92-.59-1.43-.59-.52 0-1.04.2-1.43.59L10.3 9.45l-7.72 7.72c-.78.78-.78 2.05 0 2.83L4 21.41c.39.39.9.59 1.41.59.51 0 1.02-.2 1.41-.59l7.78-7.78 2.81-2.81c.8-.78.8-2.07 0-2.86zM5.41 20L4 18.59l7.72-7.72 1.47 1.35L5.41 20z\"/>\n",
              "  </svg>\n",
              "      </button>\n",
              "      \n",
              "  <style>\n",
              "    .colab-df-container {\n",
              "      display:flex;\n",
              "      flex-wrap:wrap;\n",
              "      gap: 12px;\n",
              "    }\n",
              "\n",
              "    .colab-df-convert {\n",
              "      background-color: #E8F0FE;\n",
              "      border: none;\n",
              "      border-radius: 50%;\n",
              "      cursor: pointer;\n",
              "      display: none;\n",
              "      fill: #1967D2;\n",
              "      height: 32px;\n",
              "      padding: 0 0 0 0;\n",
              "      width: 32px;\n",
              "    }\n",
              "\n",
              "    .colab-df-convert:hover {\n",
              "      background-color: #E2EBFA;\n",
              "      box-shadow: 0px 1px 2px rgba(60, 64, 67, 0.3), 0px 1px 3px 1px rgba(60, 64, 67, 0.15);\n",
              "      fill: #174EA6;\n",
              "    }\n",
              "\n",
              "    [theme=dark] .colab-df-convert {\n",
              "      background-color: #3B4455;\n",
              "      fill: #D2E3FC;\n",
              "    }\n",
              "\n",
              "    [theme=dark] .colab-df-convert:hover {\n",
              "      background-color: #434B5C;\n",
              "      box-shadow: 0px 1px 3px 1px rgba(0, 0, 0, 0.15);\n",
              "      filter: drop-shadow(0px 1px 2px rgba(0, 0, 0, 0.3));\n",
              "      fill: #FFFFFF;\n",
              "    }\n",
              "  </style>\n",
              "\n",
              "      <script>\n",
              "        const buttonEl =\n",
              "          document.querySelector('#df-94ac7bf0-5578-4404-a445-e6a4540c1037 button.colab-df-convert');\n",
              "        buttonEl.style.display =\n",
              "          google.colab.kernel.accessAllowed ? 'block' : 'none';\n",
              "\n",
              "        async function convertToInteractive(key) {\n",
              "          const element = document.querySelector('#df-94ac7bf0-5578-4404-a445-e6a4540c1037');\n",
              "          const dataTable =\n",
              "            await google.colab.kernel.invokeFunction('convertToInteractive',\n",
              "                                                     [key], {});\n",
              "          if (!dataTable) return;\n",
              "\n",
              "          const docLinkHtml = 'Like what you see? Visit the ' +\n",
              "            '<a target=\"_blank\" href=https://colab.research.google.com/notebooks/data_table.ipynb>data table notebook</a>'\n",
              "            + ' to learn more about interactive tables.';\n",
              "          element.innerHTML = '';\n",
              "          dataTable['output_type'] = 'display_data';\n",
              "          await google.colab.output.renderOutput(dataTable, element);\n",
              "          const docLink = document.createElement('div');\n",
              "          docLink.innerHTML = docLinkHtml;\n",
              "          element.appendChild(docLink);\n",
              "        }\n",
              "      </script>\n",
              "    </div>\n",
              "  </div>\n",
              "  "
            ],
            "text/plain": [
              "                Internet Users  Population      Rank  Percentage\n",
              "Internet Users        1.000000    0.959737 -0.380651    0.036849\n",
              "Population            0.959737    1.000000 -0.351966   -0.057485\n",
              "Rank                 -0.380651   -0.351966  1.000000   -0.133210\n",
              "Percentage            0.036849   -0.057485 -0.133210    1.000000"
            ]
          },
          "metadata": {},
          "execution_count": 263
        }
      ]
    },
    {
      "cell_type": "code",
      "source": [
        "df4.drop('Country',axis=1, inplace = True)"
      ],
      "metadata": {
        "id": "kpif1axW23iW"
      },
      "execution_count": null,
      "outputs": []
    },
    {
      "cell_type": "code",
      "source": [
        "type(Y)"
      ],
      "metadata": {
        "colab": {
          "base_uri": "https://localhost:8080/"
        },
        "id": "JZjTHsEY5IJE",
        "outputId": "0680207f-567d-4f20-e484-5f82ad03638e"
      },
      "execution_count": null,
      "outputs": [
        {
          "output_type": "execute_result",
          "data": {
            "text/plain": [
              "pandas.core.series.Series"
            ]
          },
          "metadata": {},
          "execution_count": 265
        }
      ]
    },
    {
      "cell_type": "code",
      "source": [
        "from sklearn.tree import DecisionTreeRegressor\n",
        "\n",
        "clf = DecisionTreeRegressor(max_depth=3)\n",
        "clf.fit(df4, Y)"
      ],
      "metadata": {
        "colab": {
          "base_uri": "https://localhost:8080/"
        },
        "id": "xy_eF-DYoamf",
        "outputId": "ff3129ea-6fb8-4b3b-ed7c-eec01c55a95a"
      },
      "execution_count": null,
      "outputs": [
        {
          "output_type": "execute_result",
          "data": {
            "text/plain": [
              "DecisionTreeRegressor(max_depth=3)"
            ]
          },
          "metadata": {},
          "execution_count": 271
        }
      ]
    },
    {
      "cell_type": "code",
      "source": [
        "clf.score(df4, Y)"
      ],
      "metadata": {
        "colab": {
          "base_uri": "https://localhost:8080/"
        },
        "id": "qDDdwRsboE8O",
        "outputId": "5347de85-95e1-4a78-dc06-42451fb5c064"
      },
      "execution_count": null,
      "outputs": [
        {
          "output_type": "execute_result",
          "data": {
            "text/plain": [
              "0.9796636170846698"
            ]
          },
          "metadata": {},
          "execution_count": 272
        }
      ]
    },
    {
      "cell_type": "code",
      "source": [
        "from sklearn import tree\n",
        "\n",
        "plt.figure(figsize=(20, 20))\n",
        "\n",
        "tree.plot_tree(clf,filled = True)\n",
        "plt.show()"
      ],
      "metadata": {
        "colab": {
          "base_uri": "https://localhost:8080/",
          "height": 1000
        },
        "id": "8QAf_9bZFT9U",
        "outputId": "9e7ba281-37a3-4716-8343-70375c20801f"
      },
      "execution_count": null,
      "outputs": [
        {
          "output_type": "display_data",
          "data": {
            "image/png": "[encoded data removed]",
            "text/plain": [
              "<Figure size 1440x1440 with 1 Axes>"
            ]
          },
          "metadata": {
            "needs_background": "light"
          }
        }
      ]
    },
    {
      "cell_type": "markdown",
      "source": [
        "## Regression"
      ],
      "metadata": {
        "id": "opYXIgtMnA3q"
      }
    },
    {
      "cell_type": "code",
      "source": [
        "x = np.linspace(1, 360, 30)\n",
        "y = np.sin(np.deg2rad(x))*30\n",
        "x /= x.max()\n",
        "\n",
        "plt.scatter(x, y)"
      ],
      "metadata": {
        "colab": {
          "base_uri": "https://localhost:8080/",
          "height": 282
        },
        "id": "2_wFvs7JkbWh",
        "outputId": "51c1fe4d-ba2f-4158-d322-a5d85bc1e217"
      },
      "execution_count": null,
      "outputs": [
        {
          "output_type": "execute_result",
          "data": {
            "text/plain": [
              "<matplotlib.collections.PathCollection at 0x7f61ca38e310>"
            ]
          },
          "metadata": {},
          "execution_count": 45
        },
        {
          "output_type": "display_data",
          "data": {
            "image/png": "[encoded data removed]",
            "text/plain": [
              "<Figure size 432x288 with 1 Axes>"
            ]
          },
          "metadata": {
            "needs_background": "light"
          }
        }
      ]
    },
    {
      "cell_type": "code",
      "source": [
        "from sklearn.tree import DecisionTreeRegressor\n",
        "\n",
        "X = x.reshape(-1, 1)\n",
        "\n",
        "model = DecisionTreeRegressor(max_depth = 3)\n",
        "\n",
        "model.fit(X, y)"
      ],
      "metadata": {
        "colab": {
          "base_uri": "https://localhost:8080/"
        },
        "id": "5LeWWyaBknYJ",
        "outputId": "b7918381-5f85-4ca8-98e0-410dc3fd8932"
      },
      "execution_count": null,
      "outputs": [
        {
          "output_type": "execute_result",
          "data": {
            "text/plain": [
              "DecisionTreeRegressor(max_depth=3)"
            ]
          },
          "metadata": {},
          "execution_count": 46
        }
      ]
    },
    {
      "cell_type": "code",
      "source": [
        "for i in [3, 5]:\n",
        "    model = DecisionTreeRegressor(max_depth = i)\n",
        "    model.fit(X, y)\n",
        "    plt.plot(x, model.predict(X), label = 'depth = {}'.format(i))\n",
        "    \n",
        "plt.scatter(x, y, label = 'actual')\n",
        "plt.legend()"
      ],
      "metadata": {
        "colab": {
          "base_uri": "https://localhost:8080/",
          "height": 282
        },
        "id": "yI3HW1jplGD9",
        "outputId": "e4e21a37-de2a-4ea4-eccf-2506d90a6e7a"
      },
      "execution_count": null,
      "outputs": [
        {
          "output_type": "execute_result",
          "data": {
            "text/plain": [
              "<matplotlib.legend.Legend at 0x7f61ca16b550>"
            ]
          },
          "metadata": {},
          "execution_count": 47
        },
        {
          "output_type": "display_data",
          "data": {
            "image/png": "[encoded data removed]",
            "text/plain": [
              "<Figure size 432x288 with 1 Axes>"
            ]
          },
          "metadata": {
            "needs_background": "light"
          }
        }
      ]
    },
    {
      "cell_type": "markdown",
      "source": [
        "[Interaction](https://ipywidgets.readthedocs.io/en/latest/examples/Using%20Interact.html#:~:text=The%20interact%20function%20(%20ipywidgets.,get%20started%20using%20IPython's%20widgets.)"
      ],
      "metadata": {
        "id": "M_lBdOzTfJti"
      }
    },
    {
      "cell_type": "code",
      "source": [
        "from ipywidgets import interact\n",
        "import matplotlib.pyplot as plt\n",
        "\n",
        "def fun(max_depth):\n",
        "    model = DecisionTreeRegressor(max_depth = max_depth)\n",
        "    model.fit(X, y)\n",
        "    plt.plot(x, model.predict(X), label = 'depth = {}'.format(max_depth), color = 'orange')\n",
        "    plt.scatter(x, y, label = 'actual')\n",
        "    plt.legend()\n",
        "\n",
        "interact(fun, max_depth=3);"
      ],
      "metadata": {
        "colab": {
          "base_uri": "https://localhost:8080/",
          "height": 297,
          "referenced_widgets": [
            "2abe68b68a224eb3a421c6f03e0bad68",
            "1ab7500b055a45cb95b48c416a3584ae",
            "9f45485087434cbb863943745e24b2ff",
            "e8628017b06442238868e70857a976b3",
            "a0f0e00cbf4d474ea7ba1bdcaff6973d",
            "09d39510ede54cc8a227b3eed3949746",
            "9f17fc1dbd0f44e19ca050bf85cf1aaa"
          ]
        },
        "id": "3yWWGjcpaoj0",
        "outputId": "c14cc151-b33d-4faa-f44c-ef56dbc1b4e9"
      },
      "execution_count": null,
      "outputs": [
        {
          "output_type": "display_data",
          "data": {
            "application/vnd.jupyter.widget-view+json": {
              "model_id": "2abe68b68a224eb3a421c6f03e0bad68",
              "version_minor": 0,
              "version_major": 2
            },
            "text/plain": [
              "interactive(children=(IntSlider(value=3, description='max_depth', max=9, min=-3), Output()), _dom_classes=('wi…"
            ]
          },
          "metadata": {}
        }
      ]
    },
    {
      "cell_type": "markdown",
      "source": [
        "## Noise"
      ],
      "metadata": {
        "id": "NCe8QsuNmNTl"
      }
    },
    {
      "cell_type": "code",
      "source": [
        "y[4] *= -1\n",
        "y[10] *= -1\n",
        "y[18] *= -1\n",
        "y[25] *= -1\n",
        "\n",
        "plt.scatter(x, y)"
      ],
      "metadata": {
        "colab": {
          "base_uri": "https://localhost:8080/",
          "height": 282
        },
        "id": "fJw3mE-UmOcp",
        "outputId": "ef2a2675-3ab5-4f68-c65d-91fcbf1a0134"
      },
      "execution_count": null,
      "outputs": [
        {
          "output_type": "execute_result",
          "data": {
            "text/plain": [
              "<matplotlib.collections.PathCollection at 0x7f61ca354dd0>"
            ]
          },
          "metadata": {},
          "execution_count": 49
        },
        {
          "output_type": "display_data",
          "data": {
            "image/png": "[encoded data removed]",
            "text/plain": [
              "<Figure size 432x288 with 1 Axes>"
            ]
          },
          "metadata": {
            "needs_background": "light"
          }
        }
      ]
    },
    {
      "cell_type": "code",
      "source": [
        "plt.figure(figsize = (8, 7))\n",
        "\n",
        "for i in [2, 5]:\n",
        "    model = DecisionTreeRegressor(max_depth = i)\n",
        "    model.fit(X, y)\n",
        "    plt.plot(x, model.predict(X), label = 'depth = {}'.format(i))\n",
        "    \n",
        "plt.scatter(x, y, label = 'actual')\n",
        "plt.legend()"
      ],
      "metadata": {
        "colab": {
          "base_uri": "https://localhost:8080/",
          "height": 445
        },
        "id": "2Wxw6uJnmeHh",
        "outputId": "afbf2228-4c7b-43d6-ddeb-83b3fa4d024b"
      },
      "execution_count": null,
      "outputs": [
        {
          "output_type": "execute_result",
          "data": {
            "text/plain": [
              "<matplotlib.legend.Legend at 0x7f61c9b2fe10>"
            ]
          },
          "metadata": {},
          "execution_count": 50
        },
        {
          "output_type": "display_data",
          "data": {
            "image/png": "[encoded data removed]",
            "text/plain": [
              "<Figure size 576x504 with 1 Axes>"
            ]
          },
          "metadata": {
            "needs_background": "light"
          }
        }
      ]
    },
    {
      "cell_type": "code",
      "source": [
        "interact(fun, max_depth=3)"
      ],
      "metadata": {
        "colab": {
          "base_uri": "https://localhost:8080/",
          "height": 314,
          "referenced_widgets": [
            "668477cd2ca14383b58fe369e3e9962e",
            "379902006f37408eb9beca85103c7e0d",
            "c4e14e51d4e44367a68ca3613e0bf5ee",
            "f0aef025b029482fabf6f3cb03a1e855",
            "99d1828f05d8459bb8aed46c0e78a50c",
            "ac0f4bc773624a9a96bdab83d0c9ad8a",
            "65ad5441f67544c1891defe8966d8666"
          ]
        },
        "id": "_zUuByLudVyL",
        "outputId": "18b12848-98d2-4aa7-b4e3-e672df3533f4"
      },
      "execution_count": null,
      "outputs": [
        {
          "output_type": "display_data",
          "data": {
            "application/vnd.jupyter.widget-view+json": {
              "model_id": "668477cd2ca14383b58fe369e3e9962e",
              "version_minor": 0,
              "version_major": 2
            },
            "text/plain": [
              "interactive(children=(IntSlider(value=3, description='max_depth', max=9, min=-3), Output()), _dom_classes=('wi…"
            ]
          },
          "metadata": {}
        },
        {
          "output_type": "execute_result",
          "data": {
            "text/plain": [
              "<function __main__.fun>"
            ]
          },
          "metadata": {},
          "execution_count": 51
        }
      ]
    },
    {
      "cell_type": "markdown",
      "source": [
        "# Project"
      ],
      "metadata": {
        "id": "O6NFTBeb2T7O"
      }
    },
    {
      "cell_type": "code",
      "source": [
        "import numpy as np\n",
        "import pandas as pd\n",
        "import matplotlib.pyplot as plt"
      ],
      "metadata": {
        "id": "wZEUDEXa2U6J"
      },
      "execution_count": null,
      "outputs": []
    },
    {
      "cell_type": "code",
      "source": [
        "df = pd.read_csv('https://raw.githubusercontent.com/SrikanthVelpuri/Mushroom-Classification/master/mushrooms.csv')\n",
        "df.sample(5)"
      ],
      "metadata": {
        "colab": {
          "base_uri": "https://localhost:8080/",
          "height": 322
        },
        "id": "vKknjWP4oNWi",
        "outputId": "065389b5-4998-43ba-a7df-105201b91e9d"
      },
      "execution_count": null,
      "outputs": [
        {
          "output_type": "execute_result",
          "data": {
            "text/html": [
              "\n",
              "  <div id=\"df-3460dc97-22f9-4e0c-9399-ac1453e2f0c2\">\n",
              "    <div class=\"colab-df-container\">\n",
              "      <div>\n",
              "<style scoped>\n",
              "    .dataframe tbody tr th:only-of-type {\n",
              "        vertical-align: middle;\n",
              "    }\n",
              "\n",
              "    .dataframe tbody tr th {\n",
              "        vertical-align: top;\n",
              "    }\n",
              "\n",
              "    .dataframe thead th {\n",
              "        text-align: right;\n",
              "    }\n",
              "</style>\n",
              "<table border=\"1\" class=\"dataframe\">\n",
              "  <thead>\n",
              "    <tr style=\"text-align: right;\">\n",
              "      <th></th>\n",
              "      <th>class</th>\n",
              "      <th>cap-shape</th>\n",
              "      <th>cap-surface</th>\n",
              "      <th>cap-color</th>\n",
              "      <th>bruises</th>\n",
              "      <th>odor</th>\n",
              "      <th>gill-attachment</th>\n",
              "      <th>gill-spacing</th>\n",
              "      <th>gill-size</th>\n",
              "      <th>gill-color</th>\n",
              "      <th>stalk-shape</th>\n",
              "      <th>stalk-root</th>\n",
              "      <th>stalk-surface-above-ring</th>\n",
              "      <th>stalk-surface-below-ring</th>\n",
              "      <th>stalk-color-above-ring</th>\n",
              "      <th>stalk-color-below-ring</th>\n",
              "      <th>veil-type</th>\n",
              "      <th>veil-color</th>\n",
              "      <th>ring-number</th>\n",
              "      <th>ring-type</th>\n",
              "      <th>spore-print-color</th>\n",
              "      <th>population</th>\n",
              "      <th>habitat</th>\n",
              "    </tr>\n",
              "  </thead>\n",
              "  <tbody>\n",
              "    <tr>\n",
              "      <th>4787</th>\n",
              "      <td>p</td>\n",
              "      <td>f</td>\n",
              "      <td>f</td>\n",
              "      <td>y</td>\n",
              "      <td>f</td>\n",
              "      <td>f</td>\n",
              "      <td>f</td>\n",
              "      <td>c</td>\n",
              "      <td>b</td>\n",
              "      <td>p</td>\n",
              "      <td>e</td>\n",
              "      <td>b</td>\n",
              "      <td>k</td>\n",
              "      <td>k</td>\n",
              "      <td>b</td>\n",
              "      <td>p</td>\n",
              "      <td>p</td>\n",
              "      <td>w</td>\n",
              "      <td>o</td>\n",
              "      <td>l</td>\n",
              "      <td>h</td>\n",
              "      <td>y</td>\n",
              "      <td>g</td>\n",
              "    </tr>\n",
              "    <tr>\n",
              "      <th>7045</th>\n",
              "      <td>p</td>\n",
              "      <td>f</td>\n",
              "      <td>y</td>\n",
              "      <td>e</td>\n",
              "      <td>f</td>\n",
              "      <td>y</td>\n",
              "      <td>f</td>\n",
              "      <td>c</td>\n",
              "      <td>n</td>\n",
              "      <td>b</td>\n",
              "      <td>t</td>\n",
              "      <td>?</td>\n",
              "      <td>k</td>\n",
              "      <td>s</td>\n",
              "      <td>w</td>\n",
              "      <td>p</td>\n",
              "      <td>p</td>\n",
              "      <td>w</td>\n",
              "      <td>o</td>\n",
              "      <td>e</td>\n",
              "      <td>w</td>\n",
              "      <td>v</td>\n",
              "      <td>p</td>\n",
              "    </tr>\n",
              "    <tr>\n",
              "      <th>5678</th>\n",
              "      <td>p</td>\n",
              "      <td>f</td>\n",
              "      <td>s</td>\n",
              "      <td>b</td>\n",
              "      <td>t</td>\n",
              "      <td>f</td>\n",
              "      <td>f</td>\n",
              "      <td>c</td>\n",
              "      <td>b</td>\n",
              "      <td>w</td>\n",
              "      <td>t</td>\n",
              "      <td>b</td>\n",
              "      <td>f</td>\n",
              "      <td>s</td>\n",
              "      <td>w</td>\n",
              "      <td>w</td>\n",
              "      <td>p</td>\n",
              "      <td>w</td>\n",
              "      <td>o</td>\n",
              "      <td>p</td>\n",
              "      <td>h</td>\n",
              "      <td>s</td>\n",
              "      <td>g</td>\n",
              "    </tr>\n",
              "    <tr>\n",
              "      <th>7746</th>\n",
              "      <td>e</td>\n",
              "      <td>x</td>\n",
              "      <td>s</td>\n",
              "      <td>w</td>\n",
              "      <td>f</td>\n",
              "      <td>n</td>\n",
              "      <td>f</td>\n",
              "      <td>w</td>\n",
              "      <td>b</td>\n",
              "      <td>p</td>\n",
              "      <td>e</td>\n",
              "      <td>?</td>\n",
              "      <td>k</td>\n",
              "      <td>k</td>\n",
              "      <td>w</td>\n",
              "      <td>w</td>\n",
              "      <td>p</td>\n",
              "      <td>w</td>\n",
              "      <td>t</td>\n",
              "      <td>p</td>\n",
              "      <td>w</td>\n",
              "      <td>n</td>\n",
              "      <td>g</td>\n",
              "    </tr>\n",
              "    <tr>\n",
              "      <th>2056</th>\n",
              "      <td>e</td>\n",
              "      <td>x</td>\n",
              "      <td>f</td>\n",
              "      <td>g</td>\n",
              "      <td>t</td>\n",
              "      <td>n</td>\n",
              "      <td>f</td>\n",
              "      <td>c</td>\n",
              "      <td>b</td>\n",
              "      <td>u</td>\n",
              "      <td>t</td>\n",
              "      <td>b</td>\n",
              "      <td>s</td>\n",
              "      <td>s</td>\n",
              "      <td>g</td>\n",
              "      <td>p</td>\n",
              "      <td>p</td>\n",
              "      <td>w</td>\n",
              "      <td>o</td>\n",
              "      <td>p</td>\n",
              "      <td>n</td>\n",
              "      <td>v</td>\n",
              "      <td>d</td>\n",
              "    </tr>\n",
              "  </tbody>\n",
              "</table>\n",
              "</div>\n",
              "      <button class=\"colab-df-convert\" onclick=\"convertToInteractive('df-3460dc97-22f9-4e0c-9399-ac1453e2f0c2')\"\n",
              "              title=\"Convert this dataframe to an interactive table.\"\n",
              "              style=\"display:none;\">\n",
              "        \n",
              "  <svg xmlns=\"http://www.w3.org/2000/svg\" height=\"24px\"viewBox=\"0 0 24 24\"\n",
              "       width=\"24px\">\n",
              "    <path d=\"M0 0h24v24H0V0z\" fill=\"none\"/>\n",
              "    <path d=\"M18.56 5.44l.94 2.06.94-2.06 2.06-.94-2.06-.94-.94-2.06-.94 2.06-2.06.94zm-11 1L8.5 8.5l.94-2.06 2.06-.94-2.06-.94L8.5 2.5l-.94 2.06-2.06.94zm10 10l.94 2.06.94-2.06 2.06-.94-2.06-.94-.94-2.06-.94 2.06-2.06.94z\"/><path d=\"M17.41 7.96l-1.37-1.37c-.4-.4-.92-.59-1.43-.59-.52 0-1.04.2-1.43.59L10.3 9.45l-7.72 7.72c-.78.78-.78 2.05 0 2.83L4 21.41c.39.39.9.59 1.41.59.51 0 1.02-.2 1.41-.59l7.78-7.78 2.81-2.81c.8-.78.8-2.07 0-2.86zM5.41 20L4 18.59l7.72-7.72 1.47 1.35L5.41 20z\"/>\n",
              "  </svg>\n",
              "      </button>\n",
              "      \n",
              "  <style>\n",
              "    .colab-df-container {\n",
              "      display:flex;\n",
              "      flex-wrap:wrap;\n",
              "      gap: 12px;\n",
              "    }\n",
              "\n",
              "    .colab-df-convert {\n",
              "      background-color: #E8F0FE;\n",
              "      border: none;\n",
              "      border-radius: 50%;\n",
              "      cursor: pointer;\n",
              "      display: none;\n",
              "      fill: #1967D2;\n",
              "      height: 32px;\n",
              "      padding: 0 0 0 0;\n",
              "      width: 32px;\n",
              "    }\n",
              "\n",
              "    .colab-df-convert:hover {\n",
              "      background-color: #E2EBFA;\n",
              "      box-shadow: 0px 1px 2px rgba(60, 64, 67, 0.3), 0px 1px 3px 1px rgba(60, 64, 67, 0.15);\n",
              "      fill: #174EA6;\n",
              "    }\n",
              "\n",
              "    [theme=dark] .colab-df-convert {\n",
              "      background-color: #3B4455;\n",
              "      fill: #D2E3FC;\n",
              "    }\n",
              "\n",
              "    [theme=dark] .colab-df-convert:hover {\n",
              "      background-color: #434B5C;\n",
              "      box-shadow: 0px 1px 3px 1px rgba(0, 0, 0, 0.15);\n",
              "      filter: drop-shadow(0px 1px 2px rgba(0, 0, 0, 0.3));\n",
              "      fill: #FFFFFF;\n",
              "    }\n",
              "  </style>\n",
              "\n",
              "      <script>\n",
              "        const buttonEl =\n",
              "          document.querySelector('#df-3460dc97-22f9-4e0c-9399-ac1453e2f0c2 button.colab-df-convert');\n",
              "        buttonEl.style.display =\n",
              "          google.colab.kernel.accessAllowed ? 'block' : 'none';\n",
              "\n",
              "        async function convertToInteractive(key) {\n",
              "          const element = document.querySelector('#df-3460dc97-22f9-4e0c-9399-ac1453e2f0c2');\n",
              "          const dataTable =\n",
              "            await google.colab.kernel.invokeFunction('convertToInteractive',\n",
              "                                                     [key], {});\n",
              "          if (!dataTable) return;\n",
              "\n",
              "          const docLinkHtml = 'Like what you see? Visit the ' +\n",
              "            '<a target=\"_blank\" href=https://colab.research.google.com/notebooks/data_table.ipynb>data table notebook</a>'\n",
              "            + ' to learn more about interactive tables.';\n",
              "          element.innerHTML = '';\n",
              "          dataTable['output_type'] = 'display_data';\n",
              "          await google.colab.output.renderOutput(dataTable, element);\n",
              "          const docLink = document.createElement('div');\n",
              "          docLink.innerHTML = docLinkHtml;\n",
              "          element.appendChild(docLink);\n",
              "        }\n",
              "      </script>\n",
              "    </div>\n",
              "  </div>\n",
              "  "
            ],
            "text/plain": [
              "     class cap-shape cap-surface  ... spore-print-color population habitat\n",
              "4787     p         f           f  ...                 h          y       g\n",
              "7045     p         f           y  ...                 w          v       p\n",
              "5678     p         f           s  ...                 h          s       g\n",
              "7746     e         x           s  ...                 w          n       g\n",
              "2056     e         x           f  ...                 n          v       d\n",
              "\n",
              "[5 rows x 23 columns]"
            ]
          },
          "metadata": {},
          "execution_count": 27
        }
      ]
    },
    {
      "cell_type": "code",
      "source": [
        "df['class'].value_counts()"
      ],
      "metadata": {
        "colab": {
          "base_uri": "https://localhost:8080/"
        },
        "id": "En-n7kPWovU4",
        "outputId": "1876ee69-e325-4ab7-d692-6b8f692b96a2"
      },
      "execution_count": null,
      "outputs": [
        {
          "output_type": "execute_result",
          "data": {
            "text/plain": [
              "e    4208\n",
              "p    3916\n",
              "Name: class, dtype: int64"
            ]
          },
          "metadata": {},
          "execution_count": 28
        }
      ]
    },
    {
      "cell_type": "code",
      "source": [
        "Y = pd.Series(np.where(df['class'] == 'e', 0, 1))\n",
        "X = df.drop(['class'], axis = 1)"
      ],
      "metadata": {
        "id": "t3a5gsgXoP-0"
      },
      "execution_count": null,
      "outputs": []
    },
    {
      "cell_type": "code",
      "source": [
        "X.info()"
      ],
      "metadata": {
        "colab": {
          "base_uri": "https://localhost:8080/"
        },
        "id": "ahhLdiuKp3Z4",
        "outputId": "a052e5c5-5fe5-4b1f-f003-52bad95918d5"
      },
      "execution_count": null,
      "outputs": [
        {
          "output_type": "stream",
          "name": "stdout",
          "text": [
            "<class 'pandas.core.frame.DataFrame'>\n",
            "RangeIndex: 8124 entries, 0 to 8123\n",
            "Data columns (total 22 columns):\n",
            " #   Column                    Non-Null Count  Dtype \n",
            "---  ------                    --------------  ----- \n",
            " 0   cap-shape                 8124 non-null   object\n",
            " 1   cap-surface               8124 non-null   object\n",
            " 2   cap-color                 8124 non-null   object\n",
            " 3   bruises                   8124 non-null   object\n",
            " 4   odor                      8124 non-null   object\n",
            " 5   gill-attachment           8124 non-null   object\n",
            " 6   gill-spacing              8124 non-null   object\n",
            " 7   gill-size                 8124 non-null   object\n",
            " 8   gill-color                8124 non-null   object\n",
            " 9   stalk-shape               8124 non-null   object\n",
            " 10  stalk-root                8124 non-null   object\n",
            " 11  stalk-surface-above-ring  8124 non-null   object\n",
            " 12  stalk-surface-below-ring  8124 non-null   object\n",
            " 13  stalk-color-above-ring    8124 non-null   object\n",
            " 14  stalk-color-below-ring    8124 non-null   object\n",
            " 15  veil-type                 8124 non-null   object\n",
            " 16  veil-color                8124 non-null   object\n",
            " 17  ring-number               8124 non-null   object\n",
            " 18  ring-type                 8124 non-null   object\n",
            " 19  spore-print-color         8124 non-null   object\n",
            " 20  population                8124 non-null   object\n",
            " 21  habitat                   8124 non-null   object\n",
            "dtypes: object(22)\n",
            "memory usage: 1.4+ MB\n"
          ]
        }
      ]
    },
    {
      "cell_type": "code",
      "source": [
        "from sklearn.preprocessing import OneHotEncoder\n",
        "\n",
        "ohe = OneHotEncoder()\n",
        "X=ohe.fit_transform(X)"
      ],
      "metadata": {
        "id": "vfmNnfmfshkZ"
      },
      "execution_count": null,
      "outputs": []
    },
    {
      "cell_type": "code",
      "source": [
        "from sklearn.model_selection import train_test_split\n",
        "\n",
        "xtrain, xtest, ytrain, ytest = train_test_split(X, Y)"
      ],
      "metadata": {
        "id": "t6-KLhCuo3G9"
      },
      "execution_count": null,
      "outputs": []
    },
    {
      "cell_type": "code",
      "source": [
        "from sklearn.tree import DecisionTreeClassifier\n",
        "\n",
        "model = DecisionTreeClassifier()\n",
        "model.fit(xtrain, ytrain)"
      ],
      "metadata": {
        "colab": {
          "base_uri": "https://localhost:8080/"
        },
        "id": "DxcedcuspfPI",
        "outputId": "7123ed0a-8560-441a-f96b-c50815140cc1"
      },
      "execution_count": null,
      "outputs": [
        {
          "output_type": "execute_result",
          "data": {
            "text/plain": [
              "DecisionTreeClassifier()"
            ]
          },
          "metadata": {},
          "execution_count": 44
        }
      ]
    },
    {
      "cell_type": "code",
      "source": [
        "model.score(xtest, ytest)"
      ],
      "metadata": {
        "colab": {
          "base_uri": "https://localhost:8080/"
        },
        "id": "MOq4ffteqzPw",
        "outputId": "7241ca33-5e3a-48b1-88d0-42d0b8a80576"
      },
      "execution_count": null,
      "outputs": [
        {
          "output_type": "execute_result",
          "data": {
            "text/plain": [
              "1.0"
            ]
          },
          "metadata": {},
          "execution_count": 46
        }
      ]
    },
    {
      "cell_type": "code",
      "source": [
        "from sklearn.metrics import confusion_matrix\n",
        "\n",
        "confusion_matrix(ytest, model.predict(xtest))"
      ],
      "metadata": {
        "colab": {
          "base_uri": "https://localhost:8080/"
        },
        "id": "d2APaWBWs7Ml",
        "outputId": "35ac31b8-3973-4d81-f494-3f34b2704aad"
      },
      "execution_count": null,
      "outputs": [
        {
          "output_type": "execute_result",
          "data": {
            "text/plain": [
              "array([[1055,    0],\n",
              "       [   0,  976]])"
            ]
          },
          "metadata": {},
          "execution_count": 50
        }
      ]
    },
    {
      "cell_type": "code",
      "source": [
        "from sklearn import tree\n",
        "\n",
        "plt.figure(figsize=(10, 10))\n",
        "tree.plot_tree(model, filled = True)\n",
        "plt.show()"
      ],
      "metadata": {
        "colab": {
          "base_uri": "https://localhost:8080/",
          "height": 575
        },
        "id": "xgsTYSF3td6e",
        "outputId": "9e7f82dd-f30a-4381-d0f6-12d4c48d17f9"
      },
      "execution_count": null,
      "outputs": [
        {
          "output_type": "display_data",
          "data": {
            "image/png": "[encoded data removed]",
            "text/plain": [
              "<Figure size 720x720 with 1 Axes>"
            ]
          },
          "metadata": {
            "needs_background": "light"
          }
        }
      ]
    }
  ]
}