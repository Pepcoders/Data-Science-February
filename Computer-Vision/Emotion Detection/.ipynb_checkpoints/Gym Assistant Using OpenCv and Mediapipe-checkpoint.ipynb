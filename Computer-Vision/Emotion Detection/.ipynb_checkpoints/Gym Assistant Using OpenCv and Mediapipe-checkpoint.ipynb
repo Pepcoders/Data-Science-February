{
 "cells": [
  {
   "cell_type": "code",
   "execution_count": 12,
   "id": "d80f9ba2",
   "metadata": {},
   "outputs": [],
   "source": [
    "import cv2 as cv\n",
    "import mediapipe as mp\n",
    "import numpy as np\n",
    "mp_drawing = mp.solutions.drawing_utils\n",
    "mp_pose = mp.solutions.pose"
   ]
  },
  {
   "cell_type": "code",
   "execution_count": 13,
   "id": "1d6c221e",
   "metadata": {},
   "outputs": [
    {
     "name": "stderr",
     "output_type": "stream",
     "text": [
      "[ WARN:0@779.194] global /io/opencv/modules/videoio/src/cap_v4l.cpp (889) open VIDEOIO(V4L2:/dev/video0): can't open camera by index\n"
     ]
    }
   ],
   "source": [
    "# capturing video \n",
    "cap = cv.VideoCapture(0)\n",
    "while cap.isOpened():\n",
    "    ret, frame = cap.read()\n",
    "    cv.imshow(\"Gym Assistant\", frame)\n",
    "    \n",
    "    if cv.waitKey(10) & 0xFF == ord('q'):\n",
    "        break\n",
    "cap.release()\n",
    "cv.destroyAllWindows()"
   ]
  },
  {
   "cell_type": "code",
   "execution_count": 14,
   "id": "d8fe152a",
   "metadata": {},
   "outputs": [],
   "source": [
    "def calculate_angle(a,b,c):\n",
    "    a = np.array(a) \n",
    "    b = np.array(b) \n",
    "    c = np.array(c) \n",
    "    radians = np.arctan2(c[1]-b[1], c[0]-b[0]) - np.arctan2(a[1]-b[1], a[0]-b[0])\n",
    "    angle = np.abs(radians*180.0/np.pi)\n",
    "    if angle >180.0:\n",
    "        angle = 360-angle \n",
    "    return angle \n",
    "    "
   ]
  },
  {
   "cell_type": "code",
   "execution_count": 16,
   "id": "c8aa6a70",
   "metadata": {},
   "outputs": [
    {
     "name": "stdout",
     "output_type": "stream",
     "text": [
      "1\n",
      "2\n"
     ]
    }
   ],
   "source": [
    "cap = cv.VideoCapture(0)\n",
    "\n",
    "counter = 0;\n",
    "stage = None\n",
    "\n",
    "with mp_pose.Pose( min_detection_confidence =0.5 , min_tracking_confidence = 0.5) as pose:\n",
    "\n",
    "    while cap.isOpened():\n",
    "        ret, frame = cap.read()\n",
    "        \n",
    "        image = cv.cvtColor(frame ,cv.COLOR_BGR2RGB)\n",
    "        \n",
    "        results = pose.process(image)\n",
    "        \n",
    "        image = cv.cvtColor(image ,cv.COLOR_RGB2BGR)\n",
    "        \n",
    "        \n",
    "#         Extrackting Landmarks \n",
    "    \n",
    "        try:\n",
    "            landmarks = results.pose_landmarks.landmark\n",
    "        \n",
    "            shoulder = [landmarks[mp_pose.PoseLandmark.LEFT_SHOULDER.value].x, landmarks[mp_pose.PoseLandmark.LEFT_SHOULDER.value].y]\n",
    "            elbow = [landmarks[mp_pose.PoseLandmark.LEFT_ELBOW.value].x, landmarks[mp_pose.PoseLandmark.LEFT_ELBOW.value].y ]\n",
    "            wrist = [landmarks[mp_pose.PoseLandmark.LEFT_WRIST.value].x, landmarks[mp_pose.PoseLandmark.LEFT_WRIST.value].y ]\n",
    "        \n",
    "        \n",
    "            angle = calculate_angle(shoulder,elbow, wrist)\n",
    "        \n",
    "            cv.putText(image,str(angle), \n",
    "                  tuple(np.multiply(elbow, [640, 480]).astype(int)), cv.FONT_HERSHEY_SIMPLEX, 0.5, (255, 225, 255),2, cv.LINE_AA\n",
    "                  )\n",
    "            \n",
    "            \n",
    "            \n",
    "            if angle >160:\n",
    "                stage = \"down\"\n",
    "            if angle <30 and stage == \"down\":\n",
    "                stage = \"up\"\n",
    "                counter+=1\n",
    "                print(counter)\n",
    "        \n",
    "        except:\n",
    "            pass\n",
    "        \n",
    "        cv.rectangle(image, (0,0), (225,73), (245,117,16), -1)\n",
    "        \n",
    "        \n",
    "        cv.putText(image, 'CNT', (15,12), \n",
    "                    cv.FONT_HERSHEY_SIMPLEX, 0.5, (0,0,0), 1, cv.LINE_AA)\n",
    "        cv.putText(image, str(counter), \n",
    "                    (10,60), \n",
    "                    cv.FONT_HERSHEY_SIMPLEX, 2, (255,255,255), 2, cv.LINE_AA)\n",
    "        \n",
    "        \n",
    "        cv.putText(image, 'STAGE', (65,12), \n",
    "                    cv.FONT_HERSHEY_SIMPLEX, 0.5, (0,0,0), 1, cv.LINE_AA)\n",
    "        cv.putText(image, stage, \n",
    "                    (60,60), \n",
    "                    cv.FONT_HERSHEY_SIMPLEX, 2, (255,255,255), 2, cv.LINE_AA)\n",
    "        \n",
    "        \n",
    "        mp_drawing.draw_landmarks(image, results.pose_landmarks, mp_pose.POSE_CONNECTIONS,\n",
    "                                  mp_drawing.DrawingSpec(color=(255, 255, 255), thickness=2, circle_radius=5),\n",
    "                                  mp_drawing.DrawingSpec(color=(255, 0,0), thickness=3, circle_radius=5))\n",
    "        \n",
    "        \n",
    "        cv.imshow(\"Gym Assistant\", image)\n",
    "    \n",
    "        if cv.waitKey(10) & 0xFF == ord('q'):\n",
    "            break\n",
    "cap.release()\n",
    "cv.destroyAllWindows()"
   ]
  },
  {
   "cell_type": "code",
   "execution_count": null,
   "id": "b487b373",
   "metadata": {},
   "outputs": [],
   "source": []
  }
 ],
 "metadata": {
  "kernelspec": {
   "display_name": "Python 3 (ipykernel)",
   "language": "python",
   "name": "python3"
  },
  "language_info": {
   "codemirror_mode": {
    "name": "ipython",
    "version": 3
   },
   "file_extension": ".py",
   "mimetype": "text/x-python",
   "name": "python",
   "nbconvert_exporter": "python",
   "pygments_lexer": "ipython3",
   "version": "3.9.2"
  }
 },
 "nbformat": 4,
 "nbformat_minor": 5
}
