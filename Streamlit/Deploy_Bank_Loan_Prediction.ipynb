{
  "nbformat": 4,
  "nbformat_minor": 0,
  "metadata": {
    "colab": {
      "name": "Deploy Bank Loan Prediction.ipynb",
      "provenance": [],
      "collapsed_sections": [],
      "toc_visible": true,
      "include_colab_link": true
    },
    "kernelspec": {
      "name": "python3",
      "display_name": "Python 3"
    },
    "language_info": {
      "name": "python"
    }
  },
  "cells": [
    {
      "cell_type": "markdown",
      "metadata": {
        "id": "view-in-github",
        "colab_type": "text"
      },
      "source": [
        "<a href=\"https://colab.research.google.com/github/Pepcoders/Data-Science-February/blob/main/Streamlit/Deploy_Bank_Loan_Prediction.ipynb\" target=\"_parent\"><img src=\"https://colab.research.google.com/assets/colab-badge.svg\" alt=\"Open In Colab\"/></a>"
      ]
    },
    {
      "cell_type": "markdown",
      "source": [
        "#**Bank Loan Prediction Notebook**"
      ],
      "metadata": {
        "id": "A52qGh_BVjN8"
      }
    },
    {
      "cell_type": "markdown",
      "source": [
        "**read the dataset**"
      ],
      "metadata": {
        "id": "wE_4oRhvVuvd"
      }
    },
    {
      "cell_type": "markdown",
      "source": [
        "**The main objective for this dataset**\n",
        "\n",
        "Using machine learning techniques to predict loan payments.\n",
        "\n",
        "**target value: Loan_Status**"
      ],
      "metadata": {
        "id": "gd8tNBsSV0pX"
      }
    },
    {
      "cell_type": "markdown",
      "source": [
        "##Import Important Libraries 📕📗📘"
      ],
      "metadata": {
        "id": "Pt9aNWucV3IT"
      }
    },
    {
      "cell_type": "code",
      "execution_count": null,
      "metadata": {
        "id": "94Yv-hDkVhzz"
      },
      "outputs": [],
      "source": [
        "# importing numpy and pandas \n",
        "import pandas as pd\n",
        "import numpy as np\n",
        "\n",
        "#ploting libraries\n",
        "import matplotlib.pyplot as plt \n",
        "import seaborn as sns\n",
        "\n",
        "#relevant ML libraries\n",
        "from sklearn.preprocessing import LabelEncoder\n",
        "from sklearn.model_selection import train_test_split\n",
        "from sklearn.metrics import confusion_matrix\n",
        "from sklearn.metrics import classification_report\n",
        "from sklearn.metrics import accuracy_score\n",
        "\n",
        "#ML models\n",
        "from xgboost import XGBClassifier\n",
        "from sklearn.tree import DecisionTreeClassifier\n",
        "from sklearn.ensemble import RandomForestClassifier\n",
        "from sklearn.linear_model import LogisticRegression"
      ]
    },
    {
      "cell_type": "code",
      "source": [
        "train = pd.read_csv(\"https://raw.githubusercontent.com/Ramanand-Yadav/EligibilityForBankLoanMLProject/main/trainDataset.csv\")\n",
        "train.sample(7)"
      ],
      "metadata": {
        "colab": {
          "base_uri": "https://localhost:8080/",
          "height": 350
        },
        "id": "--W6ip5oV9Fc",
        "outputId": "7cbf24e3-3247-4b88-a7ec-23a14451763e"
      },
      "execution_count": null,
      "outputs": [
        {
          "output_type": "execute_result",
          "data": {
            "text/plain": [
              "      Loan_ID Gender Married Dependents     Education Self_Employed  \\\n",
              "593  LP002936   Male     Yes          0      Graduate            No   \n",
              "444  LP002424   Male     Yes          0      Graduate            No   \n",
              "165  LP001574   Male     Yes          0      Graduate            No   \n",
              "527  LP002706   Male     Yes          1  Not Graduate            No   \n",
              "351  LP002140   Male      No          0      Graduate            No   \n",
              "163  LP001570   Male     Yes          2      Graduate            No   \n",
              "260  LP001865   Male     Yes          1      Graduate            No   \n",
              "\n",
              "     ApplicantIncome  CoapplicantIncome  LoanAmount  Loan_Amount_Term  \\\n",
              "593             3859             3300.0       142.0             180.0   \n",
              "444             7333             8333.0       175.0             300.0   \n",
              "165             3707             3166.0       182.0               NaN   \n",
              "527             5285             1430.0       161.0             360.0   \n",
              "351             8750             4167.0       308.0             360.0   \n",
              "163             4167             1447.0       158.0             360.0   \n",
              "260             6083             4250.0       330.0             360.0   \n",
              "\n",
              "     Credit_History Property_Area Loan_Status  \n",
              "593             1.0         Rural           Y  \n",
              "444             NaN         Rural           Y  \n",
              "165             1.0         Rural           Y  \n",
              "527             0.0     Semiurban           Y  \n",
              "351             1.0         Rural           N  \n",
              "163             1.0         Rural           Y  \n",
              "260             NaN         Urban           Y  "
            ],
            "text/html": [
              "\n",
              "  <div id=\"df-dccf5d51-a27b-4c37-89e5-337ad41be8e3\">\n",
              "    <div class=\"colab-df-container\">\n",
              "      <div>\n",
              "<style scoped>\n",
              "    .dataframe tbody tr th:only-of-type {\n",
              "        vertical-align: middle;\n",
              "    }\n",
              "\n",
              "    .dataframe tbody tr th {\n",
              "        vertical-align: top;\n",
              "    }\n",
              "\n",
              "    .dataframe thead th {\n",
              "        text-align: right;\n",
              "    }\n",
              "</style>\n",
              "<table border=\"1\" class=\"dataframe\">\n",
              "  <thead>\n",
              "    <tr style=\"text-align: right;\">\n",
              "      <th></th>\n",
              "      <th>Loan_ID</th>\n",
              "      <th>Gender</th>\n",
              "      <th>Married</th>\n",
              "      <th>Dependents</th>\n",
              "      <th>Education</th>\n",
              "      <th>Self_Employed</th>\n",
              "      <th>ApplicantIncome</th>\n",
              "      <th>CoapplicantIncome</th>\n",
              "      <th>LoanAmount</th>\n",
              "      <th>Loan_Amount_Term</th>\n",
              "      <th>Credit_History</th>\n",
              "      <th>Property_Area</th>\n",
              "      <th>Loan_Status</th>\n",
              "    </tr>\n",
              "  </thead>\n",
              "  <tbody>\n",
              "    <tr>\n",
              "      <th>593</th>\n",
              "      <td>LP002936</td>\n",
              "      <td>Male</td>\n",
              "      <td>Yes</td>\n",
              "      <td>0</td>\n",
              "      <td>Graduate</td>\n",
              "      <td>No</td>\n",
              "      <td>3859</td>\n",
              "      <td>3300.0</td>\n",
              "      <td>142.0</td>\n",
              "      <td>180.0</td>\n",
              "      <td>1.0</td>\n",
              "      <td>Rural</td>\n",
              "      <td>Y</td>\n",
              "    </tr>\n",
              "    <tr>\n",
              "      <th>444</th>\n",
              "      <td>LP002424</td>\n",
              "      <td>Male</td>\n",
              "      <td>Yes</td>\n",
              "      <td>0</td>\n",
              "      <td>Graduate</td>\n",
              "      <td>No</td>\n",
              "      <td>7333</td>\n",
              "      <td>8333.0</td>\n",
              "      <td>175.0</td>\n",
              "      <td>300.0</td>\n",
              "      <td>NaN</td>\n",
              "      <td>Rural</td>\n",
              "      <td>Y</td>\n",
              "    </tr>\n",
              "    <tr>\n",
              "      <th>165</th>\n",
              "      <td>LP001574</td>\n",
              "      <td>Male</td>\n",
              "      <td>Yes</td>\n",
              "      <td>0</td>\n",
              "      <td>Graduate</td>\n",
              "      <td>No</td>\n",
              "      <td>3707</td>\n",
              "      <td>3166.0</td>\n",
              "      <td>182.0</td>\n",
              "      <td>NaN</td>\n",
              "      <td>1.0</td>\n",
              "      <td>Rural</td>\n",
              "      <td>Y</td>\n",
              "    </tr>\n",
              "    <tr>\n",
              "      <th>527</th>\n",
              "      <td>LP002706</td>\n",
              "      <td>Male</td>\n",
              "      <td>Yes</td>\n",
              "      <td>1</td>\n",
              "      <td>Not Graduate</td>\n",
              "      <td>No</td>\n",
              "      <td>5285</td>\n",
              "      <td>1430.0</td>\n",
              "      <td>161.0</td>\n",
              "      <td>360.0</td>\n",
              "      <td>0.0</td>\n",
              "      <td>Semiurban</td>\n",
              "      <td>Y</td>\n",
              "    </tr>\n",
              "    <tr>\n",
              "      <th>351</th>\n",
              "      <td>LP002140</td>\n",
              "      <td>Male</td>\n",
              "      <td>No</td>\n",
              "      <td>0</td>\n",
              "      <td>Graduate</td>\n",
              "      <td>No</td>\n",
              "      <td>8750</td>\n",
              "      <td>4167.0</td>\n",
              "      <td>308.0</td>\n",
              "      <td>360.0</td>\n",
              "      <td>1.0</td>\n",
              "      <td>Rural</td>\n",
              "      <td>N</td>\n",
              "    </tr>\n",
              "    <tr>\n",
              "      <th>163</th>\n",
              "      <td>LP001570</td>\n",
              "      <td>Male</td>\n",
              "      <td>Yes</td>\n",
              "      <td>2</td>\n",
              "      <td>Graduate</td>\n",
              "      <td>No</td>\n",
              "      <td>4167</td>\n",
              "      <td>1447.0</td>\n",
              "      <td>158.0</td>\n",
              "      <td>360.0</td>\n",
              "      <td>1.0</td>\n",
              "      <td>Rural</td>\n",
              "      <td>Y</td>\n",
              "    </tr>\n",
              "    <tr>\n",
              "      <th>260</th>\n",
              "      <td>LP001865</td>\n",
              "      <td>Male</td>\n",
              "      <td>Yes</td>\n",
              "      <td>1</td>\n",
              "      <td>Graduate</td>\n",
              "      <td>No</td>\n",
              "      <td>6083</td>\n",
              "      <td>4250.0</td>\n",
              "      <td>330.0</td>\n",
              "      <td>360.0</td>\n",
              "      <td>NaN</td>\n",
              "      <td>Urban</td>\n",
              "      <td>Y</td>\n",
              "    </tr>\n",
              "  </tbody>\n",
              "</table>\n",
              "</div>\n",
              "      <button class=\"colab-df-convert\" onclick=\"convertToInteractive('df-dccf5d51-a27b-4c37-89e5-337ad41be8e3')\"\n",
              "              title=\"Convert this dataframe to an interactive table.\"\n",
              "              style=\"display:none;\">\n",
              "        \n",
              "  <svg xmlns=\"http://www.w3.org/2000/svg\" height=\"24px\"viewBox=\"0 0 24 24\"\n",
              "       width=\"24px\">\n",
              "    <path d=\"M0 0h24v24H0V0z\" fill=\"none\"/>\n",
              "    <path d=\"M18.56 5.44l.94 2.06.94-2.06 2.06-.94-2.06-.94-.94-2.06-.94 2.06-2.06.94zm-11 1L8.5 8.5l.94-2.06 2.06-.94-2.06-.94L8.5 2.5l-.94 2.06-2.06.94zm10 10l.94 2.06.94-2.06 2.06-.94-2.06-.94-.94-2.06-.94 2.06-2.06.94z\"/><path d=\"M17.41 7.96l-1.37-1.37c-.4-.4-.92-.59-1.43-.59-.52 0-1.04.2-1.43.59L10.3 9.45l-7.72 7.72c-.78.78-.78 2.05 0 2.83L4 21.41c.39.39.9.59 1.41.59.51 0 1.02-.2 1.41-.59l7.78-7.78 2.81-2.81c.8-.78.8-2.07 0-2.86zM5.41 20L4 18.59l7.72-7.72 1.47 1.35L5.41 20z\"/>\n",
              "  </svg>\n",
              "      </button>\n",
              "      \n",
              "  <style>\n",
              "    .colab-df-container {\n",
              "      display:flex;\n",
              "      flex-wrap:wrap;\n",
              "      gap: 12px;\n",
              "    }\n",
              "\n",
              "    .colab-df-convert {\n",
              "      background-color: #E8F0FE;\n",
              "      border: none;\n",
              "      border-radius: 50%;\n",
              "      cursor: pointer;\n",
              "      display: none;\n",
              "      fill: #1967D2;\n",
              "      height: 32px;\n",
              "      padding: 0 0 0 0;\n",
              "      width: 32px;\n",
              "    }\n",
              "\n",
              "    .colab-df-convert:hover {\n",
              "      background-color: #E2EBFA;\n",
              "      box-shadow: 0px 1px 2px rgba(60, 64, 67, 0.3), 0px 1px 3px 1px rgba(60, 64, 67, 0.15);\n",
              "      fill: #174EA6;\n",
              "    }\n",
              "\n",
              "    [theme=dark] .colab-df-convert {\n",
              "      background-color: #3B4455;\n",
              "      fill: #D2E3FC;\n",
              "    }\n",
              "\n",
              "    [theme=dark] .colab-df-convert:hover {\n",
              "      background-color: #434B5C;\n",
              "      box-shadow: 0px 1px 3px 1px rgba(0, 0, 0, 0.15);\n",
              "      filter: drop-shadow(0px 1px 2px rgba(0, 0, 0, 0.3));\n",
              "      fill: #FFFFFF;\n",
              "    }\n",
              "  </style>\n",
              "\n",
              "      <script>\n",
              "        const buttonEl =\n",
              "          document.querySelector('#df-dccf5d51-a27b-4c37-89e5-337ad41be8e3 button.colab-df-convert');\n",
              "        buttonEl.style.display =\n",
              "          google.colab.kernel.accessAllowed ? 'block' : 'none';\n",
              "\n",
              "        async function convertToInteractive(key) {\n",
              "          const element = document.querySelector('#df-dccf5d51-a27b-4c37-89e5-337ad41be8e3');\n",
              "          const dataTable =\n",
              "            await google.colab.kernel.invokeFunction('convertToInteractive',\n",
              "                                                     [key], {});\n",
              "          if (!dataTable) return;\n",
              "\n",
              "          const docLinkHtml = 'Like what you see? Visit the ' +\n",
              "            '<a target=\"_blank\" href=https://colab.research.google.com/notebooks/data_table.ipynb>data table notebook</a>'\n",
              "            + ' to learn more about interactive tables.';\n",
              "          element.innerHTML = '';\n",
              "          dataTable['output_type'] = 'display_data';\n",
              "          await google.colab.output.renderOutput(dataTable, element);\n",
              "          const docLink = document.createElement('div');\n",
              "          docLink.innerHTML = docLinkHtml;\n",
              "          element.appendChild(docLink);\n",
              "        }\n",
              "      </script>\n",
              "    </div>\n",
              "  </div>\n",
              "  "
            ]
          },
          "metadata": {},
          "execution_count": 5
        }
      ]
    },
    {
      "cell_type": "markdown",
      "source": [
        "**This dataset is named Loan Prediction Dataset data set. The dataset** \n",
        "\n",
        "contains a set of 614 records under 13 attributes:\n",
        "\n",
        "**Data Description**\n",
        "\n",
        "![first.png](data:image/png;base64,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)\n"
      ],
      "metadata": {
        "id": "Z3lMTExgVwmM"
      }
    },
    {
      "cell_type": "code",
      "source": [
        "train['Credit_History'].unique()"
      ],
      "metadata": {
        "id": "t0u3ovjPbsmO",
        "outputId": "7eae261f-3f68-4800-dbc0-2e84f8a6a127",
        "colab": {
          "base_uri": "https://localhost:8080/"
        }
      },
      "execution_count": null,
      "outputs": [
        {
          "output_type": "execute_result",
          "data": {
            "text/plain": [
              "array([ 1.,  0., nan])"
            ]
          },
          "metadata": {},
          "execution_count": 6
        }
      ]
    },
    {
      "cell_type": "code",
      "execution_count": null,
      "metadata": {
        "colab": {
          "base_uri": "https://localhost:8080/"
        },
        "id": "BlBhiKX4wEoR",
        "outputId": "f3a67c24-c593-4213-cddc-ced018e8499c"
      },
      "outputs": [
        {
          "output_type": "stream",
          "name": "stdout",
          "text": [
            "Training Dataset :  (614, 13)\n"
          ]
        }
      ],
      "source": [
        "print(\"Training Dataset : \", train.shape)"
      ]
    },
    {
      "cell_type": "markdown",
      "metadata": {
        "id": "iJBRMulOw7zX"
      },
      "source": [
        "let's focus on preprocessing "
      ]
    },
    {
      "cell_type": "code",
      "execution_count": null,
      "metadata": {
        "id": "xjS45_SqROmh",
        "outputId": "8a43b369-0fe5-468f-cca7-f39842256518",
        "colab": {
          "base_uri": "https://localhost:8080/"
        }
      },
      "outputs": [
        {
          "output_type": "stream",
          "name": "stdout",
          "text": [
            "<class 'pandas.core.frame.DataFrame'>\n",
            "RangeIndex: 614 entries, 0 to 613\n",
            "Data columns (total 13 columns):\n",
            " #   Column             Non-Null Count  Dtype  \n",
            "---  ------             --------------  -----  \n",
            " 0   Loan_ID            614 non-null    object \n",
            " 1   Gender             601 non-null    object \n",
            " 2   Married            611 non-null    object \n",
            " 3   Dependents         599 non-null    object \n",
            " 4   Education          614 non-null    object \n",
            " 5   Self_Employed      582 non-null    object \n",
            " 6   ApplicantIncome    614 non-null    int64  \n",
            " 7   CoapplicantIncome  614 non-null    float64\n",
            " 8   LoanAmount         592 non-null    float64\n",
            " 9   Loan_Amount_Term   600 non-null    float64\n",
            " 10  Credit_History     564 non-null    float64\n",
            " 11  Property_Area      614 non-null    object \n",
            " 12  Loan_Status        614 non-null    object \n",
            "dtypes: float64(4), int64(1), object(8)\n",
            "memory usage: 62.5+ KB\n"
          ]
        }
      ],
      "source": [
        "train.info()"
      ]
    },
    {
      "cell_type": "code",
      "execution_count": null,
      "metadata": {
        "colab": {
          "base_uri": "https://localhost:8080/",
          "height": 300
        },
        "id": "ie5xkXy6ROii",
        "outputId": "95777bad-c802-4a87-b6fb-a78c833b4afe"
      },
      "outputs": [
        {
          "output_type": "execute_result",
          "data": {
            "text/plain": [
              "       ApplicantIncome  CoapplicantIncome  LoanAmount  Loan_Amount_Term  \\\n",
              "count       614.000000         614.000000  592.000000         600.00000   \n",
              "mean       5403.459283        1621.245798  146.412162         342.00000   \n",
              "std        6109.041673        2926.248369   85.587325          65.12041   \n",
              "min         150.000000           0.000000    9.000000          12.00000   \n",
              "25%        2877.500000           0.000000  100.000000         360.00000   \n",
              "50%        3812.500000        1188.500000  128.000000         360.00000   \n",
              "75%        5795.000000        2297.250000  168.000000         360.00000   \n",
              "max       81000.000000       41667.000000  700.000000         480.00000   \n",
              "\n",
              "       Credit_History  \n",
              "count      564.000000  \n",
              "mean         0.842199  \n",
              "std          0.364878  \n",
              "min          0.000000  \n",
              "25%          1.000000  \n",
              "50%          1.000000  \n",
              "75%          1.000000  \n",
              "max          1.000000  "
            ],
            "text/html": [
              "\n",
              "  <div id=\"df-20d30c65-92ad-4e3d-b677-24d7cd61fe24\">\n",
              "    <div class=\"colab-df-container\">\n",
              "      <div>\n",
              "<style scoped>\n",
              "    .dataframe tbody tr th:only-of-type {\n",
              "        vertical-align: middle;\n",
              "    }\n",
              "\n",
              "    .dataframe tbody tr th {\n",
              "        vertical-align: top;\n",
              "    }\n",
              "\n",
              "    .dataframe thead th {\n",
              "        text-align: right;\n",
              "    }\n",
              "</style>\n",
              "<table border=\"1\" class=\"dataframe\">\n",
              "  <thead>\n",
              "    <tr style=\"text-align: right;\">\n",
              "      <th></th>\n",
              "      <th>ApplicantIncome</th>\n",
              "      <th>CoapplicantIncome</th>\n",
              "      <th>LoanAmount</th>\n",
              "      <th>Loan_Amount_Term</th>\n",
              "      <th>Credit_History</th>\n",
              "    </tr>\n",
              "  </thead>\n",
              "  <tbody>\n",
              "    <tr>\n",
              "      <th>count</th>\n",
              "      <td>614.000000</td>\n",
              "      <td>614.000000</td>\n",
              "      <td>592.000000</td>\n",
              "      <td>600.00000</td>\n",
              "      <td>564.000000</td>\n",
              "    </tr>\n",
              "    <tr>\n",
              "      <th>mean</th>\n",
              "      <td>5403.459283</td>\n",
              "      <td>1621.245798</td>\n",
              "      <td>146.412162</td>\n",
              "      <td>342.00000</td>\n",
              "      <td>0.842199</td>\n",
              "    </tr>\n",
              "    <tr>\n",
              "      <th>std</th>\n",
              "      <td>6109.041673</td>\n",
              "      <td>2926.248369</td>\n",
              "      <td>85.587325</td>\n",
              "      <td>65.12041</td>\n",
              "      <td>0.364878</td>\n",
              "    </tr>\n",
              "    <tr>\n",
              "      <th>min</th>\n",
              "      <td>150.000000</td>\n",
              "      <td>0.000000</td>\n",
              "      <td>9.000000</td>\n",
              "      <td>12.00000</td>\n",
              "      <td>0.000000</td>\n",
              "    </tr>\n",
              "    <tr>\n",
              "      <th>25%</th>\n",
              "      <td>2877.500000</td>\n",
              "      <td>0.000000</td>\n",
              "      <td>100.000000</td>\n",
              "      <td>360.00000</td>\n",
              "      <td>1.000000</td>\n",
              "    </tr>\n",
              "    <tr>\n",
              "      <th>50%</th>\n",
              "      <td>3812.500000</td>\n",
              "      <td>1188.500000</td>\n",
              "      <td>128.000000</td>\n",
              "      <td>360.00000</td>\n",
              "      <td>1.000000</td>\n",
              "    </tr>\n",
              "    <tr>\n",
              "      <th>75%</th>\n",
              "      <td>5795.000000</td>\n",
              "      <td>2297.250000</td>\n",
              "      <td>168.000000</td>\n",
              "      <td>360.00000</td>\n",
              "      <td>1.000000</td>\n",
              "    </tr>\n",
              "    <tr>\n",
              "      <th>max</th>\n",
              "      <td>81000.000000</td>\n",
              "      <td>41667.000000</td>\n",
              "      <td>700.000000</td>\n",
              "      <td>480.00000</td>\n",
              "      <td>1.000000</td>\n",
              "    </tr>\n",
              "  </tbody>\n",
              "</table>\n",
              "</div>\n",
              "      <button class=\"colab-df-convert\" onclick=\"convertToInteractive('df-20d30c65-92ad-4e3d-b677-24d7cd61fe24')\"\n",
              "              title=\"Convert this dataframe to an interactive table.\"\n",
              "              style=\"display:none;\">\n",
              "        \n",
              "  <svg xmlns=\"http://www.w3.org/2000/svg\" height=\"24px\"viewBox=\"0 0 24 24\"\n",
              "       width=\"24px\">\n",
              "    <path d=\"M0 0h24v24H0V0z\" fill=\"none\"/>\n",
              "    <path d=\"M18.56 5.44l.94 2.06.94-2.06 2.06-.94-2.06-.94-.94-2.06-.94 2.06-2.06.94zm-11 1L8.5 8.5l.94-2.06 2.06-.94-2.06-.94L8.5 2.5l-.94 2.06-2.06.94zm10 10l.94 2.06.94-2.06 2.06-.94-2.06-.94-.94-2.06-.94 2.06-2.06.94z\"/><path d=\"M17.41 7.96l-1.37-1.37c-.4-.4-.92-.59-1.43-.59-.52 0-1.04.2-1.43.59L10.3 9.45l-7.72 7.72c-.78.78-.78 2.05 0 2.83L4 21.41c.39.39.9.59 1.41.59.51 0 1.02-.2 1.41-.59l7.78-7.78 2.81-2.81c.8-.78.8-2.07 0-2.86zM5.41 20L4 18.59l7.72-7.72 1.47 1.35L5.41 20z\"/>\n",
              "  </svg>\n",
              "      </button>\n",
              "      \n",
              "  <style>\n",
              "    .colab-df-container {\n",
              "      display:flex;\n",
              "      flex-wrap:wrap;\n",
              "      gap: 12px;\n",
              "    }\n",
              "\n",
              "    .colab-df-convert {\n",
              "      background-color: #E8F0FE;\n",
              "      border: none;\n",
              "      border-radius: 50%;\n",
              "      cursor: pointer;\n",
              "      display: none;\n",
              "      fill: #1967D2;\n",
              "      height: 32px;\n",
              "      padding: 0 0 0 0;\n",
              "      width: 32px;\n",
              "    }\n",
              "\n",
              "    .colab-df-convert:hover {\n",
              "      background-color: #E2EBFA;\n",
              "      box-shadow: 0px 1px 2px rgba(60, 64, 67, 0.3), 0px 1px 3px 1px rgba(60, 64, 67, 0.15);\n",
              "      fill: #174EA6;\n",
              "    }\n",
              "\n",
              "    [theme=dark] .colab-df-convert {\n",
              "      background-color: #3B4455;\n",
              "      fill: #D2E3FC;\n",
              "    }\n",
              "\n",
              "    [theme=dark] .colab-df-convert:hover {\n",
              "      background-color: #434B5C;\n",
              "      box-shadow: 0px 1px 3px 1px rgba(0, 0, 0, 0.15);\n",
              "      filter: drop-shadow(0px 1px 2px rgba(0, 0, 0, 0.3));\n",
              "      fill: #FFFFFF;\n",
              "    }\n",
              "  </style>\n",
              "\n",
              "      <script>\n",
              "        const buttonEl =\n",
              "          document.querySelector('#df-20d30c65-92ad-4e3d-b677-24d7cd61fe24 button.colab-df-convert');\n",
              "        buttonEl.style.display =\n",
              "          google.colab.kernel.accessAllowed ? 'block' : 'none';\n",
              "\n",
              "        async function convertToInteractive(key) {\n",
              "          const element = document.querySelector('#df-20d30c65-92ad-4e3d-b677-24d7cd61fe24');\n",
              "          const dataTable =\n",
              "            await google.colab.kernel.invokeFunction('convertToInteractive',\n",
              "                                                     [key], {});\n",
              "          if (!dataTable) return;\n",
              "\n",
              "          const docLinkHtml = 'Like what you see? Visit the ' +\n",
              "            '<a target=\"_blank\" href=https://colab.research.google.com/notebooks/data_table.ipynb>data table notebook</a>'\n",
              "            + ' to learn more about interactive tables.';\n",
              "          element.innerHTML = '';\n",
              "          dataTable['output_type'] = 'display_data';\n",
              "          await google.colab.output.renderOutput(dataTable, element);\n",
              "          const docLink = document.createElement('div');\n",
              "          docLink.innerHTML = docLinkHtml;\n",
              "          element.appendChild(docLink);\n",
              "        }\n",
              "      </script>\n",
              "    </div>\n",
              "  </div>\n",
              "  "
            ]
          },
          "metadata": {},
          "execution_count": 9
        }
      ],
      "source": [
        "train.describe()"
      ]
    },
    {
      "cell_type": "markdown",
      "metadata": {
        "id": "r0lvmN6Hx6kQ"
      },
      "source": [
        "##Missing values 🚫\n",
        "As you can see we have some missing data, let's have a look how many we have for each column:"
      ]
    },
    {
      "cell_type": "code",
      "execution_count": null,
      "metadata": {
        "id": "iUSdd3vHROX_",
        "outputId": "4e4d605f-64fd-45fd-fd35-630edffdd949",
        "colab": {
          "base_uri": "https://localhost:8080/"
        }
      },
      "outputs": [
        {
          "output_type": "execute_result",
          "data": {
            "text/plain": [
              "Loan_ID               0\n",
              "Gender               13\n",
              "Married               3\n",
              "Dependents           15\n",
              "Education             0\n",
              "Self_Employed        32\n",
              "ApplicantIncome       0\n",
              "CoapplicantIncome     0\n",
              "LoanAmount           22\n",
              "Loan_Amount_Term     14\n",
              "Credit_History       50\n",
              "Property_Area         0\n",
              "Loan_Status           0\n",
              "dtype: int64"
            ]
          },
          "metadata": {},
          "execution_count": 10
        }
      ],
      "source": [
        "train.isnull().sum()"
      ]
    },
    {
      "cell_type": "markdown",
      "metadata": {
        "id": "i0fd-5bvycb8"
      },
      "source": [
        "columns with null values :  **['Gender', 'Married', 'Dependents', 'Self_Employed', 'LoanAmount', 'Loan_Amount_Term', 'Credit_History']**\n",
        "\n"
      ]
    },
    {
      "cell_type": "markdown",
      "metadata": {
        "id": "8i1GX_Z-zl47"
      },
      "source": [
        "*Gender*"
      ]
    },
    {
      "cell_type": "code",
      "execution_count": null,
      "metadata": {
        "colab": {
          "base_uri": "https://localhost:8080/"
        },
        "id": "RwQrd9JYzwAh",
        "outputId": "69fb6bc5-04bb-4289-ab0e-0ab93f84a422"
      },
      "outputs": [
        {
          "output_type": "execute_result",
          "data": {
            "text/plain": [
              "13"
            ]
          },
          "metadata": {},
          "execution_count": 11
        }
      ],
      "source": [
        "train['Gender'].isnull().sum()"
      ]
    },
    {
      "cell_type": "code",
      "execution_count": null,
      "metadata": {
        "id": "zYayexG5ROLp",
        "outputId": "c4e70700-289e-470b-98fd-0d87d03979fe",
        "colab": {
          "base_uri": "https://localhost:8080/"
        }
      },
      "outputs": [
        {
          "output_type": "execute_result",
          "data": {
            "text/plain": [
              "Male      489\n",
              "Female    112\n",
              "Name: Gender, dtype: int64"
            ]
          },
          "metadata": {},
          "execution_count": 12
        }
      ],
      "source": [
        "train['Gender'].value_counts()"
      ]
    },
    {
      "cell_type": "code",
      "execution_count": null,
      "metadata": {
        "id": "T6oMgskjz72Q",
        "outputId": "70837ad8-c9b5-427a-b7b2-7c6823334241",
        "colab": {
          "base_uri": "https://localhost:8080/",
          "height": 389
        }
      },
      "outputs": [
        {
          "output_type": "stream",
          "name": "stderr",
          "text": [
            "/usr/local/lib/python3.7/dist-packages/seaborn/_decorators.py:43: FutureWarning: Pass the following variable as a keyword arg: x. From version 0.12, the only valid positional argument will be `data`, and passing other arguments without an explicit keyword will result in an error or misinterpretation.\n",
            "  FutureWarning\n"
          ]
        },
        {
          "output_type": "display_data",
          "data": {
            "text/plain": [
              "<Figure size 720x360 with 1 Axes>"
            ],
            "image/png": "[encoded data removed]"
          },
          "metadata": {}
        }
      ],
      "source": [
        "sns.set_style('darkgrid')\n",
        "plt.figure(figsize = (10, 5))\n",
        "sns.countplot(train['Gender'])\n",
        "plt.show()"
      ]
    },
    {
      "cell_type": "markdown",
      "metadata": {
        "id": "PE8sd1891EZQ"
      },
      "source": [
        "let's fill the missing value with the male value "
      ]
    },
    {
      "cell_type": "code",
      "execution_count": null,
      "metadata": {
        "id": "oBGFMvM712Fb"
      },
      "outputs": [],
      "source": [
        "df = train.copy()"
      ]
    },
    {
      "cell_type": "code",
      "execution_count": null,
      "metadata": {
        "colab": {
          "base_uri": "https://localhost:8080/",
          "height": 35
        },
        "id": "KckrayD817lD",
        "outputId": "a052df05-e2bb-4129-fc52-20e755c1484c"
      },
      "outputs": [
        {
          "output_type": "execute_result",
          "data": {
            "text/plain": [
              "'Male'"
            ],
            "application/vnd.google.colaboratory.intrinsic+json": {
              "type": "string"
            }
          },
          "metadata": {},
          "execution_count": 15
        }
      ],
      "source": [
        "df['Gender'].dropna().mode().values[0]"
      ]
    },
    {
      "cell_type": "code",
      "execution_count": null,
      "metadata": {
        "id": "OBwPV6Ix2lkY"
      },
      "outputs": [],
      "source": [
        "train['Gender'] = train['Gender'].fillna(train['Gender'].dropna().mode().values[0])"
      ]
    },
    {
      "cell_type": "code",
      "execution_count": null,
      "metadata": {
        "colab": {
          "base_uri": "https://localhost:8080/"
        },
        "id": "10hoaSAi1CYn",
        "outputId": "e5b8c29d-f6a6-4939-fe5d-f0f3833b25ee"
      },
      "outputs": [
        {
          "output_type": "execute_result",
          "data": {
            "text/plain": [
              "Male      502\n",
              "Female    112\n",
              "Name: Gender, dtype: int64"
            ]
          },
          "metadata": {},
          "execution_count": 17
        }
      ],
      "source": [
        "train['Gender'].value_counts()"
      ]
    },
    {
      "cell_type": "markdown",
      "metadata": {
        "id": "JgrkGXOA20Qs"
      },
      "source": [
        "Married"
      ]
    },
    {
      "cell_type": "code",
      "execution_count": null,
      "metadata": {
        "colab": {
          "base_uri": "https://localhost:8080/"
        },
        "id": "Knm0Oa_a37Zn",
        "outputId": "0707a271-19bf-4f0e-ce66-609723b914c5"
      },
      "outputs": [
        {
          "output_type": "execute_result",
          "data": {
            "text/plain": [
              "3"
            ]
          },
          "metadata": {},
          "execution_count": 18
        }
      ],
      "source": [
        "train['Married'].isnull().sum()"
      ]
    },
    {
      "cell_type": "code",
      "execution_count": null,
      "metadata": {
        "colab": {
          "base_uri": "https://localhost:8080/"
        },
        "id": "ZC9ljnYEzlAA",
        "outputId": "2ba35e8c-c237-4213-bc56-6958b5fdfff1"
      },
      "outputs": [
        {
          "output_type": "execute_result",
          "data": {
            "text/plain": [
              "Yes    398\n",
              "No     213\n",
              "Name: Married, dtype: int64"
            ]
          },
          "metadata": {},
          "execution_count": 19
        }
      ],
      "source": [
        "train['Married'].value_counts()"
      ]
    },
    {
      "cell_type": "code",
      "execution_count": null,
      "metadata": {
        "id": "sTLqvBIn4AtC",
        "outputId": "a75592fe-7afb-4b03-e7ee-5cf5b55910bf",
        "colab": {
          "base_uri": "https://localhost:8080/",
          "height": 389
        }
      },
      "outputs": [
        {
          "output_type": "stream",
          "name": "stderr",
          "text": [
            "/usr/local/lib/python3.7/dist-packages/seaborn/_decorators.py:43: FutureWarning: Pass the following variable as a keyword arg: x. From version 0.12, the only valid positional argument will be `data`, and passing other arguments without an explicit keyword will result in an error or misinterpretation.\n",
            "  FutureWarning\n"
          ]
        },
        {
          "output_type": "display_data",
          "data": {
            "text/plain": [
              "<Figure size 720x360 with 1 Axes>"
            ],
            "image/png": "[encoded data removed]"
          },
          "metadata": {}
        }
      ],
      "source": [
        "sns.set_style('darkgrid')\n",
        "plt.figure(figsize = (10, 5))\n",
        "sns.countplot(train['Married'])\n",
        "plt.show()"
      ]
    },
    {
      "cell_type": "code",
      "execution_count": null,
      "metadata": {
        "id": "JBVs54Hkzk8e"
      },
      "outputs": [],
      "source": [
        "train['Married'] = train['Married'].fillna(train['Married'].dropna().mode().values[0])"
      ]
    },
    {
      "cell_type": "code",
      "execution_count": null,
      "metadata": {
        "colab": {
          "base_uri": "https://localhost:8080/"
        },
        "id": "1SDGS2w3zk6g",
        "outputId": "d3cc8e77-6b8a-4f82-ba86-d3ade340bcd3"
      },
      "outputs": [
        {
          "output_type": "execute_result",
          "data": {
            "text/plain": [
              "Yes    401\n",
              "No     213\n",
              "Name: Married, dtype: int64"
            ]
          },
          "metadata": {},
          "execution_count": 22
        }
      ],
      "source": [
        "train['Married'].value_counts()"
      ]
    },
    {
      "cell_type": "markdown",
      "metadata": {
        "id": "V6LexSCK5e6U"
      },
      "source": [
        "Dependents"
      ]
    },
    {
      "cell_type": "code",
      "execution_count": null,
      "metadata": {
        "colab": {
          "base_uri": "https://localhost:8080/"
        },
        "id": "OdoZlnn_5l_W",
        "outputId": "d8437ce7-a9c9-4717-d4ec-468e0c3506b8"
      },
      "outputs": [
        {
          "output_type": "execute_result",
          "data": {
            "text/plain": [
              "15"
            ]
          },
          "metadata": {},
          "execution_count": 23
        }
      ],
      "source": [
        "train['Dependents'].isnull().sum()"
      ]
    },
    {
      "cell_type": "code",
      "execution_count": null,
      "metadata": {
        "colab": {
          "base_uri": "https://localhost:8080/"
        },
        "id": "Ud06VVoszk4W",
        "outputId": "654d9bdc-ec35-40c4-8b3d-85a8a058ffc5"
      },
      "outputs": [
        {
          "output_type": "execute_result",
          "data": {
            "text/plain": [
              "0     345\n",
              "1     102\n",
              "2     101\n",
              "3+     51\n",
              "Name: Dependents, dtype: int64"
            ]
          },
          "metadata": {},
          "execution_count": 24
        }
      ],
      "source": [
        "train['Dependents'].value_counts()"
      ]
    },
    {
      "cell_type": "code",
      "execution_count": null,
      "metadata": {
        "id": "DyhOoYS45q1U",
        "outputId": "f7f2ed18-c491-4486-9d23-fb2a438c2d88",
        "colab": {
          "base_uri": "https://localhost:8080/",
          "height": 389
        }
      },
      "outputs": [
        {
          "output_type": "stream",
          "name": "stderr",
          "text": [
            "/usr/local/lib/python3.7/dist-packages/seaborn/_decorators.py:43: FutureWarning: Pass the following variable as a keyword arg: x. From version 0.12, the only valid positional argument will be `data`, and passing other arguments without an explicit keyword will result in an error or misinterpretation.\n",
            "  FutureWarning\n"
          ]
        },
        {
          "output_type": "display_data",
          "data": {
            "text/plain": [
              "<Figure size 720x360 with 1 Axes>"
            ],
            "image/png": "[encoded data removed]"
          },
          "metadata": {}
        }
      ],
      "source": [
        "sns.set_style('darkgrid')\n",
        "plt.figure(figsize = (10, 5))\n",
        "sns.countplot(train['Dependents'])\n",
        "plt.show()"
      ]
    },
    {
      "cell_type": "code",
      "execution_count": null,
      "metadata": {
        "id": "YIlZPhzt6HzG"
      },
      "outputs": [],
      "source": [
        "# let's do forward fill \n",
        "train['Dependents'] = train['Dependents'].ffill()"
      ]
    },
    {
      "cell_type": "code",
      "execution_count": null,
      "metadata": {
        "id": "Mj-9x3En6Xqn",
        "outputId": "1f43dd6a-3fbc-44a2-e8c9-885d36be0f6d",
        "colab": {
          "base_uri": "https://localhost:8080/"
        }
      },
      "outputs": [
        {
          "output_type": "execute_result",
          "data": {
            "text/plain": [
              "0     354\n",
              "2     105\n",
              "1     104\n",
              "3+     51\n",
              "Name: Dependents, dtype: int64"
            ]
          },
          "metadata": {},
          "execution_count": 27
        }
      ],
      "source": [
        "train['Dependents'].value_counts()"
      ]
    },
    {
      "cell_type": "markdown",
      "metadata": {
        "id": "XgKIwDwD6uPI"
      },
      "source": [
        "Self_Employed"
      ]
    },
    {
      "cell_type": "code",
      "execution_count": null,
      "metadata": {
        "colab": {
          "base_uri": "https://localhost:8080/"
        },
        "id": "iduR8Gsf62V6",
        "outputId": "232ecb92-4a24-456c-8068-559a6671bfad"
      },
      "outputs": [
        {
          "output_type": "execute_result",
          "data": {
            "text/plain": [
              "32"
            ]
          },
          "metadata": {},
          "execution_count": 28
        }
      ],
      "source": [
        "train['Self_Employed'].isnull().sum()"
      ]
    },
    {
      "cell_type": "code",
      "execution_count": null,
      "metadata": {
        "colab": {
          "base_uri": "https://localhost:8080/"
        },
        "id": "G2ey9RnN6t5f",
        "outputId": "1a362a5e-9d3d-47e0-c815-2ee4048e3bc1"
      },
      "outputs": [
        {
          "output_type": "execute_result",
          "data": {
            "text/plain": [
              "No     500\n",
              "Yes     82\n",
              "Name: Self_Employed, dtype: int64"
            ]
          },
          "metadata": {},
          "execution_count": 29
        }
      ],
      "source": [
        "train['Self_Employed'].value_counts()"
      ]
    },
    {
      "cell_type": "code",
      "execution_count": null,
      "metadata": {
        "id": "M8xH_-m76HsH"
      },
      "outputs": [],
      "source": [
        "train['Self_Employed'] = train['Self_Employed'].fillna(train['Self_Employed'].dropna().mode().values[0])"
      ]
    },
    {
      "cell_type": "markdown",
      "metadata": {
        "id": "2VRLtpkH71Q2"
      },
      "source": [
        "Loan_Amount"
      ]
    },
    {
      "cell_type": "code",
      "execution_count": null,
      "metadata": {
        "colab": {
          "base_uri": "https://localhost:8080/"
        },
        "id": "zgaBVDP76HpR",
        "outputId": "03e0b77d-7bca-4a00-bed1-f2af109cff47"
      },
      "outputs": [
        {
          "output_type": "execute_result",
          "data": {
            "text/plain": [
              "22"
            ]
          },
          "metadata": {},
          "execution_count": 31
        }
      ],
      "source": [
        "train['LoanAmount'].isnull().sum()"
      ]
    },
    {
      "cell_type": "code",
      "execution_count": null,
      "metadata": {
        "id": "GLbbT-D_9H5q",
        "outputId": "2ab44b2c-be8c-453f-d542-8b01ef426864",
        "colab": {
          "base_uri": "https://localhost:8080/",
          "height": 389
        }
      },
      "outputs": [
        {
          "output_type": "stream",
          "name": "stderr",
          "text": [
            "/usr/local/lib/python3.7/dist-packages/seaborn/distributions.py:2619: FutureWarning: `distplot` is a deprecated function and will be removed in a future version. Please adapt your code to use either `displot` (a figure-level function with similar flexibility) or `histplot` (an axes-level function for histograms).\n",
            "  warnings.warn(msg, FutureWarning)\n"
          ]
        },
        {
          "output_type": "display_data",
          "data": {
            "text/plain": [
              "<Figure size 720x360 with 1 Axes>"
            ],
            "image/png": "[encoded data removed]"
          },
          "metadata": {}
        }
      ],
      "source": [
        "plt.figure(figsize=(10, 5))\n",
        "sns.distplot(train['LoanAmount'])\n",
        "plt.show()"
      ]
    },
    {
      "cell_type": "code",
      "execution_count": null,
      "metadata": {
        "id": "A2T4VJmL9fsd"
      },
      "outputs": [],
      "source": [
        "mean_value = train['LoanAmount'].mean()\n",
        "train['LoanAmount'].fillna(value=mean_value, inplace=True)"
      ]
    },
    {
      "cell_type": "markdown",
      "metadata": {
        "id": "HRpruzTA-r5Y"
      },
      "source": [
        "Loan_Amount_Term"
      ]
    },
    {
      "cell_type": "code",
      "execution_count": null,
      "metadata": {
        "colab": {
          "base_uri": "https://localhost:8080/"
        },
        "id": "ZpF3wHTa6Hkw",
        "outputId": "8aa0a5e5-7336-495b-b037-fa413824a02d"
      },
      "outputs": [
        {
          "output_type": "execute_result",
          "data": {
            "text/plain": [
              "14"
            ]
          },
          "metadata": {},
          "execution_count": 34
        }
      ],
      "source": [
        "train['Loan_Amount_Term'].isnull().sum()"
      ]
    },
    {
      "cell_type": "code",
      "execution_count": null,
      "metadata": {
        "id": "fNZ_fgjc_bdr",
        "outputId": "f71144df-8928-44a9-a0d1-b41024a5cd3d",
        "colab": {
          "base_uri": "https://localhost:8080/"
        }
      },
      "outputs": [
        {
          "output_type": "execute_result",
          "data": {
            "text/plain": [
              "360.0    512\n",
              "180.0     44\n",
              "480.0     15\n",
              "300.0     13\n",
              "240.0      4\n",
              "84.0       4\n",
              "120.0      3\n",
              "60.0       2\n",
              "36.0       2\n",
              "12.0       1\n",
              "Name: Loan_Amount_Term, dtype: int64"
            ]
          },
          "metadata": {},
          "execution_count": 35
        }
      ],
      "source": [
        "train['Loan_Amount_Term'].value_counts()"
      ]
    },
    {
      "cell_type": "code",
      "execution_count": null,
      "metadata": {
        "id": "Nb5eJKnb6Hbx",
        "outputId": "022b5d70-7491-41d1-b7ed-1fcfe97f902a",
        "colab": {
          "base_uri": "https://localhost:8080/",
          "height": 390
        }
      },
      "outputs": [
        {
          "output_type": "stream",
          "name": "stderr",
          "text": [
            "/usr/local/lib/python3.7/dist-packages/seaborn/distributions.py:2619: FutureWarning: `distplot` is a deprecated function and will be removed in a future version. Please adapt your code to use either `displot` (a figure-level function with similar flexibility) or `histplot` (an axes-level function for histograms).\n",
            "  warnings.warn(msg, FutureWarning)\n"
          ]
        },
        {
          "output_type": "display_data",
          "data": {
            "text/plain": [
              "<Figure size 720x360 with 1 Axes>"
            ],
            "image/png": "[encoded data removed]"
          },
          "metadata": {}
        }
      ],
      "source": [
        "plt.figure(figsize=(10, 5))\n",
        "sns.distplot(train['Loan_Amount_Term'])\n",
        "plt.show()"
      ]
    },
    {
      "cell_type": "code",
      "execution_count": null,
      "metadata": {
        "id": "9l125YHi6HM2"
      },
      "outputs": [],
      "source": [
        "train['Loan_Amount_Term'] = train['Loan_Amount_Term'].fillna(train['Loan_Amount_Term'].dropna().mode().values[0])"
      ]
    },
    {
      "cell_type": "markdown",
      "metadata": {
        "id": "NrvDdliuAA-d"
      },
      "source": [
        "Credit_History"
      ]
    },
    {
      "cell_type": "code",
      "execution_count": null,
      "metadata": {
        "colab": {
          "base_uri": "https://localhost:8080/"
        },
        "id": "H3FoYvdGAWoa",
        "outputId": "00733cbb-fa11-49a9-9970-b5fd917b9541"
      },
      "outputs": [
        {
          "output_type": "execute_result",
          "data": {
            "text/plain": [
              "50"
            ]
          },
          "metadata": {},
          "execution_count": 38
        }
      ],
      "source": [
        "train['Credit_History'].isnull().sum()"
      ]
    },
    {
      "cell_type": "code",
      "execution_count": null,
      "metadata": {
        "colab": {
          "base_uri": "https://localhost:8080/"
        },
        "id": "Ea4wrDB-AAJt",
        "outputId": "4f932d4c-12b8-4121-a3be-a960133ca62e"
      },
      "outputs": [
        {
          "output_type": "execute_result",
          "data": {
            "text/plain": [
              "1.0    475\n",
              "0.0     89\n",
              "Name: Credit_History, dtype: int64"
            ]
          },
          "metadata": {},
          "execution_count": 39
        }
      ],
      "source": [
        "train['Credit_History'].value_counts()"
      ]
    },
    {
      "cell_type": "code",
      "execution_count": null,
      "metadata": {
        "id": "wy9bi0buAzbE"
      },
      "outputs": [],
      "source": [
        "train['Credit_History'] = train['Credit_History'].fillna(train['Credit_History'].dropna().mode().values[0])"
      ]
    },
    {
      "cell_type": "markdown",
      "metadata": {
        "id": "vJx2GzBEBlmi"
      },
      "source": [
        "data is cleaned , let's check "
      ]
    },
    {
      "cell_type": "code",
      "execution_count": null,
      "metadata": {
        "id": "mYlCwbfmA0I3",
        "outputId": "7bfe4352-786f-45db-e6b1-5d2063aa177b",
        "colab": {
          "base_uri": "https://localhost:8080/"
        }
      },
      "outputs": [
        {
          "output_type": "execute_result",
          "data": {
            "text/plain": [
              "Loan_ID              0\n",
              "Gender               0\n",
              "Married              0\n",
              "Dependents           0\n",
              "Education            0\n",
              "Self_Employed        0\n",
              "ApplicantIncome      0\n",
              "CoapplicantIncome    0\n",
              "LoanAmount           0\n",
              "Loan_Amount_Term     0\n",
              "Credit_History       0\n",
              "Property_Area        0\n",
              "Loan_Status          0\n",
              "dtype: int64"
            ]
          },
          "metadata": {},
          "execution_count": 41
        }
      ],
      "source": [
        "train.isnull().sum()"
      ]
    },
    {
      "cell_type": "markdown",
      "metadata": {
        "id": "Wb8ER6A1B16D"
      },
      "source": [
        "##Encoding data to Numeric"
      ]
    },
    {
      "cell_type": "code",
      "execution_count": null,
      "metadata": {
        "id": "AZrs87XsFK8S"
      },
      "outputs": [],
      "source": [
        "# drop the loan id columns \n",
        "train.drop('Loan_ID', axis=1, inplace=True)"
      ]
    },
    {
      "cell_type": "code",
      "execution_count": null,
      "metadata": {
        "id": "ZUUjPsoKFGpl",
        "outputId": "15add88d-facc-4d87-8e84-92ea68b17265",
        "colab": {
          "base_uri": "https://localhost:8080/"
        }
      },
      "outputs": [
        {
          "output_type": "stream",
          "name": "stdout",
          "text": [
            "<class 'pandas.core.frame.DataFrame'>\n",
            "RangeIndex: 614 entries, 0 to 613\n",
            "Data columns (total 12 columns):\n",
            " #   Column             Non-Null Count  Dtype  \n",
            "---  ------             --------------  -----  \n",
            " 0   Gender             614 non-null    object \n",
            " 1   Married            614 non-null    object \n",
            " 2   Dependents         614 non-null    object \n",
            " 3   Education          614 non-null    object \n",
            " 4   Self_Employed      614 non-null    object \n",
            " 5   ApplicantIncome    614 non-null    int64  \n",
            " 6   CoapplicantIncome  614 non-null    float64\n",
            " 7   LoanAmount         614 non-null    float64\n",
            " 8   Loan_Amount_Term   614 non-null    float64\n",
            " 9   Credit_History     614 non-null    float64\n",
            " 10  Property_Area      614 non-null    object \n",
            " 11  Loan_Status        614 non-null    object \n",
            "dtypes: float64(4), int64(1), object(7)\n",
            "memory usage: 57.7+ KB\n"
          ]
        }
      ],
      "source": [
        "train.info()"
      ]
    },
    {
      "cell_type": "code",
      "execution_count": null,
      "metadata": {
        "id": "Yb2aRlvcFyei",
        "outputId": "78b911f7-a6d5-40a0-bcdc-a24a2baa0928",
        "colab": {
          "base_uri": "https://localhost:8080/",
          "height": 143
        }
      },
      "outputs": [
        {
          "output_type": "execute_result",
          "data": {
            "text/plain": [
              "Loan_Status    N    Y\n",
              "Gender               \n",
              "Female        37   75\n",
              "Male         155  347"
            ],
            "text/html": [
              "\n",
              "  <div id=\"df-ae33b6f6-071a-4768-83a2-49b8248b9b41\">\n",
              "    <div class=\"colab-df-container\">\n",
              "      <div>\n",
              "<style scoped>\n",
              "    .dataframe tbody tr th:only-of-type {\n",
              "        vertical-align: middle;\n",
              "    }\n",
              "\n",
              "    .dataframe tbody tr th {\n",
              "        vertical-align: top;\n",
              "    }\n",
              "\n",
              "    .dataframe thead th {\n",
              "        text-align: right;\n",
              "    }\n",
              "</style>\n",
              "<table border=\"1\" class=\"dataframe\">\n",
              "  <thead>\n",
              "    <tr style=\"text-align: right;\">\n",
              "      <th>Loan_Status</th>\n",
              "      <th>N</th>\n",
              "      <th>Y</th>\n",
              "    </tr>\n",
              "    <tr>\n",
              "      <th>Gender</th>\n",
              "      <th></th>\n",
              "      <th></th>\n",
              "    </tr>\n",
              "  </thead>\n",
              "  <tbody>\n",
              "    <tr>\n",
              "      <th>Female</th>\n",
              "      <td>37</td>\n",
              "      <td>75</td>\n",
              "    </tr>\n",
              "    <tr>\n",
              "      <th>Male</th>\n",
              "      <td>155</td>\n",
              "      <td>347</td>\n",
              "    </tr>\n",
              "  </tbody>\n",
              "</table>\n",
              "</div>\n",
              "      <button class=\"colab-df-convert\" onclick=\"convertToInteractive('df-ae33b6f6-071a-4768-83a2-49b8248b9b41')\"\n",
              "              title=\"Convert this dataframe to an interactive table.\"\n",
              "              style=\"display:none;\">\n",
              "        \n",
              "  <svg xmlns=\"http://www.w3.org/2000/svg\" height=\"24px\"viewBox=\"0 0 24 24\"\n",
              "       width=\"24px\">\n",
              "    <path d=\"M0 0h24v24H0V0z\" fill=\"none\"/>\n",
              "    <path d=\"M18.56 5.44l.94 2.06.94-2.06 2.06-.94-2.06-.94-.94-2.06-.94 2.06-2.06.94zm-11 1L8.5 8.5l.94-2.06 2.06-.94-2.06-.94L8.5 2.5l-.94 2.06-2.06.94zm10 10l.94 2.06.94-2.06 2.06-.94-2.06-.94-.94-2.06-.94 2.06-2.06.94z\"/><path d=\"M17.41 7.96l-1.37-1.37c-.4-.4-.92-.59-1.43-.59-.52 0-1.04.2-1.43.59L10.3 9.45l-7.72 7.72c-.78.78-.78 2.05 0 2.83L4 21.41c.39.39.9.59 1.41.59.51 0 1.02-.2 1.41-.59l7.78-7.78 2.81-2.81c.8-.78.8-2.07 0-2.86zM5.41 20L4 18.59l7.72-7.72 1.47 1.35L5.41 20z\"/>\n",
              "  </svg>\n",
              "      </button>\n",
              "      \n",
              "  <style>\n",
              "    .colab-df-container {\n",
              "      display:flex;\n",
              "      flex-wrap:wrap;\n",
              "      gap: 12px;\n",
              "    }\n",
              "\n",
              "    .colab-df-convert {\n",
              "      background-color: #E8F0FE;\n",
              "      border: none;\n",
              "      border-radius: 50%;\n",
              "      cursor: pointer;\n",
              "      display: none;\n",
              "      fill: #1967D2;\n",
              "      height: 32px;\n",
              "      padding: 0 0 0 0;\n",
              "      width: 32px;\n",
              "    }\n",
              "\n",
              "    .colab-df-convert:hover {\n",
              "      background-color: #E2EBFA;\n",
              "      box-shadow: 0px 1px 2px rgba(60, 64, 67, 0.3), 0px 1px 3px 1px rgba(60, 64, 67, 0.15);\n",
              "      fill: #174EA6;\n",
              "    }\n",
              "\n",
              "    [theme=dark] .colab-df-convert {\n",
              "      background-color: #3B4455;\n",
              "      fill: #D2E3FC;\n",
              "    }\n",
              "\n",
              "    [theme=dark] .colab-df-convert:hover {\n",
              "      background-color: #434B5C;\n",
              "      box-shadow: 0px 1px 3px 1px rgba(0, 0, 0, 0.15);\n",
              "      filter: drop-shadow(0px 1px 2px rgba(0, 0, 0, 0.3));\n",
              "      fill: #FFFFFF;\n",
              "    }\n",
              "  </style>\n",
              "\n",
              "      <script>\n",
              "        const buttonEl =\n",
              "          document.querySelector('#df-ae33b6f6-071a-4768-83a2-49b8248b9b41 button.colab-df-convert');\n",
              "        buttonEl.style.display =\n",
              "          google.colab.kernel.accessAllowed ? 'block' : 'none';\n",
              "\n",
              "        async function convertToInteractive(key) {\n",
              "          const element = document.querySelector('#df-ae33b6f6-071a-4768-83a2-49b8248b9b41');\n",
              "          const dataTable =\n",
              "            await google.colab.kernel.invokeFunction('convertToInteractive',\n",
              "                                                     [key], {});\n",
              "          if (!dataTable) return;\n",
              "\n",
              "          const docLinkHtml = 'Like what you see? Visit the ' +\n",
              "            '<a target=\"_blank\" href=https://colab.research.google.com/notebooks/data_table.ipynb>data table notebook</a>'\n",
              "            + ' to learn more about interactive tables.';\n",
              "          element.innerHTML = '';\n",
              "          dataTable['output_type'] = 'display_data';\n",
              "          await google.colab.output.renderOutput(dataTable, element);\n",
              "          const docLink = document.createElement('div');\n",
              "          docLink.innerHTML = docLinkHtml;\n",
              "          element.appendChild(docLink);\n",
              "        }\n",
              "      </script>\n",
              "    </div>\n",
              "  </div>\n",
              "  "
            ]
          },
          "metadata": {},
          "execution_count": 44
        }
      ],
      "source": [
        "pd.crosstab(train['Gender'], train['Loan_Status'])"
      ]
    },
    {
      "cell_type": "code",
      "execution_count": null,
      "metadata": {
        "id": "Ddpb-kJ5GVR6",
        "outputId": "71ceba39-b5ef-4ea8-875f-d38bf2b3f87b",
        "colab": {
          "base_uri": "https://localhost:8080/",
          "height": 143
        }
      },
      "outputs": [
        {
          "output_type": "execute_result",
          "data": {
            "text/plain": [
              "Loan_Status    N    Y\n",
              "Married              \n",
              "No            79  134\n",
              "Yes          113  285"
            ],
            "text/html": [
              "\n",
              "  <div id=\"df-9826ca1a-0e92-43cf-83f7-d054bcd410c1\">\n",
              "    <div class=\"colab-df-container\">\n",
              "      <div>\n",
              "<style scoped>\n",
              "    .dataframe tbody tr th:only-of-type {\n",
              "        vertical-align: middle;\n",
              "    }\n",
              "\n",
              "    .dataframe tbody tr th {\n",
              "        vertical-align: top;\n",
              "    }\n",
              "\n",
              "    .dataframe thead th {\n",
              "        text-align: right;\n",
              "    }\n",
              "</style>\n",
              "<table border=\"1\" class=\"dataframe\">\n",
              "  <thead>\n",
              "    <tr style=\"text-align: right;\">\n",
              "      <th>Loan_Status</th>\n",
              "      <th>N</th>\n",
              "      <th>Y</th>\n",
              "    </tr>\n",
              "    <tr>\n",
              "      <th>Married</th>\n",
              "      <th></th>\n",
              "      <th></th>\n",
              "    </tr>\n",
              "  </thead>\n",
              "  <tbody>\n",
              "    <tr>\n",
              "      <th>No</th>\n",
              "      <td>79</td>\n",
              "      <td>134</td>\n",
              "    </tr>\n",
              "    <tr>\n",
              "      <th>Yes</th>\n",
              "      <td>113</td>\n",
              "      <td>285</td>\n",
              "    </tr>\n",
              "  </tbody>\n",
              "</table>\n",
              "</div>\n",
              "      <button class=\"colab-df-convert\" onclick=\"convertToInteractive('df-9826ca1a-0e92-43cf-83f7-d054bcd410c1')\"\n",
              "              title=\"Convert this dataframe to an interactive table.\"\n",
              "              style=\"display:none;\">\n",
              "        \n",
              "  <svg xmlns=\"http://www.w3.org/2000/svg\" height=\"24px\"viewBox=\"0 0 24 24\"\n",
              "       width=\"24px\">\n",
              "    <path d=\"M0 0h24v24H0V0z\" fill=\"none\"/>\n",
              "    <path d=\"M18.56 5.44l.94 2.06.94-2.06 2.06-.94-2.06-.94-.94-2.06-.94 2.06-2.06.94zm-11 1L8.5 8.5l.94-2.06 2.06-.94-2.06-.94L8.5 2.5l-.94 2.06-2.06.94zm10 10l.94 2.06.94-2.06 2.06-.94-2.06-.94-.94-2.06-.94 2.06-2.06.94z\"/><path d=\"M17.41 7.96l-1.37-1.37c-.4-.4-.92-.59-1.43-.59-.52 0-1.04.2-1.43.59L10.3 9.45l-7.72 7.72c-.78.78-.78 2.05 0 2.83L4 21.41c.39.39.9.59 1.41.59.51 0 1.02-.2 1.41-.59l7.78-7.78 2.81-2.81c.8-.78.8-2.07 0-2.86zM5.41 20L4 18.59l7.72-7.72 1.47 1.35L5.41 20z\"/>\n",
              "  </svg>\n",
              "      </button>\n",
              "      \n",
              "  <style>\n",
              "    .colab-df-container {\n",
              "      display:flex;\n",
              "      flex-wrap:wrap;\n",
              "      gap: 12px;\n",
              "    }\n",
              "\n",
              "    .colab-df-convert {\n",
              "      background-color: #E8F0FE;\n",
              "      border: none;\n",
              "      border-radius: 50%;\n",
              "      cursor: pointer;\n",
              "      display: none;\n",
              "      fill: #1967D2;\n",
              "      height: 32px;\n",
              "      padding: 0 0 0 0;\n",
              "      width: 32px;\n",
              "    }\n",
              "\n",
              "    .colab-df-convert:hover {\n",
              "      background-color: #E2EBFA;\n",
              "      box-shadow: 0px 1px 2px rgba(60, 64, 67, 0.3), 0px 1px 3px 1px rgba(60, 64, 67, 0.15);\n",
              "      fill: #174EA6;\n",
              "    }\n",
              "\n",
              "    [theme=dark] .colab-df-convert {\n",
              "      background-color: #3B4455;\n",
              "      fill: #D2E3FC;\n",
              "    }\n",
              "\n",
              "    [theme=dark] .colab-df-convert:hover {\n",
              "      background-color: #434B5C;\n",
              "      box-shadow: 0px 1px 3px 1px rgba(0, 0, 0, 0.15);\n",
              "      filter: drop-shadow(0px 1px 2px rgba(0, 0, 0, 0.3));\n",
              "      fill: #FFFFFF;\n",
              "    }\n",
              "  </style>\n",
              "\n",
              "      <script>\n",
              "        const buttonEl =\n",
              "          document.querySelector('#df-9826ca1a-0e92-43cf-83f7-d054bcd410c1 button.colab-df-convert');\n",
              "        buttonEl.style.display =\n",
              "          google.colab.kernel.accessAllowed ? 'block' : 'none';\n",
              "\n",
              "        async function convertToInteractive(key) {\n",
              "          const element = document.querySelector('#df-9826ca1a-0e92-43cf-83f7-d054bcd410c1');\n",
              "          const dataTable =\n",
              "            await google.colab.kernel.invokeFunction('convertToInteractive',\n",
              "                                                     [key], {});\n",
              "          if (!dataTable) return;\n",
              "\n",
              "          const docLinkHtml = 'Like what you see? Visit the ' +\n",
              "            '<a target=\"_blank\" href=https://colab.research.google.com/notebooks/data_table.ipynb>data table notebook</a>'\n",
              "            + ' to learn more about interactive tables.';\n",
              "          element.innerHTML = '';\n",
              "          dataTable['output_type'] = 'display_data';\n",
              "          await google.colab.output.renderOutput(dataTable, element);\n",
              "          const docLink = document.createElement('div');\n",
              "          docLink.innerHTML = docLinkHtml;\n",
              "          element.appendChild(docLink);\n",
              "        }\n",
              "      </script>\n",
              "    </div>\n",
              "  </div>\n",
              "  "
            ]
          },
          "metadata": {},
          "execution_count": 45
        }
      ],
      "source": [
        "pd.crosstab(df['Married'], train['Loan_Status'])"
      ]
    },
    {
      "cell_type": "code",
      "execution_count": null,
      "metadata": {
        "id": "qU0Ph-0BHmEg",
        "outputId": "cbf5e64e-75d6-44a1-c1d1-0f873f430d9e",
        "colab": {
          "base_uri": "https://localhost:8080/",
          "height": 206
        }
      },
      "outputs": [
        {
          "output_type": "execute_result",
          "data": {
            "text/plain": [
              "Loan_Status    N    Y\n",
              "Dependents           \n",
              "0            109  245\n",
              "1             37   67\n",
              "2             28   77\n",
              "3+            18   33"
            ],
            "text/html": [
              "\n",
              "  <div id=\"df-ead7d70e-fff3-4dce-9ade-66545808f64f\">\n",
              "    <div class=\"colab-df-container\">\n",
              "      <div>\n",
              "<style scoped>\n",
              "    .dataframe tbody tr th:only-of-type {\n",
              "        vertical-align: middle;\n",
              "    }\n",
              "\n",
              "    .dataframe tbody tr th {\n",
              "        vertical-align: top;\n",
              "    }\n",
              "\n",
              "    .dataframe thead th {\n",
              "        text-align: right;\n",
              "    }\n",
              "</style>\n",
              "<table border=\"1\" class=\"dataframe\">\n",
              "  <thead>\n",
              "    <tr style=\"text-align: right;\">\n",
              "      <th>Loan_Status</th>\n",
              "      <th>N</th>\n",
              "      <th>Y</th>\n",
              "    </tr>\n",
              "    <tr>\n",
              "      <th>Dependents</th>\n",
              "      <th></th>\n",
              "      <th></th>\n",
              "    </tr>\n",
              "  </thead>\n",
              "  <tbody>\n",
              "    <tr>\n",
              "      <th>0</th>\n",
              "      <td>109</td>\n",
              "      <td>245</td>\n",
              "    </tr>\n",
              "    <tr>\n",
              "      <th>1</th>\n",
              "      <td>37</td>\n",
              "      <td>67</td>\n",
              "    </tr>\n",
              "    <tr>\n",
              "      <th>2</th>\n",
              "      <td>28</td>\n",
              "      <td>77</td>\n",
              "    </tr>\n",
              "    <tr>\n",
              "      <th>3+</th>\n",
              "      <td>18</td>\n",
              "      <td>33</td>\n",
              "    </tr>\n",
              "  </tbody>\n",
              "</table>\n",
              "</div>\n",
              "      <button class=\"colab-df-convert\" onclick=\"convertToInteractive('df-ead7d70e-fff3-4dce-9ade-66545808f64f')\"\n",
              "              title=\"Convert this dataframe to an interactive table.\"\n",
              "              style=\"display:none;\">\n",
              "        \n",
              "  <svg xmlns=\"http://www.w3.org/2000/svg\" height=\"24px\"viewBox=\"0 0 24 24\"\n",
              "       width=\"24px\">\n",
              "    <path d=\"M0 0h24v24H0V0z\" fill=\"none\"/>\n",
              "    <path d=\"M18.56 5.44l.94 2.06.94-2.06 2.06-.94-2.06-.94-.94-2.06-.94 2.06-2.06.94zm-11 1L8.5 8.5l.94-2.06 2.06-.94-2.06-.94L8.5 2.5l-.94 2.06-2.06.94zm10 10l.94 2.06.94-2.06 2.06-.94-2.06-.94-.94-2.06-.94 2.06-2.06.94z\"/><path d=\"M17.41 7.96l-1.37-1.37c-.4-.4-.92-.59-1.43-.59-.52 0-1.04.2-1.43.59L10.3 9.45l-7.72 7.72c-.78.78-.78 2.05 0 2.83L4 21.41c.39.39.9.59 1.41.59.51 0 1.02-.2 1.41-.59l7.78-7.78 2.81-2.81c.8-.78.8-2.07 0-2.86zM5.41 20L4 18.59l7.72-7.72 1.47 1.35L5.41 20z\"/>\n",
              "  </svg>\n",
              "      </button>\n",
              "      \n",
              "  <style>\n",
              "    .colab-df-container {\n",
              "      display:flex;\n",
              "      flex-wrap:wrap;\n",
              "      gap: 12px;\n",
              "    }\n",
              "\n",
              "    .colab-df-convert {\n",
              "      background-color: #E8F0FE;\n",
              "      border: none;\n",
              "      border-radius: 50%;\n",
              "      cursor: pointer;\n",
              "      display: none;\n",
              "      fill: #1967D2;\n",
              "      height: 32px;\n",
              "      padding: 0 0 0 0;\n",
              "      width: 32px;\n",
              "    }\n",
              "\n",
              "    .colab-df-convert:hover {\n",
              "      background-color: #E2EBFA;\n",
              "      box-shadow: 0px 1px 2px rgba(60, 64, 67, 0.3), 0px 1px 3px 1px rgba(60, 64, 67, 0.15);\n",
              "      fill: #174EA6;\n",
              "    }\n",
              "\n",
              "    [theme=dark] .colab-df-convert {\n",
              "      background-color: #3B4455;\n",
              "      fill: #D2E3FC;\n",
              "    }\n",
              "\n",
              "    [theme=dark] .colab-df-convert:hover {\n",
              "      background-color: #434B5C;\n",
              "      box-shadow: 0px 1px 3px 1px rgba(0, 0, 0, 0.15);\n",
              "      filter: drop-shadow(0px 1px 2px rgba(0, 0, 0, 0.3));\n",
              "      fill: #FFFFFF;\n",
              "    }\n",
              "  </style>\n",
              "\n",
              "      <script>\n",
              "        const buttonEl =\n",
              "          document.querySelector('#df-ead7d70e-fff3-4dce-9ade-66545808f64f button.colab-df-convert');\n",
              "        buttonEl.style.display =\n",
              "          google.colab.kernel.accessAllowed ? 'block' : 'none';\n",
              "\n",
              "        async function convertToInteractive(key) {\n",
              "          const element = document.querySelector('#df-ead7d70e-fff3-4dce-9ade-66545808f64f');\n",
              "          const dataTable =\n",
              "            await google.colab.kernel.invokeFunction('convertToInteractive',\n",
              "                                                     [key], {});\n",
              "          if (!dataTable) return;\n",
              "\n",
              "          const docLinkHtml = 'Like what you see? Visit the ' +\n",
              "            '<a target=\"_blank\" href=https://colab.research.google.com/notebooks/data_table.ipynb>data table notebook</a>'\n",
              "            + ' to learn more about interactive tables.';\n",
              "          element.innerHTML = '';\n",
              "          dataTable['output_type'] = 'display_data';\n",
              "          await google.colab.output.renderOutput(dataTable, element);\n",
              "          const docLink = document.createElement('div');\n",
              "          docLink.innerHTML = docLinkHtml;\n",
              "          element.appendChild(docLink);\n",
              "        }\n",
              "      </script>\n",
              "    </div>\n",
              "  </div>\n",
              "  "
            ]
          },
          "metadata": {},
          "execution_count": 46
        }
      ],
      "source": [
        "pd.crosstab(train['Dependents'], train['Loan_Status'])"
      ]
    },
    {
      "cell_type": "code",
      "execution_count": null,
      "metadata": {
        "id": "UewsHn7lIoiR",
        "outputId": "602de763-884a-44fe-c9ea-581c9dc2b4c3",
        "colab": {
          "base_uri": "https://localhost:8080/",
          "height": 143
        }
      },
      "outputs": [
        {
          "output_type": "execute_result",
          "data": {
            "text/plain": [
              "Loan_Status     N    Y\n",
              "Education             \n",
              "Graduate      140  340\n",
              "Not Graduate   52   82"
            ],
            "text/html": [
              "\n",
              "  <div id=\"df-b3a97ddf-a3d7-4e9b-86ce-945638cd54b8\">\n",
              "    <div class=\"colab-df-container\">\n",
              "      <div>\n",
              "<style scoped>\n",
              "    .dataframe tbody tr th:only-of-type {\n",
              "        vertical-align: middle;\n",
              "    }\n",
              "\n",
              "    .dataframe tbody tr th {\n",
              "        vertical-align: top;\n",
              "    }\n",
              "\n",
              "    .dataframe thead th {\n",
              "        text-align: right;\n",
              "    }\n",
              "</style>\n",
              "<table border=\"1\" class=\"dataframe\">\n",
              "  <thead>\n",
              "    <tr style=\"text-align: right;\">\n",
              "      <th>Loan_Status</th>\n",
              "      <th>N</th>\n",
              "      <th>Y</th>\n",
              "    </tr>\n",
              "    <tr>\n",
              "      <th>Education</th>\n",
              "      <th></th>\n",
              "      <th></th>\n",
              "    </tr>\n",
              "  </thead>\n",
              "  <tbody>\n",
              "    <tr>\n",
              "      <th>Graduate</th>\n",
              "      <td>140</td>\n",
              "      <td>340</td>\n",
              "    </tr>\n",
              "    <tr>\n",
              "      <th>Not Graduate</th>\n",
              "      <td>52</td>\n",
              "      <td>82</td>\n",
              "    </tr>\n",
              "  </tbody>\n",
              "</table>\n",
              "</div>\n",
              "      <button class=\"colab-df-convert\" onclick=\"convertToInteractive('df-b3a97ddf-a3d7-4e9b-86ce-945638cd54b8')\"\n",
              "              title=\"Convert this dataframe to an interactive table.\"\n",
              "              style=\"display:none;\">\n",
              "        \n",
              "  <svg xmlns=\"http://www.w3.org/2000/svg\" height=\"24px\"viewBox=\"0 0 24 24\"\n",
              "       width=\"24px\">\n",
              "    <path d=\"M0 0h24v24H0V0z\" fill=\"none\"/>\n",
              "    <path d=\"M18.56 5.44l.94 2.06.94-2.06 2.06-.94-2.06-.94-.94-2.06-.94 2.06-2.06.94zm-11 1L8.5 8.5l.94-2.06 2.06-.94-2.06-.94L8.5 2.5l-.94 2.06-2.06.94zm10 10l.94 2.06.94-2.06 2.06-.94-2.06-.94-.94-2.06-.94 2.06-2.06.94z\"/><path d=\"M17.41 7.96l-1.37-1.37c-.4-.4-.92-.59-1.43-.59-.52 0-1.04.2-1.43.59L10.3 9.45l-7.72 7.72c-.78.78-.78 2.05 0 2.83L4 21.41c.39.39.9.59 1.41.59.51 0 1.02-.2 1.41-.59l7.78-7.78 2.81-2.81c.8-.78.8-2.07 0-2.86zM5.41 20L4 18.59l7.72-7.72 1.47 1.35L5.41 20z\"/>\n",
              "  </svg>\n",
              "      </button>\n",
              "      \n",
              "  <style>\n",
              "    .colab-df-container {\n",
              "      display:flex;\n",
              "      flex-wrap:wrap;\n",
              "      gap: 12px;\n",
              "    }\n",
              "\n",
              "    .colab-df-convert {\n",
              "      background-color: #E8F0FE;\n",
              "      border: none;\n",
              "      border-radius: 50%;\n",
              "      cursor: pointer;\n",
              "      display: none;\n",
              "      fill: #1967D2;\n",
              "      height: 32px;\n",
              "      padding: 0 0 0 0;\n",
              "      width: 32px;\n",
              "    }\n",
              "\n",
              "    .colab-df-convert:hover {\n",
              "      background-color: #E2EBFA;\n",
              "      box-shadow: 0px 1px 2px rgba(60, 64, 67, 0.3), 0px 1px 3px 1px rgba(60, 64, 67, 0.15);\n",
              "      fill: #174EA6;\n",
              "    }\n",
              "\n",
              "    [theme=dark] .colab-df-convert {\n",
              "      background-color: #3B4455;\n",
              "      fill: #D2E3FC;\n",
              "    }\n",
              "\n",
              "    [theme=dark] .colab-df-convert:hover {\n",
              "      background-color: #434B5C;\n",
              "      box-shadow: 0px 1px 3px 1px rgba(0, 0, 0, 0.15);\n",
              "      filter: drop-shadow(0px 1px 2px rgba(0, 0, 0, 0.3));\n",
              "      fill: #FFFFFF;\n",
              "    }\n",
              "  </style>\n",
              "\n",
              "      <script>\n",
              "        const buttonEl =\n",
              "          document.querySelector('#df-b3a97ddf-a3d7-4e9b-86ce-945638cd54b8 button.colab-df-convert');\n",
              "        buttonEl.style.display =\n",
              "          google.colab.kernel.accessAllowed ? 'block' : 'none';\n",
              "\n",
              "        async function convertToInteractive(key) {\n",
              "          const element = document.querySelector('#df-b3a97ddf-a3d7-4e9b-86ce-945638cd54b8');\n",
              "          const dataTable =\n",
              "            await google.colab.kernel.invokeFunction('convertToInteractive',\n",
              "                                                     [key], {});\n",
              "          if (!dataTable) return;\n",
              "\n",
              "          const docLinkHtml = 'Like what you see? Visit the ' +\n",
              "            '<a target=\"_blank\" href=https://colab.research.google.com/notebooks/data_table.ipynb>data table notebook</a>'\n",
              "            + ' to learn more about interactive tables.';\n",
              "          element.innerHTML = '';\n",
              "          dataTable['output_type'] = 'display_data';\n",
              "          await google.colab.output.renderOutput(dataTable, element);\n",
              "          const docLink = document.createElement('div');\n",
              "          docLink.innerHTML = docLinkHtml;\n",
              "          element.appendChild(docLink);\n",
              "        }\n",
              "      </script>\n",
              "    </div>\n",
              "  </div>\n",
              "  "
            ]
          },
          "metadata": {},
          "execution_count": 47
        }
      ],
      "source": [
        "pd.crosstab(train['Education'], train['Loan_Status'])"
      ]
    },
    {
      "cell_type": "code",
      "execution_count": null,
      "metadata": {
        "id": "jkDffzSEI5mN",
        "outputId": "27ddbf6d-60e9-4f0b-a589-09d06443cae4",
        "colab": {
          "base_uri": "https://localhost:8080/",
          "height": 143
        }
      },
      "outputs": [
        {
          "output_type": "execute_result",
          "data": {
            "text/plain": [
              "Loan_Status      N    Y\n",
              "Self_Employed          \n",
              "No             166  366\n",
              "Yes             26   56"
            ],
            "text/html": [
              "\n",
              "  <div id=\"df-900e76e1-2b25-4859-b2c5-112bea018461\">\n",
              "    <div class=\"colab-df-container\">\n",
              "      <div>\n",
              "<style scoped>\n",
              "    .dataframe tbody tr th:only-of-type {\n",
              "        vertical-align: middle;\n",
              "    }\n",
              "\n",
              "    .dataframe tbody tr th {\n",
              "        vertical-align: top;\n",
              "    }\n",
              "\n",
              "    .dataframe thead th {\n",
              "        text-align: right;\n",
              "    }\n",
              "</style>\n",
              "<table border=\"1\" class=\"dataframe\">\n",
              "  <thead>\n",
              "    <tr style=\"text-align: right;\">\n",
              "      <th>Loan_Status</th>\n",
              "      <th>N</th>\n",
              "      <th>Y</th>\n",
              "    </tr>\n",
              "    <tr>\n",
              "      <th>Self_Employed</th>\n",
              "      <th></th>\n",
              "      <th></th>\n",
              "    </tr>\n",
              "  </thead>\n",
              "  <tbody>\n",
              "    <tr>\n",
              "      <th>No</th>\n",
              "      <td>166</td>\n",
              "      <td>366</td>\n",
              "    </tr>\n",
              "    <tr>\n",
              "      <th>Yes</th>\n",
              "      <td>26</td>\n",
              "      <td>56</td>\n",
              "    </tr>\n",
              "  </tbody>\n",
              "</table>\n",
              "</div>\n",
              "      <button class=\"colab-df-convert\" onclick=\"convertToInteractive('df-900e76e1-2b25-4859-b2c5-112bea018461')\"\n",
              "              title=\"Convert this dataframe to an interactive table.\"\n",
              "              style=\"display:none;\">\n",
              "        \n",
              "  <svg xmlns=\"http://www.w3.org/2000/svg\" height=\"24px\"viewBox=\"0 0 24 24\"\n",
              "       width=\"24px\">\n",
              "    <path d=\"M0 0h24v24H0V0z\" fill=\"none\"/>\n",
              "    <path d=\"M18.56 5.44l.94 2.06.94-2.06 2.06-.94-2.06-.94-.94-2.06-.94 2.06-2.06.94zm-11 1L8.5 8.5l.94-2.06 2.06-.94-2.06-.94L8.5 2.5l-.94 2.06-2.06.94zm10 10l.94 2.06.94-2.06 2.06-.94-2.06-.94-.94-2.06-.94 2.06-2.06.94z\"/><path d=\"M17.41 7.96l-1.37-1.37c-.4-.4-.92-.59-1.43-.59-.52 0-1.04.2-1.43.59L10.3 9.45l-7.72 7.72c-.78.78-.78 2.05 0 2.83L4 21.41c.39.39.9.59 1.41.59.51 0 1.02-.2 1.41-.59l7.78-7.78 2.81-2.81c.8-.78.8-2.07 0-2.86zM5.41 20L4 18.59l7.72-7.72 1.47 1.35L5.41 20z\"/>\n",
              "  </svg>\n",
              "      </button>\n",
              "      \n",
              "  <style>\n",
              "    .colab-df-container {\n",
              "      display:flex;\n",
              "      flex-wrap:wrap;\n",
              "      gap: 12px;\n",
              "    }\n",
              "\n",
              "    .colab-df-convert {\n",
              "      background-color: #E8F0FE;\n",
              "      border: none;\n",
              "      border-radius: 50%;\n",
              "      cursor: pointer;\n",
              "      display: none;\n",
              "      fill: #1967D2;\n",
              "      height: 32px;\n",
              "      padding: 0 0 0 0;\n",
              "      width: 32px;\n",
              "    }\n",
              "\n",
              "    .colab-df-convert:hover {\n",
              "      background-color: #E2EBFA;\n",
              "      box-shadow: 0px 1px 2px rgba(60, 64, 67, 0.3), 0px 1px 3px 1px rgba(60, 64, 67, 0.15);\n",
              "      fill: #174EA6;\n",
              "    }\n",
              "\n",
              "    [theme=dark] .colab-df-convert {\n",
              "      background-color: #3B4455;\n",
              "      fill: #D2E3FC;\n",
              "    }\n",
              "\n",
              "    [theme=dark] .colab-df-convert:hover {\n",
              "      background-color: #434B5C;\n",
              "      box-shadow: 0px 1px 3px 1px rgba(0, 0, 0, 0.15);\n",
              "      filter: drop-shadow(0px 1px 2px rgba(0, 0, 0, 0.3));\n",
              "      fill: #FFFFFF;\n",
              "    }\n",
              "  </style>\n",
              "\n",
              "      <script>\n",
              "        const buttonEl =\n",
              "          document.querySelector('#df-900e76e1-2b25-4859-b2c5-112bea018461 button.colab-df-convert');\n",
              "        buttonEl.style.display =\n",
              "          google.colab.kernel.accessAllowed ? 'block' : 'none';\n",
              "\n",
              "        async function convertToInteractive(key) {\n",
              "          const element = document.querySelector('#df-900e76e1-2b25-4859-b2c5-112bea018461');\n",
              "          const dataTable =\n",
              "            await google.colab.kernel.invokeFunction('convertToInteractive',\n",
              "                                                     [key], {});\n",
              "          if (!dataTable) return;\n",
              "\n",
              "          const docLinkHtml = 'Like what you see? Visit the ' +\n",
              "            '<a target=\"_blank\" href=https://colab.research.google.com/notebooks/data_table.ipynb>data table notebook</a>'\n",
              "            + ' to learn more about interactive tables.';\n",
              "          element.innerHTML = '';\n",
              "          dataTable['output_type'] = 'display_data';\n",
              "          await google.colab.output.renderOutput(dataTable, element);\n",
              "          const docLink = document.createElement('div');\n",
              "          docLink.innerHTML = docLinkHtml;\n",
              "          element.appendChild(docLink);\n",
              "        }\n",
              "      </script>\n",
              "    </div>\n",
              "  </div>\n",
              "  "
            ]
          },
          "metadata": {},
          "execution_count": 48
        }
      ],
      "source": [
        "pd.crosstab(train['Self_Employed'], train['Loan_Status'])"
      ]
    },
    {
      "cell_type": "code",
      "execution_count": null,
      "metadata": {
        "id": "7Cd4dCTaFuWA",
        "outputId": "747423d5-6e66-40f2-e095-57035bac22bd",
        "colab": {
          "base_uri": "https://localhost:8080/"
        }
      },
      "outputs": [
        {
          "output_type": "execute_result",
          "data": {
            "text/plain": [
              "Index(['Gender', 'Married', 'Dependents', 'Education', 'Self_Employed',\n",
              "       'ApplicantIncome', 'CoapplicantIncome', 'LoanAmount',\n",
              "       'Loan_Amount_Term', 'Credit_History', 'Property_Area', 'Loan_Status'],\n",
              "      dtype='object')"
            ]
          },
          "metadata": {},
          "execution_count": 49
        }
      ],
      "source": [
        "train.columns"
      ]
    },
    {
      "cell_type": "code",
      "execution_count": null,
      "metadata": {
        "id": "6Ispy6DQJFwl",
        "outputId": "e6c9b696-bdac-4ecc-9041-3c547d184310",
        "colab": {
          "base_uri": "https://localhost:8080/",
          "height": 143
        }
      },
      "outputs": [
        {
          "output_type": "execute_result",
          "data": {
            "text/plain": [
              "Loan_Status    N    Y\n",
              "Loan_Status          \n",
              "N            192    0\n",
              "Y              0  422"
            ],
            "text/html": [
              "\n",
              "  <div id=\"df-590f547f-6439-44f1-b4a4-a73e401519e5\">\n",
              "    <div class=\"colab-df-container\">\n",
              "      <div>\n",
              "<style scoped>\n",
              "    .dataframe tbody tr th:only-of-type {\n",
              "        vertical-align: middle;\n",
              "    }\n",
              "\n",
              "    .dataframe tbody tr th {\n",
              "        vertical-align: top;\n",
              "    }\n",
              "\n",
              "    .dataframe thead th {\n",
              "        text-align: right;\n",
              "    }\n",
              "</style>\n",
              "<table border=\"1\" class=\"dataframe\">\n",
              "  <thead>\n",
              "    <tr style=\"text-align: right;\">\n",
              "      <th>Loan_Status</th>\n",
              "      <th>N</th>\n",
              "      <th>Y</th>\n",
              "    </tr>\n",
              "    <tr>\n",
              "      <th>Loan_Status</th>\n",
              "      <th></th>\n",
              "      <th></th>\n",
              "    </tr>\n",
              "  </thead>\n",
              "  <tbody>\n",
              "    <tr>\n",
              "      <th>N</th>\n",
              "      <td>192</td>\n",
              "      <td>0</td>\n",
              "    </tr>\n",
              "    <tr>\n",
              "      <th>Y</th>\n",
              "      <td>0</td>\n",
              "      <td>422</td>\n",
              "    </tr>\n",
              "  </tbody>\n",
              "</table>\n",
              "</div>\n",
              "      <button class=\"colab-df-convert\" onclick=\"convertToInteractive('df-590f547f-6439-44f1-b4a4-a73e401519e5')\"\n",
              "              title=\"Convert this dataframe to an interactive table.\"\n",
              "              style=\"display:none;\">\n",
              "        \n",
              "  <svg xmlns=\"http://www.w3.org/2000/svg\" height=\"24px\"viewBox=\"0 0 24 24\"\n",
              "       width=\"24px\">\n",
              "    <path d=\"M0 0h24v24H0V0z\" fill=\"none\"/>\n",
              "    <path d=\"M18.56 5.44l.94 2.06.94-2.06 2.06-.94-2.06-.94-.94-2.06-.94 2.06-2.06.94zm-11 1L8.5 8.5l.94-2.06 2.06-.94-2.06-.94L8.5 2.5l-.94 2.06-2.06.94zm10 10l.94 2.06.94-2.06 2.06-.94-2.06-.94-.94-2.06-.94 2.06-2.06.94z\"/><path d=\"M17.41 7.96l-1.37-1.37c-.4-.4-.92-.59-1.43-.59-.52 0-1.04.2-1.43.59L10.3 9.45l-7.72 7.72c-.78.78-.78 2.05 0 2.83L4 21.41c.39.39.9.59 1.41.59.51 0 1.02-.2 1.41-.59l7.78-7.78 2.81-2.81c.8-.78.8-2.07 0-2.86zM5.41 20L4 18.59l7.72-7.72 1.47 1.35L5.41 20z\"/>\n",
              "  </svg>\n",
              "      </button>\n",
              "      \n",
              "  <style>\n",
              "    .colab-df-container {\n",
              "      display:flex;\n",
              "      flex-wrap:wrap;\n",
              "      gap: 12px;\n",
              "    }\n",
              "\n",
              "    .colab-df-convert {\n",
              "      background-color: #E8F0FE;\n",
              "      border: none;\n",
              "      border-radius: 50%;\n",
              "      cursor: pointer;\n",
              "      display: none;\n",
              "      fill: #1967D2;\n",
              "      height: 32px;\n",
              "      padding: 0 0 0 0;\n",
              "      width: 32px;\n",
              "    }\n",
              "\n",
              "    .colab-df-convert:hover {\n",
              "      background-color: #E2EBFA;\n",
              "      box-shadow: 0px 1px 2px rgba(60, 64, 67, 0.3), 0px 1px 3px 1px rgba(60, 64, 67, 0.15);\n",
              "      fill: #174EA6;\n",
              "    }\n",
              "\n",
              "    [theme=dark] .colab-df-convert {\n",
              "      background-color: #3B4455;\n",
              "      fill: #D2E3FC;\n",
              "    }\n",
              "\n",
              "    [theme=dark] .colab-df-convert:hover {\n",
              "      background-color: #434B5C;\n",
              "      box-shadow: 0px 1px 3px 1px rgba(0, 0, 0, 0.15);\n",
              "      filter: drop-shadow(0px 1px 2px rgba(0, 0, 0, 0.3));\n",
              "      fill: #FFFFFF;\n",
              "    }\n",
              "  </style>\n",
              "\n",
              "      <script>\n",
              "        const buttonEl =\n",
              "          document.querySelector('#df-590f547f-6439-44f1-b4a4-a73e401519e5 button.colab-df-convert');\n",
              "        buttonEl.style.display =\n",
              "          google.colab.kernel.accessAllowed ? 'block' : 'none';\n",
              "\n",
              "        async function convertToInteractive(key) {\n",
              "          const element = document.querySelector('#df-590f547f-6439-44f1-b4a4-a73e401519e5');\n",
              "          const dataTable =\n",
              "            await google.colab.kernel.invokeFunction('convertToInteractive',\n",
              "                                                     [key], {});\n",
              "          if (!dataTable) return;\n",
              "\n",
              "          const docLinkHtml = 'Like what you see? Visit the ' +\n",
              "            '<a target=\"_blank\" href=https://colab.research.google.com/notebooks/data_table.ipynb>data table notebook</a>'\n",
              "            + ' to learn more about interactive tables.';\n",
              "          element.innerHTML = '';\n",
              "          dataTable['output_type'] = 'display_data';\n",
              "          await google.colab.output.renderOutput(dataTable, element);\n",
              "          const docLink = document.createElement('div');\n",
              "          docLink.innerHTML = docLinkHtml;\n",
              "          element.appendChild(docLink);\n",
              "        }\n",
              "      </script>\n",
              "    </div>\n",
              "  </div>\n",
              "  "
            ]
          },
          "metadata": {},
          "execution_count": 50
        }
      ],
      "source": [
        "pd.crosstab(train['Loan_Status'], train['Loan_Status'])"
      ]
    },
    {
      "cell_type": "markdown",
      "source": [
        "# Pipeline"
      ],
      "metadata": {
        "id": "nANGn5RVWBZF"
      }
    },
    {
      "cell_type": "code",
      "source": [
        "from sklearn.compose import ColumnTransformer\n",
        "from sklearn.impute import SimpleImputer\n",
        "from sklearn.preprocessing import OneHotEncoder, StandardScaler\n",
        "from sklearn.pipeline import Pipeline\n",
        "\n",
        "X = pd.read_csv(\"https://raw.githubusercontent.com/Ramanand-Yadav/EligibilityForBankLoanMLProject/main/trainDataset.csv\")\n",
        "X.drop('Loan_ID', axis = 1, inplace = True)\n",
        "\n",
        "Y = X['Loan_Status']\n",
        "X = X.drop('Loan_Status', axis=1)\n",
        "\n",
        "X['Dependents'].replace({'3+': 3}, inplace = True)\n",
        "X['Dependents'] = pd.to_numeric(X['Dependents'])\n",
        "\n",
        "coltrans = ColumnTransformer([\n",
        "      ('imputer-mod_onehot', Pipeline([\n",
        "                                ('imputer-mod', SimpleImputer(strategy='most_frequent')),\n",
        "                                ('onehot', OneHotEncoder(drop='first')),\n",
        "                              ]), ['Gender', 'Married', 'Self_Employed']),\n",
        "\n",
        "      ('imputer-mod', SimpleImputer(strategy='most_frequent'), ['Credit_History']),\n",
        "\n",
        "      ('imputer-mean_scaling', Pipeline([\n",
        "                                ('imputer-mean', SimpleImputer(strategy='mean')),\n",
        "                                ('scaling', StandardScaler()),\n",
        "                              ]), ['Dependents', 'LoanAmount', 'Loan_Amount_Term']),\n",
        "                              \n",
        "      ('onehot', OneHotEncoder(drop='first'), ['Education', ]),\n",
        "      ('scaling', StandardScaler(), ['ApplicantIncome', 'CoapplicantIncome', ]),\n",
        "])\n",
        "\n",
        "X = coltrans.fit_transform(X)\n",
        "pd.DataFrame(X).sample(7)"
      ],
      "metadata": {
        "colab": {
          "base_uri": "https://localhost:8080/",
          "height": 269
        },
        "id": "fDAHqxUDWBp-",
        "outputId": "0a51195d-911d-4b2c-841a-de2949408e32"
      },
      "execution_count": null,
      "outputs": [
        {
          "output_type": "execute_result",
          "data": {
            "text/plain": [
              "       0    1    2    3         4         5         6    7         8         9\n",
              "599  1.0  1.0  0.0  1.0  1.234714  0.542913  0.279851  0.0  0.061687 -0.554487\n",
              "548  0.0  0.0  0.0  0.0 -0.761490 -0.517002  0.279851  0.0 -0.066097 -0.554487\n",
              "471  1.0  1.0  0.0  0.0  0.236612 -0.397911 -2.518655  1.0 -0.450595 -0.041468\n",
              "387  1.0  1.0  0.0  0.0 -0.761490  0.000000  0.279851  1.0 -0.392109  0.518066\n",
              "385  1.0  0.0  0.0  1.0  0.236612 -0.397911 -2.518655  0.0 -0.284476 -0.554487\n",
              "172  1.0  1.0  0.0  1.0  2.232816 -0.779004 -2.518655  1.0 -0.308231 -0.554487\n",
              "135  1.0  1.0  0.0  1.0  2.232816  1.710010  0.279851  0.0 -0.229922  2.096114"
            ],
            "text/html": [
              "\n",
              "  <div id=\"df-b5ea2a7e-e004-409e-99a7-f9d57fdbcb4c\">\n",
              "    <div class=\"colab-df-container\">\n",
              "      <div>\n",
              "<style scoped>\n",
              "    .dataframe tbody tr th:only-of-type {\n",
              "        vertical-align: middle;\n",
              "    }\n",
              "\n",
              "    .dataframe tbody tr th {\n",
              "        vertical-align: top;\n",
              "    }\n",
              "\n",
              "    .dataframe thead th {\n",
              "        text-align: right;\n",
              "    }\n",
              "</style>\n",
              "<table border=\"1\" class=\"dataframe\">\n",
              "  <thead>\n",
              "    <tr style=\"text-align: right;\">\n",
              "      <th></th>\n",
              "      <th>0</th>\n",
              "      <th>1</th>\n",
              "      <th>2</th>\n",
              "      <th>3</th>\n",
              "      <th>4</th>\n",
              "      <th>5</th>\n",
              "      <th>6</th>\n",
              "      <th>7</th>\n",
              "      <th>8</th>\n",
              "      <th>9</th>\n",
              "    </tr>\n",
              "  </thead>\n",
              "  <tbody>\n",
              "    <tr>\n",
              "      <th>599</th>\n",
              "      <td>1.0</td>\n",
              "      <td>1.0</td>\n",
              "      <td>0.0</td>\n",
              "      <td>1.0</td>\n",
              "      <td>1.234714</td>\n",
              "      <td>0.542913</td>\n",
              "      <td>0.279851</td>\n",
              "      <td>0.0</td>\n",
              "      <td>0.061687</td>\n",
              "      <td>-0.554487</td>\n",
              "    </tr>\n",
              "    <tr>\n",
              "      <th>548</th>\n",
              "      <td>0.0</td>\n",
              "      <td>0.0</td>\n",
              "      <td>0.0</td>\n",
              "      <td>0.0</td>\n",
              "      <td>-0.761490</td>\n",
              "      <td>-0.517002</td>\n",
              "      <td>0.279851</td>\n",
              "      <td>0.0</td>\n",
              "      <td>-0.066097</td>\n",
              "      <td>-0.554487</td>\n",
              "    </tr>\n",
              "    <tr>\n",
              "      <th>471</th>\n",
              "      <td>1.0</td>\n",
              "      <td>1.0</td>\n",
              "      <td>0.0</td>\n",
              "      <td>0.0</td>\n",
              "      <td>0.236612</td>\n",
              "      <td>-0.397911</td>\n",
              "      <td>-2.518655</td>\n",
              "      <td>1.0</td>\n",
              "      <td>-0.450595</td>\n",
              "      <td>-0.041468</td>\n",
              "    </tr>\n",
              "    <tr>\n",
              "      <th>387</th>\n",
              "      <td>1.0</td>\n",
              "      <td>1.0</td>\n",
              "      <td>0.0</td>\n",
              "      <td>0.0</td>\n",
              "      <td>-0.761490</td>\n",
              "      <td>0.000000</td>\n",
              "      <td>0.279851</td>\n",
              "      <td>1.0</td>\n",
              "      <td>-0.392109</td>\n",
              "      <td>0.518066</td>\n",
              "    </tr>\n",
              "    <tr>\n",
              "      <th>385</th>\n",
              "      <td>1.0</td>\n",
              "      <td>0.0</td>\n",
              "      <td>0.0</td>\n",
              "      <td>1.0</td>\n",
              "      <td>0.236612</td>\n",
              "      <td>-0.397911</td>\n",
              "      <td>-2.518655</td>\n",
              "      <td>0.0</td>\n",
              "      <td>-0.284476</td>\n",
              "      <td>-0.554487</td>\n",
              "    </tr>\n",
              "    <tr>\n",
              "      <th>172</th>\n",
              "      <td>1.0</td>\n",
              "      <td>1.0</td>\n",
              "      <td>0.0</td>\n",
              "      <td>1.0</td>\n",
              "      <td>2.232816</td>\n",
              "      <td>-0.779004</td>\n",
              "      <td>-2.518655</td>\n",
              "      <td>1.0</td>\n",
              "      <td>-0.308231</td>\n",
              "      <td>-0.554487</td>\n",
              "    </tr>\n",
              "    <tr>\n",
              "      <th>135</th>\n",
              "      <td>1.0</td>\n",
              "      <td>1.0</td>\n",
              "      <td>0.0</td>\n",
              "      <td>1.0</td>\n",
              "      <td>2.232816</td>\n",
              "      <td>1.710010</td>\n",
              "      <td>0.279851</td>\n",
              "      <td>0.0</td>\n",
              "      <td>-0.229922</td>\n",
              "      <td>2.096114</td>\n",
              "    </tr>\n",
              "  </tbody>\n",
              "</table>\n",
              "</div>\n",
              "      <button class=\"colab-df-convert\" onclick=\"convertToInteractive('df-b5ea2a7e-e004-409e-99a7-f9d57fdbcb4c')\"\n",
              "              title=\"Convert this dataframe to an interactive table.\"\n",
              "              style=\"display:none;\">\n",
              "        \n",
              "  <svg xmlns=\"http://www.w3.org/2000/svg\" height=\"24px\"viewBox=\"0 0 24 24\"\n",
              "       width=\"24px\">\n",
              "    <path d=\"M0 0h24v24H0V0z\" fill=\"none\"/>\n",
              "    <path d=\"M18.56 5.44l.94 2.06.94-2.06 2.06-.94-2.06-.94-.94-2.06-.94 2.06-2.06.94zm-11 1L8.5 8.5l.94-2.06 2.06-.94-2.06-.94L8.5 2.5l-.94 2.06-2.06.94zm10 10l.94 2.06.94-2.06 2.06-.94-2.06-.94-.94-2.06-.94 2.06-2.06.94z\"/><path d=\"M17.41 7.96l-1.37-1.37c-.4-.4-.92-.59-1.43-.59-.52 0-1.04.2-1.43.59L10.3 9.45l-7.72 7.72c-.78.78-.78 2.05 0 2.83L4 21.41c.39.39.9.59 1.41.59.51 0 1.02-.2 1.41-.59l7.78-7.78 2.81-2.81c.8-.78.8-2.07 0-2.86zM5.41 20L4 18.59l7.72-7.72 1.47 1.35L5.41 20z\"/>\n",
              "  </svg>\n",
              "      </button>\n",
              "      \n",
              "  <style>\n",
              "    .colab-df-container {\n",
              "      display:flex;\n",
              "      flex-wrap:wrap;\n",
              "      gap: 12px;\n",
              "    }\n",
              "\n",
              "    .colab-df-convert {\n",
              "      background-color: #E8F0FE;\n",
              "      border: none;\n",
              "      border-radius: 50%;\n",
              "      cursor: pointer;\n",
              "      display: none;\n",
              "      fill: #1967D2;\n",
              "      height: 32px;\n",
              "      padding: 0 0 0 0;\n",
              "      width: 32px;\n",
              "    }\n",
              "\n",
              "    .colab-df-convert:hover {\n",
              "      background-color: #E2EBFA;\n",
              "      box-shadow: 0px 1px 2px rgba(60, 64, 67, 0.3), 0px 1px 3px 1px rgba(60, 64, 67, 0.15);\n",
              "      fill: #174EA6;\n",
              "    }\n",
              "\n",
              "    [theme=dark] .colab-df-convert {\n",
              "      background-color: #3B4455;\n",
              "      fill: #D2E3FC;\n",
              "    }\n",
              "\n",
              "    [theme=dark] .colab-df-convert:hover {\n",
              "      background-color: #434B5C;\n",
              "      box-shadow: 0px 1px 3px 1px rgba(0, 0, 0, 0.15);\n",
              "      filter: drop-shadow(0px 1px 2px rgba(0, 0, 0, 0.3));\n",
              "      fill: #FFFFFF;\n",
              "    }\n",
              "  </style>\n",
              "\n",
              "      <script>\n",
              "        const buttonEl =\n",
              "          document.querySelector('#df-b5ea2a7e-e004-409e-99a7-f9d57fdbcb4c button.colab-df-convert');\n",
              "        buttonEl.style.display =\n",
              "          google.colab.kernel.accessAllowed ? 'block' : 'none';\n",
              "\n",
              "        async function convertToInteractive(key) {\n",
              "          const element = document.querySelector('#df-b5ea2a7e-e004-409e-99a7-f9d57fdbcb4c');\n",
              "          const dataTable =\n",
              "            await google.colab.kernel.invokeFunction('convertToInteractive',\n",
              "                                                     [key], {});\n",
              "          if (!dataTable) return;\n",
              "\n",
              "          const docLinkHtml = 'Like what you see? Visit the ' +\n",
              "            '<a target=\"_blank\" href=https://colab.research.google.com/notebooks/data_table.ipynb>data table notebook</a>'\n",
              "            + ' to learn more about interactive tables.';\n",
              "          element.innerHTML = '';\n",
              "          dataTable['output_type'] = 'display_data';\n",
              "          await google.colab.output.renderOutput(dataTable, element);\n",
              "          const docLink = document.createElement('div');\n",
              "          docLink.innerHTML = docLinkHtml;\n",
              "          element.appendChild(docLink);\n",
              "        }\n",
              "      </script>\n",
              "    </div>\n",
              "  </div>\n",
              "  "
            ]
          },
          "metadata": {},
          "execution_count": 123
        }
      ]
    },
    {
      "cell_type": "markdown",
      "source": [
        "# Model Selection\n",
        "\n",
        "**Models You can use**\n",
        "* Logistic Regression\n",
        "* Support Vector machine \n",
        "* Decison Tree \n",
        "* Random Forest \n",
        "* Mixed Naive Bayes \n",
        "* Adaboost\n",
        "* Stacking \n",
        "* XGBoost\n",
        "\n",
        "In this module i will use some of them "
      ],
      "metadata": {
        "id": "0GxK7VLmWAmn"
      }
    },
    {
      "cell_type": "markdown",
      "metadata": {
        "id": "xoxU8ge3Vyz3"
      },
      "source": [
        "##Logistic Regression\n"
      ]
    },
    {
      "cell_type": "code",
      "source": [
        "from sklearn.model_selection import train_test_split\n",
        "\n",
        "X_train, X_test, y_train, y_test = train_test_split(X, Y)"
      ],
      "metadata": {
        "id": "dtwe9psUNCps"
      },
      "execution_count": null,
      "outputs": []
    },
    {
      "cell_type": "code",
      "execution_count": null,
      "metadata": {
        "colab": {
          "base_uri": "https://localhost:8080/"
        },
        "id": "oniflsMWEE2l",
        "outputId": "46ac3150-bf32-4f73-d84e-b9548df43055"
      },
      "outputs": [
        {
          "output_type": "execute_result",
          "data": {
            "text/plain": [
              "LogisticRegression()"
            ]
          },
          "metadata": {},
          "execution_count": 152
        }
      ],
      "source": [
        "LR = LogisticRegression()\n",
        "LR.fit(X_train, y_train)"
      ]
    },
    {
      "cell_type": "code",
      "execution_count": null,
      "metadata": {
        "id": "uXuAzgrcYdVI"
      },
      "outputs": [],
      "source": [
        "y_predict = LR.predict(X_test)"
      ]
    },
    {
      "cell_type": "code",
      "execution_count": null,
      "metadata": {
        "colab": {
          "base_uri": "https://localhost:8080/"
        },
        "id": "pEzu2jupamwg",
        "outputId": "346d4fcf-016b-4839-d4d7-b4f29cd6eec7"
      },
      "outputs": [
        {
          "output_type": "stream",
          "name": "stdout",
          "text": [
            "0.8051948051948052\n"
          ]
        }
      ],
      "source": [
        "print(accuracy_score(y_test,y_predict))"
      ]
    },
    {
      "cell_type": "code",
      "source": [
        "import pickle\n",
        "\n",
        "pickle.dump(LR, open('model.pkl', 'wb'))"
      ],
      "metadata": {
        "id": "NDSR2UBj6UJp"
      },
      "execution_count": null,
      "outputs": []
    },
    {
      "cell_type": "code",
      "execution_count": null,
      "metadata": {
        "id": "EQ8QHUlGYbNb"
      },
      "outputs": [],
      "source": [
        "loaded_model = pickle.load(open('model.pkl', 'rb'))"
      ]
    },
    {
      "cell_type": "code",
      "execution_count": null,
      "metadata": {
        "id": "_QRdINsmEEzL",
        "colab": {
          "base_uri": "https://localhost:8080/"
        },
        "outputId": "14af534d-fa88-4336-e527-96fabf33994b"
      },
      "outputs": [
        {
          "output_type": "stream",
          "name": "stdout",
          "text": [
            "0.8051948051948052\n"
          ]
        }
      ],
      "source": [
        "y_predict = loaded_model.predict(X_test)\n",
        "print(accuracy_score(y_test,y_predict))"
      ]
    },
    {
      "cell_type": "markdown",
      "metadata": {
        "id": "2c52P_0ya5eA"
      },
      "source": [
        "##support vector machine "
      ]
    },
    {
      "cell_type": "code",
      "execution_count": null,
      "metadata": {
        "id": "Mmd_tkHAT4Be"
      },
      "outputs": [],
      "source": [
        "from sklearn.svm import SVC\n",
        "svc = SVC()"
      ]
    },
    {
      "cell_type": "code",
      "execution_count": null,
      "metadata": {
        "colab": {
          "base_uri": "https://localhost:8080/"
        },
        "id": "AC1yGPz5T3-X",
        "outputId": "fd23cb5f-e5ef-40ce-a5ef-3f4b6a8b153f"
      },
      "outputs": [
        {
          "output_type": "execute_result",
          "data": {
            "text/plain": [
              "SVC()"
            ]
          },
          "metadata": {},
          "execution_count": 67
        }
      ],
      "source": [
        "svc.fit(X_train, y_train)"
      ]
    },
    {
      "cell_type": "code",
      "execution_count": null,
      "metadata": {
        "id": "q4tsjq9rT37U"
      },
      "outputs": [],
      "source": [
        "y_predict = svc.predict(X_test)"
      ]
    },
    {
      "cell_type": "code",
      "execution_count": null,
      "metadata": {
        "id": "ukG32xYZT34d"
      },
      "outputs": [],
      "source": [
        "# print(classification_report(y_test, y_predict))"
      ]
    },
    {
      "cell_type": "code",
      "execution_count": null,
      "metadata": {
        "colab": {
          "base_uri": "https://localhost:8080/"
        },
        "id": "j1a5Je3zT32f",
        "outputId": "90884739-c976-40fc-a3d3-045393bab0f5"
      },
      "outputs": [
        {
          "output_type": "stream",
          "name": "stdout",
          "text": [
            "SVC  83.77% accuracy\n"
          ]
        }
      ],
      "source": [
        "SV_SC = accuracy_score(y_test, y_predict)\n",
        "print(\"SVC \", f\"{round(SV_SC*100, 2)}% accuracy\")"
      ]
    },
    {
      "cell_type": "markdown",
      "metadata": {
        "id": "0JjL9ehgc8Ty"
      },
      "source": [
        "##Decision Tree "
      ]
    },
    {
      "cell_type": "code",
      "execution_count": null,
      "metadata": {
        "id": "r6z_6_O4T3aY"
      },
      "outputs": [],
      "source": [
        "from sklearn.tree import DecisionTreeRegressor\n",
        "DT = DecisionTreeClassifier(criterion='gini', random_state=42, max_depth=10)"
      ]
    },
    {
      "cell_type": "code",
      "execution_count": null,
      "metadata": {
        "id": "ER0q2tedT3Xw"
      },
      "outputs": [],
      "source": [
        "DT.fit(X_train, y_train)\n",
        "y_predict = DT.predict(X_test)"
      ]
    },
    {
      "cell_type": "code",
      "execution_count": null,
      "metadata": {
        "id": "wCHwEQEoT3SL"
      },
      "outputs": [],
      "source": [
        "# print(classification_report(y_test, y_predict))"
      ]
    },
    {
      "cell_type": "code",
      "execution_count": null,
      "metadata": {
        "colab": {
          "base_uri": "https://localhost:8080/"
        },
        "id": "S_hvkj0kT3PR",
        "outputId": "f2a1fa94-d338-47f2-951a-4dd0bf623458"
      },
      "outputs": [
        {
          "output_type": "stream",
          "name": "stdout",
          "text": [
            "Decison Tree :  79.87% accurate\n"
          ]
        }
      ],
      "source": [
        "DT_SC = accuracy_score(y_test, y_predict)\n",
        "print(\"Decison Tree : \", f\"{round(DT_SC*100, 2)}% accurate\")"
      ]
    },
    {
      "cell_type": "markdown",
      "metadata": {
        "id": "k1H0GRPtewWX"
      },
      "source": [
        "##Mixed Navie Bayes "
      ]
    },
    {
      "cell_type": "code",
      "execution_count": null,
      "metadata": {
        "colab": {
          "base_uri": "https://localhost:8080/"
        },
        "id": "0GHgo5lofH3I",
        "outputId": "5ec00cbb-7956-452e-9bce-5b494aecacc9"
      },
      "outputs": [
        {
          "output_type": "stream",
          "name": "stdout",
          "text": [
            "Collecting mixed_naive_bayes\n",
            "  Downloading mixed_naive_bayes-0.0.1-py3-none-any.whl (8.9 kB)\n",
            "Requirement already satisfied: scikit-learn>=0.20.2 in /usr/local/lib/python3.7/dist-packages (from mixed_naive_bayes) (1.0.2)\n",
            "Requirement already satisfied: numpy>=1.16.1 in /usr/local/lib/python3.7/dist-packages (from mixed_naive_bayes) (1.21.5)\n",
            "Requirement already satisfied: threadpoolctl>=2.0.0 in /usr/local/lib/python3.7/dist-packages (from scikit-learn>=0.20.2->mixed_naive_bayes) (3.1.0)\n",
            "Requirement already satisfied: scipy>=1.1.0 in /usr/local/lib/python3.7/dist-packages (from scikit-learn>=0.20.2->mixed_naive_bayes) (1.4.1)\n",
            "Requirement already satisfied: joblib>=0.11 in /usr/local/lib/python3.7/dist-packages (from scikit-learn>=0.20.2->mixed_naive_bayes) (1.1.0)\n",
            "Installing collected packages: mixed-naive-bayes\n",
            "Successfully installed mixed-naive-bayes-0.0.1\n"
          ]
        }
      ],
      "source": [
        "!pip install mixed_naive_bayes"
      ]
    },
    {
      "cell_type": "code",
      "source": [
        "np.array([1,2,3,'a', 'b', 'c', [1,2,3]])"
      ],
      "metadata": {
        "colab": {
          "base_uri": "https://localhost:8080/"
        },
        "id": "tgt4v_oRhHam",
        "outputId": "52070166-eb46-4c22-cace-f5c402b0e907"
      },
      "execution_count": null,
      "outputs": [
        {
          "output_type": "stream",
          "name": "stderr",
          "text": [
            "/usr/local/lib/python3.7/dist-packages/ipykernel_launcher.py:1: VisibleDeprecationWarning: Creating an ndarray from ragged nested sequences (which is a list-or-tuple of lists-or-tuples-or ndarrays with different lengths or shapes) is deprecated. If you meant to do this, you must specify 'dtype=object' when creating the ndarray.\n",
            "  \"\"\"Entry point for launching an IPython kernel.\n"
          ]
        },
        {
          "output_type": "execute_result",
          "data": {
            "text/plain": [
              "array([1, 2, 3, 'a', 'b', 'c', list([1, 2, 3])], dtype=object)"
            ]
          },
          "metadata": {},
          "execution_count": 86
        }
      ]
    },
    {
      "cell_type": "code",
      "execution_count": null,
      "metadata": {
        "id": "7VZo_4v-T3K-"
      },
      "outputs": [],
      "source": [
        "from mixed_naive_bayes import MixedNB"
      ]
    },
    {
      "cell_type": "code",
      "execution_count": null,
      "metadata": {
        "colab": {
          "base_uri": "https://localhost:8080/"
        },
        "id": "3LKFJnYHT3IG",
        "outputId": "0285b30d-81e5-4f91-a50e-e430bfddc125"
      },
      "outputs": [
        {
          "output_type": "stream",
          "name": "stdout",
          "text": [
            "[]\n"
          ]
        },
        {
          "output_type": "execute_result",
          "data": {
            "text/plain": [
              "MixedNB(alpha=0.5, var_smoothing=1e-09)"
            ]
          },
          "metadata": {},
          "execution_count": 91
        }
      ],
      "source": [
        "MN = MixedNB()\n",
        "MN.fit(X_train, np.where(y_train == 'Y', 1, 0))"
      ]
    },
    {
      "cell_type": "code",
      "execution_count": null,
      "metadata": {
        "id": "BVo2iMMDT3CE"
      },
      "outputs": [],
      "source": [
        "y_predict = MN.predict(X_test)"
      ]
    },
    {
      "cell_type": "code",
      "execution_count": null,
      "metadata": {
        "colab": {
          "base_uri": "https://localhost:8080/"
        },
        "id": "VbyuTJbtT29u",
        "outputId": "59026356-6b7f-47b9-9abe-724f0d9ab8e9"
      },
      "outputs": [
        {
          "output_type": "stream",
          "name": "stdout",
          "text": [
            "              precision    recall  f1-score   support\n",
            "\n",
            "           0       0.92      0.52      0.67        42\n",
            "           1       0.85      0.98      0.91       112\n",
            "\n",
            "    accuracy                           0.86       154\n",
            "   macro avg       0.88      0.75      0.79       154\n",
            "weighted avg       0.87      0.86      0.84       154\n",
            "\n"
          ]
        }
      ],
      "source": [
        "print(classification_report(np.where(y_test == 'Y', 1,0), y_predict))"
      ]
    },
    {
      "cell_type": "code",
      "execution_count": null,
      "metadata": {
        "colab": {
          "base_uri": "https://localhost:8080/"
        },
        "id": "ZkH-S-ANfnRM",
        "outputId": "067d825c-6850-49c4-a7c5-3ab34382d242"
      },
      "outputs": [
        {
          "output_type": "stream",
          "name": "stdout",
          "text": [
            "Mixed Naive Bayes :  85.71% accurate\n"
          ]
        }
      ],
      "source": [
        "MN_SC = accuracy_score(np.where(y_test == 'Y', 1,0), y_predict)\n",
        "print(\"Mixed Naive Bayes : \", f\"{round(MN_SC*100, 2)}% accurate\")"
      ]
    },
    {
      "cell_type": "code",
      "execution_count": null,
      "metadata": {
        "id": "3YzsDa64fnFY"
      },
      "outputs": [],
      "source": [
        ""
      ]
    },
    {
      "cell_type": "markdown",
      "metadata": {
        "id": "b3fGAUrNe0H8"
      },
      "source": [
        "##XgBoost"
      ]
    },
    {
      "cell_type": "code",
      "execution_count": null,
      "metadata": {
        "id": "DmBK_xy8T22d"
      },
      "outputs": [],
      "source": [
        "from xgboost import XGBClassifier\n",
        "XG = XGBClassifier()"
      ]
    },
    {
      "cell_type": "code",
      "execution_count": null,
      "metadata": {
        "id": "TQvicjjVT2NF"
      },
      "outputs": [],
      "source": [
        "XG.fit(X_train, y_train)\n",
        "y_predict = XG.predict(X_test)"
      ]
    },
    {
      "cell_type": "code",
      "execution_count": null,
      "metadata": {
        "colab": {
          "base_uri": "https://localhost:8080/"
        },
        "id": "Vvjmx9zkT2JZ",
        "outputId": "88bb61e7-0ed5-4f0f-93a4-9f4e19bad2a1"
      },
      "outputs": [
        {
          "output_type": "stream",
          "name": "stdout",
          "text": [
            "              precision    recall  f1-score   support\n",
            "\n",
            "           N       0.79      0.52      0.63        42\n",
            "           Y       0.84      0.95      0.89       112\n",
            "\n",
            "    accuracy                           0.83       154\n",
            "   macro avg       0.81      0.74      0.76       154\n",
            "weighted avg       0.83      0.83      0.82       154\n",
            "\n"
          ]
        }
      ],
      "source": [
        "print(classification_report(y_test, y_predict))"
      ]
    },
    {
      "cell_type": "code",
      "execution_count": null,
      "metadata": {
        "colab": {
          "base_uri": "https://localhost:8080/"
        },
        "id": "ewUWOaJRT2FZ",
        "outputId": "04c4b45d-806d-4480-d815-0e9c494d938e"
      },
      "outputs": [
        {
          "output_type": "stream",
          "name": "stdout",
          "text": [
            "XgBoost :  83.12% accurate\n"
          ]
        }
      ],
      "source": [
        "XG_SC = accuracy_score(y_test, y_predict)\n",
        "print(\"XgBoost : \", f\"{round(XG_SC*100, 2)}% accurate\")"
      ]
    },
    {
      "cell_type": "markdown",
      "metadata": {
        "id": "AAp34E9Oe2hl"
      },
      "source": [
        "##Adaboost"
      ]
    },
    {
      "cell_type": "code",
      "execution_count": null,
      "metadata": {
        "id": "juPONptUT2Cn"
      },
      "outputs": [],
      "source": [
        "from sklearn.ensemble import AdaBoostClassifier\n",
        "AB = AdaBoostClassifier()"
      ]
    },
    {
      "cell_type": "code",
      "execution_count": null,
      "metadata": {
        "id": "1IziYOoxh8rR"
      },
      "outputs": [],
      "source": [
        "AB.fit(X_train, y_train)\n",
        "y_predict = AB.predict(X_test)"
      ]
    },
    {
      "cell_type": "code",
      "execution_count": null,
      "metadata": {
        "colab": {
          "base_uri": "https://localhost:8080/"
        },
        "id": "YVFswDErh8ls",
        "outputId": "e5dfb764-1178-42f7-e2c0-9764795358cf"
      },
      "outputs": [
        {
          "output_type": "stream",
          "name": "stdout",
          "text": [
            "              precision    recall  f1-score   support\n",
            "\n",
            "           N       0.71      0.48      0.57        42\n",
            "           Y       0.83      0.93      0.87       112\n",
            "\n",
            "    accuracy                           0.81       154\n",
            "   macro avg       0.77      0.70      0.72       154\n",
            "weighted avg       0.80      0.81      0.79       154\n",
            "\n"
          ]
        }
      ],
      "source": [
        "print(classification_report(y_test, y_predict))"
      ]
    },
    {
      "cell_type": "code",
      "execution_count": null,
      "metadata": {
        "colab": {
          "base_uri": "https://localhost:8080/"
        },
        "id": "Hu7_ZrgWiadq",
        "outputId": "eb88fcc5-b6ff-44d3-f733-d470d2450395"
      },
      "outputs": [
        {
          "output_type": "stream",
          "name": "stdout",
          "text": [
            "AdaBoost :  80.52% accurate\n"
          ]
        }
      ],
      "source": [
        "AB_SC = accuracy_score(y_test, y_predict)\n",
        "print(\"AdaBoost : \", f\"{round(AB_SC*100,2)}% accurate\")"
      ]
    },
    {
      "cell_type": "code",
      "source": [
        ""
      ],
      "metadata": {
        "id": "oBk1WNlHWDrF"
      },
      "execution_count": null,
      "outputs": []
    },
    {
      "cell_type": "markdown",
      "source": [
        "#Streamlit"
      ],
      "metadata": {
        "id": "iFoxBv8KWGjC"
      }
    },
    {
      "cell_type": "code",
      "source": [
        "! pip install streamlit"
      ],
      "metadata": {
        "id": "7TkEh5_VWGva"
      },
      "execution_count": null,
      "outputs": []
    },
    {
      "cell_type": "code",
      "source": [
        "%%writefile app.py\n",
        "\n",
        "import streamlit as st\n",
        "import pandas as pd\n",
        "import numpy as np\n",
        "from sklearn.compose import ColumnTransformer\n",
        "from sklearn.impute import SimpleImputer\n",
        "from sklearn.preprocessing import OneHotEncoder, StandardScaler\n",
        "from sklearn.pipeline import Pipeline\n",
        "from sklearn.linear_model import LogisticRegression\n",
        "import urllib\n",
        "from PIL import Image\n",
        "\n",
        "coltrans = ColumnTransformer([\n",
        "      ('imputer-mod_onehot', Pipeline([\n",
        "                                ('imputer-mod', SimpleImputer(strategy='most_frequent')),\n",
        "                                ('onehot', OneHotEncoder(drop='first')),\n",
        "                              ]), ['Gender', 'Married', 'Self_Employed']),\n",
        "      ('imputer-mod', SimpleImputer(strategy='most_frequent'), ['Credit_History']),\n",
        "      ('imputer-mean_scaling', Pipeline([\n",
        "                                ('imputer-mean', SimpleImputer(strategy='mean')),\n",
        "                                ('scaling', StandardScaler()),\n",
        "                              ]), ['Dependents', 'LoanAmount', 'Loan_Amount_Term']),\n",
        "      ('onehot', OneHotEncoder(drop='first'), ['Education', ]),\n",
        "      ('scaling', StandardScaler(), ['ApplicantIncome', 'CoapplicantIncome', ]),\n",
        "])\n",
        "\n",
        "@st.cache\n",
        "def get_data():\n",
        "    X = pd.read_csv(\"https://raw.githubusercontent.com/Ramanand-Yadav/EligibilityForBankLoanMLProject/main/trainDataset.csv\")\n",
        "    X.drop('Loan_ID', axis = 1, inplace = True)\n",
        "\n",
        "    Y = X['Loan_Status']\n",
        "    X = X.drop('Loan_Status', axis=1)\n",
        "\n",
        "    X['Dependents'].replace({'3+': 3}, inplace = True)\n",
        "    X['Dependents'] = pd.to_numeric(X['Dependents'])\n",
        "    Y = np.where(Y == 'Y', 1, 0)\n",
        "    return X, Y\n",
        "\n",
        "X, Y = get_data()\n",
        "columns = X.columns\n",
        "X = coltrans.fit_transform(X)\n",
        "\n",
        "@st.cache\n",
        "def get_model():\n",
        "    model = LogisticRegression().fit(X, Y)\n",
        "    return model\n",
        "\n",
        "model = get_model()\n",
        "\n",
        "@st.cache\n",
        "def get_image():\n",
        "    urllib.request.urlretrieve(\n",
        "        'https://raw.githubusercontent.com/Ramanand-Yadav/EligibilityForBankLoanMLProject/main/img1.jpg',\n",
        "        'img.jpg'\n",
        "    )\n",
        "\n",
        "get_image()\n",
        "\n",
        "data = {}\n",
        "img = Image.open('img.jpg')\n",
        "st.image(img)\n",
        "\n",
        "st.header('Bank Loan Prediction')\n",
        "\n",
        "data['Gender'] = st.selectbox('Gender', ['Male', 'Female'])\n",
        "data['Married'] = st.selectbox('Married', ['Yes', 'No'])\n",
        "data['Dependents'] = st.number_input('Dependents', min_value=0)\n",
        "data['Education'] = st.selectbox('Education', ['Graduate', 'Not Graduate'])\n",
        "\n",
        "map = {'Job': 'No', 'Bussiness': 'Yes'}\n",
        "data['Self_Employed'] = st.selectbox('Self_Employed', ['Job', 'Bussiness']) # format_func\n",
        "data['Self_Employed'] = map[data['Self_Employed']]\n",
        "\n",
        "data['ApplicantIncome'] = st.number_input('ApplicantIncome', min_value=0)\n",
        "data['CoapplicantIncome'] = st.number_input('CoapplicantIncome', min_value=0)\n",
        "data['LoanAmount'] = st.number_input('LoanAmount', min_value=0)\n",
        "data['Loan_Amount_Term'] = st.number_input('Loan_Amount_Term', min_value=0)\n",
        "data['Property_Area'] = st.selectbox('Property_Area', ['Rural', 'Urban', 'Semiurban\t'])\n",
        "\n",
        "map = {'Good': 1, 'Average': 0}\n",
        "data['Credit_History'] = st.selectbox('Transaction Frequency', ['Good', 'Average']) # format_func\n",
        "data['Credit_History'] = map[data['Credit_History']]\n",
        "\n",
        "\n",
        "features = pd.DataFrame(data, index = [0], columns = columns)\n",
        "st.dataframe(features)\n",
        "\n",
        "\n",
        "\n",
        "if st.button('Submit'):\n",
        "    features = coltrans.transform(features)\n",
        "    pred = model.predict(features)[0]\n",
        "\n",
        "    if pred == 1:\n",
        "        st.write('Loan will Approve')\n",
        "    else:\n",
        "        st.write('Loan will not Approve')\n",
        "\n",
        "import matplotlib.pyplot as plt\n",
        "\n",
        "fig, ax = plt.subplots()\n",
        "ax.plot([1,2,3], [2,8,4])\n",
        "st.pyplot(fig)"
      ],
      "metadata": {
        "colab": {
          "base_uri": "https://localhost:8080/"
        },
        "id": "8FZNe8jWYLN0",
        "outputId": "6480c466-be9e-4f4f-d328-e4de983a5110"
      },
      "execution_count": null,
      "outputs": [
        {
          "output_type": "stream",
          "name": "stdout",
          "text": [
            "Overwriting app.py\n"
          ]
        }
      ]
    },
    {
      "cell_type": "code",
      "source": [
        "! streamlit run app.py &>stream.out &"
      ],
      "metadata": {
        "id": "tESLoh6Rj1HZ"
      },
      "execution_count": null,
      "outputs": []
    },
    {
      "cell_type": "code",
      "source": [
        "! npx localtunnel --port 8501 &>stream.out &"
      ],
      "metadata": {
        "id": "1Jkmf0yUka7j"
      },
      "execution_count": null,
      "outputs": []
    },
    {
      "cell_type": "code",
      "source": [
        "data = {'a': 1, 'b' : 2, 'c': 3}\n",
        "\n",
        "pd.DataFrame(data, index = [0])"
      ],
      "metadata": {
        "colab": {
          "base_uri": "https://localhost:8080/",
          "height": 81
        },
        "id": "KaiuRYL6ksDr",
        "outputId": "fa4c3507-4456-4952-c218-fb355f1253ca"
      },
      "execution_count": null,
      "outputs": [
        {
          "output_type": "execute_result",
          "data": {
            "text/plain": [
              "   a  b  c\n",
              "0  1  2  3"
            ],
            "text/html": [
              "\n",
              "  <div id=\"df-65e9e1c8-ad23-4183-9e40-5fd1ad8416fa\">\n",
              "    <div class=\"colab-df-container\">\n",
              "      <div>\n",
              "<style scoped>\n",
              "    .dataframe tbody tr th:only-of-type {\n",
              "        vertical-align: middle;\n",
              "    }\n",
              "\n",
              "    .dataframe tbody tr th {\n",
              "        vertical-align: top;\n",
              "    }\n",
              "\n",
              "    .dataframe thead th {\n",
              "        text-align: right;\n",
              "    }\n",
              "</style>\n",
              "<table border=\"1\" class=\"dataframe\">\n",
              "  <thead>\n",
              "    <tr style=\"text-align: right;\">\n",
              "      <th></th>\n",
              "      <th>a</th>\n",
              "      <th>b</th>\n",
              "      <th>c</th>\n",
              "    </tr>\n",
              "  </thead>\n",
              "  <tbody>\n",
              "    <tr>\n",
              "      <th>0</th>\n",
              "      <td>1</td>\n",
              "      <td>2</td>\n",
              "      <td>3</td>\n",
              "    </tr>\n",
              "  </tbody>\n",
              "</table>\n",
              "</div>\n",
              "      <button class=\"colab-df-convert\" onclick=\"convertToInteractive('df-65e9e1c8-ad23-4183-9e40-5fd1ad8416fa')\"\n",
              "              title=\"Convert this dataframe to an interactive table.\"\n",
              "              style=\"display:none;\">\n",
              "        \n",
              "  <svg xmlns=\"http://www.w3.org/2000/svg\" height=\"24px\"viewBox=\"0 0 24 24\"\n",
              "       width=\"24px\">\n",
              "    <path d=\"M0 0h24v24H0V0z\" fill=\"none\"/>\n",
              "    <path d=\"M18.56 5.44l.94 2.06.94-2.06 2.06-.94-2.06-.94-.94-2.06-.94 2.06-2.06.94zm-11 1L8.5 8.5l.94-2.06 2.06-.94-2.06-.94L8.5 2.5l-.94 2.06-2.06.94zm10 10l.94 2.06.94-2.06 2.06-.94-2.06-.94-.94-2.06-.94 2.06-2.06.94z\"/><path d=\"M17.41 7.96l-1.37-1.37c-.4-.4-.92-.59-1.43-.59-.52 0-1.04.2-1.43.59L10.3 9.45l-7.72 7.72c-.78.78-.78 2.05 0 2.83L4 21.41c.39.39.9.59 1.41.59.51 0 1.02-.2 1.41-.59l7.78-7.78 2.81-2.81c.8-.78.8-2.07 0-2.86zM5.41 20L4 18.59l7.72-7.72 1.47 1.35L5.41 20z\"/>\n",
              "  </svg>\n",
              "      </button>\n",
              "      \n",
              "  <style>\n",
              "    .colab-df-container {\n",
              "      display:flex;\n",
              "      flex-wrap:wrap;\n",
              "      gap: 12px;\n",
              "    }\n",
              "\n",
              "    .colab-df-convert {\n",
              "      background-color: #E8F0FE;\n",
              "      border: none;\n",
              "      border-radius: 50%;\n",
              "      cursor: pointer;\n",
              "      display: none;\n",
              "      fill: #1967D2;\n",
              "      height: 32px;\n",
              "      padding: 0 0 0 0;\n",
              "      width: 32px;\n",
              "    }\n",
              "\n",
              "    .colab-df-convert:hover {\n",
              "      background-color: #E2EBFA;\n",
              "      box-shadow: 0px 1px 2px rgba(60, 64, 67, 0.3), 0px 1px 3px 1px rgba(60, 64, 67, 0.15);\n",
              "      fill: #174EA6;\n",
              "    }\n",
              "\n",
              "    [theme=dark] .colab-df-convert {\n",
              "      background-color: #3B4455;\n",
              "      fill: #D2E3FC;\n",
              "    }\n",
              "\n",
              "    [theme=dark] .colab-df-convert:hover {\n",
              "      background-color: #434B5C;\n",
              "      box-shadow: 0px 1px 3px 1px rgba(0, 0, 0, 0.15);\n",
              "      filter: drop-shadow(0px 1px 2px rgba(0, 0, 0, 0.3));\n",
              "      fill: #FFFFFF;\n",
              "    }\n",
              "  </style>\n",
              "\n",
              "      <script>\n",
              "        const buttonEl =\n",
              "          document.querySelector('#df-65e9e1c8-ad23-4183-9e40-5fd1ad8416fa button.colab-df-convert');\n",
              "        buttonEl.style.display =\n",
              "          google.colab.kernel.accessAllowed ? 'block' : 'none';\n",
              "\n",
              "        async function convertToInteractive(key) {\n",
              "          const element = document.querySelector('#df-65e9e1c8-ad23-4183-9e40-5fd1ad8416fa');\n",
              "          const dataTable =\n",
              "            await google.colab.kernel.invokeFunction('convertToInteractive',\n",
              "                                                     [key], {});\n",
              "          if (!dataTable) return;\n",
              "\n",
              "          const docLinkHtml = 'Like what you see? Visit the ' +\n",
              "            '<a target=\"_blank\" href=https://colab.research.google.com/notebooks/data_table.ipynb>data table notebook</a>'\n",
              "            + ' to learn more about interactive tables.';\n",
              "          element.innerHTML = '';\n",
              "          dataTable['output_type'] = 'display_data';\n",
              "          await google.colab.output.renderOutput(dataTable, element);\n",
              "          const docLink = document.createElement('div');\n",
              "          docLink.innerHTML = docLinkHtml;\n",
              "          element.appendChild(docLink);\n",
              "        }\n",
              "      </script>\n",
              "    </div>\n",
              "  </div>\n",
              "  "
            ]
          },
          "metadata": {},
          "execution_count": 129
        }
      ]
    }
  ]
}